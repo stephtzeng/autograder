{
 "cells": [
  {
   "cell_type": "code",
   "execution_count": 1,
   "metadata": {},
   "outputs": [],
   "source": [
    "from article_process import ArticleLM"
   ]
  },
  {
   "cell_type": "code",
   "execution_count": 2,
   "metadata": {},
   "outputs": [],
   "source": [
    "import matplotlib.pyplot as plt\n",
    "import seaborn as sns\n",
    "%matplotlib inline\n",
    "import numpy as np\n",
    "import pandas as pd"
   ]
  },
  {
   "cell_type": "code",
   "execution_count": 3,
   "metadata": {},
   "outputs": [],
   "source": [
    "path_to_data = '/Users/stephanie/data/newsela_article_corpus_2016-01-29'\n",
    "path_to_kenlm = '/Users/stephanie/github/kenlm'\n",
    "path_to_arpa = path_to_kenlm + '/lm'"
   ]
  },
  {
   "cell_type": "code",
   "execution_count": 4,
   "metadata": {},
   "outputs": [],
   "source": [
    "articleLM = ArticleLM(path_to_data, path_to_kenlm, path_to_arpa, 5, 'grade_level', True)"
   ]
  },
  {
   "cell_type": "code",
   "execution_count": 5,
   "metadata": {},
   "outputs": [
    {
     "data": {
      "text/plain": [
       "8612"
      ]
     },
     "execution_count": 5,
     "metadata": {},
     "output_type": "execute_result"
    }
   ],
   "source": [
    "len(articleLM.metadata_split[articleLM.metadata_split.train_val_test == 'train'])"
   ]
  },
  {
   "cell_type": "code",
   "execution_count": 6,
   "metadata": {},
   "outputs": [
    {
     "data": {
      "text/plain": [
       "1076"
      ]
     },
     "execution_count": 6,
     "metadata": {},
     "output_type": "execute_result"
    }
   ],
   "source": [
    "len(articleLM.metadata_split[articleLM.metadata_split.train_val_test == 'val'])"
   ]
  },
  {
   "cell_type": "markdown",
   "metadata": {},
   "source": [
    "## Builds the processed sentences that I need for KenLM"
   ]
  },
  {
   "cell_type": "code",
   "execution_count": 7,
   "metadata": {},
   "outputs": [],
   "source": [
    "articleLM.build_data()"
   ]
  },
  {
   "cell_type": "code",
   "execution_count": null,
   "metadata": {},
   "outputs": [],
   "source": [
    "articleLM.train_all_arpas()"
   ]
  },
  {
   "cell_type": "markdown",
   "metadata": {},
   "source": [
    "## Printing out stats\n",
    "\n",
    "how many sentences there are in training set, indexed by grade level?"
   ]
  },
  {
   "cell_type": "code",
   "execution_count": 15,
   "metadata": {},
   "outputs": [
    {
     "name": "stdout",
     "output_type": "stream",
     "text": [
      "8 42922\n",
      "5 59391\n",
      "3 18637\n",
      "12 71313\n",
      "9 29239\n",
      "7 52444\n",
      "4 72366\n",
      "2 7742\n",
      "6 47590\n",
      "11 54\n"
     ]
    }
   ],
   "source": [
    "for g in articleLM.level_sentences.get('train').keys():\n",
    "    print(g, len(articleLM.level_sentences.get('train').get(g)))"
   ]
  },
  {
   "cell_type": "code",
   "execution_count": 16,
   "metadata": {},
   "outputs": [
    {
     "name": "stdout",
     "output_type": "stream",
     "text": [
      "401698\n"
     ]
    }
   ],
   "source": [
    "# Number of sentences, train\n",
    "sentence_len = 0\n",
    "for g in articleLM.level_sentences.get('train').keys():\n",
    "    sentence_len+=len(articleLM.level_sentences.get('train').get(g))\n",
    "    \n",
    "print(sentence_len)"
   ]
  },
  {
   "cell_type": "code",
   "execution_count": 17,
   "metadata": {},
   "outputs": [
    {
     "name": "stdout",
     "output_type": "stream",
     "text": [
      "51067\n"
     ]
    }
   ],
   "source": [
    "# Number of sentences, validation\n",
    "sentence_len = 0\n",
    "for g in articleLM.level_sentences.get('val').keys():\n",
    "    sentence_len+=len(articleLM.level_sentences.get('val').get(g))\n",
    "print(sentence_len)"
   ]
  },
  {
   "cell_type": "markdown",
   "metadata": {},
   "source": [
    "how many articles there are in each set, indexed by grade level?"
   ]
  },
  {
   "cell_type": "code",
   "execution_count": 18,
   "metadata": {},
   "outputs": [
    {
     "data": {
      "text/plain": [
       "12    1660\n",
       "4     1399\n",
       "5     1167\n",
       "7     1092\n",
       "6      943\n",
       "8      922\n",
       "9      699\n",
       "3      503\n",
       "2      225\n",
       "11       2\n",
       "Name: grade_level, dtype: int64"
      ]
     },
     "execution_count": 18,
     "metadata": {},
     "output_type": "execute_result"
    }
   ],
   "source": [
    "articleLM.metadata_split[articleLM.metadata_split.train_val_test=='train'].grade_level.value_counts()"
   ]
  },
  {
   "cell_type": "code",
   "execution_count": 19,
   "metadata": {},
   "outputs": [
    {
     "data": {
      "text/plain": [
       "8612"
      ]
     },
     "execution_count": 19,
     "metadata": {},
     "output_type": "execute_result"
    }
   ],
   "source": [
    "articleLM.metadata_split[articleLM.metadata_split.train_val_test=='train'].grade_level.value_counts().sum()"
   ]
  },
  {
   "cell_type": "code",
   "execution_count": 20,
   "metadata": {},
   "outputs": [
    {
     "data": {
      "text/plain": [
       "12    205\n",
       "4     166\n",
       "5     151\n",
       "7     150\n",
       "6     120\n",
       "8     115\n",
       "9      88\n",
       "3      55\n",
       "2      26\n",
       "Name: grade_level, dtype: int64"
      ]
     },
     "execution_count": 20,
     "metadata": {},
     "output_type": "execute_result"
    }
   ],
   "source": [
    "articleLM.metadata_split[articleLM.metadata_split.train_val_test=='val'].grade_level.value_counts()"
   ]
  },
  {
   "cell_type": "markdown",
   "metadata": {},
   "source": [
    "## Comparing perplexities to Classify Sentences"
   ]
  },
  {
   "cell_type": "code",
   "execution_count": 23,
   "metadata": {},
   "outputs": [
    {
     "name": "stdout",
     "output_type": "stream",
     "text": [
      "Grade Level 11 failed\n",
      "Grade Level 13 failed\n"
     ]
    }
   ],
   "source": [
    "# sentence_guesses = articleLM.compute_all_sentences_best_guess([2, 3, 4, 5, 6, 7, 8, 9])"
   ]
  },
  {
   "cell_type": "code",
   "execution_count": 21,
   "metadata": {},
   "outputs": [
    {
     "name": "stdout",
     "output_type": "stream",
     "text": [
      "Grade Level 11 failed\n"
     ]
    },
    {
     "data": {
      "image/png": "[encoded data removed]",
      "text/plain": [
       "<Figure size 720x576 with 1 Axes>"
      ]
     },
     "metadata": {
      "needs_background": "light"
     },
     "output_type": "display_data"
    }
   ],
   "source": [
    "sentence_guesses = articleLM.plot_sentence_distribution([2, 3, 4, 5, 6, 7, 8, 9])"
   ]
  },
  {
   "cell_type": "code",
   "execution_count": 22,
   "metadata": {},
   "outputs": [],
   "source": [
    "from sklearn.metrics import confusion_matrix, accuracy_score\n",
    "\n",
    "cm = confusion_matrix(sentence_guesses.level, sentence_guesses.best_guess)"
   ]
  },
  {
   "cell_type": "code",
   "execution_count": 23,
   "metadata": {},
   "outputs": [
    {
     "data": {
      "text/plain": [
       "array([[ 138,  126,  496,  118,  139,   28,   21,    8,   29],\n",
       "       [ 158,  169,  594,  675,  155,  170,   94,   53,   49],\n",
       "       [ 377,  446,  603, 3078, 1999,  841,  607,  203,  393],\n",
       "       [  92,  500, 2280,  232, 1530, 1759,  491,  326,  432],\n",
       "       [  98,  180, 1194, 1058,   91,  635, 1467,  396,  847],\n",
       "       [  70,  123,  642, 1200,  665,  105, 1432, 1926, 1385],\n",
       "       [  45,   76,  410,  438,  965, 1094,   51,  203, 2034],\n",
       "       [  37,   36,  171,  299,  243, 1222,  148,   63, 1460],\n",
       "       [ 168,  135,  501,  699, 1267, 1323, 2537, 1774,  745]])"
      ]
     },
     "execution_count": 23,
     "metadata": {},
     "output_type": "execute_result"
    }
   ],
   "source": [
    "cm"
   ]
  },
  {
   "cell_type": "code",
   "execution_count": 24,
   "metadata": {},
   "outputs": [
    {
     "data": {
      "text/plain": [
       "0.043021912389605815"
      ]
     },
     "execution_count": 24,
     "metadata": {},
     "output_type": "execute_result"
    }
   ],
   "source": [
    "accuracy_score(sentence_guesses.level, sentence_guesses.best_guess)"
   ]
  },
  {
   "cell_type": "code",
   "execution_count": 25,
   "metadata": {},
   "outputs": [
    {
     "data": {
      "text/plain": [
       "0.043021912389605815"
      ]
     },
     "execution_count": 25,
     "metadata": {},
     "output_type": "execute_result"
    }
   ],
   "source": [
    "len(sentence_guesses[sentence_guesses.level == sentence_guesses.best_guess]) / len(sentence_guesses)"
   ]
  },
  {
   "cell_type": "markdown",
   "metadata": {},
   "source": [
    "Sentence level accuracy is really poor!"
   ]
  },
  {
   "cell_type": "markdown",
   "metadata": {},
   "source": [
    "## Article level\n",
    "Instead of trying to predict _each sentence_, we will pick the best grade level by categorizing the entire article after classifying the sentences. In this instance, I'm using means to find the best classification."
   ]
  },
  {
   "cell_type": "code",
   "execution_count": 45,
   "metadata": {},
   "outputs": [
    {
     "name": "stdout",
     "output_type": "stream",
     "text": [
      "iteration 100, article ('Nigeria-ebolafree', 8)\n",
      "iteration 200, article ('africa-economy', 12)\n",
      "iteration 300, article ('alaskan-13yo', 8)\n",
      "iteration 400, article ('anthem-manuscript', 12)\n",
      "iteration 500, article ('artist-housing', 12)\n",
      "iteration 600, article ('aviation-tooling', 4)\n",
      "iteration 700, article ('bat-survival', 6)\n",
      "iteration 800, article ('bird-rollercoaster', 4)\n",
      "iteration 900, article ('border-debate', 5)\n",
      "iteration 1000, article ('brianwilliams-suspend', 4)\n",
      "iteration 1100, article ('calitrain-cheaptix', 12)\n",
      "iteration 1200, article ('cdc-obesity', 7)\n",
      "iteration 1300, article ('children-centralamerica', 4)\n",
      "iteration 1400, article ('china-pollutionapp', 6)\n",
      "iteration 1500, article ('church-fires', 6)\n",
      "iteration 1600, article ('clinton-presannounce', 4)\n",
      "iteration 1700, article ('combat-women', 7)\n",
      "iteration 1800, article ('corporal-punishment', 12)\n",
      "iteration 1900, article ('curbing-cyberkids', 5)\n",
      "iteration 2000, article ('diamond-heist', 7)\n",
      "iteration 2100, article ('distracted-biking', 7)\n",
      "iteration 2200, article ('drone-show', 5)\n",
      "iteration 2300, article ('ebola-mutation', 9)\n",
      "iteration 2400, article ('electriccars-procon', 8)\n",
      "iteration 2500, article ('evolution-animalsbigger', 12)\n",
      "iteration 2600, article ('fda-transfats', 4)\n",
      "iteration 2700, article ('firstlady-education', 12)\n",
      "iteration 2800, article ('football-bullying', 12)\n",
      "iteration 2900, article ('futsal-la', 12)\n",
      "iteration 3000, article ('georgia-storm', 8)\n",
      "iteration 3100, article ('goodschools-health', 12)\n",
      "iteration 3200, article ('harvarddebate-versusinmates', 4)\n",
      "iteration 3300, article ('hightech-hajj', 9)\n",
      "iteration 3400, article ('hoverboards-flamingout', 7)\n",
      "iteration 3500, article ('india-childlabor', 9)\n",
      "iteration 3600, article ('iraq-braindrain', 3)\n",
      "iteration 3700, article ('jason-collins', 4)\n",
      "iteration 3800, article ('kepler-planets', 7)\n",
      "iteration 3900, article ('latino-business', 12)\n",
      "iteration 4000, article ('lizard-breathing', 7)\n",
      "iteration 4100, article ('mall-santa', 12)\n",
      "iteration 4200, article ('martian-mojave', 4)\n",
      "iteration 4300, article ('mexicolabor-retailer', 4)\n",
      "iteration 4400, article ('military-women', 7)\n",
      "iteration 4500, article ('mosquito-drone', 8)\n",
      "iteration 4600, article ('muslim-challenges', 4)\n",
      "iteration 4700, article ('navajo-language', 6)\n",
      "iteration 4800, article ('nfl-procon', 8)\n",
      "iteration 4900, article ('nyc-election', 4)\n",
      "iteration 5000, article ('obama-policetaskforce', 7)\n",
      "iteration 5100, article ('oldest-skeleton', 4)\n",
      "iteration 5200, article ('parents-classroom', 4)\n",
      "iteration 5300, article ('pewsurvey-christianity', 6)\n",
      "iteration 5400, article ('police-youth-talking', 12)\n",
      "iteration 5500, article ('predatoryfish-decline', 12)\n",
      "iteration 5600, article ('protest-songs', 5)\n",
      "iteration 5700, article ('republicans-congress', 12)\n",
      "iteration 5800, article ('royal-budget', 8)\n",
      "iteration 5900, article ('saudi-drivers', 4)\n",
      "iteration 6000, article ('schools-exercise', 8)\n",
      "iteration 6100, article ('selfdriving-future', 12)\n",
      "iteration 6200, article ('shuttle-parts', 12)\n",
      "iteration 6300, article ('smithsonian-cool', 4)\n",
      "iteration 6400, article ('sony-nkorea', 4)\n",
      "iteration 6500, article ('statue-reopens', 4)\n",
      "iteration 6600, article ('suspension-policies', 12)\n",
      "iteration 6700, article ('tablets-kids', 12)\n",
      "iteration 6800, article ('temple-tourists', 6)\n",
      "iteration 6900, article ('tobacco-picking', 12)\n",
      "iteration 7000, article ('truck-prices', 7)\n",
      "iteration 7100, article ('uncletom-dc', 4)\n",
      "iteration 7200, article ('vetshelping-teens', 12)\n",
      "iteration 7300, article ('war-artifacts', 5)\n",
      "iteration 7400, article ('whales-entangled', 4)\n",
      "iteration 7500, article ('worldcup-1950', 12)\n",
      "iteration 7600, article ('zimmerman-verdict', 12)\n"
     ]
    }
   ],
   "source": [
    "article_train_df = articleLM.compute_article_to_sentence_guess('train')"
   ]
  },
  {
   "cell_type": "code",
   "execution_count": 46,
   "metadata": {},
   "outputs": [
    {
     "name": "stdout",
     "output_type": "stream",
     "text": [
      "iteration 100, article ('beyonce-embargo', 7)\n",
      "iteration 200, article ('civilwar-blacksoldiers', 8)\n",
      "iteration 300, article ('ebola-doctor', 12)\n",
      "iteration 400, article ('halloween-sales', 7)\n",
      "iteration 500, article ('linguistics-huh', 4)\n",
      "iteration 600, article ('nkorea-nuclear', 5)\n",
      "iteration 700, article ('prison-design', 4)\n",
      "iteration 800, article ('sony-nkorea', 12)\n",
      "iteration 900, article ('uncletom-dc', 6)\n"
     ]
    }
   ],
   "source": [
    "article_val_df = articleLM.compute_article_to_sentence_guess('val')"
   ]
  },
  {
   "cell_type": "code",
   "execution_count": 8,
   "metadata": {},
   "outputs": [],
   "source": [
    "# article_train_df, means_train = articleLM.compute_article_best_guess('train')"
   ]
  },
  {
   "cell_type": "code",
   "execution_count": 10,
   "metadata": {},
   "outputs": [],
   "source": [
    "# article_train_df.rename(columns={'min_perplexity': 'predicted_gl'}, inplace=True)"
   ]
  },
  {
   "cell_type": "code",
   "execution_count": 47,
   "metadata": {},
   "outputs": [
    {
     "data": {
      "text/html": [
       "<div>\n",
       "<style scoped>\n",
       "    .dataframe tbody tr th:only-of-type {\n",
       "        vertical-align: middle;\n",
       "    }\n",
       "\n",
       "    .dataframe tbody tr th {\n",
       "        vertical-align: top;\n",
       "    }\n",
       "\n",
       "    .dataframe thead th {\n",
       "        text-align: right;\n",
       "    }\n",
       "</style>\n",
       "<table border=\"1\" class=\"dataframe\">\n",
       "  <thead>\n",
       "    <tr style=\"text-align: right;\">\n",
       "      <th></th>\n",
       "      <th>predicted_gl</th>\n",
       "      <th>true_gl</th>\n",
       "      <th>article</th>\n",
       "    </tr>\n",
       "  </thead>\n",
       "  <tbody>\n",
       "    <tr>\n",
       "      <th>0</th>\n",
       "      <td>8</td>\n",
       "      <td>8</td>\n",
       "      <td>10dollarbill-woman</td>\n",
       "    </tr>\n",
       "    <tr>\n",
       "      <th>1</th>\n",
       "      <td>8</td>\n",
       "      <td>8</td>\n",
       "      <td>10dollarbill-woman</td>\n",
       "    </tr>\n",
       "    <tr>\n",
       "      <th>2</th>\n",
       "      <td>8</td>\n",
       "      <td>8</td>\n",
       "      <td>10dollarbill-woman</td>\n",
       "    </tr>\n",
       "    <tr>\n",
       "      <th>3</th>\n",
       "      <td>8</td>\n",
       "      <td>8</td>\n",
       "      <td>10dollarbill-woman</td>\n",
       "    </tr>\n",
       "    <tr>\n",
       "      <th>4</th>\n",
       "      <td>8</td>\n",
       "      <td>8</td>\n",
       "      <td>10dollarbill-woman</td>\n",
       "    </tr>\n",
       "  </tbody>\n",
       "</table>\n",
       "</div>"
      ],
      "text/plain": [
       "   predicted_gl  true_gl             article\n",
       "0             8        8  10dollarbill-woman\n",
       "1             8        8  10dollarbill-woman\n",
       "2             8        8  10dollarbill-woman\n",
       "3             8        8  10dollarbill-woman\n",
       "4             8        8  10dollarbill-woman"
      ]
     },
     "execution_count": 47,
     "metadata": {},
     "output_type": "execute_result"
    }
   ],
   "source": [
    "article_train_df[['predicted_gl', 'true_gl', 'article']].head()"
   ]
  },
  {
   "cell_type": "markdown",
   "metadata": {},
   "source": [
    "## Linear Regression to pick best article"
   ]
  },
  {
   "cell_type": "code",
   "execution_count": 48,
   "metadata": {},
   "outputs": [],
   "source": [
    "from sklearn.linear_model import LinearRegression"
   ]
  },
  {
   "cell_type": "code",
   "execution_count": 49,
   "metadata": {},
   "outputs": [
    {
     "data": {
      "text/html": [
       "<div>\n",
       "<style scoped>\n",
       "    .dataframe tbody tr th:only-of-type {\n",
       "        vertical-align: middle;\n",
       "    }\n",
       "\n",
       "    .dataframe tbody tr th {\n",
       "        vertical-align: top;\n",
       "    }\n",
       "\n",
       "    .dataframe thead th {\n",
       "        text-align: right;\n",
       "    }\n",
       "</style>\n",
       "<table border=\"1\" class=\"dataframe\">\n",
       "  <thead>\n",
       "    <tr style=\"text-align: right;\">\n",
       "      <th></th>\n",
       "      <th>predicted_gl</th>\n",
       "      <th>2</th>\n",
       "      <th>3</th>\n",
       "      <th>4</th>\n",
       "      <th>5</th>\n",
       "      <th>6</th>\n",
       "      <th>7</th>\n",
       "      <th>8</th>\n",
       "      <th>9</th>\n",
       "      <th>12</th>\n",
       "    </tr>\n",
       "    <tr>\n",
       "      <th>true_gl</th>\n",
       "      <th>article</th>\n",
       "      <th></th>\n",
       "      <th></th>\n",
       "      <th></th>\n",
       "      <th></th>\n",
       "      <th></th>\n",
       "      <th></th>\n",
       "      <th></th>\n",
       "      <th></th>\n",
       "      <th></th>\n",
       "    </tr>\n",
       "  </thead>\n",
       "  <tbody>\n",
       "    <tr>\n",
       "      <th rowspan=\"5\" valign=\"top\">2</th>\n",
       "      <th>17century-selfies</th>\n",
       "      <td>7651</td>\n",
       "      <td>18</td>\n",
       "      <td>51</td>\n",
       "      <td>7</td>\n",
       "      <td>5</td>\n",
       "      <td>2</td>\n",
       "      <td>0</td>\n",
       "      <td>0</td>\n",
       "      <td>8</td>\n",
       "    </tr>\n",
       "    <tr>\n",
       "      <th>Hospital-bootcamp</th>\n",
       "      <td>41</td>\n",
       "      <td>0</td>\n",
       "      <td>1</td>\n",
       "      <td>1</td>\n",
       "      <td>0</td>\n",
       "      <td>0</td>\n",
       "      <td>0</td>\n",
       "      <td>0</td>\n",
       "      <td>0</td>\n",
       "    </tr>\n",
       "    <tr>\n",
       "      <th>Iditarod-finish</th>\n",
       "      <td>60</td>\n",
       "      <td>0</td>\n",
       "      <td>0</td>\n",
       "      <td>0</td>\n",
       "      <td>0</td>\n",
       "      <td>0</td>\n",
       "      <td>0</td>\n",
       "      <td>0</td>\n",
       "      <td>0</td>\n",
       "    </tr>\n",
       "    <tr>\n",
       "      <th>adidas-mascots</th>\n",
       "      <td>44</td>\n",
       "      <td>0</td>\n",
       "      <td>1</td>\n",
       "      <td>0</td>\n",
       "      <td>0</td>\n",
       "      <td>0</td>\n",
       "      <td>0</td>\n",
       "      <td>0</td>\n",
       "      <td>0</td>\n",
       "    </tr>\n",
       "    <tr>\n",
       "      <th>africa-outlook</th>\n",
       "      <td>45</td>\n",
       "      <td>0</td>\n",
       "      <td>0</td>\n",
       "      <td>0</td>\n",
       "      <td>0</td>\n",
       "      <td>0</td>\n",
       "      <td>0</td>\n",
       "      <td>0</td>\n",
       "      <td>0</td>\n",
       "    </tr>\n",
       "  </tbody>\n",
       "</table>\n",
       "</div>"
      ],
      "text/plain": [
       "predicted_gl                 2   3   4   5   6   7   8   9   12\n",
       "true_gl article                                                \n",
       "2       17century-selfies  7651  18  51   7   5   2   0   0   8\n",
       "        Hospital-bootcamp    41   0   1   1   0   0   0   0   0\n",
       "        Iditarod-finish      60   0   0   0   0   0   0   0   0\n",
       "        adidas-mascots       44   0   1   0   0   0   0   0   0\n",
       "        africa-outlook       45   0   0   0   0   0   0   0   0"
      ]
     },
     "execution_count": 49,
     "metadata": {},
     "output_type": "execute_result"
    }
   ],
   "source": [
    "article_train_df[['true_gl', 'article', 'predicted_gl']].pivot_table(columns='predicted_gl',\n",
    "                                                                     index=['true_gl', 'article'],\n",
    "                                                                     aggfunc=lambda x:  len(x),\n",
    "                                                                    fill_value=0).head()"
   ]
  },
  {
   "cell_type": "code",
   "execution_count": 50,
   "metadata": {},
   "outputs": [],
   "source": [
    "article_pred_gl_count = \\\n",
    "    np.array(article_train_df[['true_gl', 'article', 'predicted_gl']].pivot_table(columns='predicted_gl',\n",
    "                                                                     index=['true_gl', 'article'],\n",
    "                                                                     aggfunc=lambda x:  len(x),\n",
    "                                                                    fill_value=0))"
   ]
  },
  {
   "cell_type": "code",
   "execution_count": 51,
   "metadata": {},
   "outputs": [],
   "source": [
    "y = np.array(article_train_df[['true_gl', 'article', 'predicted_gl']].pivot_table(columns='predicted_gl',\n",
    "                                                                     index=['true_gl', 'article'],\n",
    "                                                                     aggfunc=lambda x:  len(x),\n",
    "                                                                    fill_value=0).reset_index().true_gl)"
   ]
  },
  {
   "cell_type": "code",
   "execution_count": 52,
   "metadata": {},
   "outputs": [],
   "source": [
    "X = np.divide(article_pred_gl_count,article_pred_gl_count.sum(axis=1).reshape(len(article_pred_gl_count),1))"
   ]
  },
  {
   "cell_type": "code",
   "execution_count": 53,
   "metadata": {},
   "outputs": [
    {
     "data": {
      "text/plain": [
       "LinearRegression(copy_X=True, fit_intercept=True, n_jobs=None,\n",
       "         normalize=False)"
      ]
     },
     "execution_count": 53,
     "metadata": {},
     "output_type": "execute_result"
    }
   ],
   "source": [
    "clf = LinearRegression()\n",
    "clf.fit(X, y)"
   ]
  },
  {
   "cell_type": "code",
   "execution_count": 54,
   "metadata": {},
   "outputs": [],
   "source": [
    "article_val_pred_gl_count = \\\n",
    "    np.array(article_val_df[['true_gl', 'article', 'predicted_gl']].pivot_table(columns='predicted_gl',\n",
    "                                                                     index=['true_gl', 'article'],\n",
    "                                                                     aggfunc=lambda x:  len(x),\n",
    "                                                                    fill_value=0))"
   ]
  },
  {
   "cell_type": "code",
   "execution_count": 55,
   "metadata": {},
   "outputs": [],
   "source": [
    "X_val = np.divide(article_val_pred_gl_count,\n",
    "                  article_val_pred_gl_count.sum(axis=1).reshape(len(article_val_pred_gl_count),\n",
    "                                                                1))"
   ]
  },
  {
   "cell_type": "code",
   "execution_count": 56,
   "metadata": {},
   "outputs": [],
   "source": [
    "val_df = article_val_df[['true_gl', 'article', 'predicted_gl']].pivot_table(columns='predicted_gl',\n",
    "                                                                     index=['true_gl', 'article'],\n",
    "                                                                     aggfunc=lambda x:  len(x),\n",
    "                                                                    fill_value=0).reset_index()[['true_gl', 'article']]\n",
    "\n",
    "val_df.loc[:,'predicted_gl'] = list(clf.predict(X_val))"
   ]
  },
  {
   "cell_type": "code",
   "execution_count": 57,
   "metadata": {},
   "outputs": [],
   "source": [
    "val_df.loc[:,'predicted_gl'] = val_df.predicted_gl.astype('int')"
   ]
  },
  {
   "cell_type": "markdown",
   "metadata": {},
   "source": [
    "### Accuracy for linear regression outputs"
   ]
  },
  {
   "cell_type": "code",
   "execution_count": 58,
   "metadata": {},
   "outputs": [],
   "source": [
    "from sklearn.metrics import confusion_matrix, f1_score, accuracy_score"
   ]
  },
  {
   "cell_type": "code",
   "execution_count": 59,
   "metadata": {},
   "outputs": [],
   "source": [
    "cm = confusion_matrix(val_df.true_gl, val_df.predicted_gl)"
   ]
  },
  {
   "cell_type": "code",
   "execution_count": 60,
   "metadata": {},
   "outputs": [
    {
     "data": {
      "text/plain": [
       "array([[ 0,  2, 20,  2,  0,  0,  0,  0,  0,  0,  0],\n",
       "       [ 0,  2, 20, 20,  1,  4,  0,  0,  0,  0,  0],\n",
       "       [ 0,  1,  7, 86, 38, 16,  4,  1,  0,  0,  0],\n",
       "       [ 0,  0,  8, 54, 51, 14,  5,  2,  1,  0,  0],\n",
       "       [ 0,  0,  3,  9, 35, 33, 15,  8,  3,  1,  0],\n",
       "       [ 0,  0,  0,  1, 11, 39, 61, 12, 10,  6,  0],\n",
       "       [ 0,  0,  0,  5, 11,  9, 19, 32, 17,  7,  2],\n",
       "       [ 0,  0,  0,  3,  7, 13,  9, 15, 12, 12,  6],\n",
       "       [ 0,  0,  0,  0,  0,  0,  0,  0,  0,  0,  0],\n",
       "       [ 0,  0,  0,  0,  0,  0,  0,  0,  0,  0,  0],\n",
       "       [ 0,  0,  0,  7, 24, 56, 70, 24,  1,  0,  0]])"
      ]
     },
     "execution_count": 60,
     "metadata": {},
     "output_type": "execute_result"
    }
   ],
   "source": [
    "cm"
   ]
  },
  {
   "cell_type": "code",
   "execution_count": 61,
   "metadata": {},
   "outputs": [],
   "source": [
    "val_df.loc[:,'within_1_grade'] = list(map(lambda x,y: 1\n",
    "                                         if (y >= x-1 and y <= x+1)\n",
    "                                         else 0 , val_df.true_gl, val_df.predicted_gl))"
   ]
  },
  {
   "cell_type": "markdown",
   "metadata": {},
   "source": [
    "#### Accuracy:"
   ]
  },
  {
   "cell_type": "code",
   "execution_count": 62,
   "metadata": {},
   "outputs": [
    {
     "data": {
      "text/plain": [
       "53.25749741468459"
      ]
     },
     "execution_count": 62,
     "metadata": {},
     "output_type": "execute_result"
    }
   ],
   "source": [
    "len(val_df[val_df.within_1_grade == 1]) * 100. / len(val_df)"
   ]
  },
  {
   "cell_type": "markdown",
   "metadata": {},
   "source": [
    "### Scores for binary classification using linear regression"
   ]
  },
  {
   "cell_type": "code",
   "execution_count": 63,
   "metadata": {},
   "outputs": [],
   "source": [
    "val_df.loc[:,'true_easy'] = [1 if x <= 5 else 0 for x in val_df.true_gl]\n",
    "val_df.loc[:,'predicted_easy'] = [1 if x <= 5 else 0 for x in val_df.predicted_gl]"
   ]
  },
  {
   "cell_type": "code",
   "execution_count": 64,
   "metadata": {},
   "outputs": [
    {
     "data": {
      "text/plain": [
       "0.8293691830403309"
      ]
     },
     "execution_count": 64,
     "metadata": {},
     "output_type": "execute_result"
    }
   ],
   "source": [
    "accuracy_score(val_df.true_easy, val_df.predicted_easy)"
   ]
  },
  {
   "cell_type": "code",
   "execution_count": 65,
   "metadata": {},
   "outputs": [
    {
     "data": {
      "text/plain": [
       "0.7290640394088671"
      ]
     },
     "execution_count": 65,
     "metadata": {},
     "output_type": "execute_result"
    }
   ],
   "source": [
    "f1_score(val_df.true_easy, val_df.predicted_easy)"
   ]
  },
  {
   "cell_type": "markdown",
   "metadata": {},
   "source": [
    "## Scores for using means, validation set"
   ]
  },
  {
   "cell_type": "code",
   "execution_count": 8,
   "metadata": {},
   "outputs": [
    {
     "name": "stdout",
     "output_type": "stream",
     "text": [
      "Grade Level 11 failed\n",
      "iteration 100, article ('beyonce-embargo', 7)\n",
      "iteration 200, article ('civilwar-blacksoldiers', 8)\n",
      "iteration 300, article ('ebola-doctor', 12)\n",
      "iteration 400, article ('halloween-sales', 7)\n",
      "iteration 500, article ('linguistics-huh', 4)\n",
      "iteration 600, article ('nkorea-nuclear', 5)\n",
      "iteration 700, article ('prison-design', 4)\n",
      "iteration 800, article ('sony-nkorea', 12)\n",
      "iteration 900, article ('uncletom-dc', 6)\n"
     ]
    }
   ],
   "source": [
    "article_val_df, means_val = articleLM.compute_article_best_guess('val')"
   ]
  },
  {
   "cell_type": "code",
   "execution_count": 9,
   "metadata": {},
   "outputs": [
    {
     "name": "stdout",
     "output_type": "stream",
     "text": [
      "iteration 100, article ('Nigeria-ebolafree', 8)\n",
      "iteration 200, article ('africa-economy', 12)\n",
      "iteration 300, article ('alaskan-13yo', 8)\n",
      "iteration 400, article ('anthem-manuscript', 12)\n",
      "iteration 500, article ('artist-housing', 12)\n",
      "iteration 600, article ('aviation-tooling', 4)\n",
      "iteration 700, article ('bat-survival', 6)\n",
      "iteration 800, article ('bird-rollercoaster', 4)\n",
      "iteration 900, article ('border-debate', 5)\n",
      "iteration 1000, article ('brianwilliams-suspend', 4)\n",
      "iteration 1100, article ('calitrain-cheaptix', 12)\n",
      "iteration 1200, article ('cdc-obesity', 7)\n",
      "iteration 1300, article ('children-centralamerica', 4)\n",
      "iteration 1400, article ('china-pollutionapp', 6)\n",
      "iteration 1500, article ('church-fires', 6)\n",
      "iteration 1600, article ('clinton-presannounce', 4)\n",
      "iteration 1700, article ('combat-women', 7)\n",
      "iteration 1800, article ('corporal-punishment', 12)\n",
      "iteration 1900, article ('curbing-cyberkids', 5)\n",
      "iteration 2000, article ('diamond-heist', 7)\n",
      "iteration 2100, article ('distracted-biking', 7)\n",
      "iteration 2200, article ('drone-show', 5)\n",
      "iteration 2300, article ('ebola-mutation', 9)\n",
      "iteration 2400, article ('electriccars-procon', 8)\n",
      "iteration 2500, article ('evolution-animalsbigger', 12)\n",
      "iteration 2600, article ('fda-transfats', 4)\n",
      "iteration 2700, article ('firstlady-education', 12)\n",
      "iteration 2800, article ('football-bullying', 12)\n",
      "iteration 2900, article ('futsal-la', 12)\n",
      "iteration 3000, article ('georgia-storm', 8)\n",
      "iteration 3100, article ('goodschools-health', 12)\n",
      "iteration 3200, article ('harvarddebate-versusinmates', 4)\n",
      "iteration 3300, article ('hightech-hajj', 9)\n",
      "iteration 3400, article ('hoverboards-flamingout', 7)\n",
      "iteration 3500, article ('india-childlabor', 9)\n",
      "iteration 3600, article ('iraq-braindrain', 3)\n",
      "iteration 3700, article ('jason-collins', 4)\n",
      "iteration 3800, article ('kepler-planets', 7)\n",
      "iteration 3900, article ('latino-business', 12)\n",
      "iteration 4000, article ('lizard-breathing', 7)\n",
      "iteration 4100, article ('mall-santa', 12)\n",
      "iteration 4200, article ('martian-mojave', 4)\n",
      "iteration 4300, article ('mexicolabor-retailer', 4)\n",
      "iteration 4400, article ('military-women', 7)\n",
      "iteration 4500, article ('mosquito-drone', 8)\n",
      "iteration 4600, article ('muslim-challenges', 4)\n",
      "iteration 4700, article ('navajo-language', 6)\n",
      "iteration 4800, article ('nfl-procon', 8)\n",
      "iteration 4900, article ('nyc-election', 4)\n",
      "iteration 5000, article ('obama-policetaskforce', 7)\n",
      "iteration 5100, article ('oldest-skeleton', 4)\n",
      "iteration 5200, article ('parents-classroom', 4)\n",
      "iteration 5300, article ('pewsurvey-christianity', 6)\n",
      "iteration 5400, article ('police-youth-talking', 12)\n",
      "iteration 5500, article ('predatoryfish-decline', 12)\n",
      "iteration 5600, article ('protest-songs', 5)\n",
      "iteration 5700, article ('republicans-congress', 12)\n",
      "iteration 5800, article ('royal-budget', 8)\n",
      "iteration 5900, article ('saudi-drivers', 4)\n",
      "iteration 6000, article ('schools-exercise', 8)\n",
      "iteration 6100, article ('selfdriving-future', 12)\n",
      "iteration 6200, article ('shuttle-parts', 12)\n",
      "iteration 6300, article ('smithsonian-cool', 4)\n",
      "iteration 6400, article ('sony-nkorea', 4)\n",
      "iteration 6500, article ('statue-reopens', 4)\n",
      "iteration 6600, article ('suspension-policies', 12)\n",
      "iteration 6700, article ('tablets-kids', 12)\n",
      "iteration 6800, article ('temple-tourists', 6)\n",
      "iteration 6900, article ('tobacco-picking', 12)\n",
      "iteration 7000, article ('truck-prices', 7)\n",
      "iteration 7100, article ('uncletom-dc', 4)\n",
      "iteration 7200, article ('vetshelping-teens', 12)\n",
      "iteration 7300, article ('war-artifacts', 5)\n",
      "iteration 7400, article ('whales-entangled', 4)\n",
      "iteration 7500, article ('worldcup-1950', 12)\n",
      "iteration 7600, article ('zimmerman-verdict', 12)\n"
     ]
    }
   ],
   "source": [
    "article_train_df, means_train = articleLM.compute_article_best_guess('train')"
   ]
  },
  {
   "cell_type": "code",
   "execution_count": 10,
   "metadata": {},
   "outputs": [
    {
     "data": {
      "image/png": "[encoded data removed]",
      "text/plain": [
       "<Figure size 720x576 with 1 Axes>"
      ]
     },
     "metadata": {
      "needs_background": "light"
     },
     "output_type": "display_data"
    }
   ],
   "source": [
    "articleLM.plot_article_best_grade_levels(means_train)"
   ]
  },
  {
   "cell_type": "code",
   "execution_count": 11,
   "metadata": {},
   "outputs": [
    {
     "data": {
      "image/png": "[encoded data removed]",
      "text/plain": [
       "<Figure size 720x576 with 1 Axes>"
      ]
     },
     "metadata": {
      "needs_background": "light"
     },
     "output_type": "display_data"
    }
   ],
   "source": [
    "articleLM.plot_article_best_grade_levels(means_val)"
   ]
  },
  {
   "cell_type": "code",
   "execution_count": 11,
   "metadata": {},
   "outputs": [
    {
     "data": {
      "text/html": [
       "<div>\n",
       "<style scoped>\n",
       "    .dataframe tbody tr th:only-of-type {\n",
       "        vertical-align: middle;\n",
       "    }\n",
       "\n",
       "    .dataframe tbody tr th {\n",
       "        vertical-align: top;\n",
       "    }\n",
       "\n",
       "    .dataframe thead th {\n",
       "        text-align: right;\n",
       "    }\n",
       "</style>\n",
       "<table border=\"1\" class=\"dataframe\">\n",
       "  <thead>\n",
       "    <tr style=\"text-align: right;\">\n",
       "      <th></th>\n",
       "      <th>article</th>\n",
       "      <th>true_gl</th>\n",
       "      <th>predicted_gl</th>\n",
       "    </tr>\n",
       "  </thead>\n",
       "  <tbody>\n",
       "    <tr>\n",
       "      <th>0</th>\n",
       "      <td>10dollarbill-woman</td>\n",
       "      <td>6</td>\n",
       "      <td>6.915354</td>\n",
       "    </tr>\n",
       "    <tr>\n",
       "      <th>1</th>\n",
       "      <td>10dollarbill-woman</td>\n",
       "      <td>12</td>\n",
       "      <td>7.465843</td>\n",
       "    </tr>\n",
       "    <tr>\n",
       "      <th>2</th>\n",
       "      <td>20dollarbill-female</td>\n",
       "      <td>6</td>\n",
       "      <td>6.404762</td>\n",
       "    </tr>\n",
       "    <tr>\n",
       "      <th>3</th>\n",
       "      <td>3d-indoormap</td>\n",
       "      <td>6</td>\n",
       "      <td>6.733333</td>\n",
       "    </tr>\n",
       "    <tr>\n",
       "      <th>4</th>\n",
       "      <td>401k-literacy</td>\n",
       "      <td>12</td>\n",
       "      <td>6.944444</td>\n",
       "    </tr>\n",
       "  </tbody>\n",
       "</table>\n",
       "</div>"
      ],
      "text/plain": [
       "               article  true_gl  predicted_gl\n",
       "0   10dollarbill-woman        6      6.915354\n",
       "1   10dollarbill-woman       12      7.465843\n",
       "2  20dollarbill-female        6      6.404762\n",
       "3         3d-indoormap        6      6.733333\n",
       "4        401k-literacy       12      6.944444"
      ]
     },
     "execution_count": 11,
     "metadata": {},
     "output_type": "execute_result"
    }
   ],
   "source": [
    "means_val.head()"
   ]
  },
  {
   "cell_type": "code",
   "execution_count": 10,
   "metadata": {},
   "outputs": [],
   "source": [
    "(grade_level_cm, raw_accuracy, banded_accuracy,\n",
    " binary_cm, binary_accuracy, binary_f1) = articleLM.compute_scores_grade_level(means_val)"
   ]
  },
  {
   "cell_type": "code",
   "execution_count": 11,
   "metadata": {},
   "outputs": [
    {
     "data": {
      "text/plain": [
       "array([[ 0,  2, 21,  1,  0,  0,  0,  0,  0,  0,  0],\n",
       "       [ 0,  2, 27, 14,  4,  0,  0,  0,  0,  0,  0],\n",
       "       [ 0,  1, 11, 98, 32,  9,  2,  0,  0,  0,  0],\n",
       "       [ 0,  0, 12, 64, 47,  9,  2,  1,  0,  0,  0],\n",
       "       [ 0,  0,  3, 14, 48, 25, 12,  4,  1,  0,  0],\n",
       "       [ 0,  0,  0,  2, 27, 55, 38, 12,  6,  0,  0],\n",
       "       [ 0,  0,  0,  8, 11, 14, 39, 21,  9,  0,  0],\n",
       "       [ 0,  0,  0,  4, 12, 12, 15, 16, 16,  2,  0],\n",
       "       [ 0,  0,  0,  0,  0,  0,  0,  0,  0,  0,  0],\n",
       "       [ 0,  0,  0,  0,  0,  0,  0,  0,  0,  0,  0],\n",
       "       [ 0,  0,  1, 10, 37, 75, 53,  6,  0,  0,  0]])"
      ]
     },
     "execution_count": 11,
     "metadata": {},
     "output_type": "execute_result"
    }
   ],
   "source": [
    "grade_level_cm"
   ]
  },
  {
   "cell_type": "code",
   "execution_count": 12,
   "metadata": {},
   "outputs": [
    {
     "data": {
      "text/plain": [
       "0.24301964839710444"
      ]
     },
     "execution_count": 12,
     "metadata": {},
     "output_type": "execute_result"
    }
   ],
   "source": [
    "raw_accuracy"
   ]
  },
  {
   "cell_type": "code",
   "execution_count": 15,
   "metadata": {},
   "outputs": [
    {
     "data": {
      "text/plain": [
       "0.6122026887280249"
      ]
     },
     "execution_count": 15,
     "metadata": {},
     "output_type": "execute_result"
    }
   ],
   "source": [
    "banded_accuracy"
   ]
  },
  {
   "cell_type": "code",
   "execution_count": 13,
   "metadata": {},
   "outputs": [
    {
     "data": {
      "text/plain": [
       "array([[566,  42],\n",
       "       [106, 253]])"
      ]
     },
     "execution_count": 13,
     "metadata": {},
     "output_type": "execute_result"
    }
   ],
   "source": [
    "binary_cm"
   ]
  },
  {
   "cell_type": "code",
   "execution_count": 14,
   "metadata": {},
   "outputs": [
    {
     "data": {
      "text/plain": [
       "0.8469493278179938"
      ]
     },
     "execution_count": 14,
     "metadata": {},
     "output_type": "execute_result"
    }
   ],
   "source": [
    "binary_accuracy"
   ]
  },
  {
   "cell_type": "code",
   "execution_count": 16,
   "metadata": {},
   "outputs": [
    {
     "data": {
      "text/plain": [
       "0.8843749999999999"
      ]
     },
     "execution_count": 16,
     "metadata": {},
     "output_type": "execute_result"
    }
   ],
   "source": [
    "binary_f1"
   ]
  },
  {
   "cell_type": "markdown",
   "metadata": {},
   "source": [
    "## Scores for using means, test set"
   ]
  },
  {
   "cell_type": "code",
   "execution_count": 16,
   "metadata": {},
   "outputs": [
    {
     "name": "stdout",
     "output_type": "stream",
     "text": [
      "iteration 100, article ('beef-grassfed', 3)\n",
      "iteration 200, article ('climate-violence', 7)\n",
      "iteration 300, article ('europemigrant-minors', 5)\n",
      "iteration 400, article ('hiring-formerfelons', 7)\n",
      "iteration 500, article ('malaysia-ukrainecrash', 12)\n",
      "iteration 600, article ('obama-king', 5)\n",
      "iteration 700, article ('projectsyndicate-racismhistory', 12)\n",
      "iteration 800, article ('space-voyager', 7)\n",
      "iteration 900, article ('virtual-surgery', 12)\n"
     ]
    },
    {
     "data": {
      "image/png": "[encoded data removed]",
      "text/plain": [
       "<Figure size 720x576 with 1 Axes>"
      ]
     },
     "metadata": {
      "needs_background": "light"
     },
     "output_type": "display_data"
    }
   ],
   "source": [
    "article_test_df, means_test = articleLM.compute_article_best_guess('test')\n",
    "articleLM.plot_article_best_grade_levels(means_test)"
   ]
  },
  {
   "cell_type": "code",
   "execution_count": 18,
   "metadata": {},
   "outputs": [],
   "source": [
    "(grade_level_cm, raw_accuracy, banded_accuracy,\n",
    " binary_cm, binary_accuracy, binary_f1) = articleLM.compute_scores_grade_level(means_test)"
   ]
  },
  {
   "cell_type": "code",
   "execution_count": 19,
   "metadata": {},
   "outputs": [
    {
     "data": {
      "text/plain": [
       "array([[ 0,  7, 15,  3,  0,  0,  0,  0,  0,  0,  0],\n",
       "       [ 0,  3, 21, 16,  5,  0,  0,  0,  0,  0,  0],\n",
       "       [ 0,  1,  9, 96, 34,  7,  0,  0,  0,  0,  0],\n",
       "       [ 0,  0, 11, 84, 46, 14,  1,  1,  0,  0,  0],\n",
       "       [ 0,  0,  2, 10, 34, 40, 10,  2,  0,  0,  0],\n",
       "       [ 0,  0,  1,  4, 12, 47, 33,  7,  1,  2,  0],\n",
       "       [ 0,  0,  0,  4, 13, 20, 31, 26,  7,  2,  0],\n",
       "       [ 0,  0,  1,  0,  6,  5, 16, 24,  8,  1,  0],\n",
       "       [ 0,  0,  0,  0,  0,  0,  0,  0,  0,  0,  0],\n",
       "       [ 0,  0,  0,  0,  0,  0,  0,  0,  0,  0,  0],\n",
       "       [ 0,  0,  0,  7, 41, 84, 66,  6,  0,  0,  0]])"
      ]
     },
     "execution_count": 19,
     "metadata": {},
     "output_type": "execute_result"
    }
   ],
   "source": [
    "grade_level_cm"
   ]
  },
  {
   "cell_type": "code",
   "execution_count": 20,
   "metadata": {},
   "outputs": [
    {
     "data": {
      "text/plain": [
       "0.24498416050686378"
      ]
     },
     "execution_count": 20,
     "metadata": {},
     "output_type": "execute_result"
    }
   ],
   "source": [
    "raw_accuracy"
   ]
  },
  {
   "cell_type": "code",
   "execution_count": 21,
   "metadata": {},
   "outputs": [
    {
     "data": {
      "text/plain": [
       "0.6114044350580782"
      ]
     },
     "execution_count": 21,
     "metadata": {},
     "output_type": "execute_result"
    }
   ],
   "source": [
    "banded_accuracy"
   ]
  },
  {
   "cell_type": "code",
   "execution_count": 22,
   "metadata": {},
   "outputs": [
    {
     "data": {
      "text/plain": [
       "array([[544,  29],\n",
       "       [108, 266]])"
      ]
     },
     "execution_count": 22,
     "metadata": {},
     "output_type": "execute_result"
    }
   ],
   "source": [
    "binary_cm"
   ]
  },
  {
   "cell_type": "code",
   "execution_count": 23,
   "metadata": {},
   "outputs": [
    {
     "data": {
      "text/plain": [
       "0.8553326293558606"
      ]
     },
     "execution_count": 23,
     "metadata": {},
     "output_type": "execute_result"
    }
   ],
   "source": [
    "binary_accuracy"
   ]
  },
  {
   "cell_type": "code",
   "execution_count": 24,
   "metadata": {},
   "outputs": [
    {
     "data": {
      "text/plain": [
       "0.8881632653061226"
      ]
     },
     "execution_count": 24,
     "metadata": {},
     "output_type": "execute_result"
    }
   ],
   "source": [
    "binary_f1"
   ]
  },
  {
   "cell_type": "markdown",
   "metadata": {},
   "source": [
    "### Just for fun, check linear regression score too."
   ]
  },
  {
   "cell_type": "code",
   "execution_count": 39,
   "metadata": {},
   "outputs": [],
   "source": [
    "article_test_pred_gl_count = \\\n",
    "    np.array(article_test_df[['true_gl', 'article', 'predicted_gl']].pivot_table(columns='predicted_gl',\n",
    "                                                                     index=['true_gl', 'article'],\n",
    "                                                                     aggfunc=lambda x:  len(x),\n",
    "                                                                    fill_value=0))\n",
    "\n",
    "X_test = np.divide(article_test_pred_gl_count,\n",
    "                  article_test_pred_gl_count.sum(axis=1).reshape(len(article_test_pred_gl_count),\n",
    "                                                                1))\n",
    "\n",
    "test_df = article_test_df[['true_gl', 'article', 'predicted_gl']].pivot_table(columns='predicted_gl',\n",
    "                                                                     index=['true_gl', 'article'],\n",
    "                                                                     aggfunc=lambda x:  len(x),\n",
    "                                                                    fill_value=0).reset_index()[['true_gl', 'article']]\n",
    "\n",
    "test_df.loc[:,'predicted_gl'] = list(clf.predict(X_test))\n",
    "test_df.loc[:,'predicted_gl'] = test_df.predicted_gl.astype('int')"
   ]
  },
  {
   "cell_type": "markdown",
   "metadata": {},
   "source": [
    "#### accuracy for regression outputs"
   ]
  },
  {
   "cell_type": "code",
   "execution_count": 40,
   "metadata": {},
   "outputs": [],
   "source": [
    "test_df.loc[:,'within_1_grade'] = list(map(lambda x,y: 1\n",
    "                                         if (y >= x-1 and y <= x+1)\n",
    "                                         else 0 , test_df.true_gl, test_df.predicted_gl))"
   ]
  },
  {
   "cell_type": "code",
   "execution_count": 43,
   "metadata": {},
   "outputs": [
    {
     "data": {
      "text/plain": [
       "0.8278775079197466"
      ]
     },
     "execution_count": 43,
     "metadata": {},
     "output_type": "execute_result"
    }
   ],
   "source": [
    "len(test_df[test_df.within_1_grade == 1]) * 100. / len(test_df)\n",
    "\n",
    "test_df.loc[:,'true_easy'] = [1 if x <= 5 else 0 for x in test_df.true_gl]\n",
    "test_df.loc[:,'predicted_easy'] = [1 if x <= 5 else 0 for x in test_df.predicted_gl]\n",
    "\n",
    "accuracy_score(test_df.true_easy, test_df.predicted_easy)"
   ]
  },
  {
   "cell_type": "markdown",
   "metadata": {},
   "source": [
    "It's still not as good! Sticking with the means."
   ]
  },
  {
   "cell_type": "code",
   "execution_count": null,
   "metadata": {},
   "outputs": [],
   "source": []
  }
 ],
 "metadata": {
  "kernelspec": {
   "display_name": "Python 3",
   "language": "python",
   "name": "python3"
  },
  "language_info": {
   "codemirror_mode": {
    "name": "ipython",
    "version": 3
   },
   "file_extension": ".py",
   "mimetype": "text/x-python",
   "name": "python",
   "nbconvert_exporter": "python",
   "pygments_lexer": "ipython3",
   "version": "3.7.3"
  }
 },
 "nbformat": 4,
 "nbformat_minor": 2
}
