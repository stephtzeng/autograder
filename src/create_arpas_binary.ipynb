{
 "cells": [
  {
   "cell_type": "markdown",
   "metadata": {},
   "source": [
    "## Creating binary models vs full grade levels"
   ]
  },
  {
   "cell_type": "code",
   "execution_count": 1,
   "metadata": {},
   "outputs": [],
   "source": [
    "from article_process import ArticleLM"
   ]
  },
  {
   "cell_type": "code",
   "execution_count": 2,
   "metadata": {},
   "outputs": [],
   "source": [
    "import matplotlib.pyplot as plt\n",
    "import seaborn as sns\n",
    "%matplotlib inline\n",
    "import numpy as np\n",
    "import pandas as pd"
   ]
  },
  {
   "cell_type": "code",
   "execution_count": 3,
   "metadata": {},
   "outputs": [],
   "source": [
    "path_to_data = '/Users/stephanie/data/newsela_article_corpus_2016-01-29'\n",
    "path_to_kenlm = '/Users/stephanie/github/kenlm'\n",
    "path_to_arpa = path_to_kenlm + '/lm'"
   ]
  },
  {
   "cell_type": "code",
   "execution_count": 4,
   "metadata": {},
   "outputs": [],
   "source": [
    "# pd.read_csv('/Users/stephanie/data/newsela_articles_corpus_2019-03-25/MANIFEST.csv')"
   ]
  },
  {
   "cell_type": "code",
   "execution_count": 4,
   "metadata": {},
   "outputs": [],
   "source": [
    "articleLM = ArticleLM(path_to_data, path_to_kenlm, path_to_arpa, 5, 'binary', True)"
   ]
  },
  {
   "cell_type": "code",
   "execution_count": 6,
   "metadata": {},
   "outputs": [],
   "source": [
    "# articleLM.metadata_split"
   ]
  },
  {
   "cell_type": "markdown",
   "metadata": {},
   "source": [
    "## Builds the processed sentences that I need for KenLM"
   ]
  },
  {
   "cell_type": "code",
   "execution_count": 5,
   "metadata": {},
   "outputs": [],
   "source": [
    "articleLM.build_data()"
   ]
  },
  {
   "cell_type": "code",
   "execution_count": 36,
   "metadata": {},
   "outputs": [
    {
     "name": "stdout",
     "output_type": "stream",
     "text": [
      "Processing hard\n",
      "Grade hard has 243562 sentences in the train set.\n",
      "=== 1/5 Counting and sorting n-grams ===\n",
      "File stdin isn't normal.  Using slower read() instead of mmap().  No progress bar.\n",
      "Unigram tokens 4764661 types 60616\n",
      "=== 2/5 Calculating and sorting adjusted counts ===\n",
      "Chain sizes: 1:727392 2:1340796800 3:2513994240 4:4022390272 5:5865986048\n",
      "Statistics:\n",
      "1 60616 D1=0.573557 D2=1.01017 D3+=1.51199\n",
      "2 789627 D1=0.714274 D2=1.175 D3+=1.52528\n",
      "3 1913778 D1=0.820462 D2=1.29831 D3+=1.62168\n",
      "4 2537234 D1=0.882494 D2=1.41292 D3+=1.93552\n",
      "5 2713137 D1=0.564295 D2=1.15154 D3+=2.75385\n",
      "Memory estimate for binary LM:\n",
      "type     MB\n",
      "probing 168 assuming -p 1.5\n",
      "probing 198 assuming -r models -p 1.5\n",
      "trie     79 without quantization\n",
      "trie     42 assuming -q 8 -b 8 quantization \n",
      "trie     70 assuming -a 22 array pointer compression\n",
      "trie     33 assuming -a 22 -q 8 -b 8 array pointer compression and quantization\n",
      "=== 3/5 Calculating and sorting initial probabilities ===\n",
      "Chain sizes: 1:727392 2:12634032 3:38275560 4:60893616 5:75967836\n",
      "=== 4/5 Calculating and writing order-interpolated probabilities ===\n",
      "Chain sizes: 1:727392 2:12634032 3:38275560 4:60893616 5:75967836\n",
      "=== 5/5 Writing ARPA model ===\n",
      "RSSMax:2528997376 kB\tuser:5.68332\tsys:1.71768\tCPU:7.40102\treal:5.48954\n",
      "\n",
      "Processing easy\n",
      "Grade easy has 158136 sentences in the train set.\n",
      "=== 1/5 Counting and sorting n-grams ===\n",
      "File stdin isn't normal.  Using slower read() instead of mmap().  No progress bar.\n",
      "Unigram tokens 1960342 types 32781\n",
      "=== 2/5 Calculating and sorting adjusted counts ===\n",
      "Chain sizes: 1:393372 2:1340829440 3:2514055424 4:4022488320 5:5866129408\n",
      "Statistics:\n",
      "1 32781 D1=0.555949 D2=1.05658 D3+=1.59598\n",
      "2 408593 D1=0.715432 D2=1.17297 D3+=1.45893\n",
      "3 966254 D1=0.821647 D2=1.32348 D3+=1.49355\n",
      "4 1268500 D1=0.887021 D2=1.50442 D3+=1.56007\n",
      "5 1325264 D1=0.705545 D2=1.86555 D3+=2.06996\n",
      "Memory estimate for binary LM:\n",
      "type    MB\n",
      "probing 84 assuming -p 1.5\n",
      "probing 99 assuming -r models -p 1.5\n",
      "trie    39 without quantization\n",
      "trie    21 assuming -q 8 -b 8 quantization \n",
      "trie    35 assuming -a 22 array pointer compression\n",
      "trie    16 assuming -a 22 -q 8 -b 8 array pointer compression and quantization\n",
      "=== 3/5 Calculating and sorting initial probabilities ===\n",
      "Chain sizes: 1:393372 2:6537488 3:19325080 4:30444000 5:37107392\n",
      "=== 4/5 Calculating and writing order-interpolated probabilities ===\n",
      "Chain sizes: 1:393372 2:6537488 3:19325080 4:30444000 5:37107392\n",
      "=== 5/5 Writing ARPA model ===\n",
      "RSSMax:2489028608 kB\tuser:2.98149\tsys:1.16162\tCPU:4.14316\treal:3.20424\n",
      "\n"
     ]
    }
   ],
   "source": [
    "articleLM.train_all_arpas()"
   ]
  },
  {
   "cell_type": "markdown",
   "metadata": {},
   "source": [
    "## Printing out stats\n",
    "\n",
    "how many sentences there are in training set, indexed by grade level?"
   ]
  },
  {
   "cell_type": "code",
   "execution_count": 7,
   "metadata": {},
   "outputs": [
    {
     "name": "stdout",
     "output_type": "stream",
     "text": [
      "hard 243562\n",
      "easy 158136\n"
     ]
    }
   ],
   "source": [
    "for g in articleLM.level_sentences.get('train').keys():\n",
    "    print(g, len(articleLM.level_sentences.get('train').get(g)))"
   ]
  },
  {
   "cell_type": "code",
   "execution_count": 8,
   "metadata": {},
   "outputs": [
    {
     "name": "stdout",
     "output_type": "stream",
     "text": [
      "401698\n"
     ]
    }
   ],
   "source": [
    "# Number of sentences, train\n",
    "sentence_len = 0\n",
    "for g in articleLM.level_sentences.get('train').keys():\n",
    "    sentence_len+=len(articleLM.level_sentences.get('train').get(g))\n",
    "    \n",
    "print(sentence_len)"
   ]
  },
  {
   "cell_type": "code",
   "execution_count": 9,
   "metadata": {},
   "outputs": [
    {
     "name": "stdout",
     "output_type": "stream",
     "text": [
      "51067\n"
     ]
    }
   ],
   "source": [
    "# Number of sentences, validation\n",
    "sentence_len = 0\n",
    "for g in articleLM.level_sentences.get('val').keys():\n",
    "    sentence_len+=len(articleLM.level_sentences.get('val').get(g))\n",
    "print(sentence_len)"
   ]
  },
  {
   "cell_type": "markdown",
   "metadata": {},
   "source": [
    "how many articles there are in each set, indexed by grade level?"
   ]
  },
  {
   "cell_type": "code",
   "execution_count": 10,
   "metadata": {},
   "outputs": [
    {
     "data": {
      "text/plain": [
       "12    1660\n",
       "4     1399\n",
       "5     1167\n",
       "7     1092\n",
       "6      943\n",
       "8      922\n",
       "9      699\n",
       "3      503\n",
       "2      225\n",
       "11       2\n",
       "Name: grade_level, dtype: int64"
      ]
     },
     "execution_count": 10,
     "metadata": {},
     "output_type": "execute_result"
    }
   ],
   "source": [
    "articleLM.metadata_split[articleLM.metadata_split.train_val_test=='train'].grade_level.value_counts()"
   ]
  },
  {
   "cell_type": "code",
   "execution_count": 33,
   "metadata": {},
   "outputs": [
    {
     "data": {
      "text/plain": [
       "8612"
      ]
     },
     "execution_count": 33,
     "metadata": {},
     "output_type": "execute_result"
    }
   ],
   "source": [
    "articleLM.metadata_split[articleLM.metadata_split.train_val_test=='train'].grade_level.value_counts().sum()"
   ]
  },
  {
   "cell_type": "code",
   "execution_count": 34,
   "metadata": {},
   "outputs": [
    {
     "data": {
      "text/plain": [
       "12    205\n",
       "4     166\n",
       "5     151\n",
       "7     150\n",
       "6     120\n",
       "8     115\n",
       "9      88\n",
       "3      55\n",
       "2      26\n",
       "Name: grade_level, dtype: int64"
      ]
     },
     "execution_count": 34,
     "metadata": {},
     "output_type": "execute_result"
    }
   ],
   "source": [
    "articleLM.metadata_split[articleLM.metadata_split.train_val_test=='val'].grade_level.value_counts()"
   ]
  },
  {
   "cell_type": "markdown",
   "metadata": {},
   "source": [
    "## Comparing perplexities - Sentence Level"
   ]
  },
  {
   "cell_type": "code",
   "execution_count": 11,
   "metadata": {},
   "outputs": [],
   "source": [
    "perplex_guesses = articleLM.compute_all_sentences_best_guess(['easy', 'hard'])"
   ]
  },
  {
   "cell_type": "code",
   "execution_count": 12,
   "metadata": {},
   "outputs": [
    {
     "data": {
      "text/plain": [
       "0.7075606556092976"
      ]
     },
     "execution_count": 12,
     "metadata": {},
     "output_type": "execute_result"
    }
   ],
   "source": [
    "len(perplex_guesses[perplex_guesses.level == perplex_guesses.best_guess] ) * 1. / len(perplex_guesses)"
   ]
  },
  {
   "cell_type": "markdown",
   "metadata": {},
   "source": [
    "## Article level"
   ]
  },
  {
   "cell_type": "code",
   "execution_count": 14,
   "metadata": {},
   "outputs": [],
   "source": [
    "# def compute_article_best_guess():\n",
    "#     article_sentences = articleLM.article_val_sentences\n",
    "\n",
    "#     iter = 0\n",
    "#     article_df = pd.DataFrame({})\n",
    "#     for article_gl in article_sentences.keys():\n",
    "#         #     mean_guess, median_guess = articleLM.compute_perplexity_entire_article(article_sentences[article_gl])\n",
    "\n",
    "#         sample_perp = dict()\n",
    "#         for ix, sentence in enumerate(article_sentences[article_gl]):\n",
    "#             perplexities = articleLM.compute_sentence_perplexities(sentence)\n",
    "#             sample_perp[ix] = perplexities\n",
    "#         sample_perp_df = pd.DataFrame(sample_perp).T\n",
    "#         sample_perp_df.columns = sorted(articleLM.models.keys())\n",
    "\n",
    "#         sample_perp_df.loc[:, 'min_perplexity'] = sample_perp_df.idxmin(axis=1, skipna=True)\n",
    "#         sample_perp_df.loc[:, 'true_gl'] = article_gl[1]\n",
    "#         sample_perp_df.loc[:, 'article'] = article_gl[0]\n",
    "\n",
    "#         article_df = pd.concat([article_df, sample_perp_df])\n",
    "\n",
    "#         iter += 1\n",
    "\n",
    "#         if iter % 10 == 0:\n",
    "#             print(\"iteration {}, article {}\".format(iter, article_gl))\n",
    "\n",
    "#     return article_df\n",
    "\n",
    "# # def plot_best_article_guess():\n",
    "# #     article_df = articleLM.compute_article_best_guess()\n",
    "# #     means = article_df.groupby(['article', 'true_gl']).mean()['min_perplexity'].reset_index()\n",
    "# #     means.rename(columns={'min_perplexity': 'predicted_gl'}, inplace=True)\n",
    "\n",
    "# #     fig = plt.figure(figsize=(10, 8))\n",
    "# #     ax = fig.gca()\n",
    "# #     ax.set_title(\"Grade Level Distributions\")\n",
    "# #     # ax.set_xlabel(\"True Grade Level\")\n",
    "# #     # ax.set_ylabel(\"Predicted Grade Level\")\n",
    "# #     sns.boxplot(ax=ax, x=\"true_gl\", y=\"predicted_gl\", data=means)\n",
    "# #     ax.set_xlabel(\"True Grade Level\")\n",
    "# #     ax.set_ylabel(\"Predicted Grade Level, using Means\")\n",
    "\n",
    "# #     return article_df"
   ]
  },
  {
   "cell_type": "code",
   "execution_count": 6,
   "metadata": {},
   "outputs": [
    {
     "name": "stdout",
     "output_type": "stream",
     "text": [
      "iteration 100, article ('blob-warmwater', 'hard')\n",
      "iteration 200, article ('crabs-toxic', 'hard')\n",
      "iteration 300, article ('faster-baseball', 'hard')\n",
      "iteration 400, article ('inuit-food', 'hard')\n",
      "iteration 500, article ('minoritygap-youngmen', 'easy')\n",
      "iteration 600, article ('parks-lines', 'hard')\n",
      "iteration 700, article ('sharks-hawaii', 'hard')\n",
      "iteration 800, article ('trophyhunting-research', 'easy')\n"
     ]
    }
   ],
   "source": [
    "article_df, best_guess_val = articleLM.compute_article_best_guess('val')"
   ]
  },
  {
   "cell_type": "code",
   "execution_count": 7,
   "metadata": {},
   "outputs": [
    {
     "data": {
      "text/html": [
       "<div>\n",
       "<style scoped>\n",
       "    .dataframe tbody tr th:only-of-type {\n",
       "        vertical-align: middle;\n",
       "    }\n",
       "\n",
       "    .dataframe tbody tr th {\n",
       "        vertical-align: top;\n",
       "    }\n",
       "\n",
       "    .dataframe thead th {\n",
       "        text-align: right;\n",
       "    }\n",
       "</style>\n",
       "<table border=\"1\" class=\"dataframe\">\n",
       "  <thead>\n",
       "    <tr style=\"text-align: right;\">\n",
       "      <th></th>\n",
       "      <th>article</th>\n",
       "      <th>true_gl</th>\n",
       "      <th>easy</th>\n",
       "      <th>hard</th>\n",
       "      <th>predicted_gl</th>\n",
       "    </tr>\n",
       "  </thead>\n",
       "  <tbody>\n",
       "    <tr>\n",
       "      <th>0</th>\n",
       "      <td>10dollarbill-woman</td>\n",
       "      <td>hard</td>\n",
       "      <td>373.236355</td>\n",
       "      <td>21.183493</td>\n",
       "      <td>hard</td>\n",
       "    </tr>\n",
       "    <tr>\n",
       "      <th>1</th>\n",
       "      <td>20dollarbill-female</td>\n",
       "      <td>hard</td>\n",
       "      <td>16.998070</td>\n",
       "      <td>10.734050</td>\n",
       "      <td>hard</td>\n",
       "    </tr>\n",
       "    <tr>\n",
       "      <th>2</th>\n",
       "      <td>3d-indoormap</td>\n",
       "      <td>hard</td>\n",
       "      <td>62.048541</td>\n",
       "      <td>175.140802</td>\n",
       "      <td>hard</td>\n",
       "    </tr>\n",
       "    <tr>\n",
       "      <th>3</th>\n",
       "      <td>401k-literacy</td>\n",
       "      <td>hard</td>\n",
       "      <td>523.651247</td>\n",
       "      <td>15.684725</td>\n",
       "      <td>hard</td>\n",
       "    </tr>\n",
       "    <tr>\n",
       "      <th>4</th>\n",
       "      <td>Braille-startup</td>\n",
       "      <td>hard</td>\n",
       "      <td>244.302287</td>\n",
       "      <td>3.531025</td>\n",
       "      <td>hard</td>\n",
       "    </tr>\n",
       "    <tr>\n",
       "      <th>5</th>\n",
       "      <td>Civilrights-comicbook</td>\n",
       "      <td>hard</td>\n",
       "      <td>30.740547</td>\n",
       "      <td>4.111333</td>\n",
       "      <td>hard</td>\n",
       "    </tr>\n",
       "    <tr>\n",
       "      <th>6</th>\n",
       "      <td>D-day-fallen</td>\n",
       "      <td>easy</td>\n",
       "      <td>23.147835</td>\n",
       "      <td>20.448213</td>\n",
       "      <td>easy</td>\n",
       "    </tr>\n",
       "    <tr>\n",
       "      <th>7</th>\n",
       "      <td>Detroit-bankruptcy</td>\n",
       "      <td>easy</td>\n",
       "      <td>34.207341</td>\n",
       "      <td>18.075680</td>\n",
       "      <td>easy</td>\n",
       "    </tr>\n",
       "    <tr>\n",
       "      <th>8</th>\n",
       "      <td>Fastfood-calories</td>\n",
       "      <td>hard</td>\n",
       "      <td>316.192900</td>\n",
       "      <td>4.509618</td>\n",
       "      <td>hard</td>\n",
       "    </tr>\n",
       "    <tr>\n",
       "      <th>9</th>\n",
       "      <td>Hospital-bootcamp</td>\n",
       "      <td>hard</td>\n",
       "      <td>4.203880</td>\n",
       "      <td>56.149446</td>\n",
       "      <td>easy</td>\n",
       "    </tr>\n",
       "    <tr>\n",
       "      <th>10</th>\n",
       "      <td>Iditarod-finish</td>\n",
       "      <td>hard</td>\n",
       "      <td>2400.260547</td>\n",
       "      <td>8.159405</td>\n",
       "      <td>hard</td>\n",
       "    </tr>\n",
       "    <tr>\n",
       "      <th>11</th>\n",
       "      <td>Indonesian-caveart</td>\n",
       "      <td>easy</td>\n",
       "      <td>5.060921</td>\n",
       "      <td>26.269475</td>\n",
       "      <td>easy</td>\n",
       "    </tr>\n",
       "    <tr>\n",
       "      <th>12</th>\n",
       "      <td>NFL-Players</td>\n",
       "      <td>hard</td>\n",
       "      <td>26.484324</td>\n",
       "      <td>238.683608</td>\n",
       "      <td>hard</td>\n",
       "    </tr>\n",
       "    <tr>\n",
       "      <th>13</th>\n",
       "      <td>Nigeria-ebolafree</td>\n",
       "      <td>hard</td>\n",
       "      <td>275.770102</td>\n",
       "      <td>4.075660</td>\n",
       "      <td>hard</td>\n",
       "    </tr>\n",
       "    <tr>\n",
       "      <th>14</th>\n",
       "      <td>Nobel-peacewinner</td>\n",
       "      <td>hard</td>\n",
       "      <td>2.128412</td>\n",
       "      <td>3.032768</td>\n",
       "      <td>hard</td>\n",
       "    </tr>\n",
       "    <tr>\n",
       "      <th>15</th>\n",
       "      <td>Obama-Islamic-State</td>\n",
       "      <td>easy</td>\n",
       "      <td>144.085811</td>\n",
       "      <td>20.080652</td>\n",
       "      <td>hard</td>\n",
       "    </tr>\n",
       "    <tr>\n",
       "      <th>16</th>\n",
       "      <td>Obama-Islamic-State</td>\n",
       "      <td>hard</td>\n",
       "      <td>618.759813</td>\n",
       "      <td>5.408758</td>\n",
       "      <td>hard</td>\n",
       "    </tr>\n",
       "    <tr>\n",
       "      <th>17</th>\n",
       "      <td>Obama-girlsschooling</td>\n",
       "      <td>hard</td>\n",
       "      <td>56.370144</td>\n",
       "      <td>22.623348</td>\n",
       "      <td>hard</td>\n",
       "    </tr>\n",
       "    <tr>\n",
       "      <th>18</th>\n",
       "      <td>Teddyroosevelt-library</td>\n",
       "      <td>hard</td>\n",
       "      <td>129.808088</td>\n",
       "      <td>160.766803</td>\n",
       "      <td>hard</td>\n",
       "    </tr>\n",
       "    <tr>\n",
       "      <th>19</th>\n",
       "      <td>US-Constitution</td>\n",
       "      <td>hard</td>\n",
       "      <td>141.888806</td>\n",
       "      <td>177.163197</td>\n",
       "      <td>hard</td>\n",
       "    </tr>\n",
       "    <tr>\n",
       "      <th>20</th>\n",
       "      <td>USCHINA-TOURISM</td>\n",
       "      <td>hard</td>\n",
       "      <td>8.076178</td>\n",
       "      <td>5.322301</td>\n",
       "      <td>hard</td>\n",
       "    </tr>\n",
       "    <tr>\n",
       "      <th>21</th>\n",
       "      <td>Ukraine-invasion</td>\n",
       "      <td>hard</td>\n",
       "      <td>713.965106</td>\n",
       "      <td>151.027586</td>\n",
       "      <td>hard</td>\n",
       "    </tr>\n",
       "    <tr>\n",
       "      <th>22</th>\n",
       "      <td>abercrombie-headscarves</td>\n",
       "      <td>hard</td>\n",
       "      <td>6.225087</td>\n",
       "      <td>4.619008</td>\n",
       "      <td>hard</td>\n",
       "    </tr>\n",
       "    <tr>\n",
       "      <th>23</th>\n",
       "      <td>accordion-lessons</td>\n",
       "      <td>hard</td>\n",
       "      <td>11.627983</td>\n",
       "      <td>3.678628</td>\n",
       "      <td>hard</td>\n",
       "    </tr>\n",
       "    <tr>\n",
       "      <th>24</th>\n",
       "      <td>afghan-grooms</td>\n",
       "      <td>easy</td>\n",
       "      <td>4.226416</td>\n",
       "      <td>157.133418</td>\n",
       "      <td>hard</td>\n",
       "    </tr>\n",
       "    <tr>\n",
       "      <th>25</th>\n",
       "      <td>afghan-scouts</td>\n",
       "      <td>hard</td>\n",
       "      <td>79.537103</td>\n",
       "      <td>221.816088</td>\n",
       "      <td>hard</td>\n",
       "    </tr>\n",
       "    <tr>\n",
       "      <th>26</th>\n",
       "      <td>afghan-taxidriver</td>\n",
       "      <td>hard</td>\n",
       "      <td>6.919685</td>\n",
       "      <td>5.968924</td>\n",
       "      <td>hard</td>\n",
       "    </tr>\n",
       "    <tr>\n",
       "      <th>27</th>\n",
       "      <td>afghan-women</td>\n",
       "      <td>hard</td>\n",
       "      <td>4.250582</td>\n",
       "      <td>15.014282</td>\n",
       "      <td>hard</td>\n",
       "    </tr>\n",
       "    <tr>\n",
       "      <th>28</th>\n",
       "      <td>afghanistan-ustroops</td>\n",
       "      <td>hard</td>\n",
       "      <td>179.478595</td>\n",
       "      <td>33.326459</td>\n",
       "      <td>hard</td>\n",
       "    </tr>\n",
       "    <tr>\n",
       "      <th>29</th>\n",
       "      <td>africa-lionhunting</td>\n",
       "      <td>easy</td>\n",
       "      <td>72.978611</td>\n",
       "      <td>37.600802</td>\n",
       "      <td>easy</td>\n",
       "    </tr>\n",
       "    <tr>\n",
       "      <th>...</th>\n",
       "      <td>...</td>\n",
       "      <td>...</td>\n",
       "      <td>...</td>\n",
       "      <td>...</td>\n",
       "      <td>...</td>\n",
       "    </tr>\n",
       "    <tr>\n",
       "      <th>843</th>\n",
       "      <td>water-california</td>\n",
       "      <td>easy</td>\n",
       "      <td>979.923377</td>\n",
       "      <td>24.709707</td>\n",
       "      <td>hard</td>\n",
       "    </tr>\n",
       "    <tr>\n",
       "      <th>844</th>\n",
       "      <td>water-california</td>\n",
       "      <td>hard</td>\n",
       "      <td>608.302697</td>\n",
       "      <td>349.961699</td>\n",
       "      <td>hard</td>\n",
       "    </tr>\n",
       "    <tr>\n",
       "      <th>845</th>\n",
       "      <td>water-farming</td>\n",
       "      <td>hard</td>\n",
       "      <td>301.865059</td>\n",
       "      <td>262.632620</td>\n",
       "      <td>hard</td>\n",
       "    </tr>\n",
       "    <tr>\n",
       "      <th>846</th>\n",
       "      <td>weapons-asteroids</td>\n",
       "      <td>hard</td>\n",
       "      <td>405.715675</td>\n",
       "      <td>3.317853</td>\n",
       "      <td>hard</td>\n",
       "    </tr>\n",
       "    <tr>\n",
       "      <th>847</th>\n",
       "      <td>westcoast-warming</td>\n",
       "      <td>hard</td>\n",
       "      <td>8.013442</td>\n",
       "      <td>4.304460</td>\n",
       "      <td>hard</td>\n",
       "    </tr>\n",
       "    <tr>\n",
       "      <th>848</th>\n",
       "      <td>whale-ancient</td>\n",
       "      <td>hard</td>\n",
       "      <td>27.867959</td>\n",
       "      <td>25.077838</td>\n",
       "      <td>hard</td>\n",
       "    </tr>\n",
       "    <tr>\n",
       "      <th>849</th>\n",
       "      <td>whales-entangled</td>\n",
       "      <td>hard</td>\n",
       "      <td>50.953673</td>\n",
       "      <td>123.794280</td>\n",
       "      <td>hard</td>\n",
       "    </tr>\n",
       "    <tr>\n",
       "      <th>850</th>\n",
       "      <td>whales-space</td>\n",
       "      <td>easy</td>\n",
       "      <td>62.965694</td>\n",
       "      <td>8.728574</td>\n",
       "      <td>hard</td>\n",
       "    </tr>\n",
       "    <tr>\n",
       "      <th>851</th>\n",
       "      <td>wheelchair-rugby</td>\n",
       "      <td>hard</td>\n",
       "      <td>244.094315</td>\n",
       "      <td>3.570430</td>\n",
       "      <td>hard</td>\n",
       "    </tr>\n",
       "    <tr>\n",
       "      <th>852</th>\n",
       "      <td>whitehouse-kids</td>\n",
       "      <td>easy</td>\n",
       "      <td>53.219870</td>\n",
       "      <td>15.942362</td>\n",
       "      <td>hard</td>\n",
       "    </tr>\n",
       "    <tr>\n",
       "      <th>853</th>\n",
       "      <td>whiterhino-euthanized</td>\n",
       "      <td>easy</td>\n",
       "      <td>133.950783</td>\n",
       "      <td>195.191873</td>\n",
       "      <td>easy</td>\n",
       "    </tr>\n",
       "    <tr>\n",
       "      <th>854</th>\n",
       "      <td>whoopingcrane-shooting</td>\n",
       "      <td>easy</td>\n",
       "      <td>179.185250</td>\n",
       "      <td>39.745993</td>\n",
       "      <td>hard</td>\n",
       "    </tr>\n",
       "    <tr>\n",
       "      <th>855</th>\n",
       "      <td>whoopingcrane-shooting</td>\n",
       "      <td>hard</td>\n",
       "      <td>214.568525</td>\n",
       "      <td>2.908887</td>\n",
       "      <td>hard</td>\n",
       "    </tr>\n",
       "    <tr>\n",
       "      <th>856</th>\n",
       "      <td>wildfire-animals</td>\n",
       "      <td>easy</td>\n",
       "      <td>148.301375</td>\n",
       "      <td>31.531763</td>\n",
       "      <td>hard</td>\n",
       "    </tr>\n",
       "    <tr>\n",
       "      <th>857</th>\n",
       "      <td>winterolympics-beijing</td>\n",
       "      <td>hard</td>\n",
       "      <td>89.761204</td>\n",
       "      <td>2.938445</td>\n",
       "      <td>hard</td>\n",
       "    </tr>\n",
       "    <tr>\n",
       "      <th>858</th>\n",
       "      <td>wolf-love</td>\n",
       "      <td>hard</td>\n",
       "      <td>661.639776</td>\n",
       "      <td>11.307009</td>\n",
       "      <td>hard</td>\n",
       "    </tr>\n",
       "    <tr>\n",
       "      <th>859</th>\n",
       "      <td>wolves-yawning</td>\n",
       "      <td>hard</td>\n",
       "      <td>16.280382</td>\n",
       "      <td>671.920964</td>\n",
       "      <td>easy</td>\n",
       "    </tr>\n",
       "    <tr>\n",
       "      <th>860</th>\n",
       "      <td>world-obesity</td>\n",
       "      <td>hard</td>\n",
       "      <td>516.025261</td>\n",
       "      <td>60.838920</td>\n",
       "      <td>hard</td>\n",
       "    </tr>\n",
       "    <tr>\n",
       "      <th>861</th>\n",
       "      <td>worldcup-1950</td>\n",
       "      <td>hard</td>\n",
       "      <td>10.767276</td>\n",
       "      <td>61.876421</td>\n",
       "      <td>hard</td>\n",
       "    </tr>\n",
       "    <tr>\n",
       "      <th>862</th>\n",
       "      <td>worldcup-start</td>\n",
       "      <td>hard</td>\n",
       "      <td>465.933918</td>\n",
       "      <td>5.834986</td>\n",
       "      <td>hard</td>\n",
       "    </tr>\n",
       "    <tr>\n",
       "      <th>863</th>\n",
       "      <td>worm-health</td>\n",
       "      <td>hard</td>\n",
       "      <td>896.900371</td>\n",
       "      <td>3.474850</td>\n",
       "      <td>hard</td>\n",
       "    </tr>\n",
       "    <tr>\n",
       "      <th>864</th>\n",
       "      <td>wwII-painter</td>\n",
       "      <td>easy</td>\n",
       "      <td>4.398836</td>\n",
       "      <td>38.098265</td>\n",
       "      <td>hard</td>\n",
       "    </tr>\n",
       "    <tr>\n",
       "      <th>865</th>\n",
       "      <td>wwII-painter</td>\n",
       "      <td>hard</td>\n",
       "      <td>5.244816</td>\n",
       "      <td>3.733617</td>\n",
       "      <td>hard</td>\n",
       "    </tr>\n",
       "    <tr>\n",
       "      <th>866</th>\n",
       "      <td>yazidi-nebraska</td>\n",
       "      <td>hard</td>\n",
       "      <td>298.963195</td>\n",
       "      <td>3.232447</td>\n",
       "      <td>hard</td>\n",
       "    </tr>\n",
       "    <tr>\n",
       "      <th>867</th>\n",
       "      <td>yosemite-fox</td>\n",
       "      <td>easy</td>\n",
       "      <td>13.977944</td>\n",
       "      <td>14.868824</td>\n",
       "      <td>easy</td>\n",
       "    </tr>\n",
       "    <tr>\n",
       "      <th>868</th>\n",
       "      <td>yurok-drugcourt</td>\n",
       "      <td>easy</td>\n",
       "      <td>420.340601</td>\n",
       "      <td>184.739119</td>\n",
       "      <td>hard</td>\n",
       "    </tr>\n",
       "    <tr>\n",
       "      <th>869</th>\n",
       "      <td>yurok-drugcourt</td>\n",
       "      <td>hard</td>\n",
       "      <td>1203.090155</td>\n",
       "      <td>12.684938</td>\n",
       "      <td>hard</td>\n",
       "    </tr>\n",
       "    <tr>\n",
       "      <th>870</th>\n",
       "      <td>zika-virus</td>\n",
       "      <td>hard</td>\n",
       "      <td>841.371844</td>\n",
       "      <td>15.996747</td>\n",
       "      <td>hard</td>\n",
       "    </tr>\n",
       "    <tr>\n",
       "      <th>871</th>\n",
       "      <td>zipline-injuries</td>\n",
       "      <td>easy</td>\n",
       "      <td>42.747505</td>\n",
       "      <td>162.779991</td>\n",
       "      <td>easy</td>\n",
       "    </tr>\n",
       "    <tr>\n",
       "      <th>872</th>\n",
       "      <td>zircon-discovery</td>\n",
       "      <td>easy</td>\n",
       "      <td>33.579494</td>\n",
       "      <td>5.072798</td>\n",
       "      <td>hard</td>\n",
       "    </tr>\n",
       "  </tbody>\n",
       "</table>\n",
       "<p>873 rows × 5 columns</p>\n",
       "</div>"
      ],
      "text/plain": [
       "                     article true_gl         easy        hard predicted_gl\n",
       "0         10dollarbill-woman    hard   373.236355   21.183493         hard\n",
       "1        20dollarbill-female    hard    16.998070   10.734050         hard\n",
       "2               3d-indoormap    hard    62.048541  175.140802         hard\n",
       "3              401k-literacy    hard   523.651247   15.684725         hard\n",
       "4            Braille-startup    hard   244.302287    3.531025         hard\n",
       "5      Civilrights-comicbook    hard    30.740547    4.111333         hard\n",
       "6               D-day-fallen    easy    23.147835   20.448213         easy\n",
       "7         Detroit-bankruptcy    easy    34.207341   18.075680         easy\n",
       "8          Fastfood-calories    hard   316.192900    4.509618         hard\n",
       "9          Hospital-bootcamp    hard     4.203880   56.149446         easy\n",
       "10           Iditarod-finish    hard  2400.260547    8.159405         hard\n",
       "11        Indonesian-caveart    easy     5.060921   26.269475         easy\n",
       "12               NFL-Players    hard    26.484324  238.683608         hard\n",
       "13         Nigeria-ebolafree    hard   275.770102    4.075660         hard\n",
       "14         Nobel-peacewinner    hard     2.128412    3.032768         hard\n",
       "15       Obama-Islamic-State    easy   144.085811   20.080652         hard\n",
       "16       Obama-Islamic-State    hard   618.759813    5.408758         hard\n",
       "17      Obama-girlsschooling    hard    56.370144   22.623348         hard\n",
       "18    Teddyroosevelt-library    hard   129.808088  160.766803         hard\n",
       "19           US-Constitution    hard   141.888806  177.163197         hard\n",
       "20           USCHINA-TOURISM    hard     8.076178    5.322301         hard\n",
       "21          Ukraine-invasion    hard   713.965106  151.027586         hard\n",
       "22   abercrombie-headscarves    hard     6.225087    4.619008         hard\n",
       "23         accordion-lessons    hard    11.627983    3.678628         hard\n",
       "24             afghan-grooms    easy     4.226416  157.133418         hard\n",
       "25             afghan-scouts    hard    79.537103  221.816088         hard\n",
       "26         afghan-taxidriver    hard     6.919685    5.968924         hard\n",
       "27              afghan-women    hard     4.250582   15.014282         hard\n",
       "28      afghanistan-ustroops    hard   179.478595   33.326459         hard\n",
       "29        africa-lionhunting    easy    72.978611   37.600802         easy\n",
       "..                       ...     ...          ...         ...          ...\n",
       "843         water-california    easy   979.923377   24.709707         hard\n",
       "844         water-california    hard   608.302697  349.961699         hard\n",
       "845            water-farming    hard   301.865059  262.632620         hard\n",
       "846        weapons-asteroids    hard   405.715675    3.317853         hard\n",
       "847        westcoast-warming    hard     8.013442    4.304460         hard\n",
       "848            whale-ancient    hard    27.867959   25.077838         hard\n",
       "849         whales-entangled    hard    50.953673  123.794280         hard\n",
       "850             whales-space    easy    62.965694    8.728574         hard\n",
       "851         wheelchair-rugby    hard   244.094315    3.570430         hard\n",
       "852          whitehouse-kids    easy    53.219870   15.942362         hard\n",
       "853    whiterhino-euthanized    easy   133.950783  195.191873         easy\n",
       "854   whoopingcrane-shooting    easy   179.185250   39.745993         hard\n",
       "855   whoopingcrane-shooting    hard   214.568525    2.908887         hard\n",
       "856         wildfire-animals    easy   148.301375   31.531763         hard\n",
       "857   winterolympics-beijing    hard    89.761204    2.938445         hard\n",
       "858                wolf-love    hard   661.639776   11.307009         hard\n",
       "859           wolves-yawning    hard    16.280382  671.920964         easy\n",
       "860            world-obesity    hard   516.025261   60.838920         hard\n",
       "861            worldcup-1950    hard    10.767276   61.876421         hard\n",
       "862           worldcup-start    hard   465.933918    5.834986         hard\n",
       "863              worm-health    hard   896.900371    3.474850         hard\n",
       "864             wwII-painter    easy     4.398836   38.098265         hard\n",
       "865             wwII-painter    hard     5.244816    3.733617         hard\n",
       "866          yazidi-nebraska    hard   298.963195    3.232447         hard\n",
       "867             yosemite-fox    easy    13.977944   14.868824         easy\n",
       "868          yurok-drugcourt    easy   420.340601  184.739119         hard\n",
       "869          yurok-drugcourt    hard  1203.090155   12.684938         hard\n",
       "870               zika-virus    hard   841.371844   15.996747         hard\n",
       "871         zipline-injuries    easy    42.747505  162.779991         easy\n",
       "872         zircon-discovery    easy    33.579494    5.072798         hard\n",
       "\n",
       "[873 rows x 5 columns]"
      ]
     },
     "execution_count": 7,
     "metadata": {},
     "output_type": "execute_result"
    }
   ],
   "source": [
    "best_guess_val"
   ]
  },
  {
   "cell_type": "code",
   "execution_count": 8,
   "metadata": {},
   "outputs": [],
   "source": [
    "(cm, binary_accuracy, binary_f1) = articleLM.compute_scores_binary(best_guess_val)"
   ]
  },
  {
   "cell_type": "code",
   "execution_count": 9,
   "metadata": {},
   "outputs": [
    {
     "data": {
      "text/plain": [
       "array([[180, 153],\n",
       "       [ 24, 516]])"
      ]
     },
     "execution_count": 9,
     "metadata": {},
     "output_type": "execute_result"
    }
   ],
   "source": [
    "cm"
   ]
  },
  {
   "cell_type": "code",
   "execution_count": 10,
   "metadata": {},
   "outputs": [
    {
     "data": {
      "text/plain": [
       "0.7972508591065293"
      ]
     },
     "execution_count": 10,
     "metadata": {},
     "output_type": "execute_result"
    }
   ],
   "source": [
    "binary_accuracy"
   ]
  },
  {
   "cell_type": "code",
   "execution_count": 11,
   "metadata": {},
   "outputs": [
    {
     "data": {
      "text/plain": [
       "0.6703910614525139"
      ]
     },
     "execution_count": 11,
     "metadata": {},
     "output_type": "execute_result"
    }
   ],
   "source": [
    "binary_f1"
   ]
  },
  {
   "cell_type": "code",
   "execution_count": null,
   "metadata": {},
   "outputs": [],
   "source": []
  }
 ],
 "metadata": {
  "kernelspec": {
   "display_name": "Python 3",
   "language": "python",
   "name": "python3"
  },
  "language_info": {
   "codemirror_mode": {
    "name": "ipython",
    "version": 3
   },
   "file_extension": ".py",
   "mimetype": "text/x-python",
   "name": "python",
   "nbconvert_exporter": "python",
   "pygments_lexer": "ipython3",
   "version": "3.7.3"
  }
 },
 "nbformat": 4,
 "nbformat_minor": 2
}
