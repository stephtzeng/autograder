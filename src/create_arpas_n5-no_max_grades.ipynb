{
 "cells": [
  {
   "cell_type": "code",
   "execution_count": 1,
   "metadata": {},
   "outputs": [],
   "source": [
    "from article_process import ArticleLM"
   ]
  },
  {
   "cell_type": "code",
   "execution_count": 2,
   "metadata": {},
   "outputs": [],
   "source": [
    "import matplotlib.pyplot as plt\n",
    "import seaborn as sns\n",
    "%matplotlib inline\n",
    "import numpy as np\n",
    "import pandas as pd"
   ]
  },
  {
   "cell_type": "code",
   "execution_count": 3,
   "metadata": {},
   "outputs": [],
   "source": [
    "path_to_data = '/Users/stephanie/data/newsela_article_corpus_2016-01-29'\n",
    "path_to_kenlm = '/Users/stephanie/github/kenlm'\n",
    "path_to_arpa = path_to_kenlm + '/lm'"
   ]
  },
  {
   "cell_type": "code",
   "execution_count": 4,
   "metadata": {},
   "outputs": [],
   "source": [
    "articleLM = ArticleLM(path_to_data, path_to_kenlm, path_to_arpa, 5, 'grade_level', False)"
   ]
  },
  {
   "cell_type": "code",
   "execution_count": 5,
   "metadata": {},
   "outputs": [
    {
     "data": {
      "text/plain": [
       "6916"
      ]
     },
     "execution_count": 5,
     "metadata": {},
     "output_type": "execute_result"
    }
   ],
   "source": [
    "len(articleLM.metadata_split[articleLM.metadata_split.train_val_test == 'train'])"
   ]
  },
  {
   "cell_type": "code",
   "execution_count": 6,
   "metadata": {},
   "outputs": [
    {
     "data": {
      "text/plain": [
       "867"
      ]
     },
     "execution_count": 6,
     "metadata": {},
     "output_type": "execute_result"
    }
   ],
   "source": [
    "len(articleLM.metadata_split[articleLM.metadata_split.train_val_test == 'val'])"
   ]
  },
  {
   "cell_type": "markdown",
   "metadata": {},
   "source": [
    "## Builds the processed sentences that I need for KenLM"
   ]
  },
  {
   "cell_type": "code",
   "execution_count": 7,
   "metadata": {},
   "outputs": [],
   "source": [
    "articleLM.build_data()"
   ]
  },
  {
   "cell_type": "code",
   "execution_count": null,
   "metadata": {},
   "outputs": [],
   "source": [
    "articleLM.train_all_arpas()"
   ]
  },
  {
   "cell_type": "markdown",
   "metadata": {},
   "source": [
    "## Printing out stats\n",
    "\n",
    "how many sentences there are in training set, indexed by grade level?"
   ]
  },
  {
   "cell_type": "code",
   "execution_count": 8,
   "metadata": {},
   "outputs": [
    {
     "name": "stdout",
     "output_type": "stream",
     "text": [
      "8 42711\n",
      "5 59271\n",
      "3 18510\n",
      "9 28725\n",
      "7 52386\n",
      "4 71524\n",
      "2 7742\n",
      "6 47525\n"
     ]
    }
   ],
   "source": [
    "for g in articleLM.level_sentences.get('train').keys():\n",
    "    print(g, len(articleLM.level_sentences.get('train').get(g)))"
   ]
  },
  {
   "cell_type": "code",
   "execution_count": 9,
   "metadata": {},
   "outputs": [
    {
     "name": "stdout",
     "output_type": "stream",
     "text": [
      "328394\n"
     ]
    }
   ],
   "source": [
    "# Number of sentences, train\n",
    "sentence_len = 0\n",
    "for g in articleLM.level_sentences.get('train').keys():\n",
    "    sentence_len+=len(articleLM.level_sentences.get('train').get(g))\n",
    "    \n",
    "print(sentence_len)"
   ]
  },
  {
   "cell_type": "code",
   "execution_count": 10,
   "metadata": {},
   "outputs": [
    {
     "name": "stdout",
     "output_type": "stream",
     "text": [
      "41694\n"
     ]
    }
   ],
   "source": [
    "# Number of sentences, validation\n",
    "sentence_len = 0\n",
    "for g in articleLM.level_sentences.get('val').keys():\n",
    "    sentence_len+=len(articleLM.level_sentences.get('val').get(g))\n",
    "print(sentence_len)"
   ]
  },
  {
   "cell_type": "markdown",
   "metadata": {},
   "source": [
    "how many articles there are in each set, indexed by grade level?"
   ]
  },
  {
   "cell_type": "code",
   "execution_count": 11,
   "metadata": {},
   "outputs": [
    {
     "data": {
      "text/plain": [
       "4     1386\n",
       "5     1165\n",
       "7     1091\n",
       "6      942\n",
       "8      918\n",
       "9      687\n",
       "3      501\n",
       "2      225\n",
       "12       1\n",
       "Name: grade_level, dtype: int64"
      ]
     },
     "execution_count": 11,
     "metadata": {},
     "output_type": "execute_result"
    }
   ],
   "source": [
    "articleLM.metadata_split[articleLM.metadata_split.train_val_test=='train'].grade_level.value_counts()"
   ]
  },
  {
   "cell_type": "code",
   "execution_count": 12,
   "metadata": {},
   "outputs": [
    {
     "data": {
      "text/plain": [
       "6916"
      ]
     },
     "execution_count": 12,
     "metadata": {},
     "output_type": "execute_result"
    }
   ],
   "source": [
    "articleLM.metadata_split[articleLM.metadata_split.train_val_test=='train'].grade_level.value_counts().sum()"
   ]
  },
  {
   "cell_type": "code",
   "execution_count": 13,
   "metadata": {},
   "outputs": [
    {
     "data": {
      "text/plain": [
       "4    164\n",
       "5    151\n",
       "7    150\n",
       "6    120\n",
       "8    115\n",
       "9     86\n",
       "3     55\n",
       "2     26\n",
       "Name: grade_level, dtype: int64"
      ]
     },
     "execution_count": 13,
     "metadata": {},
     "output_type": "execute_result"
    }
   ],
   "source": [
    "articleLM.metadata_split[articleLM.metadata_split.train_val_test=='val'].grade_level.value_counts()"
   ]
  },
  {
   "cell_type": "markdown",
   "metadata": {},
   "source": [
    "## Comparing perplexities to Classify Sentences"
   ]
  },
  {
   "cell_type": "code",
   "execution_count": 23,
   "metadata": {},
   "outputs": [
    {
     "name": "stdout",
     "output_type": "stream",
     "text": [
      "Grade Level 11 failed\n",
      "Grade Level 13 failed\n"
     ]
    }
   ],
   "source": [
    "# sentence_guesses = articleLM.compute_all_sentences_best_guess([2, 3, 4, 5, 6, 7, 8, 9])"
   ]
  },
  {
   "cell_type": "code",
   "execution_count": 14,
   "metadata": {},
   "outputs": [
    {
     "data": {
      "image/png": "[encoded data removed]",
      "text/plain": [
       "<Figure size 720x576 with 1 Axes>"
      ]
     },
     "metadata": {
      "needs_background": "light"
     },
     "output_type": "display_data"
    }
   ],
   "source": [
    "sentence_guesses = articleLM.plot_sentence_distribution([2, 3, 4, 5, 6, 7, 8, 9])"
   ]
  },
  {
   "cell_type": "code",
   "execution_count": 15,
   "metadata": {},
   "outputs": [],
   "source": [
    "from sklearn.metrics import confusion_matrix, accuracy_score\n",
    "\n",
    "cm = confusion_matrix(sentence_guesses.level, sentence_guesses.best_guess)"
   ]
  },
  {
   "cell_type": "code",
   "execution_count": 16,
   "metadata": {},
   "outputs": [
    {
     "data": {
      "text/plain": [
       "array([[ 138,  126,  508,  119,  148,   31,   25,    8],\n",
       "       [ 160,  173,  601,  682,  163,  177,  102,   59],\n",
       "       [ 383,  451,  624, 3095, 2077,  877,  708,  207],\n",
       "       [  94,  506, 2355,  255, 1615, 1860,  575,  382],\n",
       "       [ 121,  224, 1373, 1208,  135,  718, 1710,  477],\n",
       "       [  94,  166,  817, 1423,  863,  220, 1713, 2252],\n",
       "       [  73,  104,  703,  700, 1576, 1630,  203,  327],\n",
       "       [  47,   58,  265,  474,  415, 1845,  315,  161]])"
      ]
     },
     "execution_count": 16,
     "metadata": {},
     "output_type": "execute_result"
    }
   ],
   "source": [
    "cm"
   ]
  },
  {
   "cell_type": "code",
   "execution_count": 17,
   "metadata": {},
   "outputs": [
    {
     "data": {
      "text/plain": [
       "0.04578596440734878"
      ]
     },
     "execution_count": 17,
     "metadata": {},
     "output_type": "execute_result"
    }
   ],
   "source": [
    "accuracy_score(sentence_guesses.level, sentence_guesses.best_guess)"
   ]
  },
  {
   "cell_type": "code",
   "execution_count": 18,
   "metadata": {},
   "outputs": [
    {
     "data": {
      "text/plain": [
       "0.04578596440734878"
      ]
     },
     "execution_count": 18,
     "metadata": {},
     "output_type": "execute_result"
    }
   ],
   "source": [
    "len(sentence_guesses[sentence_guesses.level == sentence_guesses.best_guess]) / len(sentence_guesses)"
   ]
  },
  {
   "cell_type": "markdown",
   "metadata": {},
   "source": [
    "Sentence level accuracy is really poor!"
   ]
  },
  {
   "cell_type": "markdown",
   "metadata": {},
   "source": [
    "## Article level\n",
    "Instead of trying to predict _each sentence_, we will pick the best grade level by categorizing the entire article after classifying the sentences. In this instance, I'm using means to find the best classification."
   ]
  },
  {
   "cell_type": "code",
   "execution_count": 19,
   "metadata": {},
   "outputs": [
    {
     "name": "stdout",
     "output_type": "stream",
     "text": [
      "iteration 100, article ('USCHINA-TOURISM', 4)\n",
      "iteration 200, article ('ahmed-clockteacher', 7)\n",
      "iteration 300, article ('angrybirds-spying', 4)\n",
      "iteration 400, article ('artist-housing', 9)\n",
      "iteration 500, article ('bakery-autism', 7)\n",
      "iteration 600, article ('beijing-smokingban', 5)\n",
      "iteration 700, article ('bollywood-high', 5)\n",
      "iteration 800, article ('brianwilliams-suspend', 7)\n",
      "iteration 900, article ('camping-fires', 6)\n",
      "iteration 1000, article ('cheerleader-downssyndrome', 5)\n",
      "iteration 1100, article ('china-internet', 6)\n",
      "iteration 1200, article ('christie-surgery', 5)\n",
      "iteration 1300, article ('cocoa-labor', 9)\n",
      "iteration 1400, article ('condor-cameras', 3)\n",
      "iteration 1500, article ('cuba-terrorismlist', 4)\n",
      "iteration 1600, article ('diamond-heist', 5)\n",
      "iteration 1700, article ('doctor-shortage', 8)\n",
      "iteration 1800, article ('dye-library', 5)\n",
      "iteration 1900, article ('egypt-antiquities', 7)\n",
      "iteration 2000, article ('everest-sherpas', 5)\n",
      "iteration 2100, article ('ferguson-agency', 5)\n",
      "iteration 2200, article ('flood-gauges', 7)\n",
      "iteration 2300, article ('free-violin', 4)\n",
      "iteration 2400, article ('georgia-guns', 7)\n",
      "iteration 2500, article ('gop-debate', 9)\n",
      "iteration 2600, article ('headscarves-harassment', 4)\n",
      "iteration 2700, article ('homelessrising-losangeles', 5)\n",
      "iteration 2800, article ('immigration-senate', 7)\n",
      "iteration 2900, article ('iraq-ramadan', 5)\n",
      "iteration 3000, article ('johnnash-obit', 4)\n",
      "iteration 3100, article ('la-ecigaretteban', 4)\n",
      "iteration 3200, article ('lightsaber-class', 4)\n",
      "iteration 3300, article ('mammals-origin', 8)\n",
      "iteration 3400, article ('mcdonalds-sides', 7)\n",
      "iteration 3500, article ('migrants-refugees', 4)\n",
      "iteration 3600, article ('moocs-limits', 7)\n",
      "iteration 3700, article ('mustangs-northcarolina', 7)\n",
      "iteration 3800, article ('nba-stats', 5)\n",
      "iteration 3900, article ('northdakota-oilslump', 5)\n",
      "iteration 4000, article ('obama-mckinley', 7)\n",
      "iteration 4100, article ('olympic-bobsled', 5)\n",
      "iteration 4200, article ('parkour-training', 8)\n",
      "iteration 4300, article ('pitbull-problem', 6)\n",
      "iteration 4400, article ('potus-address', 5)\n",
      "iteration 4500, article ('publichousing-smokingban', 4)\n",
      "iteration 4600, article ('richardiii-debate', 4)\n",
      "iteration 4700, article ('samuelclemens-angelscamp', 8)\n",
      "iteration 4800, article ('schoollunch-chef', 3)\n",
      "iteration 4900, article ('senators-hometowns', 8)\n",
      "iteration 5000, article ('sinkhole-florida', 5)\n",
      "iteration 5100, article ('soccer-immigrants', 4)\n",
      "iteration 5200, article ('starfish-death', 9)\n",
      "iteration 5300, article ('sushi-gendergap', 8)\n",
      "iteration 5400, article ('tatar-history', 9)\n",
      "iteration 5500, article ('thanksgiving-hannukah', 8)\n",
      "iteration 5600, article ('tribe-marijuana', 5)\n",
      "iteration 5700, article ('underarmour-biz', 5)\n",
      "iteration 5800, article ('virginia-confederate', 7)\n",
      "iteration 5900, article ('waterless-communities', 6)\n",
      "iteration 6000, article ('woodrat-colony', 9)\n",
      "iteration 6100, article ('zimmerman-holder', 7)\n"
     ]
    }
   ],
   "source": [
    "article_train_df = articleLM.compute_article_to_sentence_guess('train')"
   ]
  },
  {
   "cell_type": "code",
   "execution_count": 20,
   "metadata": {},
   "outputs": [
    {
     "name": "stdout",
     "output_type": "stream",
     "text": [
      "iteration 100, article ('boyscouts-gayleaders', 4)\n",
      "iteration 200, article ('declining-fitness', 4)\n",
      "iteration 300, article ('gadgets-pollution', 8)\n",
      "iteration 400, article ('liberia-ebolafree', 7)\n",
      "iteration 500, article ('norway-sun', 4)\n",
      "iteration 600, article ('sabbath-debate', 5)\n",
      "iteration 700, article ('testtube-meat', 7)\n"
     ]
    }
   ],
   "source": [
    "article_val_df = articleLM.compute_article_to_sentence_guess('val')"
   ]
  },
  {
   "cell_type": "code",
   "execution_count": 21,
   "metadata": {},
   "outputs": [
    {
     "data": {
      "text/html": [
       "<div>\n",
       "<style scoped>\n",
       "    .dataframe tbody tr th:only-of-type {\n",
       "        vertical-align: middle;\n",
       "    }\n",
       "\n",
       "    .dataframe tbody tr th {\n",
       "        vertical-align: top;\n",
       "    }\n",
       "\n",
       "    .dataframe thead th {\n",
       "        text-align: right;\n",
       "    }\n",
       "</style>\n",
       "<table border=\"1\" class=\"dataframe\">\n",
       "  <thead>\n",
       "    <tr style=\"text-align: right;\">\n",
       "      <th></th>\n",
       "      <th>predicted_gl</th>\n",
       "      <th>true_gl</th>\n",
       "      <th>article</th>\n",
       "    </tr>\n",
       "  </thead>\n",
       "  <tbody>\n",
       "    <tr>\n",
       "      <th>0</th>\n",
       "      <td>8</td>\n",
       "      <td>8</td>\n",
       "      <td>10dollarbill-woman</td>\n",
       "    </tr>\n",
       "    <tr>\n",
       "      <th>1</th>\n",
       "      <td>8</td>\n",
       "      <td>8</td>\n",
       "      <td>10dollarbill-woman</td>\n",
       "    </tr>\n",
       "    <tr>\n",
       "      <th>2</th>\n",
       "      <td>8</td>\n",
       "      <td>8</td>\n",
       "      <td>10dollarbill-woman</td>\n",
       "    </tr>\n",
       "    <tr>\n",
       "      <th>3</th>\n",
       "      <td>8</td>\n",
       "      <td>8</td>\n",
       "      <td>10dollarbill-woman</td>\n",
       "    </tr>\n",
       "    <tr>\n",
       "      <th>4</th>\n",
       "      <td>8</td>\n",
       "      <td>8</td>\n",
       "      <td>10dollarbill-woman</td>\n",
       "    </tr>\n",
       "  </tbody>\n",
       "</table>\n",
       "</div>"
      ],
      "text/plain": [
       "   predicted_gl  true_gl             article\n",
       "0             8        8  10dollarbill-woman\n",
       "1             8        8  10dollarbill-woman\n",
       "2             8        8  10dollarbill-woman\n",
       "3             8        8  10dollarbill-woman\n",
       "4             8        8  10dollarbill-woman"
      ]
     },
     "execution_count": 21,
     "metadata": {},
     "output_type": "execute_result"
    }
   ],
   "source": [
    "article_train_df[['predicted_gl', 'true_gl', 'article']].head()"
   ]
  },
  {
   "cell_type": "markdown",
   "metadata": {},
   "source": [
    "## Linear Regression to pick best article"
   ]
  },
  {
   "cell_type": "code",
   "execution_count": 22,
   "metadata": {},
   "outputs": [],
   "source": [
    "from sklearn.linear_model import LinearRegression"
   ]
  },
  {
   "cell_type": "code",
   "execution_count": 23,
   "metadata": {},
   "outputs": [
    {
     "data": {
      "text/html": [
       "<div>\n",
       "<style scoped>\n",
       "    .dataframe tbody tr th:only-of-type {\n",
       "        vertical-align: middle;\n",
       "    }\n",
       "\n",
       "    .dataframe tbody tr th {\n",
       "        vertical-align: top;\n",
       "    }\n",
       "\n",
       "    .dataframe thead th {\n",
       "        text-align: right;\n",
       "    }\n",
       "</style>\n",
       "<table border=\"1\" class=\"dataframe\">\n",
       "  <thead>\n",
       "    <tr style=\"text-align: right;\">\n",
       "      <th></th>\n",
       "      <th>predicted_gl</th>\n",
       "      <th>2</th>\n",
       "      <th>3</th>\n",
       "      <th>4</th>\n",
       "      <th>5</th>\n",
       "      <th>6</th>\n",
       "      <th>7</th>\n",
       "      <th>8</th>\n",
       "      <th>9</th>\n",
       "    </tr>\n",
       "    <tr>\n",
       "      <th>true_gl</th>\n",
       "      <th>article</th>\n",
       "      <th></th>\n",
       "      <th></th>\n",
       "      <th></th>\n",
       "      <th></th>\n",
       "      <th></th>\n",
       "      <th></th>\n",
       "      <th></th>\n",
       "      <th></th>\n",
       "    </tr>\n",
       "  </thead>\n",
       "  <tbody>\n",
       "    <tr>\n",
       "      <th rowspan=\"5\" valign=\"top\">2</th>\n",
       "      <th>17century-selfies</th>\n",
       "      <td>7654</td>\n",
       "      <td>18</td>\n",
       "      <td>51</td>\n",
       "      <td>7</td>\n",
       "      <td>10</td>\n",
       "      <td>2</td>\n",
       "      <td>0</td>\n",
       "      <td>0</td>\n",
       "    </tr>\n",
       "    <tr>\n",
       "      <th>Hospital-bootcamp</th>\n",
       "      <td>41</td>\n",
       "      <td>0</td>\n",
       "      <td>1</td>\n",
       "      <td>1</td>\n",
       "      <td>0</td>\n",
       "      <td>0</td>\n",
       "      <td>0</td>\n",
       "      <td>0</td>\n",
       "    </tr>\n",
       "    <tr>\n",
       "      <th>Iditarod-finish</th>\n",
       "      <td>60</td>\n",
       "      <td>0</td>\n",
       "      <td>0</td>\n",
       "      <td>0</td>\n",
       "      <td>0</td>\n",
       "      <td>0</td>\n",
       "      <td>0</td>\n",
       "      <td>0</td>\n",
       "    </tr>\n",
       "    <tr>\n",
       "      <th>adidas-mascots</th>\n",
       "      <td>44</td>\n",
       "      <td>0</td>\n",
       "      <td>1</td>\n",
       "      <td>0</td>\n",
       "      <td>0</td>\n",
       "      <td>0</td>\n",
       "      <td>0</td>\n",
       "      <td>0</td>\n",
       "    </tr>\n",
       "    <tr>\n",
       "      <th>africa-outlook</th>\n",
       "      <td>45</td>\n",
       "      <td>0</td>\n",
       "      <td>0</td>\n",
       "      <td>0</td>\n",
       "      <td>0</td>\n",
       "      <td>0</td>\n",
       "      <td>0</td>\n",
       "      <td>0</td>\n",
       "    </tr>\n",
       "  </tbody>\n",
       "</table>\n",
       "</div>"
      ],
      "text/plain": [
       "predicted_gl                  2   3   4  5   6  7  8  9\n",
       "true_gl article                                        \n",
       "2       17century-selfies  7654  18  51  7  10  2  0  0\n",
       "        Hospital-bootcamp    41   0   1  1   0  0  0  0\n",
       "        Iditarod-finish      60   0   0  0   0  0  0  0\n",
       "        adidas-mascots       44   0   1  0   0  0  0  0\n",
       "        africa-outlook       45   0   0  0   0  0  0  0"
      ]
     },
     "execution_count": 23,
     "metadata": {},
     "output_type": "execute_result"
    }
   ],
   "source": [
    "article_train_df[['true_gl', 'article', 'predicted_gl']].pivot_table(columns='predicted_gl',\n",
    "                                                                     index=['true_gl', 'article'],\n",
    "                                                                     aggfunc=lambda x:  len(x),\n",
    "                                                                    fill_value=0).head()"
   ]
  },
  {
   "cell_type": "code",
   "execution_count": 24,
   "metadata": {},
   "outputs": [],
   "source": [
    "article_pred_gl_count = \\\n",
    "    np.array(article_train_df[['true_gl', 'article', 'predicted_gl']].pivot_table(columns='predicted_gl',\n",
    "                                                                     index=['true_gl', 'article'],\n",
    "                                                                     aggfunc=lambda x:  len(x),\n",
    "                                                                    fill_value=0))"
   ]
  },
  {
   "cell_type": "code",
   "execution_count": 25,
   "metadata": {},
   "outputs": [],
   "source": [
    "y = np.array(article_train_df[['true_gl', 'article', 'predicted_gl']].pivot_table(columns='predicted_gl',\n",
    "                                                                     index=['true_gl', 'article'],\n",
    "                                                                     aggfunc=lambda x:  len(x),\n",
    "                                                                    fill_value=0).reset_index().true_gl)"
   ]
  },
  {
   "cell_type": "code",
   "execution_count": 26,
   "metadata": {},
   "outputs": [],
   "source": [
    "X = np.divide(article_pred_gl_count,article_pred_gl_count.sum(axis=1).reshape(len(article_pred_gl_count),1))"
   ]
  },
  {
   "cell_type": "code",
   "execution_count": 27,
   "metadata": {},
   "outputs": [
    {
     "data": {
      "text/plain": [
       "LinearRegression(copy_X=True, fit_intercept=True, n_jobs=None,\n",
       "         normalize=False)"
      ]
     },
     "execution_count": 27,
     "metadata": {},
     "output_type": "execute_result"
    }
   ],
   "source": [
    "clf = LinearRegression()\n",
    "clf.fit(X, y)"
   ]
  },
  {
   "cell_type": "code",
   "execution_count": 28,
   "metadata": {},
   "outputs": [],
   "source": [
    "article_val_pred_gl_count = \\\n",
    "    np.array(article_val_df[['true_gl', 'article', 'predicted_gl']].pivot_table(columns='predicted_gl',\n",
    "                                                                     index=['true_gl', 'article'],\n",
    "                                                                     aggfunc=lambda x:  len(x),\n",
    "                                                                    fill_value=0))"
   ]
  },
  {
   "cell_type": "code",
   "execution_count": 29,
   "metadata": {},
   "outputs": [],
   "source": [
    "X_val = np.divide(article_val_pred_gl_count,\n",
    "                  article_val_pred_gl_count.sum(axis=1).reshape(len(article_val_pred_gl_count),\n",
    "                                                                1))"
   ]
  },
  {
   "cell_type": "code",
   "execution_count": 30,
   "metadata": {},
   "outputs": [],
   "source": [
    "val_df = article_val_df[['true_gl', 'article', 'predicted_gl']].pivot_table(columns='predicted_gl',\n",
    "                                                                     index=['true_gl', 'article'],\n",
    "                                                                     aggfunc=lambda x:  len(x),\n",
    "                                                                    fill_value=0).reset_index()[['true_gl', 'article']]\n",
    "\n",
    "val_df.loc[:,'predicted_gl'] = list(clf.predict(X_val))"
   ]
  },
  {
   "cell_type": "code",
   "execution_count": 31,
   "metadata": {},
   "outputs": [],
   "source": [
    "val_df.loc[:,'predicted_gl'] = val_df.predicted_gl.astype('int')"
   ]
  },
  {
   "cell_type": "markdown",
   "metadata": {},
   "source": [
    "### Accuracy for linear regression outputs"
   ]
  },
  {
   "cell_type": "code",
   "execution_count": 32,
   "metadata": {},
   "outputs": [],
   "source": [
    "from sklearn.metrics import confusion_matrix, f1_score, accuracy_score"
   ]
  },
  {
   "cell_type": "code",
   "execution_count": 33,
   "metadata": {},
   "outputs": [],
   "source": [
    "cm = confusion_matrix(val_df.true_gl, val_df.predicted_gl)"
   ]
  },
  {
   "cell_type": "code",
   "execution_count": 34,
   "metadata": {},
   "outputs": [
    {
     "data": {
      "text/plain": [
       "array([[  0,   3,  21,   0,   0,   0,   0,   0],\n",
       "       [  0,   2,  27,  15,   1,   2,   0,   0],\n",
       "       [  0,   1,  12, 100,  32,   6,   0,   0],\n",
       "       [  0,   0,  15,  66,  48,   5,   1,   0],\n",
       "       [  0,   0,  11,  21,  50,  20,   5,   0],\n",
       "       [  0,   0,   3,  22,  25,  47,  42,   1],\n",
       "       [  0,   0,   2,  41,  46,   8,   5,   0],\n",
       "       [  0,   0,   1,   9,  39,  24,   2,   0]])"
      ]
     },
     "execution_count": 34,
     "metadata": {},
     "output_type": "execute_result"
    }
   ],
   "source": [
    "cm"
   ]
  },
  {
   "cell_type": "code",
   "execution_count": 35,
   "metadata": {},
   "outputs": [],
   "source": [
    "val_df.loc[:,'within_1_grade'] = list(map(lambda x,y: 1\n",
    "                                         if (y >= x-1 and y <= x+1)\n",
    "                                         else 0 , val_df.true_gl, val_df.predicted_gl))"
   ]
  },
  {
   "cell_type": "markdown",
   "metadata": {},
   "source": [
    "#### Accuracy:"
   ]
  },
  {
   "cell_type": "code",
   "execution_count": 36,
   "metadata": {},
   "outputs": [
    {
     "data": {
      "text/plain": [
       "63.25224071702945"
      ]
     },
     "execution_count": 36,
     "metadata": {},
     "output_type": "execute_result"
    }
   ],
   "source": [
    "len(val_df[val_df.within_1_grade == 1]) * 100. / len(val_df)"
   ]
  },
  {
   "cell_type": "markdown",
   "metadata": {},
   "source": [
    "### Scores for binary classification using linear regression"
   ]
  },
  {
   "cell_type": "code",
   "execution_count": 37,
   "metadata": {},
   "outputs": [],
   "source": [
    "val_df.loc[:,'true_easy'] = [1 if x <= 5 else 0 for x in val_df.true_gl]\n",
    "val_df.loc[:,'predicted_easy'] = [1 if x <= 5 else 0 for x in val_df.predicted_gl]"
   ]
  },
  {
   "cell_type": "code",
   "execution_count": 38,
   "metadata": {},
   "outputs": [
    {
     "data": {
      "text/plain": [
       "0.737516005121639"
      ]
     },
     "execution_count": 38,
     "metadata": {},
     "output_type": "execute_result"
    }
   ],
   "source": [
    "accuracy_score(val_df.true_easy, val_df.predicted_easy)"
   ]
  },
  {
   "cell_type": "markdown",
   "metadata": {},
   "source": [
    "## Scores for using means, validation set"
   ]
  },
  {
   "cell_type": "code",
   "execution_count": 39,
   "metadata": {},
   "outputs": [
    {
     "name": "stdout",
     "output_type": "stream",
     "text": [
      "iteration 100, article ('boyscouts-gayleaders', 4)\n",
      "iteration 200, article ('declining-fitness', 4)\n",
      "iteration 300, article ('gadgets-pollution', 8)\n",
      "iteration 400, article ('liberia-ebolafree', 7)\n",
      "iteration 500, article ('norway-sun', 4)\n",
      "iteration 600, article ('sabbath-debate', 5)\n",
      "iteration 700, article ('testtube-meat', 7)\n"
     ]
    }
   ],
   "source": [
    "article_val_df, means_val = articleLM.compute_article_best_guess('val')"
   ]
  },
  {
   "cell_type": "code",
   "execution_count": 64,
   "metadata": {},
   "outputs": [
    {
     "name": "stdout",
     "output_type": "stream",
     "text": [
      "iteration 100, article ('USCHINA-TOURISM', 4)\n",
      "iteration 200, article ('ahmed-clockteacher', 7)\n",
      "iteration 300, article ('angrybirds-spying', 4)\n",
      "iteration 400, article ('artist-housing', 9)\n",
      "iteration 500, article ('bakery-autism', 7)\n",
      "iteration 600, article ('beijing-smokingban', 5)\n",
      "iteration 700, article ('bollywood-high', 5)\n",
      "iteration 800, article ('brianwilliams-suspend', 7)\n",
      "iteration 900, article ('camping-fires', 6)\n",
      "iteration 1000, article ('cheerleader-downssyndrome', 5)\n",
      "iteration 1100, article ('china-internet', 6)\n",
      "iteration 1200, article ('christie-surgery', 5)\n",
      "iteration 1300, article ('cocoa-labor', 9)\n",
      "iteration 1400, article ('condor-cameras', 3)\n",
      "iteration 1500, article ('cuba-terrorismlist', 4)\n",
      "iteration 1600, article ('diamond-heist', 5)\n",
      "iteration 1700, article ('doctor-shortage', 8)\n",
      "iteration 1800, article ('dye-library', 5)\n",
      "iteration 1900, article ('egypt-antiquities', 7)\n",
      "iteration 2000, article ('everest-sherpas', 5)\n",
      "iteration 2100, article ('ferguson-agency', 5)\n",
      "iteration 2200, article ('flood-gauges', 7)\n",
      "iteration 2300, article ('free-violin', 4)\n",
      "iteration 2400, article ('georgia-guns', 7)\n",
      "iteration 2500, article ('gop-debate', 9)\n",
      "iteration 2600, article ('headscarves-harassment', 4)\n",
      "iteration 2700, article ('homelessrising-losangeles', 5)\n",
      "iteration 2800, article ('immigration-senate', 7)\n",
      "iteration 2900, article ('iraq-ramadan', 5)\n",
      "iteration 3000, article ('johnnash-obit', 4)\n",
      "iteration 3100, article ('la-ecigaretteban', 4)\n",
      "iteration 3200, article ('lightsaber-class', 4)\n",
      "iteration 3300, article ('mammals-origin', 8)\n",
      "iteration 3400, article ('mcdonalds-sides', 7)\n",
      "iteration 3500, article ('migrants-refugees', 4)\n",
      "iteration 3600, article ('moocs-limits', 7)\n",
      "iteration 3700, article ('mustangs-northcarolina', 7)\n",
      "iteration 3800, article ('nba-stats', 5)\n",
      "iteration 3900, article ('northdakota-oilslump', 5)\n",
      "iteration 4000, article ('obama-mckinley', 7)\n",
      "iteration 4100, article ('olympic-bobsled', 5)\n",
      "iteration 4200, article ('parkour-training', 8)\n",
      "iteration 4300, article ('pitbull-problem', 6)\n",
      "iteration 4400, article ('potus-address', 5)\n",
      "iteration 4500, article ('publichousing-smokingban', 4)\n",
      "iteration 4600, article ('richardiii-debate', 4)\n",
      "iteration 4700, article ('samuelclemens-angelscamp', 8)\n",
      "iteration 4800, article ('schoollunch-chef', 3)\n",
      "iteration 4900, article ('senators-hometowns', 8)\n",
      "iteration 5000, article ('sinkhole-florida', 5)\n",
      "iteration 5100, article ('soccer-immigrants', 4)\n",
      "iteration 5200, article ('starfish-death', 9)\n",
      "iteration 5300, article ('sushi-gendergap', 8)\n",
      "iteration 5400, article ('tatar-history', 9)\n",
      "iteration 5500, article ('thanksgiving-hannukah', 8)\n",
      "iteration 5600, article ('tribe-marijuana', 5)\n",
      "iteration 5700, article ('underarmour-biz', 5)\n",
      "iteration 5800, article ('virginia-confederate', 7)\n",
      "iteration 5900, article ('waterless-communities', 6)\n",
      "iteration 6000, article ('woodrat-colony', 9)\n",
      "iteration 6100, article ('zimmerman-holder', 7)\n"
     ]
    }
   ],
   "source": [
    "article_train_df, means_train = articleLM.compute_article_best_guess('train')"
   ]
  },
  {
   "cell_type": "code",
   "execution_count": 65,
   "metadata": {},
   "outputs": [
    {
     "data": {
      "image/png": "[encoded data removed]",
      "text/plain": [
       "<Figure size 720x576 with 1 Axes>"
      ]
     },
     "metadata": {
      "needs_background": "light"
     },
     "output_type": "display_data"
    }
   ],
   "source": [
    "articleLM.plot_article_best_grade_levels(means_train)"
   ]
  },
  {
   "cell_type": "code",
   "execution_count": 41,
   "metadata": {},
   "outputs": [
    {
     "data": {
      "image/png": "[encoded data removed]",
      "text/plain": [
       "<Figure size 720x576 with 1 Axes>"
      ]
     },
     "metadata": {
      "needs_background": "light"
     },
     "output_type": "display_data"
    }
   ],
   "source": [
    "articleLM.plot_article_best_grade_levels(means_val)"
   ]
  },
  {
   "cell_type": "code",
   "execution_count": 42,
   "metadata": {},
   "outputs": [
    {
     "data": {
      "text/html": [
       "<div>\n",
       "<style scoped>\n",
       "    .dataframe tbody tr th:only-of-type {\n",
       "        vertical-align: middle;\n",
       "    }\n",
       "\n",
       "    .dataframe tbody tr th {\n",
       "        vertical-align: top;\n",
       "    }\n",
       "\n",
       "    .dataframe thead th {\n",
       "        text-align: right;\n",
       "    }\n",
       "</style>\n",
       "<table border=\"1\" class=\"dataframe\">\n",
       "  <thead>\n",
       "    <tr style=\"text-align: right;\">\n",
       "      <th></th>\n",
       "      <th>article</th>\n",
       "      <th>true_gl</th>\n",
       "      <th>predicted_gl</th>\n",
       "    </tr>\n",
       "  </thead>\n",
       "  <tbody>\n",
       "    <tr>\n",
       "      <th>0</th>\n",
       "      <td>10dollarbill-woman</td>\n",
       "      <td>6</td>\n",
       "      <td>6.076936</td>\n",
       "    </tr>\n",
       "    <tr>\n",
       "      <th>1</th>\n",
       "      <td>20dollarbill-female</td>\n",
       "      <td>6</td>\n",
       "      <td>6.404762</td>\n",
       "    </tr>\n",
       "    <tr>\n",
       "      <th>2</th>\n",
       "      <td>3d-indoormap</td>\n",
       "      <td>6</td>\n",
       "      <td>6.555556</td>\n",
       "    </tr>\n",
       "    <tr>\n",
       "      <th>3</th>\n",
       "      <td>Braille-startup</td>\n",
       "      <td>6</td>\n",
       "      <td>4.540984</td>\n",
       "    </tr>\n",
       "    <tr>\n",
       "      <th>4</th>\n",
       "      <td>Braille-startup</td>\n",
       "      <td>8</td>\n",
       "      <td>6.057750</td>\n",
       "    </tr>\n",
       "  </tbody>\n",
       "</table>\n",
       "</div>"
      ],
      "text/plain": [
       "               article  true_gl  predicted_gl\n",
       "0   10dollarbill-woman        6      6.076936\n",
       "1  20dollarbill-female        6      6.404762\n",
       "2         3d-indoormap        6      6.555556\n",
       "3      Braille-startup        6      4.540984\n",
       "4      Braille-startup        8      6.057750"
      ]
     },
     "execution_count": 42,
     "metadata": {},
     "output_type": "execute_result"
    }
   ],
   "source": [
    "means_val.head()"
   ]
  },
  {
   "cell_type": "code",
   "execution_count": 44,
   "metadata": {},
   "outputs": [],
   "source": [
    "(grade_level_cm, raw_accuracy, banded_accuracy,\n",
    " binary_cm, binary_accuracy, binary_f1) = articleLM.compute_scores_grade_level(means_val)"
   ]
  },
  {
   "cell_type": "code",
   "execution_count": 45,
   "metadata": {},
   "outputs": [
    {
     "data": {
      "text/plain": [
       "array([[ 0,  4, 20,  0,  0,  0,  0,  0],\n",
       "       [ 0,  3, 31, 11,  2,  0,  0,  0],\n",
       "       [ 0,  1, 25, 98, 26,  1,  0,  0],\n",
       "       [ 0,  0, 21, 73, 37,  4,  0,  0],\n",
       "       [ 0,  0, 17, 24, 51, 13,  2,  0],\n",
       "       [ 0,  0,  3, 27, 40, 52, 18,  0],\n",
       "       [ 0,  0,  6, 47, 44,  1,  4,  0],\n",
       "       [ 0,  0,  1, 13, 55,  6,  0,  0]])"
      ]
     },
     "execution_count": 45,
     "metadata": {},
     "output_type": "execute_result"
    }
   ],
   "source": [
    "grade_level_cm"
   ]
  },
  {
   "cell_type": "code",
   "execution_count": 46,
   "metadata": {},
   "outputs": [
    {
     "data": {
      "text/plain": [
       "0.26632522407170295"
      ]
     },
     "execution_count": 46,
     "metadata": {},
     "output_type": "execute_result"
    }
   ],
   "source": [
    "raw_accuracy"
   ]
  },
  {
   "cell_type": "code",
   "execution_count": 47,
   "metadata": {},
   "outputs": [
    {
     "data": {
      "text/plain": [
       "0.6350832266325224"
      ]
     },
     "execution_count": 47,
     "metadata": {},
     "output_type": "execute_result"
    }
   ],
   "source": [
    "banded_accuracy"
   ]
  },
  {
   "cell_type": "code",
   "execution_count": 48,
   "metadata": {},
   "outputs": [
    {
     "data": {
      "text/plain": [
       "array([[286, 138],\n",
       "       [ 70, 287]])"
      ]
     },
     "execution_count": 48,
     "metadata": {},
     "output_type": "execute_result"
    }
   ],
   "source": [
    "binary_cm"
   ]
  },
  {
   "cell_type": "code",
   "execution_count": 49,
   "metadata": {},
   "outputs": [
    {
     "data": {
      "text/plain": [
       "0.7336747759282971"
      ]
     },
     "execution_count": 49,
     "metadata": {},
     "output_type": "execute_result"
    }
   ],
   "source": [
    "binary_accuracy"
   ]
  },
  {
   "cell_type": "code",
   "execution_count": 50,
   "metadata": {},
   "outputs": [
    {
     "data": {
      "text/plain": [
       "0.7333333333333332"
      ]
     },
     "execution_count": 50,
     "metadata": {},
     "output_type": "execute_result"
    }
   ],
   "source": [
    "binary_f1"
   ]
  },
  {
   "cell_type": "markdown",
   "metadata": {},
   "source": [
    "## Scores for using means, test set"
   ]
  },
  {
   "cell_type": "code",
   "execution_count": 51,
   "metadata": {},
   "outputs": [
    {
     "name": "stdout",
     "output_type": "stream",
     "text": [
      "iteration 100, article ('book-bike', 5)\n",
      "iteration 200, article ('disney-shanghai', 4)\n",
      "iteration 300, article ('healthcare-callcenter', 6)\n",
      "iteration 400, article ('mexico-tv', 6)\n",
      "iteration 500, article ('piano-upswing', 5)\n",
      "iteration 600, article ('sleepy-schooltimes', 5)\n",
      "iteration 700, article ('voting-lawsuit', 4)\n"
     ]
    },
    {
     "data": {
      "image/png": "[encoded data removed]",
      "text/plain": [
       "<Figure size 720x576 with 1 Axes>"
      ]
     },
     "metadata": {
      "needs_background": "light"
     },
     "output_type": "display_data"
    }
   ],
   "source": [
    "article_test_df, means_test = articleLM.compute_article_best_guess('test')\n",
    "articleLM.plot_article_best_grade_levels(means_test)"
   ]
  },
  {
   "cell_type": "code",
   "execution_count": 52,
   "metadata": {},
   "outputs": [],
   "source": [
    "(grade_level_cm, raw_accuracy, banded_accuracy,\n",
    " binary_cm, binary_accuracy, binary_f1) = articleLM.compute_scores_grade_level(means_test)"
   ]
  },
  {
   "cell_type": "code",
   "execution_count": 53,
   "metadata": {},
   "outputs": [
    {
     "data": {
      "text/plain": [
       "array([[ 0,  7, 17,  1,  0,  0,  0,  0],\n",
       "       [ 0,  3, 25, 15,  2,  0,  0,  0],\n",
       "       [ 0,  3, 18, 92, 27,  2,  0,  0],\n",
       "       [ 0,  0, 26, 90, 31, 10,  0,  0],\n",
       "       [ 0,  0, 10, 20, 52, 13,  3,  0],\n",
       "       [ 0,  0,  9, 17, 24, 43, 14,  0],\n",
       "       [ 0,  0,  4, 59, 38,  1,  0,  0],\n",
       "       [ 0,  0,  2,  7, 45,  7,  0,  0]])"
      ]
     },
     "execution_count": 53,
     "metadata": {},
     "output_type": "execute_result"
    }
   ],
   "source": [
    "grade_level_cm"
   ]
  },
  {
   "cell_type": "code",
   "execution_count": 54,
   "metadata": {},
   "outputs": [
    {
     "data": {
      "text/plain": [
       "0.27951153324287653"
      ]
     },
     "execution_count": 54,
     "metadata": {},
     "output_type": "execute_result"
    }
   ],
   "source": [
    "raw_accuracy"
   ]
  },
  {
   "cell_type": "code",
   "execution_count": 55,
   "metadata": {},
   "outputs": [
    {
     "data": {
      "text/plain": [
       "0.6268656716417911"
      ]
     },
     "execution_count": 55,
     "metadata": {},
     "output_type": "execute_result"
    }
   ],
   "source": [
    "banded_accuracy"
   ]
  },
  {
   "cell_type": "code",
   "execution_count": 56,
   "metadata": {},
   "outputs": [
    {
     "data": {
      "text/plain": [
       "array([[240, 128],\n",
       "       [ 72, 297]])"
      ]
     },
     "execution_count": 56,
     "metadata": {},
     "output_type": "execute_result"
    }
   ],
   "source": [
    "binary_cm"
   ]
  },
  {
   "cell_type": "code",
   "execution_count": 57,
   "metadata": {},
   "outputs": [
    {
     "data": {
      "text/plain": [
       "0.728629579375848"
      ]
     },
     "execution_count": 57,
     "metadata": {},
     "output_type": "execute_result"
    }
   ],
   "source": [
    "binary_accuracy"
   ]
  },
  {
   "cell_type": "code",
   "execution_count": 58,
   "metadata": {},
   "outputs": [
    {
     "data": {
      "text/plain": [
       "0.7058823529411764"
      ]
     },
     "execution_count": 58,
     "metadata": {},
     "output_type": "execute_result"
    }
   ],
   "source": [
    "binary_f1"
   ]
  },
  {
   "cell_type": "markdown",
   "metadata": {},
   "source": [
    "### Just for fun, check linear regression score too."
   ]
  },
  {
   "cell_type": "code",
   "execution_count": 59,
   "metadata": {},
   "outputs": [],
   "source": [
    "article_test_pred_gl_count = \\\n",
    "    np.array(article_test_df[['true_gl', 'article', 'predicted_gl']].pivot_table(columns='predicted_gl',\n",
    "                                                                     index=['true_gl', 'article'],\n",
    "                                                                     aggfunc=lambda x:  len(x),\n",
    "                                                                    fill_value=0))\n",
    "\n",
    "X_test = np.divide(article_test_pred_gl_count,\n",
    "                  article_test_pred_gl_count.sum(axis=1).reshape(len(article_test_pred_gl_count),\n",
    "                                                                1))\n",
    "\n",
    "test_df = article_test_df[['true_gl', 'article', 'predicted_gl']].pivot_table(columns='predicted_gl',\n",
    "                                                                     index=['true_gl', 'article'],\n",
    "                                                                     aggfunc=lambda x:  len(x),\n",
    "                                                                    fill_value=0).reset_index()[['true_gl', 'article']]\n",
    "\n",
    "test_df.loc[:,'predicted_gl'] = list(clf.predict(X_test))\n",
    "test_df.loc[:,'predicted_gl'] = test_df.predicted_gl.astype('int')"
   ]
  },
  {
   "cell_type": "markdown",
   "metadata": {},
   "source": [
    "#### accuracy for regression outputs"
   ]
  },
  {
   "cell_type": "code",
   "execution_count": 60,
   "metadata": {},
   "outputs": [],
   "source": [
    "test_df.loc[:,'within_1_grade'] = list(map(lambda x,y: 1\n",
    "                                         if (y >= x-1 and y <= x+1)\n",
    "                                         else 0 , test_df.true_gl, test_df.predicted_gl))"
   ]
  },
  {
   "cell_type": "code",
   "execution_count": 61,
   "metadata": {},
   "outputs": [
    {
     "data": {
      "text/plain": [
       "0.7421981004070556"
      ]
     },
     "execution_count": 61,
     "metadata": {},
     "output_type": "execute_result"
    }
   ],
   "source": [
    "len(test_df[test_df.within_1_grade == 1]) * 100. / len(test_df)\n",
    "\n",
    "test_df.loc[:,'true_easy'] = [1 if x <= 5 else 0 for x in test_df.true_gl]\n",
    "test_df.loc[:,'predicted_easy'] = [1 if x <= 5 else 0 for x in test_df.predicted_gl]\n",
    "\n",
    "accuracy_score(test_df.true_easy, test_df.predicted_easy)"
   ]
  },
  {
   "cell_type": "markdown",
   "metadata": {},
   "source": [
    "It's still not as good! Sticking with the means."
   ]
  },
  {
   "cell_type": "code",
   "execution_count": null,
   "metadata": {},
   "outputs": [],
   "source": []
  }
 ],
 "metadata": {
  "kernelspec": {
   "display_name": "Python 3",
   "language": "python",
   "name": "python3"
  },
  "language_info": {
   "codemirror_mode": {
    "name": "ipython",
    "version": 3
   },
   "file_extension": ".py",
   "mimetype": "text/x-python",
   "name": "python",
   "nbconvert_exporter": "python",
   "pygments_lexer": "ipython3",
   "version": "3.7.3"
  }
 },
 "nbformat": 4,
 "nbformat_minor": 2
}
