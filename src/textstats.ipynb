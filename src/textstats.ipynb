{
 "cells": [
  {
   "cell_type": "code",
   "execution_count": null,
   "metadata": {},
   "outputs": [],
   "source": [
    ">>> import textstat\n",
    "\n",
    ">>> test_data = (\n",
    "    \"Playing games has always been thought to be important to \"\n",
    "    \"the development of well-balanced and creative children; \"\n",
    "    \"however, what part, if any, they should play in the lives \"\n",
    "    \"of adults has never been researched that deeply. I believe \"\n",
    "    \"that playing games is every bit as important for adults \"\n",
    "    \"as for children. Not only is taking time out to play games \"\n",
    "    \"with our children and other adults valuable to building \"\n",
    "    \"interpersonal relationships but is also a wonderful way \"\n",
    "    \"to release built up tension.\"\n",
    ")\n",
    "\n",
    ">>> textstat.flesch_reading_ease(test_data)\n",
    ">>> textstat.smog_index(test_data)\n",
    ">>> textstat.flesch_kincaid_grade(test_data)\n",
    ">>> textstat.coleman_liau_index(test_data)\n",
    ">>> textstat.automated_readability_index(test_data)\n",
    ">>> textstat.dale_chall_readability_score(test_data)\n",
    ">>> textstat.difficult_words(test_data)\n",
    ">>> textstat.linsear_write_formula(test_data)\n",
    ">>> textstat.gunning_fog(test_data)\n",
    ">>> textstat.text_standard(test_data)"
   ]
  },
  {
   "cell_type": "code",
   "execution_count": 1,
   "metadata": {},
   "outputs": [],
   "source": [
    "test_data = (\n",
    "    \"Playing games has always been thought to be important to \"\n",
    "    \"the development of well-balanced and creative children; \"\n",
    "    \"however, what part, if any, they should play in the lives \"\n",
    "    \"of adults has never been researched that deeply. I believe \"\n",
    "    \"that playing games is every bit as important for adults \"\n",
    "    \"as for children. Not only is taking time out to play games \"\n",
    "    \"with our children and other adults valuable to building \"\n",
    "    \"interpersonal relationships but is also a wonderful way \"\n",
    "    \"to release built up tension.\"\n",
    ")"
   ]
  },
  {
   "cell_type": "code",
   "execution_count": 21,
   "metadata": {},
   "outputs": [
    {
     "data": {
      "text/plain": [
       "52.23"
      ]
     },
     "execution_count": 21,
     "metadata": {},
     "output_type": "execute_result"
    }
   ],
   "source": [
    "textstat.flesch_reading_ease(test_data)"
   ]
  },
  {
   "cell_type": "code",
   "execution_count": 1,
   "metadata": {},
   "outputs": [],
   "source": [
    "import textstat"
   ]
  },
  {
   "cell_type": "code",
   "execution_count": 2,
   "metadata": {},
   "outputs": [],
   "source": [
    "from article_process_new import ArticleLM"
   ]
  },
  {
   "cell_type": "code",
   "execution_count": 3,
   "metadata": {},
   "outputs": [],
   "source": [
    "# path_to_data = '/Users/stephanie/data/newsela_articles_corpus_2019-03-25_SMALL'\n",
    "path_to_data = '/Users/stephanie/data/newsela_articles_corpus_2019-03-25'\n",
    "path_to_kenlm = '/Users/stephanie/github/kenlm'\n",
    "path_to_arpa = path_to_kenlm + '/lm'"
   ]
  },
  {
   "cell_type": "code",
   "execution_count": 5,
   "metadata": {},
   "outputs": [],
   "source": [
    "articleLM = ArticleLM(path_to_data, path_to_kenlm, path_to_arpa, 5, 'grade_level')"
   ]
  },
  {
   "cell_type": "code",
   "execution_count": 6,
   "metadata": {},
   "outputs": [],
   "source": [
    "# articleLM.metadata_split[articleLM.metadata_split.train_val_test=='val'].file_path"
   ]
  },
  {
   "cell_type": "code",
   "execution_count": 7,
   "metadata": {},
   "outputs": [],
   "source": [
    "# filename = articleLM.metadata_split[articleLM.metadata_split.train_val_test=='val'].loc[9,'file_path']"
   ]
  },
  {
   "cell_type": "code",
   "execution_count": 8,
   "metadata": {},
   "outputs": [
    {
     "ename": "NameError",
     "evalue": "name 'filename' is not defined",
     "output_type": "error",
     "traceback": [
      "\u001b[0;31m---------------------------------------------------------------------------\u001b[0m",
      "\u001b[0;31mNameError\u001b[0m                                 Traceback (most recent call last)",
      "\u001b[0;32m<ipython-input-8-06020348c2f5>\u001b[0m in \u001b[0;36m<module>\u001b[0;34m\u001b[0m\n\u001b[0;32m----> 1\u001b[0;31m \u001b[0mtextstat\u001b[0m\u001b[0;34m.\u001b[0m\u001b[0mflesch_reading_ease\u001b[0m\u001b[0;34m(\u001b[0m\u001b[0marticleLM\u001b[0m\u001b[0;34m.\u001b[0m\u001b[0mget_article_text\u001b[0m\u001b[0;34m(\u001b[0m\u001b[0mfilename\u001b[0m\u001b[0;34m)\u001b[0m\u001b[0;34m)\u001b[0m\u001b[0;34m\u001b[0m\u001b[0;34m\u001b[0m\u001b[0m\n\u001b[0m",
      "\u001b[0;31mNameError\u001b[0m: name 'filename' is not defined"
     ]
    }
   ],
   "source": [
    "textstat.flesch_reading_ease(articleLM.get_article_text(filename))"
   ]
  },
  {
   "cell_type": "code",
   "execution_count": 18,
   "metadata": {},
   "outputs": [
    {
     "data": {
      "text/plain": [
       "'\\ufeffIn 2017, the government of Ontario began a social experiment. The Canadian province is giving as much as $16,989 ($12,616 in U.S. dollars) a year to about 4,000 low-income people. It makes no difference whether they\\'re working or on government assistance. Over the course of three years, Ontario will track the recipients to see if they have wasted the money or used it wisely. Ontario Premier Kathleen Wynne said she hopes they will \"get ahead and stay ahead.\"\\n\\nThe experiment is similar to a program that began in Finland the same year. That plan gives about $7,200 annually to 2,000 unemployed people but takes them off normal government assistance. Even if they do find work, they keep getting the money.\\n\\nThese are two of the boldest attempts to test a bigger idea called universal basic income. It is when the government gives money to everyone each month regardless of how much money they have.\\n\\nThe idea has been proposed for centuries. Lately it has become popular among some liberals and conservatives. People on the left see it as a way to tide workers over after they have lost a job. They also hope it will help close the gap between rich and poor and let people cover their basic expenses so they can start a business or train for another career. Those on the right hope it might stop people from depending on government assistance.\\n\\nSwitzerland Rejects The Idea\\n\\nMuch of the support for the idea has come from high-tech celebrities. Mark Zuckerberg is the Facebook founder and chief executive officer. In 2017, he spoke about universal basic income to the graduating class at Harvard University. \"We should explore ideas like universal basic income to make sure that everyone has a cushion to try new ideas.\"\\n\\nIn 2016, Switzerland proposed giving about $2,500 a month to everyone, rich and poor. Nearly 80 percent of Swiss voters rejected it. By one estimate, the plan would have cost 30 percent of gross domestic product (GDP). A country\\'s GDP means all the goods and services that country produces. Yet more importantly, many worried that people would not work hard or be self-reliant.\\n\\nThe question of character keeps coming up. If people get basic financial security, would they work hard or become lazy?\\n\\nIn a recent TED Talk, Rutger Bregman, a Dutch historian, spoke in favor of a universal income. \"Poverty is not a lack of character. Poverty is a lack of cash,\" he said. Bregman quoted economist Joseph Hanlon: \"You can\\'t pull yourself up by your bootstraps if you have no boots.\"\\n\\nWould Universal Basic Income Work?\\n\\nOthers see pros and cons. Philippe Van Parijs and Yannick Vanderborgt are Belgian academics. In their book, \"Basic Income: A Radical Proposal for a Free Society and a Sane Economy,\" they explore all sides of the argument. However, they argue that everyone must receive money. Giving money only to the poor or jobless will make them lose their motivation to find work. They suggested each person in the United States receive $1,163 per month, about a quarter of the average income. That amount would cover basic expenses but would still be little enough so they would have to find work.\\n\\nIn the U.S., Republicans and Democrats disagree vehemently on the subject of character and government programs. Can ethics and morals be affected by law or government programs? Or is it more influenced by family, peers, media or religion?\\n\\nRichard Reeves and Dimitrios Halikias are liberal scholars at the Brookings Institution. It is a research organization in Washington, D.C. They say that character is built through culture and role models. Skills like persistence, paying attention and social skills are taught by parents, teachers and others. They can\\'t be created by government programs.\\n\\nAs different governments test out a guaranteed income, the question will be answered: Will these programs reduce character or strengthen it?\\n'"
      ]
     },
     "execution_count": 18,
     "metadata": {},
     "output_type": "execute_result"
    }
   ],
   "source": [
    "# filename = articleLM.metadata_split.loc[9,articleLM.metadata_split.train_val_test=='val'].file_path\n",
    "articleLM.get_article_text(filename)"
   ]
  },
  {
   "cell_type": "code",
   "execution_count": 9,
   "metadata": {},
   "outputs": [],
   "source": [
    "article_scores = articleLM.metadata_split[['slug', 'language', 'grade_level', 'category', 'file_path',\n",
    "                                          'train_val_test', 'is_original']].copy()"
   ]
  },
  {
   "cell_type": "code",
   "execution_count": 10,
   "metadata": {},
   "outputs": [],
   "source": [
    "article_scores = article_scores[(article_scores.language=='en')\n",
    "                               & (article_scores.grade_level != 10)\n",
    "                               & (article_scores.is_original == False)]"
   ]
  },
  {
   "cell_type": "code",
   "execution_count": 11,
   "metadata": {},
   "outputs": [
    {
     "data": {
      "text/html": [
       "<div>\n",
       "<style scoped>\n",
       "    .dataframe tbody tr th:only-of-type {\n",
       "        vertical-align: middle;\n",
       "    }\n",
       "\n",
       "    .dataframe tbody tr th {\n",
       "        vertical-align: top;\n",
       "    }\n",
       "\n",
       "    .dataframe thead th {\n",
       "        text-align: right;\n",
       "    }\n",
       "</style>\n",
       "<table border=\"1\" class=\"dataframe\">\n",
       "  <thead>\n",
       "    <tr style=\"text-align: right;\">\n",
       "      <th></th>\n",
       "      <th>slug</th>\n",
       "      <th>language</th>\n",
       "      <th>grade_level</th>\n",
       "      <th>category</th>\n",
       "      <th>file_path</th>\n",
       "      <th>train_val_test</th>\n",
       "      <th>is_original</th>\n",
       "    </tr>\n",
       "  </thead>\n",
       "  <tbody>\n",
       "    <tr>\n",
       "      <th>0</th>\n",
       "      <td>georgetown-slavery-admission</td>\n",
       "      <td>en</td>\n",
       "      <td>3</td>\n",
       "      <td>law</td>\n",
       "      <td>articles/georgetown-slavery-admission.en.03.txt</td>\n",
       "      <td>train</td>\n",
       "      <td>False</td>\n",
       "    </tr>\n",
       "    <tr>\n",
       "      <th>1</th>\n",
       "      <td>headphone-earbuds</td>\n",
       "      <td>en</td>\n",
       "      <td>6</td>\n",
       "      <td>health</td>\n",
       "      <td>articles/headphone-earbuds.en.06.txt</td>\n",
       "      <td>train</td>\n",
       "      <td>False</td>\n",
       "    </tr>\n",
       "    <tr>\n",
       "      <th>2</th>\n",
       "      <td>afghanistan-ustroops</td>\n",
       "      <td>en</td>\n",
       "      <td>7</td>\n",
       "      <td>war-and-peace</td>\n",
       "      <td>articles/afghanistan-ustroops.en.07.txt</td>\n",
       "      <td>train</td>\n",
       "      <td>False</td>\n",
       "    </tr>\n",
       "    <tr>\n",
       "      <th>3</th>\n",
       "      <td>remembering-historic-giant-tree</td>\n",
       "      <td>en</td>\n",
       "      <td>8</td>\n",
       "      <td>science</td>\n",
       "      <td>articles/remembering-historic-giant-tree.en.08...</td>\n",
       "      <td>train</td>\n",
       "      <td>False</td>\n",
       "    </tr>\n",
       "    <tr>\n",
       "      <th>5</th>\n",
       "      <td>riley-dog-veterans</td>\n",
       "      <td>en</td>\n",
       "      <td>5</td>\n",
       "      <td>health</td>\n",
       "      <td>articles/riley-dog-veterans.en.05.txt</td>\n",
       "      <td>train</td>\n",
       "      <td>False</td>\n",
       "    </tr>\n",
       "  </tbody>\n",
       "</table>\n",
       "</div>"
      ],
      "text/plain": [
       "                              slug language  grade_level       category  \\\n",
       "0     georgetown-slavery-admission       en            3            law   \n",
       "1                headphone-earbuds       en            6         health   \n",
       "2             afghanistan-ustroops       en            7  war-and-peace   \n",
       "3  remembering-historic-giant-tree       en            8        science   \n",
       "5               riley-dog-veterans       en            5         health   \n",
       "\n",
       "                                           file_path train_val_test  \\\n",
       "0    articles/georgetown-slavery-admission.en.03.txt          train   \n",
       "1               articles/headphone-earbuds.en.06.txt          train   \n",
       "2            articles/afghanistan-ustroops.en.07.txt          train   \n",
       "3  articles/remembering-historic-giant-tree.en.08...          train   \n",
       "5              articles/riley-dog-veterans.en.05.txt          train   \n",
       "\n",
       "   is_original  \n",
       "0        False  \n",
       "1        False  \n",
       "2        False  \n",
       "3        False  \n",
       "5        False  "
      ]
     },
     "execution_count": 11,
     "metadata": {},
     "output_type": "execute_result"
    }
   ],
   "source": [
    "article_scores.head()"
   ]
  },
  {
   "cell_type": "code",
   "execution_count": 19,
   "metadata": {},
   "outputs": [],
   "source": [
    "def flesch(filename):\n",
    "    return textstat.flesch_reading_ease(articleLM.get_article_text(filename))\n",
    "def flesch_k_grade(filename):\n",
    "    return textstat.flesch_kincaid_grade(articleLM.get_article_text(filename))\n",
    "def automated_read(filename):\n",
    "    return textstat.automated_readability_index(articleLM.get_article_text(filename))"
   ]
  },
  {
   "cell_type": "code",
   "execution_count": 20,
   "metadata": {},
   "outputs": [],
   "source": [
    "def flesch_map(flesch_score):\n",
    "    if flesch_score <= 29:\n",
    "        return 'very_confusing'\n",
    "    elif flesch_score >= 30 and flesch_score <=49:\n",
    "        return 'difficult'\n",
    "    elif flesch_score >= 50 and flesch_score <=59:\n",
    "        return 'fairly_difficult'\n",
    "    elif flesch_score >= 60 and flesch_score <=69:\n",
    "        return 'standard'\n",
    "    elif flesch_score >= 70 and flesch_score <=79:\n",
    "        return 'fairly_easy'\n",
    "    elif flesch_score >= 80 and flesch_score <=89:\n",
    "        return 'easy'\n",
    "    else:\n",
    "        return 'very_easy'"
   ]
  },
  {
   "cell_type": "code",
   "execution_count": 21,
   "metadata": {},
   "outputs": [],
   "source": [
    "article_scores.loc[:,'flesch'] = list(map(flesch, article_scores.file_path))\n",
    "article_scores.loc[:,'flesch_mapping'] = list(map(flesch_map, article_scores.flesch))\n",
    "article_scores.loc[:,'flesch_k_grade'] = list(map(flesch_k_grade, article_scores.file_path))\n",
    "article_scores.loc[:,'automated_read'] = list(map(automated_read, article_scores.file_path))"
   ]
  },
  {
   "cell_type": "code",
   "execution_count": 22,
   "metadata": {},
   "outputs": [],
   "source": [
    "article_scores.loc[:,'true_easy'] = [1 if x <= 5 else 0 for x in article_scores.grade_level]\n",
    "article_scores.loc[:,'flesch_easy'] = [1 if x <= 79 else 0 for x in article_scores.flesch]"
   ]
  },
  {
   "cell_type": "code",
   "execution_count": 23,
   "metadata": {},
   "outputs": [],
   "source": [
    "article_scores.loc[:,'flesch_k_grade'] = article_scores.flesch_k_grade.astype('int')\n",
    "article_scores.loc[:,'automated_read'] = article_scores.automated_read.astype('int')\n",
    "article_scores.loc[:,'flesch_kgrade_easy'] = [1 if x <= 5 else 0 for x in article_scores.flesch_k_grade]\n",
    "article_scores.loc[:,'auto_read_easy'] = [1 if x <= 5 else 0 for x in article_scores.automated_read]"
   ]
  },
  {
   "cell_type": "code",
   "execution_count": 25,
   "metadata": {},
   "outputs": [],
   "source": [
    "from sklearn.metrics import confusion_matrix, f1_score, accuracy_score\n",
    "\n",
    "cm = confusion_matrix(article_scores.true_easy, article_scores.flesch_easy)\n",
    "cm_fkg = confusion_matrix(article_scores.grade_level, article_scores.flesch_k_grade)\n",
    "cm_fkg_easy = confusion_matrix(article_scores.true_easy, article_scores.flesch_kgrade_easy)\n",
    "cm_autoread = confusion_matrix(article_scores.true_easy, article_scores.auto_read_easy)"
   ]
  },
  {
   "cell_type": "code",
   "execution_count": 26,
   "metadata": {},
   "outputs": [
    {
     "data": {
      "text/plain": [
       "array([[   3, 8452],\n",
       "       [4658, 6425]])"
      ]
     },
     "execution_count": 26,
     "metadata": {},
     "output_type": "execute_result"
    }
   ],
   "source": [
    "cm"
   ]
  },
  {
   "cell_type": "code",
   "execution_count": 27,
   "metadata": {},
   "outputs": [
    {
     "data": {
      "text/plain": [
       "array([[ 8453,     2],\n",
       "       [10078,  1005]])"
      ]
     },
     "execution_count": 27,
     "metadata": {},
     "output_type": "execute_result"
    }
   ],
   "source": [
    "cm_autoread"
   ]
  },
  {
   "cell_type": "code",
   "execution_count": 29,
   "metadata": {},
   "outputs": [
    {
     "data": {
      "text/plain": [
       "0.32899989763537724"
      ]
     },
     "execution_count": 29,
     "metadata": {},
     "output_type": "execute_result"
    }
   ],
   "source": [
    "accuracy_score(article_scores.true_easy, article_scores.flesch_easy)"
   ]
  },
  {
   "cell_type": "code",
   "execution_count": 30,
   "metadata": {},
   "outputs": [
    {
     "data": {
      "text/plain": [
       "0.04074111986897328"
      ]
     },
     "execution_count": 30,
     "metadata": {},
     "output_type": "execute_result"
    }
   ],
   "source": [
    "accuracy_score(article_scores.grade_level, article_scores.flesch_k_grade)"
   ]
  },
  {
   "cell_type": "code",
   "execution_count": 32,
   "metadata": {},
   "outputs": [
    {
     "data": {
      "text/plain": [
       "0.6482751561060498"
      ]
     },
     "execution_count": 32,
     "metadata": {},
     "output_type": "execute_result"
    }
   ],
   "source": [
    "accuracy_score(article_scores.true_easy, article_scores.flesch_kgrade_easy)"
   ]
  },
  {
   "cell_type": "code",
   "execution_count": 33,
   "metadata": {},
   "outputs": [
    {
     "data": {
      "text/plain": [
       "0.48408230115672024"
      ]
     },
     "execution_count": 33,
     "metadata": {},
     "output_type": "execute_result"
    }
   ],
   "source": [
    "accuracy_score(article_scores.true_easy, article_scores.auto_read_easy)"
   ]
  },
  {
   "cell_type": "code",
   "execution_count": 35,
   "metadata": {},
   "outputs": [
    {
     "data": {
      "text/plain": [
       "0.4949922958397534"
      ]
     },
     "execution_count": 35,
     "metadata": {},
     "output_type": "execute_result"
    }
   ],
   "source": [
    "f1_score(article_scores.true_easy, article_scores.flesch_easy, pos_label=1)"
   ]
  },
  {
   "cell_type": "code",
   "execution_count": 36,
   "metadata": {},
   "outputs": [
    {
     "data": {
      "text/plain": [
       "0.5507909530657602"
      ]
     },
     "execution_count": 36,
     "metadata": {},
     "output_type": "execute_result"
    }
   ],
   "source": [
    "f1_score(article_scores.true_easy, article_scores.flesch_kgrade_easy, pos_label=1)"
   ]
  },
  {
   "cell_type": "code",
   "execution_count": 37,
   "metadata": {},
   "outputs": [
    {
     "data": {
      "text/plain": [
       "0.1662531017369727"
      ]
     },
     "execution_count": 37,
     "metadata": {},
     "output_type": "execute_result"
    }
   ],
   "source": [
    "f1_score(article_scores.true_easy, article_scores.auto_read_easy, pos_label=1)"
   ]
  },
  {
   "cell_type": "code",
   "execution_count": 52,
   "metadata": {},
   "outputs": [
    {
     "data": {
      "text/plain": [
       "array([[  0,   0,   0, ...,   0,   0,   0],\n",
       "       [  0,   0,   0, ...,   0,   0,   0],\n",
       "       [  2,  62, 334, ...,   0,   0,   0],\n",
       "       ...,\n",
       "       [  0,   0,   0, ...,   0,   0,   0],\n",
       "       [  0,   0,   0, ...,   0,   0,   0],\n",
       "       [  0,   0,   0, ...,   0,   0,   0]])"
      ]
     },
     "execution_count": 52,
     "metadata": {},
     "output_type": "execute_result"
    }
   ],
   "source": [
    "cm_fkga\n"
   ]
  },
  {
   "cell_type": "code",
   "execution_count": 42,
   "metadata": {},
   "outputs": [
    {
     "data": {
      "text/plain": [
       "13.041252942982904"
      ]
     },
     "execution_count": 42,
     "metadata": {},
     "output_type": "execute_result"
    }
   ],
   "source": [
    "len(article_scores[article_scores.true_easy == article_scores.flesch_easy] ) * 100/ len(article_scores)"
   ]
  },
  {
   "cell_type": "code",
   "execution_count": 57,
   "metadata": {},
   "outputs": [
    {
     "data": {
      "text/plain": [
       "64.82751561060498"
      ]
     },
     "execution_count": 57,
     "metadata": {},
     "output_type": "execute_result"
    }
   ],
   "source": [
    "len(article_scores[article_scores.true_easy == article_scores.flesch_kgrade_easy] ) * 100/ len(article_scores)"
   ]
  },
  {
   "cell_type": "code",
   "execution_count": 66,
   "metadata": {},
   "outputs": [
    {
     "data": {
      "text/plain": [
       "48.408230115672026"
      ]
     },
     "execution_count": 66,
     "metadata": {},
     "output_type": "execute_result"
    }
   ],
   "source": [
    "len(article_scores[article_scores.true_easy == article_scores.auto_read_easy] ) * 100/ len(article_scores)"
   ]
  }
 ],
 "metadata": {
  "kernelspec": {
   "display_name": "Python 3",
   "language": "python",
   "name": "python3"
  },
  "language_info": {
   "codemirror_mode": {
    "name": "ipython",
    "version": 3
   },
   "file_extension": ".py",
   "mimetype": "text/x-python",
   "name": "python",
   "nbconvert_exporter": "python",
   "pygments_lexer": "ipython3",
   "version": "3.7.3"
  }
 },
 "nbformat": 4,
 "nbformat_minor": 2
}
