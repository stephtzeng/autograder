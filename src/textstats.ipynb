{
 "cells": [
  {
   "cell_type": "code",
   "execution_count": null,
   "metadata": {},
   "outputs": [],
   "source": [
    ">>> import textstat\n",
    "\n",
    ">>> test_data = (\n",
    "    \"Playing games has always been thought to be important to \"\n",
    "    \"the development of well-balanced and creative children; \"\n",
    "    \"however, what part, if any, they should play in the lives \"\n",
    "    \"of adults has never been researched that deeply. I believe \"\n",
    "    \"that playing games is every bit as important for adults \"\n",
    "    \"as for children. Not only is taking time out to play games \"\n",
    "    \"with our children and other adults valuable to building \"\n",
    "    \"interpersonal relationships but is also a wonderful way \"\n",
    "    \"to release built up tension.\"\n",
    ")\n",
    "\n",
    ">>> textstat.flesch_reading_ease(test_data)\n",
    ">>> textstat.smog_index(test_data)\n",
    ">>> textstat.flesch_kincaid_grade(test_data)\n",
    ">>> textstat.coleman_liau_index(test_data)\n",
    ">>> textstat.automated_readability_index(test_data)\n",
    ">>> textstat.dale_chall_readability_score(test_data)\n",
    ">>> textstat.difficult_words(test_data)\n",
    ">>> textstat.linsear_write_formula(test_data)\n",
    ">>> textstat.gunning_fog(test_data)\n",
    ">>> textstat.text_standard(test_data)"
   ]
  },
  {
   "cell_type": "code",
   "execution_count": 1,
   "metadata": {},
   "outputs": [],
   "source": [
    "test_data = (\n",
    "    \"Playing games has always been thought to be important to \"\n",
    "    \"the development of well-balanced and creative children; \"\n",
    "    \"however, what part, if any, they should play in the lives \"\n",
    "    \"of adults has never been researched that deeply. I believe \"\n",
    "    \"that playing games is every bit as important for adults \"\n",
    "    \"as for children. Not only is taking time out to play games \"\n",
    "    \"with our children and other adults valuable to building \"\n",
    "    \"interpersonal relationships but is also a wonderful way \"\n",
    "    \"to release built up tension.\"\n",
    ")"
   ]
  },
  {
   "cell_type": "code",
   "execution_count": 21,
   "metadata": {},
   "outputs": [
    {
     "data": {
      "text/plain": [
       "52.23"
      ]
     },
     "execution_count": 21,
     "metadata": {},
     "output_type": "execute_result"
    }
   ],
   "source": [
    "textstat.flesch_reading_ease(test_data)"
   ]
  },
  {
   "cell_type": "code",
   "execution_count": 1,
   "metadata": {},
   "outputs": [],
   "source": [
    "import textstat"
   ]
  },
  {
   "cell_type": "code",
   "execution_count": 2,
   "metadata": {},
   "outputs": [],
   "source": [
    "from article_process import ArticleLM"
   ]
  },
  {
   "cell_type": "code",
   "execution_count": 3,
   "metadata": {},
   "outputs": [],
   "source": [
    "# path_to_data = '/Users/stephanie/data/newsela_articles_corpus_2019-03-25_SMALL'\n",
    "path_to_data = '/Users/stephanie/data/newsela_article_corpus_2016-01-29'\n",
    "path_to_kenlm = '/Users/stephanie/github/kenlm'\n",
    "path_to_arpa = path_to_kenlm + '/lm'"
   ]
  },
  {
   "cell_type": "code",
   "execution_count": 4,
   "metadata": {},
   "outputs": [],
   "source": [
    "articleLM = ArticleLM(path_to_data, path_to_kenlm, path_to_arpa, 5, 'grade_level')"
   ]
  },
  {
   "cell_type": "code",
   "execution_count": 6,
   "metadata": {},
   "outputs": [],
   "source": [
    "# articleLM.metadata_split[articleLM.metadata_split.train_val_test=='val'].file_path"
   ]
  },
  {
   "cell_type": "code",
   "execution_count": 7,
   "metadata": {},
   "outputs": [],
   "source": [
    "# filename = articleLM.metadata_split[articleLM.metadata_split.train_val_test=='val'].loc[9,'file_path']"
   ]
  },
  {
   "cell_type": "code",
   "execution_count": 13,
   "metadata": {},
   "outputs": [],
   "source": [
    "article_scores = articleLM.metadata_split[['slug', 'language', 'grade_level', 'filename',\n",
    "                                          'train_val_test', 'is_original']].copy()"
   ]
  },
  {
   "cell_type": "code",
   "execution_count": 14,
   "metadata": {},
   "outputs": [],
   "source": [
    "article_scores = article_scores[(article_scores.language=='en')\n",
    "                               & (article_scores.grade_level != 10)]"
   ]
  },
  {
   "cell_type": "code",
   "execution_count": 15,
   "metadata": {},
   "outputs": [
    {
     "data": {
      "text/html": [
       "<div>\n",
       "<style scoped>\n",
       "    .dataframe tbody tr th:only-of-type {\n",
       "        vertical-align: middle;\n",
       "    }\n",
       "\n",
       "    .dataframe tbody tr th {\n",
       "        vertical-align: top;\n",
       "    }\n",
       "\n",
       "    .dataframe thead th {\n",
       "        text-align: right;\n",
       "    }\n",
       "</style>\n",
       "<table border=\"1\" class=\"dataframe\">\n",
       "  <thead>\n",
       "    <tr style=\"text-align: right;\">\n",
       "      <th></th>\n",
       "      <th>slug</th>\n",
       "      <th>language</th>\n",
       "      <th>grade_level</th>\n",
       "      <th>filename</th>\n",
       "      <th>train_val_test</th>\n",
       "      <th>is_original</th>\n",
       "    </tr>\n",
       "  </thead>\n",
       "  <tbody>\n",
       "    <tr>\n",
       "      <th>1</th>\n",
       "      <td>10dollarbill-woman</td>\n",
       "      <td>en</td>\n",
       "      <td>8</td>\n",
       "      <td>10dollarbill-woman.en.1.txt</td>\n",
       "      <td>train</td>\n",
       "      <td>False</td>\n",
       "    </tr>\n",
       "    <tr>\n",
       "      <th>2</th>\n",
       "      <td>10dollarbill-woman</td>\n",
       "      <td>en</td>\n",
       "      <td>6</td>\n",
       "      <td>10dollarbill-woman.en.2.txt</td>\n",
       "      <td>val</td>\n",
       "      <td>False</td>\n",
       "    </tr>\n",
       "    <tr>\n",
       "      <th>3</th>\n",
       "      <td>10dollarbill-woman</td>\n",
       "      <td>en</td>\n",
       "      <td>5</td>\n",
       "      <td>10dollarbill-woman.en.3.txt</td>\n",
       "      <td>train</td>\n",
       "      <td>False</td>\n",
       "    </tr>\n",
       "    <tr>\n",
       "      <th>4</th>\n",
       "      <td>10dollarbill-woman</td>\n",
       "      <td>en</td>\n",
       "      <td>3</td>\n",
       "      <td>10dollarbill-woman.en.4.txt</td>\n",
       "      <td>train</td>\n",
       "      <td>False</td>\n",
       "    </tr>\n",
       "    <tr>\n",
       "      <th>6</th>\n",
       "      <td>17century-selfies</td>\n",
       "      <td>en</td>\n",
       "      <td>9</td>\n",
       "      <td>17century-selfies.en.1.txt</td>\n",
       "      <td>train</td>\n",
       "      <td>False</td>\n",
       "    </tr>\n",
       "  </tbody>\n",
       "</table>\n",
       "</div>"
      ],
      "text/plain": [
       "                 slug language  grade_level                     filename  \\\n",
       "1  10dollarbill-woman       en            8  10dollarbill-woman.en.1.txt   \n",
       "2  10dollarbill-woman       en            6  10dollarbill-woman.en.2.txt   \n",
       "3  10dollarbill-woman       en            5  10dollarbill-woman.en.3.txt   \n",
       "4  10dollarbill-woman       en            3  10dollarbill-woman.en.4.txt   \n",
       "6   17century-selfies       en            9   17century-selfies.en.1.txt   \n",
       "\n",
       "  train_val_test is_original  \n",
       "1          train       False  \n",
       "2            val       False  \n",
       "3          train       False  \n",
       "4          train       False  \n",
       "6          train       False  "
      ]
     },
     "execution_count": 15,
     "metadata": {},
     "output_type": "execute_result"
    }
   ],
   "source": [
    "article_scores.head()"
   ]
  },
  {
   "cell_type": "code",
   "execution_count": 16,
   "metadata": {},
   "outputs": [],
   "source": [
    "def flesch(filename):\n",
    "    return textstat.flesch_reading_ease(articleLM.get_article_text(filename))\n",
    "def flesch_k_grade(filename):\n",
    "    return textstat.flesch_kincaid_grade(articleLM.get_article_text(filename))\n",
    "def automated_read(filename):\n",
    "    return textstat.automated_readability_index(articleLM.get_article_text(filename))"
   ]
  },
  {
   "cell_type": "code",
   "execution_count": 17,
   "metadata": {},
   "outputs": [],
   "source": [
    "def flesch_map(flesch_score):\n",
    "    if flesch_score <= 29:\n",
    "        return 'very_confusing'\n",
    "    elif flesch_score >= 30 and flesch_score <=49:\n",
    "        return 'difficult'\n",
    "    elif flesch_score >= 50 and flesch_score <=59:\n",
    "        return 'fairly_difficult'\n",
    "    elif flesch_score >= 60 and flesch_score <=69:\n",
    "        return 'standard'\n",
    "    elif flesch_score >= 70 and flesch_score <=79:\n",
    "        return 'fairly_easy'\n",
    "    elif flesch_score >= 80 and flesch_score <=89:\n",
    "        return 'easy'\n",
    "    else:\n",
    "        return 'very_easy'"
   ]
  },
  {
   "cell_type": "code",
   "execution_count": 19,
   "metadata": {},
   "outputs": [],
   "source": [
    "article_scores.loc[:,'flesch'] = list(map(flesch, article_scores.filename))\n",
    "article_scores.loc[:,'flesch_mapping'] = list(map(flesch_map, article_scores.flesch))\n",
    "article_scores.loc[:,'flesch_k_grade'] = list(map(flesch_k_grade, article_scores.filename))\n",
    "article_scores.loc[:,'automated_read'] = list(map(automated_read, article_scores.filename))"
   ]
  },
  {
   "cell_type": "code",
   "execution_count": 20,
   "metadata": {},
   "outputs": [],
   "source": [
    "article_scores.loc[:,'true_easy'] = [1 if x <= 5 else 0 for x in article_scores.grade_level]\n",
    "article_scores.loc[:,'flesch_easy'] = [1 if x <= 79 else 0 for x in article_scores.flesch]"
   ]
  },
  {
   "cell_type": "code",
   "execution_count": 21,
   "metadata": {},
   "outputs": [],
   "source": [
    "article_scores.loc[:,'flesch_k_grade'] = article_scores.flesch_k_grade.astype('int')\n",
    "article_scores.loc[:,'automated_read'] = article_scores.automated_read.astype('int')\n",
    "article_scores.loc[:,'flesch_kgrade_easy'] = [1 if x <= 5 else 0 for x in article_scores.flesch_k_grade]\n",
    "article_scores.loc[:,'auto_read_easy'] = [1 if x <= 5 else 0 for x in article_scores.automated_read]"
   ]
  },
  {
   "cell_type": "code",
   "execution_count": 22,
   "metadata": {},
   "outputs": [],
   "source": [
    "from sklearn.metrics import confusion_matrix, f1_score, accuracy_score\n",
    "\n",
    "cm = confusion_matrix(article_scores.true_easy, article_scores.flesch_easy)\n",
    "cm_fkg = confusion_matrix(article_scores.grade_level, article_scores.flesch_k_grade)\n",
    "cm_fkg_easy = confusion_matrix(article_scores.true_easy, article_scores.flesch_kgrade_easy)\n",
    "cm_autoread = confusion_matrix(article_scores.true_easy, article_scores.auto_read_easy)"
   ]
  },
  {
   "cell_type": "code",
   "execution_count": 23,
   "metadata": {},
   "outputs": [
    {
     "data": {
      "text/plain": [
       "array([[   1, 4034],\n",
       "       [1134, 2477]])"
      ]
     },
     "execution_count": 23,
     "metadata": {},
     "output_type": "execute_result"
    }
   ],
   "source": [
    "cm"
   ]
  },
  {
   "cell_type": "code",
   "execution_count": 24,
   "metadata": {},
   "outputs": [
    {
     "data": {
      "text/plain": [
       "array([[4035,    0],\n",
       "       [3440,  171]])"
      ]
     },
     "execution_count": 24,
     "metadata": {},
     "output_type": "execute_result"
    }
   ],
   "source": [
    "cm_autoread"
   ]
  },
  {
   "cell_type": "code",
   "execution_count": 25,
   "metadata": {},
   "outputs": [
    {
     "data": {
      "text/plain": [
       "0.3240910279884907"
      ]
     },
     "execution_count": 25,
     "metadata": {},
     "output_type": "execute_result"
    }
   ],
   "source": [
    "accuracy_score(article_scores.true_easy, article_scores.flesch_easy)"
   ]
  },
  {
   "cell_type": "code",
   "execution_count": 26,
   "metadata": {},
   "outputs": [
    {
     "data": {
      "text/plain": [
       "0.019879675647397333"
      ]
     },
     "execution_count": 26,
     "metadata": {},
     "output_type": "execute_result"
    }
   ],
   "source": [
    "accuracy_score(article_scores.grade_level, article_scores.flesch_k_grade)"
   ]
  },
  {
   "cell_type": "code",
   "execution_count": 27,
   "metadata": {},
   "outputs": [
    {
     "data": {
      "text/plain": [
       "0.6445200104629872"
      ]
     },
     "execution_count": 27,
     "metadata": {},
     "output_type": "execute_result"
    }
   ],
   "source": [
    "accuracy_score(article_scores.true_easy, article_scores.flesch_kgrade_easy)"
   ]
  },
  {
   "cell_type": "code",
   "execution_count": 28,
   "metadata": {},
   "outputs": [
    {
     "data": {
      "text/plain": [
       "0.5500915511378499"
      ]
     },
     "execution_count": 28,
     "metadata": {},
     "output_type": "execute_result"
    }
   ],
   "source": [
    "accuracy_score(article_scores.true_easy, article_scores.auto_read_easy)"
   ]
  },
  {
   "cell_type": "code",
   "execution_count": 29,
   "metadata": {},
   "outputs": [
    {
     "data": {
      "text/plain": [
       "0.4894289666073898"
      ]
     },
     "execution_count": 29,
     "metadata": {},
     "output_type": "execute_result"
    }
   ],
   "source": [
    "f1_score(article_scores.true_easy, article_scores.flesch_easy, pos_label=1)"
   ]
  },
  {
   "cell_type": "code",
   "execution_count": 30,
   "metadata": {},
   "outputs": [
    {
     "data": {
      "text/plain": [
       "0.39653641207815277"
      ]
     },
     "execution_count": 30,
     "metadata": {},
     "output_type": "execute_result"
    }
   ],
   "source": [
    "f1_score(article_scores.true_easy, article_scores.flesch_kgrade_easy, pos_label=1)"
   ]
  },
  {
   "cell_type": "code",
   "execution_count": 31,
   "metadata": {},
   "outputs": [
    {
     "data": {
      "text/plain": [
       "0.09042834479111582"
      ]
     },
     "execution_count": 31,
     "metadata": {},
     "output_type": "execute_result"
    }
   ],
   "source": [
    "f1_score(article_scores.true_easy, article_scores.auto_read_easy, pos_label=1)"
   ]
  },
  {
   "cell_type": "code",
   "execution_count": 33,
   "metadata": {},
   "outputs": [
    {
     "data": {
      "text/plain": [
       "32.40910279884907"
      ]
     },
     "execution_count": 33,
     "metadata": {},
     "output_type": "execute_result"
    }
   ],
   "source": [
    "len(article_scores[article_scores.true_easy == article_scores.flesch_easy] ) * 100/ len(article_scores)"
   ]
  },
  {
   "cell_type": "code",
   "execution_count": 34,
   "metadata": {},
   "outputs": [
    {
     "data": {
      "text/plain": [
       "64.45200104629872"
      ]
     },
     "execution_count": 34,
     "metadata": {},
     "output_type": "execute_result"
    }
   ],
   "source": [
    "len(article_scores[article_scores.true_easy == article_scores.flesch_kgrade_easy] ) * 100/ len(article_scores)"
   ]
  },
  {
   "cell_type": "code",
   "execution_count": 35,
   "metadata": {},
   "outputs": [
    {
     "data": {
      "text/plain": [
       "55.009155113784985"
      ]
     },
     "execution_count": 35,
     "metadata": {},
     "output_type": "execute_result"
    }
   ],
   "source": [
    "len(article_scores[article_scores.true_easy == article_scores.auto_read_easy] ) * 100/ len(article_scores)"
   ]
  },
  {
   "cell_type": "code",
   "execution_count": null,
   "metadata": {},
   "outputs": [],
   "source": []
  }
 ],
 "metadata": {
  "kernelspec": {
   "display_name": "Python 3",
   "language": "python",
   "name": "python3"
  },
  "language_info": {
   "codemirror_mode": {
    "name": "ipython",
    "version": 3
   },
   "file_extension": ".py",
   "mimetype": "text/x-python",
   "name": "python",
   "nbconvert_exporter": "python",
   "pygments_lexer": "ipython3",
   "version": "3.7.3"
  }
 },
 "nbformat": 4,
 "nbformat_minor": 2
}
