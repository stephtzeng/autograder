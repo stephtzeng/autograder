{
 "cells": [
  {
   "cell_type": "markdown",
   "metadata": {},
   "source": [
    "I'm running the code again for `create_arpas` but with new data! Doing a new code base just to maintain old results to compare."
   ]
  },
  {
   "cell_type": "code",
   "execution_count": 1,
   "metadata": {},
   "outputs": [],
   "source": [
    "from article_process_new import ArticleLM"
   ]
  },
  {
   "cell_type": "code",
   "execution_count": 2,
   "metadata": {},
   "outputs": [],
   "source": [
    "import matplotlib.pyplot as plt\n",
    "import seaborn as sns\n",
    "%matplotlib inline\n",
    "import numpy as np\n",
    "import pandas as pd"
   ]
  },
  {
   "cell_type": "code",
   "execution_count": 3,
   "metadata": {},
   "outputs": [],
   "source": [
    "# path_to_data = '/Users/stephanie/data/newsela_articles_corpus_2019-03-25_SMALL'\n",
    "path_to_data = '/Users/stephanie/data/newsela_articles_corpus_2019-03-25'\n",
    "path_to_kenlm = '/Users/stephanie/github/kenlm'\n",
    "path_to_arpa = path_to_kenlm + '/lm'"
   ]
  },
  {
   "cell_type": "code",
   "execution_count": 4,
   "metadata": {},
   "outputs": [],
   "source": [
    "articleLM = ArticleLM(path_to_data, path_to_kenlm, path_to_arpa, 3, 'grade_level')"
   ]
  },
  {
   "cell_type": "code",
   "execution_count": 5,
   "metadata": {},
   "outputs": [
    {
     "data": {
      "text/plain": [
       "19127"
      ]
     },
     "execution_count": 5,
     "metadata": {},
     "output_type": "execute_result"
    }
   ],
   "source": [
    "len(articleLM.metadata_split[articleLM.metadata_split.train_val_test == 'train'])"
   ]
  },
  {
   "cell_type": "code",
   "execution_count": 6,
   "metadata": {},
   "outputs": [
    {
     "data": {
      "text/plain": [
       "2391"
      ]
     },
     "execution_count": 6,
     "metadata": {},
     "output_type": "execute_result"
    }
   ],
   "source": [
    "len(articleLM.metadata_split[articleLM.metadata_split.train_val_test == 'val'])"
   ]
  },
  {
   "cell_type": "code",
   "execution_count": 7,
   "metadata": {},
   "outputs": [
    {
     "data": {
      "text/plain": [
       "0.7999916349491824"
      ]
     },
     "execution_count": 7,
     "metadata": {},
     "output_type": "execute_result"
    }
   ],
   "source": [
    "19127 / (19127 + 2391*2)"
   ]
  },
  {
   "cell_type": "code",
   "execution_count": 7,
   "metadata": {},
   "outputs": [],
   "source": [
    "# articleLM.metadata_split"
   ]
  },
  {
   "cell_type": "markdown",
   "metadata": {},
   "source": [
    "## Builds the processed sentences that I need for KenLM"
   ]
  },
  {
   "cell_type": "code",
   "execution_count": 8,
   "metadata": {},
   "outputs": [],
   "source": [
    "articleLM.build_data()"
   ]
  },
  {
   "cell_type": "code",
   "execution_count": 9,
   "metadata": {},
   "outputs": [
    {
     "name": "stdout",
     "output_type": "stream",
     "text": [
      "Processing 3\n",
      "Grade 3 has 126587 sentences in the train set.\n",
      "=== 1/5 Counting and sorting n-grams ===\n",
      "File stdin isn't normal.  Using slower read() instead of mmap().  No progress bar.\n",
      "Unigram tokens 1270479 types 28185\n",
      "=== 2/5 Calculating and sorting adjusted counts ===\n",
      "Chain sizes: 1:338220 2:4780367872 3:8963189760\n",
      "Statistics:\n",
      "1 28185 D1=0.565424 D2=1.06633 D3+=1.60649\n",
      "2 316966 D1=0.734396 D2=1.10418 D3+=1.42523\n",
      "3 718255 D1=0.823057 D2=1.18579 D3+=1.38195\n",
      "Memory estimate for binary LM:\n",
      "type       kB\n",
      "probing 20770 assuming -p 1.5\n",
      "probing 22737 assuming -r models -p 1.5\n",
      "trie     8485 without quantization\n",
      "trie     4653 assuming -q 8 -b 8 quantization \n",
      "trie     8026 assuming -a 22 array pointer compression\n",
      "trie     4194 assuming -a 22 -q 8 -b 8 array pointer compression and quantization\n",
      "=== 3/5 Calculating and sorting initial probabilities ===\n",
      "Chain sizes: 1:338220 2:5071456 3:14365100\n",
      "=== 4/5 Calculating and writing order-interpolated probabilities ===\n",
      "Chain sizes: 1:338220 2:5071456 3:14365100\n",
      "=== 5/5 Writing ARPA model ===\n",
      "RSSMax:2694074368 kB\tuser:2.0634\tsys:2.01654\tCPU:4.07996\treal:4.11292\n",
      "\n",
      "Processing 6\n",
      "Grade 6 has 83922 sentences in the train set.\n",
      "=== 1/5 Counting and sorting n-grams ===\n",
      "Reading stdin\n",
      "----5---10---15---20---25---30---35---40---45---50---55---60---65---70---75---80---85---90---95--100\n",
      "File stdin isn't normal.  Using slower read() instead of mmap().  No progress bar.\n",
      "****************************************************************************************************\n",
      "Unigram tokens 1336255 types 39257\n",
      "=== 2/5 Calculating and sorting adjusted counts ===\n",
      "Chain sizes: 1:471084 2:4780321792 3:8963103744\n",
      "Statistics:\n",
      "1 39257 D1=0.588745 D2=1.01262 D3+=1.47229\n",
      "2 422327 D1=0.755788 D2=1.10711 D3+=1.38005\n",
      "3 904479 D1=0.855523 D2=1.20092 D3+=1.39414\n",
      "Memory estimate for binary LM:\n",
      "type       kB\n",
      "probing 26794 assuming -p 1.5\n",
      "probing 29422 assuming -r models -p 1.5\n",
      "trie    11213 without quantization\n",
      "trie     6253 assuming -q 8 -b 8 quantization \n",
      "trie    10598 assuming -a 22 array pointer compression\n",
      "trie     5638 assuming -a 22 -q 8 -b 8 array pointer compression and quantization\n",
      "=== 3/5 Calculating and sorting initial probabilities ===\n",
      "Chain sizes: 1:471084 2:6757232 3:18089580\n",
      "=== 4/5 Calculating and writing order-interpolated probabilities ===\n",
      "Chain sizes: 1:471084 2:6757232 3:18089580\n",
      "=== 5/5 Writing ARPA model ===\n",
      "RSSMax:3211444224 kB\tuser:1.76216\tsys:1.10002\tCPU:2.8622\treal:2.85617\n",
      "\n",
      "Processing 7\n",
      "Grade 7 has 123845 sentences in the train set.\n",
      "=== 1/5 Counting and sorting n-grams ===\n",
      "File stdin isn't normal.  Using slower read() instead of mmap().  No progress bar.\n",
      "Unigram tokens 2137928 types 52083\n",
      "=== 2/5 Calculating and sorting adjusted counts ===\n",
      "Chain sizes: 1:624996 2:4780268032 3:8963002368\n",
      "Statistics:\n",
      "1 52083 D1=0.593702 D2=0.991029 D3+=1.53143\n",
      "2 619825 D1=0.749242 D2=1.11337 D3+=1.37763\n",
      "3 1401843 D1=0.851338 D2=1.19097 D3+=1.37955\n",
      "Memory estimate for binary LM:\n",
      "type       kB\n",
      "probing 40491 assuming -p 1.5\n",
      "probing 44326 assuming -r models -p 1.5\n",
      "trie    16829 without quantization\n",
      "trie     9340 assuming -q 8 -b 8 quantization \n",
      "trie    15856 assuming -a 22 array pointer compression\n",
      "trie     8367 assuming -a 22 -q 8 -b 8 array pointer compression and quantization\n",
      "=== 3/5 Calculating and sorting initial probabilities ===\n",
      "Chain sizes: 1:624996 2:9917200 3:28036860\n",
      "=== 4/5 Calculating and writing order-interpolated probabilities ===\n",
      "Chain sizes: 1:624996 2:9917200 3:28036860\n",
      "=== 5/5 Writing ARPA model ===\n",
      "RSSMax:3221401600 kB\tuser:2.35154\tsys:1.18948\tCPU:3.54105\treal:3.52914\n",
      "\n",
      "Processing 8\n",
      "Grade 8 has 67452 sentences in the train set.\n",
      "=== 1/5 Counting and sorting n-grams ===\n",
      "File stdin isn't normal.  Using slower read() instead of mmap().  No progress bar.\n",
      "Unigram tokens 1312879 types 43853\n",
      "=== 2/5 Calculating and sorting adjusted counts ===\n",
      "Chain sizes: 1:526236 2:4780302336 3:8963066880\n",
      "Statistics:\n",
      "1 43853 D1=0.599174 D2=1.00943 D3+=1.45305\n",
      "2 448616 D1=0.761512 D2=1.12254 D3+=1.42443\n",
      "3 930047 D1=0.866606 D2=1.19408 D3+=1.43647\n",
      "Memory estimate for binary LM:\n",
      "type       kB\n",
      "probing 27976 assuming -p 1.5\n",
      "probing 30776 assuming -r models -p 1.5\n",
      "trie    11785 without quantization\n",
      "trie     6603 assuming -q 8 -b 8 quantization \n",
      "trie    11130 assuming -a 22 array pointer compression\n",
      "trie     5948 assuming -a 22 -q 8 -b 8 array pointer compression and quantization\n",
      "=== 3/5 Calculating and sorting initial probabilities ===\n",
      "Chain sizes: 1:526236 2:7177856 3:18600940\n",
      "=== 4/5 Calculating and writing order-interpolated probabilities ===\n",
      "Chain sizes: 1:526236 2:7177856 3:18600940\n",
      "=== 5/5 Writing ARPA model ===\n",
      "RSSMax:3211800576 kB\tuser:1.74603\tsys:1.02239\tCPU:2.76846\treal:2.60899\n",
      "\n",
      "Processing 5\n",
      "Grade 5 has 176603 sentences in the train set.\n",
      "=== 1/5 Counting and sorting n-grams ===\n",
      "File stdin isn't normal.  Using slower read() instead of mmap().  No progress bar.\n",
      "Unigram tokens 2427594 types 48752\n",
      "=== 2/5 Calculating and sorting adjusted counts ===\n",
      "Chain sizes: 1:585024 2:4780281856 3:8963027968\n",
      "Statistics:\n",
      "1 48752 D1=0.589662 D2=1.01371 D3+=1.46367\n",
      "2 610947 D1=0.7411 D2=1.11361 D3+=1.36389\n",
      "3 1453706 D1=0.836145 D2=1.17409 D3+=1.38302\n",
      "Memory estimate for binary LM:\n",
      "type       kB\n",
      "probing 41110 assuming -p 1.5\n",
      "probing 44880 assuming -r models -p 1.5\n",
      "trie    16940 without quantization\n",
      "trie     9357 assuming -q 8 -b 8 quantization \n",
      "trie    15985 assuming -a 22 array pointer compression\n",
      "trie     8401 assuming -a 22 -q 8 -b 8 array pointer compression and quantization\n",
      "=== 3/5 Calculating and sorting initial probabilities ===\n",
      "Chain sizes: 1:585024 2:9775152 3:29074120\n",
      "=== 4/5 Calculating and writing order-interpolated probabilities ===\n",
      "Chain sizes: 1:585024 2:9775152 3:29074120\n",
      "=== 5/5 Writing ARPA model ===\n",
      "RSSMax:3222863872 kB\tuser:2.50436\tsys:1.13331\tCPU:3.63772\treal:3.52626\n",
      "\n",
      "Processing 4\n",
      "Grade 4 has 124205 sentences in the train set.\n",
      "=== 1/5 Counting and sorting n-grams ===\n",
      "File stdin isn't normal.  Using slower read() instead of mmap().  No progress bar.\n",
      "Unigram tokens 1487466 types 34641\n",
      "=== 2/5 Calculating and sorting adjusted counts ===\n",
      "Chain sizes: 1:415692 2:4780340736 3:8963139584\n",
      "Statistics:\n",
      "1 34641 D1=0.577437 D2=1.00683 D3+=1.58671\n",
      "2 398435 D1=0.740662 D2=1.11404 D3+=1.41733\n",
      "3 901669 D1=0.835619 D2=1.18461 D3+=1.38482\n",
      "Memory estimate for binary LM:\n",
      "type       kB\n",
      "probing 26067 assuming -p 1.5\n",
      "probing 28537 assuming -r models -p 1.5\n",
      "trie    10800 without quantization\n",
      "trie     5985 assuming -q 8 -b 8 quantization \n",
      "trie    10222 assuming -a 22 array pointer compression\n",
      "trie     5408 assuming -a 22 -q 8 -b 8 array pointer compression and quantization\n",
      "=== 3/5 Calculating and sorting initial probabilities ===\n",
      "Chain sizes: 1:415692 2:6374960 3:18033380\n",
      "=== 4/5 Calculating and writing order-interpolated probabilities ===\n",
      "Chain sizes: 1:415692 2:6374960 3:18033380\n",
      "=== 5/5 Writing ARPA model ===\n",
      "RSSMax:3211255808 kB\tuser:1.89749\tsys:1.15428\tCPU:3.05179\treal:2.97133\n",
      "\n",
      "Processing 9\n",
      "Grade 9 has 74074 sentences in the train set.\n",
      "=== 1/5 Counting and sorting n-grams ===\n",
      "File stdin isn't normal.  Using slower read() instead of mmap().  No progress bar.\n",
      "Unigram tokens 1520138 types 47280\n",
      "=== 2/5 Calculating and sorting adjusted counts ===\n",
      "Chain sizes: 1:567360 2:4780288000 3:8963040256\n",
      "Statistics:\n",
      "1 47280 D1=0.599047 D2=1.00751 D3+=1.44562\n",
      "2 506198 D1=0.758273 D2=1.11303 D3+=1.40741\n",
      "3 1069534 D1=0.862519 D2=1.21195 D3+=1.4117\n",
      "Memory estimate for binary LM:\n",
      "type       kB\n",
      "probing 31864 assuming -p 1.5\n",
      "probing 35015 assuming -r models -p 1.5\n",
      "trie    13423 without quantization\n",
      "trie     7519 assuming -q 8 -b 8 quantization \n",
      "trie    12623 assuming -a 22 array pointer compression\n",
      "trie     6719 assuming -a 22 -q 8 -b 8 array pointer compression and quantization\n",
      "=== 3/5 Calculating and sorting initial probabilities ===\n",
      "Chain sizes: 1:567360 2:8099168 3:21390680\n",
      "=== 4/5 Calculating and writing order-interpolated probabilities ===\n",
      "Chain sizes: 1:567360 2:8099168 3:21390680\n",
      "=== 5/5 Writing ARPA model ===\n",
      "RSSMax:3214897152 kB\tuser:2.04988\tsys:1.1215\tCPU:3.17141\treal:3.28086\n",
      "\n",
      "Processing 2\n",
      "Grade 2 has 43196 sentences in the train set.\n",
      "=== 1/5 Counting and sorting n-grams ===\n",
      "Reading stdin\n",
      "----5---10---15---20---25---30---35---40---45---50---55---60---65---70---75---80---85---90---95--100\n",
      "File stdin isn't normal.  Using slower read() instead of mmap().  No progress bar.\n",
      "****************************************************************************************************\n",
      "Unigram tokens 363736 types 13601\n",
      "=== 2/5 Calculating and sorting adjusted counts ===\n",
      "Chain sizes: 1:163212 2:4780428288 3:8963303424\n",
      "Statistics:\n",
      "1 13601 D1=0.550425 D2=1.18607 D3+=1.54308\n",
      "2 116374 D1=0.743945 D2=1.13617 D3+=1.426\n",
      "3 226322 D1=0.830376 D2=1.21282 D3+=1.42677\n",
      "Memory estimate for binary LM:\n",
      "type      kB\n",
      "probing 7051 assuming -p 1.5\n",
      "probing 7786 assuming -r models -p 1.5\n",
      "trie    2911 without quantization\n",
      "trie    1611 assuming -q 8 -b 8 quantization \n",
      "trie    2768 assuming -a 22 array pointer compression\n",
      "trie    1468 assuming -a 22 -q 8 -b 8 array pointer compression and quantization\n",
      "=== 3/5 Calculating and sorting initial probabilities ===\n",
      "Chain sizes: 1:163212 2:1861984 3:4526440\n",
      "=== 4/5 Calculating and writing order-interpolated probabilities ===\n",
      "Chain sizes: 1:163212 2:1861984 3:4526440\n",
      "=== 5/5 Writing ARPA model ===\n",
      "RSSMax:3195023360 kB\tuser:0.980869\tsys:0.994859\tCPU:1.97576\treal:1.91215\n",
      "\n"
     ]
    }
   ],
   "source": [
    "articleLM.train_all_arpas()"
   ]
  },
  {
   "cell_type": "markdown",
   "metadata": {},
   "source": [
    "## Printing out stats\n",
    "\n",
    "how many sentences there are in training set, indexed by grade level?"
   ]
  },
  {
   "cell_type": "code",
   "execution_count": 11,
   "metadata": {},
   "outputs": [
    {
     "name": "stdout",
     "output_type": "stream",
     "text": [
      "3 126587\n",
      "6 83922\n",
      "7 123845\n",
      "8 67452\n",
      "5 176603\n",
      "4 124205\n",
      "9 74074\n",
      "2 43196\n"
     ]
    }
   ],
   "source": [
    "for g in articleLM.level_sentences.get('train').keys():\n",
    "    print(g, len(articleLM.level_sentences.get('train').get(g)))"
   ]
  },
  {
   "cell_type": "code",
   "execution_count": 12,
   "metadata": {},
   "outputs": [
    {
     "name": "stdout",
     "output_type": "stream",
     "text": [
      "819884\n"
     ]
    }
   ],
   "source": [
    "# Number of sentences, train\n",
    "sentence_len = 0\n",
    "for g in articleLM.level_sentences.get('train').keys():\n",
    "    sentence_len+=len(articleLM.level_sentences.get('train').get(g))\n",
    "    \n",
    "print(sentence_len)"
   ]
  },
  {
   "cell_type": "code",
   "execution_count": 13,
   "metadata": {},
   "outputs": [
    {
     "name": "stdout",
     "output_type": "stream",
     "text": [
      "102903\n"
     ]
    }
   ],
   "source": [
    "# Number of sentences, validation\n",
    "sentence_len = 0\n",
    "for g in articleLM.level_sentences.get('val').keys():\n",
    "    sentence_len+=len(articleLM.level_sentences.get('val').get(g))\n",
    "print(sentence_len)"
   ]
  },
  {
   "cell_type": "markdown",
   "metadata": {},
   "source": [
    "how many articles there are in each set, indexed by grade level?"
   ]
  },
  {
   "cell_type": "code",
   "execution_count": 15,
   "metadata": {},
   "outputs": [
    {
     "data": {
      "text/plain": [
       "5    3910\n",
       "3    3286\n",
       "7    2883\n",
       "4    2560\n",
       "9    2028\n",
       "6    1839\n",
       "8    1592\n",
       "2    1029\n",
       "Name: grade_level, dtype: int64"
      ]
     },
     "execution_count": 15,
     "metadata": {},
     "output_type": "execute_result"
    }
   ],
   "source": [
    "articleLM.metadata_split[articleLM.metadata_split.train_val_test=='train'].grade_level.value_counts()"
   ]
  },
  {
   "cell_type": "code",
   "execution_count": 16,
   "metadata": {},
   "outputs": [
    {
     "data": {
      "text/plain": [
       "19127"
      ]
     },
     "execution_count": 16,
     "metadata": {},
     "output_type": "execute_result"
    }
   ],
   "source": [
    "articleLM.metadata_split[articleLM.metadata_split.train_val_test=='train'].grade_level.value_counts().sum()"
   ]
  },
  {
   "cell_type": "code",
   "execution_count": 17,
   "metadata": {},
   "outputs": [
    {
     "data": {
      "text/plain": [
       "5    507\n",
       "3    427\n",
       "7    346\n",
       "4    300\n",
       "6    244\n",
       "9    235\n",
       "8    188\n",
       "2    144\n",
       "Name: grade_level, dtype: int64"
      ]
     },
     "execution_count": 17,
     "metadata": {},
     "output_type": "execute_result"
    }
   ],
   "source": [
    "articleLM.metadata_split[articleLM.metadata_split.train_val_test=='val'].grade_level.value_counts()"
   ]
  },
  {
   "cell_type": "markdown",
   "metadata": {},
   "source": [
    "## Comparing perplexities"
   ]
  },
  {
   "cell_type": "code",
   "execution_count": 18,
   "metadata": {},
   "outputs": [],
   "source": [
    "sentence_guesses = articleLM.compute_all_sentences_best_guess([2, 3, 4, 5, 6, 7, 8, 9])"
   ]
  },
  {
   "cell_type": "code",
   "execution_count": 19,
   "metadata": {},
   "outputs": [
    {
     "data": {
      "image/png": "[encoded data removed]",
      "text/plain": [
       "<Figure size 720x576 with 1 Axes>"
      ]
     },
     "metadata": {
      "needs_background": "light"
     },
     "output_type": "display_data"
    }
   ],
   "source": [
    "sentence_guesses = articleLM.plot_sentence_distribution([2, 3, 4, 5, 6, 7, 8, 9])"
   ]
  },
  {
   "cell_type": "code",
   "execution_count": 24,
   "metadata": {},
   "outputs": [],
   "source": [
    "from sklearn.metrics import confusion_matrix, accuracy_score\n",
    "\n",
    "cm = confusion_matrix(sentence_guesses.level, sentence_guesses.best_guess)"
   ]
  },
  {
   "cell_type": "code",
   "execution_count": 22,
   "metadata": {},
   "outputs": [
    {
     "data": {
      "text/plain": [
       "array([[1106, 2624, 1608,  593,  271,  104,   76,   41],\n",
       "       [2231, 2406, 2996, 5556,  852, 1405,  413,  571],\n",
       "       [1104, 2437,  849, 5138, 2396, 1345,  943,  456],\n",
       "       [ 671, 3575, 4576, 1273, 3424, 4905, 1703, 2255],\n",
       "       [ 216,  566, 1783, 2306,  205, 2107, 3068,  433],\n",
       "       [ 185,  644, 1118, 3532, 1883,  641, 1689, 5711],\n",
       "       [ 114,  174,  666,  956, 2904, 2314,  275,  450],\n",
       "       [  79,  214,  336, 1252,  587, 5631,  432,  529]])"
      ]
     },
     "execution_count": 22,
     "metadata": {},
     "output_type": "execute_result"
    }
   ],
   "source": [
    "cm"
   ]
  },
  {
   "cell_type": "code",
   "execution_count": 25,
   "metadata": {},
   "outputs": [
    {
     "data": {
      "text/plain": [
       "0.07078510830588029"
      ]
     },
     "execution_count": 25,
     "metadata": {},
     "output_type": "execute_result"
    }
   ],
   "source": [
    "accuracy_score(sentence_guesses.level, sentence_guesses.best_guess)"
   ]
  },
  {
   "cell_type": "code",
   "execution_count": 27,
   "metadata": {},
   "outputs": [
    {
     "data": {
      "text/plain": [
       "0.07078510830588029"
      ]
     },
     "execution_count": 27,
     "metadata": {},
     "output_type": "execute_result"
    }
   ],
   "source": [
    "len(sentence_guesses[sentence_guesses.level == sentence_guesses.best_guess]) / len(sentence_guesses)"
   ]
  },
  {
   "cell_type": "markdown",
   "metadata": {},
   "source": [
    "## Article level"
   ]
  },
  {
   "cell_type": "code",
   "execution_count": 28,
   "metadata": {},
   "outputs": [
    {
     "name": "stdout",
     "output_type": "stream",
     "text": [
      "iteration 10, article ('gerrymandering-redistricting', 3)\n",
      "iteration 20, article ('hawaii-philosophical', 3)\n",
      "iteration 30, article ('nobel-literature', 5)\n",
      "iteration 40, article ('mexico-earthquake', 5)\n",
      "iteration 50, article ('parents-let-teens-ride-uber', 4)\n",
      "iteration 60, article ('mummy-scans', 3)\n",
      "iteration 70, article ('tortoise-shells', 7)\n",
      "iteration 80, article ('teen-nasajob', 2)\n",
      "iteration 90, article ('tsunami-pod', 3)\n",
      "iteration 100, article ('netflix-fortnite', 5)\n",
      "iteration 110, article ('preslibrary-land', 4)\n",
      "iteration 120, article ('nutria-laststand', 8)\n",
      "iteration 130, article ('pokemon-augmented-reality', 7)\n",
      "iteration 140, article ('opinion-how-transform-education-system', 3)\n",
      "iteration 150, article ('payphone-wifi', 7)\n",
      "iteration 160, article ('wildfires-tennessee-warning', 5)\n",
      "iteration 170, article ('Obama-Islamic-State', 4)\n",
      "iteration 180, article ('perry-presannounce', 5)\n",
      "iteration 190, article ('wars-procon', 5)\n",
      "iteration 200, article ('bbking-obit', 9)\n",
      "iteration 210, article ('goldfish-suit', 5)\n",
      "iteration 220, article ('trump-chicagoprotest', 3)\n",
      "iteration 230, article ('jeremylin-oped', 8)\n",
      "iteration 240, article ('pluto-planet-debate', 3)\n",
      "iteration 250, article ('universal-flu-vaccine-llamas', 9)\n",
      "iteration 260, article ('cubs-world-series-indians', 7)\n",
      "iteration 270, article ('chicken-pox-strikes-anti-vaccination-stronghold', 5)\n",
      "iteration 280, article ('southchinasea-coral', 6)\n",
      "iteration 290, article ('apple-artgallery', 5)\n",
      "iteration 300, article ('census-race', 7)\n",
      "iteration 310, article ('austin-bombings-label', 3)\n",
      "iteration 320, article ('rosetta-orbiter-end-journey', 4)\n",
      "iteration 330, article ('turkey-immigrant-thanksgiving', 7)\n",
      "iteration 340, article ('indians-remove-logo', 3)\n",
      "iteration 350, article ('kea-extinction', 3)\n",
      "iteration 360, article ('socialmedia-socialawareness', 5)\n",
      "iteration 370, article ('mexico-earthquake-victory-world-cup', 7)\n",
      "iteration 380, article ('obesity-genetics', 7)\n",
      "iteration 390, article ('the-kid-who-would-be-king', 3)\n",
      "iteration 400, article ('tortoise-shells', 6)\n",
      "iteration 410, article ('underarmour-biz', 7)\n",
      "iteration 420, article ('stephon-clark-police-shooting', 3)\n",
      "iteration 430, article ('diverse-congress', 5)\n",
      "iteration 440, article ('syrian-brides', 7)\n",
      "iteration 450, article ('australia-sharks-drones', 5)\n",
      "iteration 460, article ('esports-high-school', 9)\n",
      "iteration 470, article ('student-ya-muslim-book', 3)\n",
      "iteration 480, article ('elem-nutella-recipe', 5)\n",
      "iteration 490, article ('b2-resurrection', 4)\n",
      "iteration 500, article ('setting-goals-new-year', 4)\n",
      "iteration 510, article ('elem-alaska-record-snowfall-rate', 3)\n",
      "iteration 520, article ('blackwomen-caucus', 3)\n",
      "iteration 530, article ('student-art-ferguson-congressman', 6)\n",
      "iteration 540, article ('americanjewish-soldier', 5)\n",
      "iteration 550, article ('innovation-discontents', 5)\n",
      "iteration 560, article ('mars-toxic-chemicals', 5)\n",
      "iteration 570, article ('homework-burden', 5)\n",
      "iteration 580, article ('fantasysports-legality', 9)\n",
      "iteration 590, article ('warriors-win-nba-finals', 9)\n",
      "iteration 600, article ('mexico-earthquake', 3)\n",
      "iteration 610, article ('gaza-fighting', 7)\n",
      "iteration 620, article ('moon-trump-destination', 9)\n",
      "iteration 630, article ('black-panther-afrofuturism', 7)\n",
      "iteration 640, article ('sports-television', 8)\n",
      "iteration 650, article ('paralympics-skier-cheered-on', 7)\n",
      "iteration 660, article ('collegecampus-unrest', 3)\n",
      "iteration 670, article ('alien-immigrationlanguage', 7)\n",
      "iteration 680, article ('racerelations-ferguson', 7)\n",
      "iteration 690, article ('poor-smoking', 6)\n",
      "iteration 700, article ('healthcare-callcenter', 5)\n",
      "iteration 710, article ('martian-mojave', 4)\n",
      "iteration 720, article ('Ukraine-invasion', 9)\n",
      "iteration 730, article ('polar-bears-alaskan-natives', 3)\n",
      "iteration 740, article ('childrens-movies-for-everyone', 3)\n",
      "iteration 750, article ('terror-messaging', 7)\n",
      "iteration 760, article ('parisattack-socialmedia', 5)\n",
      "iteration 770, article ('younger-kids-need-exercise', 9)\n",
      "iteration 780, article ('sports-metrics', 4)\n",
      "iteration 790, article ('obama-guncontrol', 3)\n",
      "iteration 800, article ('hashtag-staymadabby', 3)\n",
      "iteration 810, article ('ahmed-clockteacher', 4)\n",
      "iteration 820, article ('northkorea-statues', 2)\n",
      "iteration 830, article ('nobel-literature', 9)\n",
      "iteration 840, article ('halloween-spending', 3)\n",
      "iteration 850, article ('refugee-dolls', 7)\n",
      "iteration 860, article ('basketball-kareem-abdul-jabbar-tour', 7)\n",
      "iteration 870, article ('school-garden', 6)\n",
      "iteration 880, article ('processed-foods', 8)\n",
      "iteration 890, article ('somali-policewoman', 5)\n",
      "iteration 900, article ('alberta-wildfire', 3)\n",
      "iteration 910, article ('war-artifacts', 7)\n",
      "iteration 920, article ('Detroit-bankruptcy', 8)\n",
      "iteration 930, article ('Free-fashions', 6)\n",
      "iteration 940, article ('national-emergency-border', 5)\n",
      "iteration 950, article ('sesamestreet-autism', 4)\n",
      "iteration 960, article ('texas-ebola', 4)\n",
      "iteration 970, article ('stinkbugs-crops', 8)\n",
      "iteration 980, article ('why-wait-to-let-girls-join-boy-scouts', 5)\n",
      "iteration 990, article ('wildfire-deaths', 5)\n",
      "iteration 1000, article ('dinosaur-geology', 5)\n",
      "iteration 1010, article ('obesity-economics', 8)\n",
      "iteration 1020, article ('farms-data', 6)\n",
      "iteration 1030, article ('zoo-paintings-animal-artists', 2)\n",
      "iteration 1040, article ('robotics-competition-global-alliances', 5)\n",
      "iteration 1050, article ('police-shootings-black-recruit', 5)\n",
      "iteration 1060, article ('alaska-nativefood', 4)\n",
      "iteration 1070, article ('colombian-bird-watchers', 3)\n",
      "iteration 1080, article ('africanimmigrants-educated', 5)\n",
      "iteration 1090, article ('disgusting-food-museum', 9)\n",
      "iteration 1100, article ('robot-wars', 7)\n",
      "iteration 1110, article ('elem-norway-food-waste-supermarket', 3)\n",
      "iteration 1120, article ('railroad-chineseworkers', 5)\n",
      "iteration 1130, article ('obama-mars-companies', 7)\n",
      "iteration 1140, article ('arthropod-fossil', 7)\n",
      "iteration 1150, article ('child-rebels', 5)\n",
      "iteration 1160, article ('beluga-aquarium', 5)\n",
      "iteration 1170, article ('obama-tribe', 4)\n",
      "iteration 1180, article ('president-cant-block-people-on-twitter', 3)\n",
      "iteration 1190, article ('linguistics-huh', 8)\n",
      "iteration 1200, article ('astronaut-twins', 6)\n",
      "iteration 1210, article ('slaveship-artifacts', 6)\n",
      "iteration 1220, article ('colleges-want-asian-american-studies', 5)\n",
      "iteration 1230, article ('textbook-civilwar', 3)\n",
      "iteration 1240, article ('nemtsov-march', 4)\n",
      "iteration 1250, article ('immigration-el-salvador', 7)\n",
      "iteration 1260, article ('nigeria-president', 4)\n",
      "iteration 1270, article ('jimmy-chin-art-of-chill', 4)\n",
      "iteration 1280, article ('teen-wants-compassionate-cure-cancer', 3)\n",
      "iteration 1290, article ('dumpster-fire-added-to-dictionary', 5)\n",
      "iteration 1300, article ('doctors-prescribe-food', 5)\n",
      "iteration 1310, article ('alabama-special-election', 3)\n",
      "iteration 1320, article ('hiring-formerfelons', 7)\n",
      "iteration 1330, article ('new-tipi-exhibit', 9)\n",
      "iteration 1340, article ('student-testing', 7)\n",
      "iteration 1350, article ('oreo-cocaine', 5)\n",
      "iteration 1360, article ('apple-itunes', 9)\n",
      "iteration 1370, article ('lunch-cheese-sandwich', 4)\n",
      "iteration 1380, article ('animation-bighero6', 4)\n",
      "iteration 1390, article ('microbes-extinction', 8)\n",
      "iteration 1400, article ('sixyearold-noflylist', 7)\n",
      "iteration 1410, article ('female-drivers-daytona', 5)\n",
      "iteration 1420, article ('alabama-special-election', 7)\n",
      "iteration 1430, article ('fisherman-aztec-floating-gardens', 5)\n",
      "iteration 1440, article ('elem-mcdonalds-plastic-straw-alternatives', 3)\n",
      "iteration 1450, article ('women-welding', 3)\n",
      "iteration 1460, article ('fatherdaughter-dance', 4)\n",
      "iteration 1470, article ('boxing-rousey', 3)\n",
      "iteration 1480, article ('baltimore-riot', 4)\n",
      "iteration 1490, article ('sanders-snapchat', 5)\n",
      "iteration 1500, article ('sierra-leone-mudslides', 5)\n",
      "iteration 1510, article ('cattle-skittle-spill', 5)\n",
      "iteration 1520, article ('armyranger-female', 4)\n",
      "iteration 1530, article ('oreo-thins', 8)\n",
      "iteration 1540, article ('anti-zika-bee-death', 5)\n",
      "iteration 1550, article ('tapeworm-cancer', 3)\n",
      "iteration 1560, article ('rubio-presannounce', 4)\n",
      "iteration 1570, article ('rio-flame', 7)\n",
      "iteration 1580, article ('feathery-dinosaur-flew', 5)\n",
      "iteration 1590, article ('publichousing-smokingban', 6)\n",
      "iteration 1600, article ('elem-opinion-playing-sports', 4)\n"
     ]
    },
    {
     "name": "stdout",
     "output_type": "stream",
     "text": [
      "iteration 1610, article ('elem-crawfish-invasion-berlin', 5)\n",
      "iteration 1620, article ('pie-tops-pizza-sneakers', 7)\n",
      "iteration 1630, article ('discrimination-native-americans', 9)\n",
      "iteration 1640, article ('elem-part-time-hermit', 4)\n",
      "iteration 1650, article ('google-selfcars', 4)\n",
      "iteration 1660, article ('testscores-mathreading', 6)\n",
      "iteration 1670, article ('elem-night-animals-zoo-exhibit', 4)\n",
      "iteration 1680, article ('nasa-job-save-earth-from-aliens', 7)\n",
      "iteration 1690, article ('elem-donated-sports-gear', 2)\n",
      "iteration 1700, article ('flyers-mascot-gritty', 7)\n",
      "iteration 1710, article ('brothers-keeper', 9)\n",
      "iteration 1720, article ('elem-selfie-penguins', 2)\n",
      "iteration 1730, article ('illnesses-carried-by-bugs-increasing', 9)\n",
      "iteration 1740, article ('elem-macaw-birds-blush', 4)\n",
      "iteration 1750, article ('elem-school-drumline', 3)\n",
      "iteration 1760, article ('paddington-bear-sixty', 5)\n",
      "iteration 1770, article ('youth-smoking-increase-vaping', 3)\n",
      "iteration 1780, article ('elem-siberia-coldest-village', 2)\n",
      "iteration 1790, article ('menu-for-astronauts', 2)\n",
      "iteration 1800, article ('elem-italy-fruit-battle', 2)\n",
      "iteration 1810, article ('elem-lizards-wind-experiment', 4)\n",
      "iteration 1820, article ('elem-dorothys-stolen-ruby-slippers-found', 3)\n",
      "iteration 1830, article ('elem-food-from-trash', 3)\n",
      "iteration 1840, article ('children-have-powerful-moral-authority', 7)\n",
      "iteration 1850, article ('elem-northern-lights', 5)\n",
      "iteration 1860, article ('sesame-street-oscar-grouch', 5)\n",
      "iteration 1870, article ('elem-indiana-jones-thailand', 5)\n",
      "iteration 1880, article ('wearing-glasses-intelligence', 3)\n",
      "iteration 1890, article ('middle-class-mummies-egypt', 2)\n",
      "iteration 1900, article ('elem-little-tikes-tour', 2)\n",
      "iteration 1910, article ('elem-nutty-nature', 3)\n",
      "iteration 1920, article ('elem-mice-settlements', 2)\n",
      "iteration 1930, article ('why-do-we-sleep', 7)\n",
      "iteration 1940, article ('surfer-takes-epic-ride', 3)\n",
      "iteration 1950, article ('elem-drones-amazon-brazil', 5)\n",
      "iteration 1960, article ('march-madness-womens-basketball', 2)\n"
     ]
    }
   ],
   "source": [
    "means = articleLM.compute_article_best_grade_levels()"
   ]
  },
  {
   "cell_type": "code",
   "execution_count": 29,
   "metadata": {},
   "outputs": [
    {
     "data": {
      "image/png": "[encoded data removed]",
      "text/plain": [
       "<Figure size 720x576 with 1 Axes>"
      ]
     },
     "metadata": {
      "needs_background": "light"
     },
     "output_type": "display_data"
    }
   ],
   "source": [
    "articleLM.plot_article_best_grade_levels(means)"
   ]
  },
  {
   "cell_type": "code",
   "execution_count": 30,
   "metadata": {},
   "outputs": [
    {
     "data": {
      "text/html": [
       "<div>\n",
       "<style scoped>\n",
       "    .dataframe tbody tr th:only-of-type {\n",
       "        vertical-align: middle;\n",
       "    }\n",
       "\n",
       "    .dataframe tbody tr th {\n",
       "        vertical-align: top;\n",
       "    }\n",
       "\n",
       "    .dataframe thead th {\n",
       "        text-align: right;\n",
       "    }\n",
       "</style>\n",
       "<table border=\"1\" class=\"dataframe\">\n",
       "  <thead>\n",
       "    <tr style=\"text-align: right;\">\n",
       "      <th></th>\n",
       "      <th>article</th>\n",
       "      <th>true_gl</th>\n",
       "      <th>predicted_gl</th>\n",
       "    </tr>\n",
       "  </thead>\n",
       "  <tbody>\n",
       "    <tr>\n",
       "      <th>0</th>\n",
       "      <td>10dollarbill-woman</td>\n",
       "      <td>5</td>\n",
       "      <td>6.169811</td>\n",
       "    </tr>\n",
       "    <tr>\n",
       "      <th>1</th>\n",
       "      <td>10dollarbill-woman</td>\n",
       "      <td>6</td>\n",
       "      <td>7.403846</td>\n",
       "    </tr>\n",
       "    <tr>\n",
       "      <th>2</th>\n",
       "      <td>13-year-old-soccer-player-pro</td>\n",
       "      <td>3</td>\n",
       "      <td>5.255319</td>\n",
       "    </tr>\n",
       "    <tr>\n",
       "      <th>3</th>\n",
       "      <td>13yo-college-acceptance</td>\n",
       "      <td>8</td>\n",
       "      <td>5.557692</td>\n",
       "    </tr>\n",
       "    <tr>\n",
       "      <th>4</th>\n",
       "      <td>2016-trump-win</td>\n",
       "      <td>5</td>\n",
       "      <td>6.803030</td>\n",
       "    </tr>\n",
       "  </tbody>\n",
       "</table>\n",
       "</div>"
      ],
      "text/plain": [
       "                         article  true_gl  predicted_gl\n",
       "0             10dollarbill-woman        5      6.169811\n",
       "1             10dollarbill-woman        6      7.403846\n",
       "2  13-year-old-soccer-player-pro        3      5.255319\n",
       "3        13yo-college-acceptance        8      5.557692\n",
       "4                 2016-trump-win        5      6.803030"
      ]
     },
     "execution_count": 30,
     "metadata": {},
     "output_type": "execute_result"
    }
   ],
   "source": [
    "means.head()"
   ]
  },
  {
   "cell_type": "code",
   "execution_count": 31,
   "metadata": {},
   "outputs": [],
   "source": [
    "means.loc[:,'predicted_gl'] = means.predicted_gl.astype('int')"
   ]
  },
  {
   "cell_type": "code",
   "execution_count": 32,
   "metadata": {},
   "outputs": [],
   "source": [
    "means.loc[:,'true_easy'] = [1 if x <= 5 else 0 for x in means.true_gl]\n",
    "means.loc[:,'predicted_easy'] = [1 if x <= 5 else 0 for x in means.predicted_gl]"
   ]
  },
  {
   "cell_type": "code",
   "execution_count": 33,
   "metadata": {},
   "outputs": [],
   "source": [
    "from sklearn.metrics import confusion_matrix, f1_score\n",
    "\n",
    "cm = confusion_matrix(means.true_easy, means.predicted_easy)"
   ]
  },
  {
   "cell_type": "code",
   "execution_count": 34,
   "metadata": {},
   "outputs": [
    {
     "data": {
      "text/plain": [
       "77.51147373788883"
      ]
     },
     "execution_count": 34,
     "metadata": {},
     "output_type": "execute_result"
    }
   ],
   "source": [
    "len(means[means.true_easy == means.predicted_easy] ) * 100/ len(means)"
   ]
  },
  {
   "cell_type": "code",
   "execution_count": 35,
   "metadata": {},
   "outputs": [],
   "source": [
    "cm = confusion_matrix(means.true_gl, means.predicted_gl)"
   ]
  },
  {
   "cell_type": "code",
   "execution_count": 36,
   "metadata": {},
   "outputs": [
    {
     "data": {
      "text/plain": [
       "array([[  3, 103,  17,   2,   0,   0,   0,   0],\n",
       "       [ 10,  44, 189,  83,   5,   0,   0,   0],\n",
       "       [  0,  27,  86, 120,  28,   2,   0,   0],\n",
       "       [  0,  28,  69, 156, 135,  19,   1,   0],\n",
       "       [  0,   0,  33,  35,  97,  32,   0,   0],\n",
       "       [  0,   0,  13,  75,  47, 112,  41,   0],\n",
       "       [  0,   0,   4,  64,  80,   5,   1,   0],\n",
       "       [  0,   0,   1,  26, 148,  20,   0,   0]])"
      ]
     },
     "execution_count": 36,
     "metadata": {},
     "output_type": "execute_result"
    }
   ],
   "source": [
    "cm"
   ]
  },
  {
   "cell_type": "code",
   "execution_count": 37,
   "metadata": {},
   "outputs": [
    {
     "data": {
      "text/plain": [
       "0.8095032397408207"
      ]
     },
     "execution_count": 37,
     "metadata": {},
     "output_type": "execute_result"
    }
   ],
   "source": [
    "f1_score(means.true_easy, means.predicted_easy, pos_label=1)"
   ]
  },
  {
   "cell_type": "code",
   "execution_count": null,
   "metadata": {},
   "outputs": [],
   "source": []
  },
  {
   "cell_type": "code",
   "execution_count": null,
   "metadata": {},
   "outputs": [],
   "source": []
  },
  {
   "cell_type": "code",
   "execution_count": null,
   "metadata": {},
   "outputs": [],
   "source": []
  },
  {
   "cell_type": "code",
   "execution_count": null,
   "metadata": {},
   "outputs": [],
   "source": []
  },
  {
   "cell_type": "code",
   "execution_count": null,
   "metadata": {},
   "outputs": [],
   "source": []
  },
  {
   "cell_type": "code",
   "execution_count": null,
   "metadata": {},
   "outputs": [],
   "source": []
  },
  {
   "cell_type": "code",
   "execution_count": null,
   "metadata": {},
   "outputs": [],
   "source": [
    "article_df.groupby(['article', 'true_gl']).mean()"
   ]
  },
  {
   "cell_type": "code",
   "execution_count": null,
   "metadata": {},
   "outputs": [
    {
     "name": "stderr",
     "output_type": "stream",
     "text": [
      "/Users/stephanie/miniconda3/envs/autograder/lib/python3.7/site-packages/pandas/core/groupby/generic.py:1315: FutureWarning: using a dict with renaming is deprecated and will be removed in a future version\n",
      "  return super(DataFrameGroupBy, self).aggregate(arg, *args, **kwargs)\n"
     ]
    }
   ],
   "source": [
    "article_df.groupby(['article', 'true_gl']).agg({np.mean: 'min_perplexity'})"
   ]
  },
  {
   "cell_type": "code",
   "execution_count": null,
   "metadata": {},
   "outputs": [],
   "source": [
    "    def compute_perplexity_validation(self, split_type, grade_level):\n",
    "        \"\"\"\n",
    "        Each row is a different sentence\n",
    "        :param split_type:\n",
    "        :param grade_level:\n",
    "        :return:\n",
    "        \"\"\"\n",
    "        # Split type can be 'val' or 'test'\n",
    "        sample_perp = dict()\n",
    "        for ix, sentence in enumerate(self.grade_level_sentences[split_type][grade_level]):\n",
    "            perplexities = self.compute_sentence_perplexities(sentence)\n",
    "            sample_perp[ix] = perplexities\n",
    "        sample_perp_df = pd.DataFrame(sample_perp).T\n",
    "        sample_perp_df.columns = sorted(self.models.keys())\n",
    "\n",
    "        sample_perp_df.loc[:, 'min_perplexity'] = sample_perp_df.idxmin(axis=1, skipna=True)\n",
    "        sample_perp_df.loc[:, 'max_perplexity'] = sample_perp_df.idxmax(axis=1, skipna=True)\n",
    "        return sample_perp_df"
   ]
  },
  {
   "cell_type": "markdown",
   "metadata": {},
   "source": [
    "# Comparing perplexities"
   ]
  },
  {
   "cell_type": "code",
   "execution_count": 14,
   "metadata": {},
   "outputs": [],
   "source": [
    "GL = dict()\n",
    "grade_levels_considered = [2, 3, 4, 5, 6, 7, 8, 9]"
   ]
  },
  {
   "cell_type": "code",
   "execution_count": 15,
   "metadata": {},
   "outputs": [],
   "source": [
    "for gl in sorted(articleLM.grade_level_sentences['val'].keys()):\n",
    "    GL[gl] = articleLM.compute_perplexity_validation('val', gl)"
   ]
  },
  {
   "cell_type": "code",
   "execution_count": 22,
   "metadata": {},
   "outputs": [],
   "source": [
    "perplex_best_guess = []\n",
    "perplex_gl = []\n",
    "\n",
    "for gl in sorted(articleLM.grade_level_sentences['val'].keys()):\n",
    "    perplex_best_guess.extend(GL[gl].min_perplexity)\n",
    "    perplex_gl.extend(np.ones_like(GL[gl].min_perplexity) * gl)\n",
    "    \n",
    "perplex_guesses = pd.DataFrame({'grade_level':perplex_gl, 'best_guess': perplex_best_guess})"
   ]
  },
  {
   "cell_type": "code",
   "execution_count": 23,
   "metadata": {},
   "outputs": [
    {
     "data": {
      "text/plain": [
       "Text(0, 0.5, 'Predicted Grade Level')"
      ]
     },
     "execution_count": 23,
     "metadata": {},
     "output_type": "execute_result"
    },
    {
     "data": {
      "image/png": "[encoded data removed]",
      "text/plain": [
       "<Figure size 720x576 with 1 Axes>"
      ]
     },
     "metadata": {
      "needs_background": "light"
     },
     "output_type": "display_data"
    }
   ],
   "source": [
    "fig = plt.figure(figsize=(10,8))\n",
    "ax = fig.gca()\n",
    "ax.set_title(\"Grade Level Distributions\")\n",
    "# ax.set_xlabel(\"True Grade Level\")\n",
    "# ax.set_ylabel(\"Predicted Grade Level\")\n",
    "sns.boxplot(ax=ax, x=\"grade_level\", y=\"best_guess\", data=perplex_guesses)\n",
    "ax.set_xlabel(\"True Grade Level\")\n",
    "ax.set_ylabel(\"Predicted Grade Level\")"
   ]
  },
  {
   "cell_type": "markdown",
   "metadata": {},
   "source": [
    "## Confusion matrix"
   ]
  },
  {
   "cell_type": "code",
   "execution_count": 25,
   "metadata": {},
   "outputs": [],
   "source": [
    "from sklearn.metrics import confusion_matrix\n",
    "\n",
    "cm = confusion_matrix(perplex_guesses.grade_level, perplex_guesses.best_guess)"
   ]
  },
  {
   "cell_type": "code",
   "execution_count": 32,
   "metadata": {},
   "outputs": [
    {
     "data": {
      "text/plain": [
       "array([[ 2272,  5933,  3590,  1370,   539,   278,   184,   110,     0,\n",
       "          595],\n",
       "       [ 5376,  6387,  9028, 14553,  2824,  3192,  1051,  1532,     0,\n",
       "         1633],\n",
       "       [ 2547,  6778,  1682, 12139,  4968,  2223,  1633,   698,     0,\n",
       "         1154],\n",
       "       [ 1451,  9404, 11330,  3176,  8200, 11894,  3080,  4394,     0,\n",
       "         2015],\n",
       "       [  285,  1699,  3956,  7481,   667,  4268,  5616,  1391,     0,\n",
       "         1348],\n",
       "       [  211,  1433,  2209,  9357,  4325,  1333,  3178, 11450,     0,\n",
       "         2029],\n",
       "       [  115,   526,  1507,  2885,  5478,  3390,   580,  1020,     0,\n",
       "         1386],\n",
       "       [   67,   572,   437,  3222,   932, 10692,   673,   947,     0,\n",
       "         1545],\n",
       "       [    1,     1,     0,    24,     2,     3,     3,     2,     0,\n",
       "           17],\n",
       "       [    0,     0,     0,     0,     0,     0,     0,     0,     0,\n",
       "            0]])"
      ]
     },
     "execution_count": 32,
     "metadata": {},
     "output_type": "execute_result"
    }
   ],
   "source": [
    "cm"
   ]
  },
  {
   "cell_type": "code",
   "execution_count": 26,
   "metadata": {},
   "outputs": [
    {
     "data": {
      "text/plain": [
       "1199.8395726096053"
      ]
     },
     "execution_count": 26,
     "metadata": {},
     "output_type": "execute_result"
    }
   ],
   "source": [
    "np.linalg.norm(perplex_guesses.grade_level - perplex_guesses.best_guess, ord=2)"
   ]
  },
  {
   "cell_type": "code",
   "execution_count": 27,
   "metadata": {},
   "outputs": [],
   "source": [
    "from sklearn.linear_model import LinearRegression\n",
    "\n",
    "lm = LinearRegression().fit(np.array(perplex_guesses.grade_level).reshape(-1, 1), \n",
    "                            np.array(perplex_guesses.best_guess))"
   ]
  },
  {
   "cell_type": "code",
   "execution_count": 28,
   "metadata": {},
   "outputs": [
    {
     "data": {
      "text/plain": [
       "array([0.4272429])"
      ]
     },
     "execution_count": 28,
     "metadata": {},
     "output_type": "execute_result"
    }
   ],
   "source": [
    "lm.coef_"
   ]
  },
  {
   "cell_type": "code",
   "execution_count": 29,
   "metadata": {},
   "outputs": [
    {
     "data": {
      "text/plain": [
       "3.458240040421758"
      ]
     },
     "execution_count": 29,
     "metadata": {},
     "output_type": "execute_result"
    }
   ],
   "source": [
    "lm.intercept_"
   ]
  },
  {
   "cell_type": "code",
   "execution_count": 30,
   "metadata": {},
   "outputs": [
    {
     "data": {
      "text/plain": [
       "0.14144455074056295"
      ]
     },
     "execution_count": 30,
     "metadata": {},
     "output_type": "execute_result"
    }
   ],
   "source": [
    "lm.score(np.array(perplex_guesses.grade_level).reshape(-1, 1), \n",
    "                            np.array(perplex_guesses.best_guess))"
   ]
  },
  {
   "cell_type": "code",
   "execution_count": 31,
   "metadata": {},
   "outputs": [
    {
     "data": {
      "text/plain": [
       "6.887132489615155"
      ]
     },
     "execution_count": 31,
     "metadata": {},
     "output_type": "execute_result"
    }
   ],
   "source": [
    "len(perplex_guesses[perplex_guesses.grade_level == perplex_guesses.best_guess] ) * 100/ len(perplex_guesses)"
   ]
  },
  {
   "cell_type": "code",
   "execution_count": null,
   "metadata": {},
   "outputs": [],
   "source": [
    "# perplex_guesses.loc[:,'school_type_actual'] = list(1 if x >= 5 else 0 for x in perplex_guesses.grade_level)\n",
    "# perplex_guesses.loc[:,'school_type_est'] = list(1 if x >= 5 else 0 for x in perplex_guesses.best_guess)"
   ]
  },
  {
   "cell_type": "code",
   "execution_count": 33,
   "metadata": {},
   "outputs": [],
   "source": [
    "perplex_guesses.loc[:,'high_actual'] = list(1 if x >= 5 else 0 for x in perplex_guesses.grade_level)\n",
    "perplex_guesses.loc[:,'high_est'] = list(1 if x >= 5 else 0 for x in perplex_guesses.best_guess)"
   ]
  },
  {
   "cell_type": "code",
   "execution_count": 34,
   "metadata": {},
   "outputs": [
    {
     "data": {
      "text/plain": [
       "array([[ 43593,  50676],\n",
       "       [ 35204, 118003]])"
      ]
     },
     "execution_count": 34,
     "metadata": {},
     "output_type": "execute_result"
    }
   ],
   "source": [
    "confusion_matrix(perplex_guesses.high_actual, perplex_guesses.high_est)"
   ]
  },
  {
   "cell_type": "code",
   "execution_count": 35,
   "metadata": {},
   "outputs": [
    {
     "data": {
      "text/plain": [
       "65.29764502416396"
      ]
     },
     "execution_count": 35,
     "metadata": {},
     "output_type": "execute_result"
    }
   ],
   "source": [
    "len(perplex_guesses[perplex_guesses.high_actual == perplex_guesses.high_est] ) * 100/ len(perplex_guesses)"
   ]
  },
  {
   "cell_type": "code",
   "execution_count": null,
   "metadata": {},
   "outputs": [],
   "source": []
  }
 ],
 "metadata": {
  "kernelspec": {
   "display_name": "Python 3",
   "language": "python",
   "name": "python3"
  },
  "language_info": {
   "codemirror_mode": {
    "name": "ipython",
    "version": 3
   },
   "file_extension": ".py",
   "mimetype": "text/x-python",
   "name": "python",
   "nbconvert_exporter": "python",
   "pygments_lexer": "ipython3",
   "version": "3.7.3"
  }
 },
 "nbformat": 4,
 "nbformat_minor": 2
}
