{
 "cells": [
  {
   "cell_type": "markdown",
   "metadata": {},
   "source": [
    "## Helpful Documentation:\n",
    "- https://github.com/kpu/kenlm\n",
    "- Old but useful: http://victor.chahuneau.fr/notes/2012/07/03/kenlm.html\n",
    "- http://smithamilli.com/blog/kneser-ney/\n",
    "- There are more notes here: https://kheafield.com/code/kenlm/estimation/"
   ]
  },
  {
   "cell_type": "code",
   "execution_count": 1,
   "metadata": {},
   "outputs": [],
   "source": [
    "from article_process import ArticleLM"
   ]
  },
  {
   "cell_type": "code",
   "execution_count": 2,
   "metadata": {},
   "outputs": [],
   "source": [
    "import matplotlib.pyplot as plt\n",
    "import seaborn as sns\n",
    "%matplotlib inline\n",
    "import numpy as np\n",
    "import pandas as pd"
   ]
  },
  {
   "cell_type": "code",
   "execution_count": 3,
   "metadata": {},
   "outputs": [],
   "source": [
    "path_to_data = '/Users/stephanie/data/newsela_article_corpus_2016-01-29'\n",
    "path_to_kenlm = '/Users/stephanie/github/kenlm'\n",
    "path_to_arpa = path_to_kenlm + '/lm'"
   ]
  },
  {
   "cell_type": "code",
   "execution_count": 4,
   "metadata": {},
   "outputs": [],
   "source": [
    "articleLM = ArticleLM(path_to_data, path_to_kenlm, path_to_arpa)"
   ]
  },
  {
   "cell_type": "code",
   "execution_count": null,
   "metadata": {},
   "outputs": [],
   "source": []
  },
  {
   "cell_type": "code",
   "execution_count": 5,
   "metadata": {},
   "outputs": [
    {
     "data": {
      "text/html": [
       "<div>\n",
       "<style scoped>\n",
       "    .dataframe tbody tr th:only-of-type {\n",
       "        vertical-align: middle;\n",
       "    }\n",
       "\n",
       "    .dataframe tbody tr th {\n",
       "        vertical-align: top;\n",
       "    }\n",
       "\n",
       "    .dataframe thead th {\n",
       "        text-align: right;\n",
       "    }\n",
       "</style>\n",
       "<table border=\"1\" class=\"dataframe\">\n",
       "  <thead>\n",
       "    <tr style=\"text-align: right;\">\n",
       "      <th></th>\n",
       "      <th>Unnamed: 0</th>\n",
       "      <th>Unnamed: 0.1</th>\n",
       "      <th>slug</th>\n",
       "      <th>language</th>\n",
       "      <th>title</th>\n",
       "      <th>grade_level</th>\n",
       "      <th>version</th>\n",
       "      <th>filename</th>\n",
       "      <th>train_val_test</th>\n",
       "      <th>is_original</th>\n",
       "    </tr>\n",
       "  </thead>\n",
       "  <tbody>\n",
       "    <tr>\n",
       "      <th>1</th>\n",
       "      <td>1</td>\n",
       "      <td>1</td>\n",
       "      <td>10dollarbill-woman</td>\n",
       "      <td>en</td>\n",
       "      <td>Americans weigh in to choose the woman who wil...</td>\n",
       "      <td>8</td>\n",
       "      <td>1</td>\n",
       "      <td>10dollarbill-woman.en.1.txt</td>\n",
       "      <td>train</td>\n",
       "      <td>False</td>\n",
       "    </tr>\n",
       "    <tr>\n",
       "      <th>2</th>\n",
       "      <td>2</td>\n",
       "      <td>2</td>\n",
       "      <td>10dollarbill-woman</td>\n",
       "      <td>en</td>\n",
       "      <td>The $10 question: Who will be the new face on ...</td>\n",
       "      <td>6</td>\n",
       "      <td>2</td>\n",
       "      <td>10dollarbill-woman.en.2.txt</td>\n",
       "      <td>val</td>\n",
       "      <td>False</td>\n",
       "    </tr>\n",
       "    <tr>\n",
       "      <th>3</th>\n",
       "      <td>3</td>\n",
       "      <td>3</td>\n",
       "      <td>10dollarbill-woman</td>\n",
       "      <td>en</td>\n",
       "      <td>New $10 bill will have a theme and a woman's p...</td>\n",
       "      <td>5</td>\n",
       "      <td>3</td>\n",
       "      <td>10dollarbill-woman.en.3.txt</td>\n",
       "      <td>train</td>\n",
       "      <td>False</td>\n",
       "    </tr>\n",
       "    <tr>\n",
       "      <th>4</th>\n",
       "      <td>4</td>\n",
       "      <td>4</td>\n",
       "      <td>10dollarbill-woman</td>\n",
       "      <td>en</td>\n",
       "      <td>We will soon have an American woman's face on ...</td>\n",
       "      <td>3</td>\n",
       "      <td>4</td>\n",
       "      <td>10dollarbill-woman.en.4.txt</td>\n",
       "      <td>train</td>\n",
       "      <td>False</td>\n",
       "    </tr>\n",
       "    <tr>\n",
       "      <th>6</th>\n",
       "      <td>6</td>\n",
       "      <td>6</td>\n",
       "      <td>17century-selfies</td>\n",
       "      <td>en</td>\n",
       "      <td>Dutch Golden Age artists created some of the o...</td>\n",
       "      <td>9</td>\n",
       "      <td>1</td>\n",
       "      <td>17century-selfies.en.1.txt</td>\n",
       "      <td>train</td>\n",
       "      <td>False</td>\n",
       "    </tr>\n",
       "  </tbody>\n",
       "</table>\n",
       "</div>"
      ],
      "text/plain": [
       "   Unnamed: 0  Unnamed: 0.1                slug language  \\\n",
       "1           1             1  10dollarbill-woman       en   \n",
       "2           2             2  10dollarbill-woman       en   \n",
       "3           3             3  10dollarbill-woman       en   \n",
       "4           4             4  10dollarbill-woman       en   \n",
       "6           6             6   17century-selfies       en   \n",
       "\n",
       "                                               title  grade_level  version  \\\n",
       "1  Americans weigh in to choose the woman who wil...            8        1   \n",
       "2  The $10 question: Who will be the new face on ...            6        2   \n",
       "3  New $10 bill will have a theme and a woman's p...            5        3   \n",
       "4  We will soon have an American woman's face on ...            3        4   \n",
       "6  Dutch Golden Age artists created some of the o...            9        1   \n",
       "\n",
       "                      filename train_val_test is_original  \n",
       "1  10dollarbill-woman.en.1.txt          train       False  \n",
       "2  10dollarbill-woman.en.2.txt            val       False  \n",
       "3  10dollarbill-woman.en.3.txt          train       False  \n",
       "4  10dollarbill-woman.en.4.txt          train       False  \n",
       "6   17century-selfies.en.1.txt          train       False  "
      ]
     },
     "execution_count": 5,
     "metadata": {},
     "output_type": "execute_result"
    }
   ],
   "source": [
    "articleLM.metadata_split.head()"
   ]
  },
  {
   "cell_type": "markdown",
   "metadata": {},
   "source": [
    "## Remove `is_original`\n",
    "Only do this once"
   ]
  },
  {
   "cell_type": "code",
   "execution_count": 29,
   "metadata": {},
   "outputs": [],
   "source": [
    "from utils.redshift_connection import df_from_query"
   ]
  },
  {
   "cell_type": "code",
   "execution_count": 30,
   "metadata": {},
   "outputs": [],
   "source": [
    "is_original_q = \"\"\"\n",
    "SELECT ah.slug AS slug,\n",
    "       -- al.article_header_id AS article_header_id,\n",
    "       CAST(al.grade_level AS int) AS grade_level,\n",
    "       al.is_original AS is_original\n",
    "FROM public.article_levels al\n",
    "JOIN public.article_headers ah\n",
    "    ON al.article_header_id = ah.article_header_id\n",
    "WHERE ah.slug in {}\n",
    "\"\"\".format(tuple(articleLM.metadata.slug.unique()))\n",
    "is_original = df_from_query(is_original_q)"
   ]
  },
  {
   "cell_type": "code",
   "execution_count": 31,
   "metadata": {},
   "outputs": [],
   "source": [
    "df = pd.merge(articleLM.metadata, is_original, on=['slug', 'grade_level'], how='left')"
   ]
  },
  {
   "cell_type": "code",
   "execution_count": 34,
   "metadata": {},
   "outputs": [
    {
     "data": {
      "text/plain": [
       "60"
      ]
     },
     "execution_count": 34,
     "metadata": {},
     "output_type": "execute_result"
    }
   ],
   "source": [
    "len(df[(df.is_original==True) & (df.grade_level < 12)])"
   ]
  },
  {
   "cell_type": "code",
   "execution_count": 72,
   "metadata": {},
   "outputs": [
    {
     "data": {
      "text/html": [
       "<div>\n",
       "<style scoped>\n",
       "    .dataframe tbody tr th:only-of-type {\n",
       "        vertical-align: middle;\n",
       "    }\n",
       "\n",
       "    .dataframe tbody tr th {\n",
       "        vertical-align: top;\n",
       "    }\n",
       "\n",
       "    .dataframe thead th {\n",
       "        text-align: right;\n",
       "    }\n",
       "</style>\n",
       "<table border=\"1\" class=\"dataframe\">\n",
       "  <thead>\n",
       "    <tr style=\"text-align: right;\">\n",
       "      <th></th>\n",
       "      <th>slug</th>\n",
       "      <th>language</th>\n",
       "      <th>title</th>\n",
       "      <th>grade_level</th>\n",
       "      <th>version</th>\n",
       "      <th>filename</th>\n",
       "      <th>is_original</th>\n",
       "    </tr>\n",
       "  </thead>\n",
       "  <tbody>\n",
       "    <tr>\n",
       "      <th>624</th>\n",
       "      <td>apple-beats</td>\n",
       "      <td>en</td>\n",
       "      <td>Apple adds more swagger with $3B Beats acquisi...</td>\n",
       "      <td>9</td>\n",
       "      <td>0</td>\n",
       "      <td>apple-beats.en.0.txt</td>\n",
       "      <td>True</td>\n",
       "    </tr>\n",
       "    <tr>\n",
       "      <th>684</th>\n",
       "      <td>arizona-posse</td>\n",
       "      <td>en</td>\n",
       "      <td>Arizona immigration posse now on school patrol</td>\n",
       "      <td>8</td>\n",
       "      <td>0</td>\n",
       "      <td>arizona-posse.en.0.txt</td>\n",
       "      <td>True</td>\n",
       "    </tr>\n",
       "    <tr>\n",
       "      <th>706</th>\n",
       "      <td>art-heist</td>\n",
       "      <td>en</td>\n",
       "      <td>FBI seeks help in solving famous crime</td>\n",
       "      <td>4</td>\n",
       "      <td>3</td>\n",
       "      <td>art-heist.en.3.txt</td>\n",
       "      <td>True</td>\n",
       "    </tr>\n",
       "    <tr>\n",
       "      <th>727</th>\n",
       "      <td>arts-education</td>\n",
       "      <td>en</td>\n",
       "      <td>First lady: Arts education good for good schools</td>\n",
       "      <td>9</td>\n",
       "      <td>0</td>\n",
       "      <td>arts-education.en.0.txt</td>\n",
       "      <td>True</td>\n",
       "    </tr>\n",
       "    <tr>\n",
       "      <th>842</th>\n",
       "      <td>autism-jobs</td>\n",
       "      <td>en</td>\n",
       "      <td>Data entry, software testing offer autistic pe...</td>\n",
       "      <td>8</td>\n",
       "      <td>0</td>\n",
       "      <td>autism-jobs.en.0.txt</td>\n",
       "      <td>True</td>\n",
       "    </tr>\n",
       "  </tbody>\n",
       "</table>\n",
       "</div>"
      ],
      "text/plain": [
       "               slug language  \\\n",
       "624     apple-beats       en   \n",
       "684   arizona-posse       en   \n",
       "706       art-heist       en   \n",
       "727  arts-education       en   \n",
       "842     autism-jobs       en   \n",
       "\n",
       "                                                 title  grade_level  version  \\\n",
       "624  Apple adds more swagger with $3B Beats acquisi...            9        0   \n",
       "684     Arizona immigration posse now on school patrol            8        0   \n",
       "706            FBI seeks help in solving famous crime             4        3   \n",
       "727   First lady: Arts education good for good schools            9        0   \n",
       "842  Data entry, software testing offer autistic pe...            8        0   \n",
       "\n",
       "                    filename is_original  \n",
       "624     apple-beats.en.0.txt        True  \n",
       "684   arizona-posse.en.0.txt        True  \n",
       "706       art-heist.en.3.txt        True  \n",
       "727  arts-education.en.0.txt        True  \n",
       "842     autism-jobs.en.0.txt        True  "
      ]
     },
     "execution_count": 72,
     "metadata": {},
     "output_type": "execute_result"
    }
   ],
   "source": [
    "df[(df.is_original==True) & (df.grade_level < 12)].head()"
   ]
  },
  {
   "cell_type": "code",
   "execution_count": 18,
   "metadata": {},
   "outputs": [],
   "source": [
    "articleLM.metadata_split = pd.merge(articleLM.metadata_split, is_original, on=['slug', 'grade_level'], how='left')\n",
    "articleLM.metadata_split.to_csv(articleLM.path_to_data + '/articles_metadata_split.csv')"
   ]
  },
  {
   "cell_type": "code",
   "execution_count": 27,
   "metadata": {},
   "outputs": [
    {
     "data": {
      "text/plain": [
       "10786"
      ]
     },
     "execution_count": 27,
     "metadata": {},
     "output_type": "execute_result"
    }
   ],
   "source": [
    "len(articleLM.metadata_split)"
   ]
  },
  {
   "cell_type": "code",
   "execution_count": null,
   "metadata": {},
   "outputs": [],
   "source": [
    "len(articleLM.metadata_split)"
   ]
  },
  {
   "cell_type": "code",
   "execution_count": 24,
   "metadata": {},
   "outputs": [
    {
     "data": {
      "text/plain": [
       "array([12,  9,  8,  4, 10,  6,  3, 11])"
      ]
     },
     "execution_count": 24,
     "metadata": {},
     "output_type": "execute_result"
    }
   ],
   "source": [
    "articleLM.metadata_split[articleLM.metadata_split.is_original == True].grade_level.unique()"
   ]
  },
  {
   "cell_type": "code",
   "execution_count": 26,
   "metadata": {},
   "outputs": [
    {
     "data": {
      "text/plain": [
       "array([True, False], dtype=object)"
      ]
     },
     "execution_count": 26,
     "metadata": {},
     "output_type": "execute_result"
    }
   ],
   "source": [
    "articleLM.metadata_split[articleLM.metadata_split.grade_level==12].is_original.unique()"
   ]
  },
  {
   "cell_type": "markdown",
   "metadata": {},
   "source": [
    "## Preprocess testing"
   ]
  },
  {
   "cell_type": "code",
   "execution_count": 5,
   "metadata": {},
   "outputs": [],
   "source": [
    "import re\n",
    "from nltk import sent_tokenize, word_tokenize"
   ]
  },
  {
   "cell_type": "code",
   "execution_count": 76,
   "metadata": {},
   "outputs": [
    {
     "data": {
      "text/html": [
       "<div>\n",
       "<style scoped>\n",
       "    .dataframe tbody tr th:only-of-type {\n",
       "        vertical-align: middle;\n",
       "    }\n",
       "\n",
       "    .dataframe tbody tr th {\n",
       "        vertical-align: top;\n",
       "    }\n",
       "\n",
       "    .dataframe thead th {\n",
       "        text-align: right;\n",
       "    }\n",
       "</style>\n",
       "<table border=\"1\" class=\"dataframe\">\n",
       "  <thead>\n",
       "    <tr style=\"text-align: right;\">\n",
       "      <th></th>\n",
       "      <th>Unnamed: 0</th>\n",
       "      <th>Unnamed: 0.1</th>\n",
       "      <th>slug</th>\n",
       "      <th>language</th>\n",
       "      <th>title</th>\n",
       "      <th>grade_level</th>\n",
       "      <th>version</th>\n",
       "      <th>filename</th>\n",
       "      <th>train_val_test</th>\n",
       "      <th>is_original</th>\n",
       "    </tr>\n",
       "  </thead>\n",
       "  <tbody>\n",
       "    <tr>\n",
       "      <th>9212</th>\n",
       "      <td>9212</td>\n",
       "      <td>9212</td>\n",
       "      <td>stinkbugs-crops</td>\n",
       "      <td>en</td>\n",
       "      <td>Stink bugs threaten U.S. orchards and crops</td>\n",
       "      <td>8</td>\n",
       "      <td>1</td>\n",
       "      <td>stinkbugs-crops.en.1.txt</td>\n",
       "      <td>train</td>\n",
       "      <td>False</td>\n",
       "    </tr>\n",
       "    <tr>\n",
       "      <th>9213</th>\n",
       "      <td>9213</td>\n",
       "      <td>9213</td>\n",
       "      <td>stinkbugs-crops</td>\n",
       "      <td>en</td>\n",
       "      <td>Stink bugs a persistent problem for U.S. crops</td>\n",
       "      <td>6</td>\n",
       "      <td>2</td>\n",
       "      <td>stinkbugs-crops.en.2.txt</td>\n",
       "      <td>train</td>\n",
       "      <td>False</td>\n",
       "    </tr>\n",
       "    <tr>\n",
       "      <th>9214</th>\n",
       "      <td>9214</td>\n",
       "      <td>9214</td>\n",
       "      <td>stinkbugs-crops</td>\n",
       "      <td>en</td>\n",
       "      <td>Stink bugs can be a big pest for U.S. orchards</td>\n",
       "      <td>5</td>\n",
       "      <td>3</td>\n",
       "      <td>stinkbugs-crops.en.3.txt</td>\n",
       "      <td>test</td>\n",
       "      <td>False</td>\n",
       "    </tr>\n",
       "    <tr>\n",
       "      <th>9215</th>\n",
       "      <td>9215</td>\n",
       "      <td>9215</td>\n",
       "      <td>stinkbugs-crops</td>\n",
       "      <td>en</td>\n",
       "      <td>In the U.S., stink bugs can do a lot of damage</td>\n",
       "      <td>4</td>\n",
       "      <td>4</td>\n",
       "      <td>stinkbugs-crops.en.4.txt</td>\n",
       "      <td>train</td>\n",
       "      <td>False</td>\n",
       "    </tr>\n",
       "  </tbody>\n",
       "</table>\n",
       "</div>"
      ],
      "text/plain": [
       "      Unnamed: 0  Unnamed: 0.1             slug language  \\\n",
       "9212        9212          9212  stinkbugs-crops       en   \n",
       "9213        9213          9213  stinkbugs-crops       en   \n",
       "9214        9214          9214  stinkbugs-crops       en   \n",
       "9215        9215          9215  stinkbugs-crops       en   \n",
       "\n",
       "                                                title  grade_level  version  \\\n",
       "9212      Stink bugs threaten U.S. orchards and crops            8        1   \n",
       "9213   Stink bugs a persistent problem for U.S. crops            6        2   \n",
       "9214   Stink bugs can be a big pest for U.S. orchards            5        3   \n",
       "9215  In the U.S., stink bugs can do a lot of damage             4        4   \n",
       "\n",
       "                      filename train_val_test is_original  \n",
       "9212  stinkbugs-crops.en.1.txt          train       False  \n",
       "9213  stinkbugs-crops.en.2.txt          train       False  \n",
       "9214  stinkbugs-crops.en.3.txt           test       False  \n",
       "9215  stinkbugs-crops.en.4.txt          train       False  "
      ]
     },
     "execution_count": 76,
     "metadata": {},
     "output_type": "execute_result"
    }
   ],
   "source": [
    "articleLM.metadata_split[(['stink' in x for x in articleLM.metadata_split.slug])]"
   ]
  },
  {
   "cell_type": "code",
   "execution_count": 10,
   "metadata": {},
   "outputs": [
    {
     "data": {
      "text/html": [
       "<div>\n",
       "<style scoped>\n",
       "    .dataframe tbody tr th:only-of-type {\n",
       "        vertical-align: middle;\n",
       "    }\n",
       "\n",
       "    .dataframe tbody tr th {\n",
       "        vertical-align: top;\n",
       "    }\n",
       "\n",
       "    .dataframe thead th {\n",
       "        text-align: right;\n",
       "    }\n",
       "</style>\n",
       "<table border=\"1\" class=\"dataframe\">\n",
       "  <thead>\n",
       "    <tr style=\"text-align: right;\">\n",
       "      <th></th>\n",
       "      <th>slug</th>\n",
       "      <th>language</th>\n",
       "      <th>title</th>\n",
       "      <th>grade_level</th>\n",
       "      <th>version</th>\n",
       "      <th>filename</th>\n",
       "    </tr>\n",
       "  </thead>\n",
       "  <tbody>\n",
       "    <tr>\n",
       "      <th>176</th>\n",
       "      <td>US-Constitution</td>\n",
       "      <td>en</td>\n",
       "      <td>The Constitution of the United States of America</td>\n",
       "      <td>12</td>\n",
       "      <td>0</td>\n",
       "      <td>US-Constitution.en.0.txt</td>\n",
       "    </tr>\n",
       "    <tr>\n",
       "      <th>177</th>\n",
       "      <td>USCHINA-TOURISM</td>\n",
       "      <td>en</td>\n",
       "      <td>Chinese tourists' spending in the US takes off</td>\n",
       "      <td>12</td>\n",
       "      <td>0</td>\n",
       "      <td>USCHINA-TOURISM.en.0.txt</td>\n",
       "    </tr>\n",
       "    <tr>\n",
       "      <th>178</th>\n",
       "      <td>USCHINA-TOURISM</td>\n",
       "      <td>en</td>\n",
       "      <td>Chinese tourists hit the outlet stores, not th...</td>\n",
       "      <td>8</td>\n",
       "      <td>1</td>\n",
       "      <td>USCHINA-TOURISM.en.1.txt</td>\n",
       "    </tr>\n",
       "    <tr>\n",
       "      <th>179</th>\n",
       "      <td>USCHINA-TOURISM</td>\n",
       "      <td>en</td>\n",
       "      <td>Chinese tourists seek shops, not sand, in Cali...</td>\n",
       "      <td>7</td>\n",
       "      <td>2</td>\n",
       "      <td>USCHINA-TOURISM.en.2.txt</td>\n",
       "    </tr>\n",
       "    <tr>\n",
       "      <th>180</th>\n",
       "      <td>USCHINA-TOURISM</td>\n",
       "      <td>en</td>\n",
       "      <td>Chinese tourists hit the mall, not the beach, ...</td>\n",
       "      <td>5</td>\n",
       "      <td>3</td>\n",
       "      <td>USCHINA-TOURISM.en.3.txt</td>\n",
       "    </tr>\n",
       "    <tr>\n",
       "      <th>181</th>\n",
       "      <td>USCHINA-TOURISM</td>\n",
       "      <td>en</td>\n",
       "      <td>Chinese tourists go shopping, not sunning, in ...</td>\n",
       "      <td>4</td>\n",
       "      <td>4</td>\n",
       "      <td>USCHINA-TOURISM.en.4.txt</td>\n",
       "    </tr>\n",
       "  </tbody>\n",
       "</table>\n",
       "</div>"
      ],
      "text/plain": [
       "                slug language  \\\n",
       "176  US-Constitution       en   \n",
       "177  USCHINA-TOURISM       en   \n",
       "178  USCHINA-TOURISM       en   \n",
       "179  USCHINA-TOURISM       en   \n",
       "180  USCHINA-TOURISM       en   \n",
       "181  USCHINA-TOURISM       en   \n",
       "\n",
       "                                                 title  grade_level  version  \\\n",
       "176   The Constitution of the United States of America           12        0   \n",
       "177     Chinese tourists' spending in the US takes off           12        0   \n",
       "178  Chinese tourists hit the outlet stores, not th...            8        1   \n",
       "179  Chinese tourists seek shops, not sand, in Cali...            7        2   \n",
       "180  Chinese tourists hit the mall, not the beach, ...            5        3   \n",
       "181  Chinese tourists go shopping, not sunning, in ...            4        4   \n",
       "\n",
       "                     filename  \n",
       "176  US-Constitution.en.0.txt  \n",
       "177  USCHINA-TOURISM.en.0.txt  \n",
       "178  USCHINA-TOURISM.en.1.txt  \n",
       "179  USCHINA-TOURISM.en.2.txt  \n",
       "180  USCHINA-TOURISM.en.3.txt  \n",
       "181  USCHINA-TOURISM.en.4.txt  "
      ]
     },
     "execution_count": 10,
     "metadata": {},
     "output_type": "execute_result"
    }
   ],
   "source": [
    "articleLM.metadata[(['US' in x for x in articleLM.metadata.slug])]"
   ]
  },
  {
   "cell_type": "code",
   "execution_count": 11,
   "metadata": {},
   "outputs": [
    {
     "data": {
      "text/html": [
       "<div>\n",
       "<style scoped>\n",
       "    .dataframe tbody tr th:only-of-type {\n",
       "        vertical-align: middle;\n",
       "    }\n",
       "\n",
       "    .dataframe tbody tr th {\n",
       "        vertical-align: top;\n",
       "    }\n",
       "\n",
       "    .dataframe thead th {\n",
       "        text-align: right;\n",
       "    }\n",
       "</style>\n",
       "<table border=\"1\" class=\"dataframe\">\n",
       "  <thead>\n",
       "    <tr style=\"text-align: right;\">\n",
       "      <th></th>\n",
       "      <th>Unnamed: 0</th>\n",
       "      <th>Unnamed: 0.1</th>\n",
       "      <th>slug</th>\n",
       "      <th>language</th>\n",
       "      <th>title</th>\n",
       "      <th>grade_level</th>\n",
       "      <th>version</th>\n",
       "      <th>filename</th>\n",
       "      <th>train_val_test</th>\n",
       "      <th>is_original</th>\n",
       "    </tr>\n",
       "  </thead>\n",
       "  <tbody>\n",
       "  </tbody>\n",
       "</table>\n",
       "</div>"
      ],
      "text/plain": [
       "Empty DataFrame\n",
       "Columns: [Unnamed: 0, Unnamed: 0.1, slug, language, title, grade_level, version, filename, train_val_test, is_original]\n",
       "Index: []"
      ]
     },
     "execution_count": 11,
     "metadata": {},
     "output_type": "execute_result"
    }
   ],
   "source": [
    "articleLM.metadata_split[articleLM.metadata_split.filename=='US-Constitution.en.0.txt']"
   ]
  },
  {
   "cell_type": "code",
   "execution_count": 12,
   "metadata": {},
   "outputs": [],
   "source": [
    "def split_article(article_text):\n",
    "    \"\"\"\n",
    "    Ingests raw article text (text string)\n",
    "    :param path:\n",
    "    :return: List of strings (individual sentences)\n",
    "    \"\"\"\n",
    "    # first split the text string on new lines to recognize paragraphs as different sentences\n",
    "    paragraphs = article_text.split('\\n')\n",
    "    paragraphs = [i for i in paragraphs if len(i) > 0]  # makes sure that we do not include blank spaces\n",
    "    all_sentences = []\n",
    "\n",
    "    clean = re.compile('<.*?>')  # for removing html tags\n",
    "\n",
    "    for p in paragraphs:\n",
    "        sentences_list = sent_tokenize(p)\n",
    "        sentences_list = [i for i in sentences_list if len(i) > 0]  # prevents blank sentences from being added\n",
    "        # print('found {} sentences'.format(len(sentences_list)))\n",
    "        for sentence in sentences_list:\n",
    "#             sentence = sentence.rstrip(\n",
    "#                 '.!?;').lower()  # remove ending punctuation and put the sentence into lower case\n",
    "            sentence = sentence.lower()\n",
    "            # data pre-processing step to remove embedded http links\n",
    "            if len(sentence) > 1:\n",
    "                words = sentence.split(' ')\n",
    "                words = [i for i in words if 'http' not in i]  # pull out words that are actually html tags\n",
    "                if len(words) > 1:  # ignore one word sentences\n",
    "                    sentence = ' '.join(words)\n",
    "            # data pre-processing step to remove and html tags\n",
    "            sentence = re.sub(clean, '', sentence)  # remove any html tags that are present\n",
    "            if len(sentence) > 1:\n",
    "                # tokens = nltk.re.findall(r\"\\w+(?:[-']\\w+)*|'|[-.(]+|\\S\\w*\", sentence)\n",
    "                all_sentences.append(sentence)\n",
    "    return all_sentences"
   ]
  },
  {
   "cell_type": "code",
   "execution_count": 13,
   "metadata": {},
   "outputs": [
    {
     "data": {
      "text/plain": [
       "'US-Constitution.en.0.txt'"
      ]
     },
     "execution_count": 13,
     "metadata": {},
     "output_type": "execute_result"
    }
   ],
   "source": [
    "articleLM.metadata.filename[176]"
   ]
  },
  {
   "cell_type": "code",
   "execution_count": 14,
   "metadata": {},
   "outputs": [
    {
     "data": {
      "text/plain": [
       "'## Preamble\\n\\nWe the People of the United States, in Order to form a more perfect Union, establish Justice, insure domestic Tranquility, provide for the common defence, promote the general Welfare, and secure the Blessings of Liberty to ourselves and our Posterity, do ordain and establish this Constitution for the United States of America.\\n\\n## Article. I.\\n\\nSection. 1.\\n\\nAll legislative Powers herein granted shall be vested in a Congress of the United States, which shall consist of a Senate and House of Representatives.\\n\\nSection. 2.\\n\\nThe House of Representatives shall be composed of Members chosen every second Year by the People of the several States, and the Electors in each State shall have the Qualifications requisite for Electors of the most numerous Branch of the State Legislature.\\n\\nNo Person shall be a Representative who shall not have attained to the Age of twenty five Years, and been seven Years a Citizen of the United States, and who shall not, when elected, be an Inhabitant of that State in which he shall be chosen.\\n\\nRepresentatives and direct Taxes shall be apportioned among the several States which may be included within this Union, according to their respective Numbers, which shall be determined by adding to the whole Number of free Persons, including those bound to Service for a Term of Years, and excluding Indians not taxed, three fifths of all other Persons. The actual Enumeration shall be made within three Years after the first Meeting of the Congress of the United States, and within every subsequent Term of ten Years, in such Manner as they shall by Law direct. The Number of Representatives shall not exceed one for every thirty Thousand, but each State shall have at Least one Representative; and until such enumeration shall be made, the State of New Hampshire shall be entitled to chuse three, Massachusetts eight, Rhode-Island and Providence Plantations one, Connecticut five, New-York six, New Jersey four, Pennsylvania eight, Delaware one, Maryland six, Virginia ten, North Carolina five, South Carolina five, and Georgia three.\\n\\nWhen vacancies happen in the Representation from any State, the Executive Authority thereof shall issue Writs of Election to fill such Vacancies.\\n\\nThe House of Representatives shall chuse their Speaker and other Officers; and shall have the sole Power of Impeachment.\\n\\nSection. 3.\\n\\nThe Senate of the United States shall be composed of two Senators from each State, chosen by the Legislature thereof, for six Years; and each Senator shall have one Vote.\\n\\nImmediately after they shall be assembled in Consequence of the first Election, they shall be divided as equally as may be into three Classes. The Seats of the Senators of the first Class shall be vacated at the Expiration of the second Year, of the second Class at the Expiration of the fourth Year, and of the third Class at the Expiration of the sixth Year, so that one third may be chosen every second Year; and if Vacancies happen by Resignation, or otherwise, during the Recess of the Legislature of any State, the Executive thereof may make temporary Appointments until the next Meeting of the Legislature, which shall then fill such Vacancies.\\n\\nNo Person shall be a Senator who shall not have attained to the Age of thirty Years, and been nine Years a Citizen of the United States, and who shall not, when elected, be an Inhabitant of that State for which he shall be chosen.\\n\\nThe Vice President of the United States shall be President of the Senate, but shall have no Vote, unless they be equally divided.\\n\\nThe Senate shall chuse their other Officers, and also a President pro tempore, in the Absence of the Vice President, or when he shall exercise the Office of President of the United States.\\n\\nThe Senate shall have the sole Power to try all Impeachments. When sitting for that Purpose, they shall be on Oath or Affirmation. When the President of the United States is tried, the Chief Justice shall preside: And no Person shall be convicted without the Concurrence of two thirds of the Members present.\\n\\nJudgment in Cases of Impeachment shall not extend further than to removal from Office, and disqualification to hold and enjoy any Office of honor, Trust or Profit under the United States: but the Party convicted shall nevertheless be liable and subject to Indictment, Trial, Judgment and Punishment, according to Law.\\n\\nSection. 4.\\n\\nThe Times, Places and Manner of holding Elections for Senators and Representatives, shall be prescribed in each State by the Legislature thereof; but the Congress may at any time by Law make or alter such Regulations, except as to the Places of chusing Senators.\\n\\nThe Congress shall assemble at least once in every Year, and such Meeting shall be on the first Monday in December, unless they shall by Law appoint a different Day.\\n\\nSection. 5.\\n\\nEach House shall be the Judge of the Elections, Returns and Qualifications of its own Members, and a Majority of each shall constitute a Quorum to do Business; but a smaller Number may adjourn from day to day, and may be authorized to compel the Attendance of absent Members, in such Manner, and under such Penalties as each House may provide.\\n\\nEach House may determine the Rules of its Proceedings, punish its Members for disorderly Behaviour, and, with the Concurrence of two thirds, expel a Member.\\n\\nEach House shall keep a Journal of its Proceedings, and from time to time publish the same, excepting such Parts as may in their Judgment require Secrecy; and the Yeas and Nays of the Members of either House on any question shall, at the Desire of one fifth of those Present, be entered on the Journal.\\n\\nNeither House, during the Session of Congress, shall, without the Consent of the other, adjourn for more than three days, nor to any other Place than that in which the two Houses shall be sitting.\\n\\nSection. 6.\\n\\nThe Senators and Representatives shall receive a Compensation for their Services, to be ascertained by Law, and paid out of the Treasury of the United States. They shall in all Cases, except Treason, Felony and Breach of the Peace, be privileged from Arrest during their Attendance at the Session of their respective Houses, and in going to and returning from the same; and for any Speech or Debate in either House, they shall not be questioned in any other Place.\\n\\nNo Senator or Representative shall, during the Time for which he was elected, be appointed to any civil Office under the Authority of the United States, which shall have been created, or the Emoluments whereof shall have been encreased during such time; and no Person holding any Office under the United States, shall be a Member of either House during his Continuance in Office.\\n\\nSection. 7.\\n\\nAll Bills for raising Revenue shall originate in the House of Representatives; but the Senate may propose or concur with Amendments as on other Bills.\\n\\nEvery Bill which shall have passed the House of Representatives and the Senate, shall, before it become a Law, be presented to the President of the United States; If he approve he shall sign it, but if not he shall return it, with his Objections to that House in which it shall have originated, who shall enter the Objections at large on their Journal, and proceed to reconsider it. If after such Reconsideration two thirds of that House shall agree to pass the Bill, it shall be sent, together with the Objections, to the other House, by which it shall likewise be reconsidered, and if approved by two thirds of that House, it shall become a Law. But in all such Cases the Votes of both Houses shall be determined by yeas and Nays, and the Names of the Persons voting for and against the Bill shall be entered on the Journal of each House respectively. If any Bill shall not be returned by the President within ten Days (Sundays excepted) after it shall have been presented to him, the Same shall be a Law, in like Manner as if he had signed it, unless the Congress by their Adjournment prevent its Return, in which Case it shall not be a Law.\\n\\nEvery Order, Resolution, or Vote to which the Concurrence of the Senate and House of Representatives may be necessary (except on a question of Adjournment) shall be presented to the President of the United States; and before the Same shall take Effect, shall be approved by him, or being disapproved by him, shall be repassed by two thirds of the Senate and House of Representatives, according to the Rules and Limitations prescribed in the Case of a Bill.\\n\\nSection. 8.\\n\\nThe Congress shall have Power To lay and collect Taxes, Duties, Imposts and Excises, to pay the Debts and provide for the common Defence and general Welfare of the United States; but all Duties, Imposts and Excises shall be uniform throughout the United States;\\n\\nTo borrow Money on the credit of the United States;\\n\\nTo regulate Commerce with foreign Nations, and among the several States, and with the Indian Tribes;\\n\\nTo establish an uniform Rule of Naturalization, and uniform Laws on the subject of Bankruptcies throughout the United States;\\n\\nTo coin Money, regulate the Value thereof, and of foreign Coin, and fix the Standard of Weights and Measures;\\n\\nTo provide for the Punishment of counterfeiting the Securities and current Coin of the United States;\\n\\nTo establish Post Offices and post Roads;\\n\\nTo promote the Progress of Science and useful Arts, by securing for limited Times to Authors and Inventors the exclusive Right to their respective Writings and Discoveries;\\n\\nTo constitute Tribunals inferior to the supreme Court;\\n\\nTo define and punish Piracies and Felonies committed on the high Seas, and Offences against the Law of Nations;\\n\\nTo declare War, grant Letters of Marque and Reprisal, and make Rules concerning Captures on Land and Water;\\n\\nTo raise and support Armies, but no Appropriation of Money to that Use shall be for a longer Term than two Years;\\n\\nTo provide and maintain a Navy;\\n\\nTo make Rules for the Government and Regulation of the land and naval Forces;\\n\\nTo provide for calling forth the Militia to execute the Laws of the Union, suppress Insurrections and repel Invasions;\\n\\nTo provide for organizing, arming, and disciplining, the Militia, and for governing such Part of them as may be employed in the Service of the United States, reserving to the States respectively, the Appointment of the Officers, and the Authority of training the Militia according to the discipline prescribed by Congress;\\n\\nTo exercise exclusive Legislation in all Cases whatsoever, over such District (not exceeding ten Miles square) as may, by Cession of particular States, and the Acceptance of Congress, become the Seat of the Government of the United States, and to exercise like Authority over all Places purchased by the Consent of the Legislature of the State in which the Same shall be, for the Erection of Forts, Magazines, Arsenals, dock-Yards, and other needful Buildings;—And\\n\\nTo make all Laws which shall be necessary and proper for carrying into Execution the foregoing Powers, and all other Powers vested by this Constitution in the Government of the United States, or in any Department or Officer thereof.\\n\\nSection. 9.\\n\\nThe Migration or Importation of such Persons as any of the States now existing shall think proper to admit, shall not be prohibited by the Congress prior to the Year one thousand eight hundred and eight, but a Tax or duty may be imposed on such Importation, not exceeding ten dollars for each Person.\\n\\nThe Privilege of the Writ of Habeas Corpus shall not be suspended, unless when in Cases of Rebellion or Invasion the public Safety may require it.\\n\\nNo Bill of Attainder or ex post facto Law shall be passed.\\n\\nNo Capitation, or other direct, Tax shall be laid, unless in Proportion to the Census or enumeration herein before directed to be taken.\\n\\nNo Tax or Duty shall be laid on Articles exported from any State.\\n\\nNo Preference shall be given by any Regulation of Commerce or Revenue to the Ports of one State over those of another: nor shall Vessels bound to, or from, one State, be obliged to enter, clear, or pay Duties in another.\\n\\nNo Money shall be drawn from the Treasury, but in Consequence of Appropriations made by Law; and a regular Statement and Account of the Receipts and Expenditures of all public Money shall be published from time to time.\\n\\nNo Title of Nobility shall be granted by the United States: And no Person holding any Office of Profit or Trust under them, shall, without the Consent of the Congress, accept of any present, Emolument, Office, or Title, of any kind whatever, from any King, Prince, or foreign State.\\n\\nSection. 10.\\n\\nNo State shall enter into any Treaty, Alliance, or Confederation; grant Letters of Marque and Reprisal; coin Money; emit Bills of Credit; make any Thing but gold and silver Coin a Tender in Payment of Debts; pass any Bill of Attainder, ex post facto Law, or Law impairing the Obligation of Contracts, or grant any Title of Nobility.\\n\\nNo State shall, without the Consent of the Congress, lay any Imposts or Duties on Imports or Exports, except what may be absolutely necessary for executing it\\'s inspection Laws: and the net Produce of all Duties and Imposts, laid by any State on Imports or Exports, shall be for the Use of the Treasury of the United States; and all such Laws shall be subject to the Revision and Controul of the Congress.\\n\\nNo State shall, without the Consent of Congress, lay any Duty of Tonnage, keep Troops, or Ships of War in time of Peace, enter into any Agreement or Compact with another State, or with a foreign Power, or engage in War, unless actually invaded, or in such imminent Danger as will not admit of delay.\\n\\n## Article. II.\\n\\nSection. 1.\\n\\nThe executive Power shall be vested in a President of the United States of America. He shall hold his Office during the Term of four Years, and, together with the Vice President, chosen for the same Term, be elected, as follows\\n\\nEach State shall appoint, in such Manner as the Legislature thereof may direct, a Number of Electors, equal to the whole Number of Senators and Representatives to which the State may be entitled in the Congress: but no Senator or Representative, or Person holding an Office of Trust or Profit under the United States, shall be appointed an Elector.\\n\\nThe Electors shall meet in their respective States, and vote by Ballot for two Persons, of whom one at least shall not be an Inhabitant of the same State with themselves. And they shall make a List of all the Persons voted for, and of the Number of Votes for each; which List they shall sign and certify, and transmit sealed to the Seat of the Government of the United States, directed to the President of the Senate. The President of the Senate shall, in the Presence of the Senate and House of Representatives, open all the Certificates, and the Votes shall then be counted. The Person having the greatest Number of Votes shall be the President, if such Number be a Majority of the whole Number of Electors appointed; and if there be more than one who have such Majority, and have an equal Number of Votes, then the House of Representatives shall immediately chuse by Ballot one of them for President; and if no Person have a Majority, then from the five highest on the List the said House shall in like Manner chuse the President. But in chusing the President, the Votes shall be taken by States, the Representation from each State having one Vote; A quorum for this Purpose shall consist of a Member or Members from two thirds of the States, and a Majority of all the States shall be necessary to a Choice. In every Case, after the Choice of the President, the Person having the greatest Number of Votes of the Electors shall be the Vice President. But if there should remain two or more who have equal Votes, the Senate shall chuse from them by Ballot the Vice President.\\n\\nThe Congress may determine the Time of chusing the Electors, and the Day on which they shall give their Votes; which Day shall be the same throughout the United States.\\n\\nNo Person except a natural born Citizen, or a Citizen of the United States, at the time of the Adoption of this Constitution, shall be eligible to the Office of President; neither shall any Person be eligible to that Office who shall not have attained to the Age of thirty five Years, and been fourteen Years a Resident within the United States.\\n\\nIn Case of the Removal of the President from Office, or of his Death, Resignation, or Inability to discharge the Powers and Duties of the said Office, the Same shall devolve on the Vice President, and the Congress may by Law provide for the Case of Removal, Death, Resignation or Inability, both of the President and Vice President, declaring what Officer shall then act as President, and such Officer shall act accordingly, until the Disability be removed, or a President shall be elected.\\n\\nThe President shall, at stated Times, receive for his Services, a Compensation, which shall neither be encreased nor diminished during the Period for which he shall have been elected, and he shall not receive within that Period any other Emolument from the United States, or any of them.\\n\\nBefore he enter on the Execution of his Office, he shall take the following Oath or Affirmation:—\"I do solemnly swear (or affirm) that I will faithfully execute the Office of President of the United States, and will to the best of my Ability, preserve, protect and defend the Constitution of the United States.\"\\n\\nSection. 2.\\n\\nThe President shall be Commander in Chief of the Army and Navy of the United States, and of the Militia of the several States, when called into the actual Service of the United States; he may require the Opinion, in writing, of the principal Officer in each of the executive Departments, upon any Subject relating to the Duties of their respective Offices, and he shall have Power to grant Reprieves and Pardons for Offences against the United States, except in Cases of Impeachment.\\n\\nHe shall have Power, by and with the Advice and Consent of the Senate, to make Treaties, provided two thirds of the Senators present concur; and he shall nominate, and by and with the Advice and Consent of the Senate, shall appoint Ambassadors, other public Ministers and Consuls, Judges of the supreme Court, and all other Officers of the United States, whose Appointments are not herein otherwise provided for, and which shall be established by Law: but the Congress may by Law vest the Appointment of such inferior Officers, as they think proper, in the President alone, in the Courts of Law, or in the Heads of Departments.\\n\\nThe President shall have Power to fill up all Vacancies that may happen during the Recess of the Senate, by granting Commissions which shall expire at the End of their next Session.\\n\\nSection. 3.\\n\\nHe shall from time to time give to the Congress Information of the State of the Union, and recommend to their Consideration such Measures as he shall judge necessary and expedient; he may, on extraordinary Occasions, convene both Houses, or either of them, and in Case of Disagreement between them, with Respect to the Time of Adjournment, he may adjourn them to such Time as he shall think proper; he shall receive Ambassadors and other public Ministers; he shall take Care that the Laws be faithfully executed, and shall Commission all the Officers of the United States.\\n\\nSection. 4.\\n\\nThe President, Vice President and all civil Officers of the United States, shall be removed from Office on Impeachment for, and Conviction of, Treason, Bribery, or other high Crimes and Misdemeanors.\\n\\n## Article III.\\n\\nSection. 1.\\n\\nThe judicial Power of the United States, shall be vested in one supreme Court, and in such inferior Courts as the Congress may from time to time ordain and establish. The Judges, both of the supreme and inferior Courts, shall hold their Offices during good Behaviour, and shall, at stated Times, receive for their Services, a Compensation, which shall not be diminished during their Continuance in Office.\\n\\nSection. 2.\\n\\nThe judicial Power shall extend to all Cases, in Law and Equity, arising under this Constitution, the Laws of the United States, and Treaties made, or which shall be made, under their Authority;—to all Cases affecting Ambassadors, other public Ministers and Consuls;—to all Cases of admiralty and maritime Jurisdiction;—to Controversies to which the United States shall be a Party;—to Controversies between two or more States;— between a State and Citizens of another State,—between Citizens of different States,—between Citizens of the same State claiming Lands under Grants of different States, and between a State, or the Citizens thereof, and foreign States, Citizens or Subjects.\\n\\nIn all Cases affecting Ambassadors, other public Ministers and Consuls, and those in which a State shall be Party, the supreme Court shall have original Jurisdiction. In all the other Cases before mentioned, the supreme Court shall have appellate Jurisdiction, both as to Law and Fact, with such Exceptions, and under such Regulations as the Congress shall make.\\n\\nThe Trial of all Crimes, except in Cases of Impeachment, shall be by Jury; and such Trial shall be held in the State where the said Crimes shall have been committed; but when not committed within any State, the Trial shall be at such Place or Places as the Congress may by Law have directed.\\n\\nSection. 3.\\n\\nTreason against the United States, shall consist only in levying War against them, or in adhering to their Enemies, giving them Aid and Comfort. No Person shall be convicted of Treason unless on the Testimony of two Witnesses to the same overt Act, or on Confession in open Court.\\n\\nThe Congress shall have Power to declare the Punishment of Treason, but no Attainder of Treason shall work Corruption of Blood, or Forfeiture except during the Life of the Person attainted.\\n\\n## Article. IV.\\n\\nSection. 1.\\n\\nFull Faith and Credit shall be given in each State to the public Acts, Records, and judicial Proceedings of every other State. And the Congress may by general Laws prescribe the Manner in which such Acts, Records and Proceedings shall be proved, and the Effect thereof.\\n\\nSection. 2.\\n\\nThe Citizens of each State shall be entitled to all Privileges and Immunities of Citizens in the several States.\\n\\nA Person charged in any State with Treason, Felony, or other Crime, who shall flee from Justice, and be found in another State, shall on Demand of the executive Authority of the State from which he fled, be delivered up, to be removed to the State having Jurisdiction of the Crime.\\n\\nNo Person held to Service or Labour in one State, under the Laws thereof, escaping into another, shall, in Consequence of any Law or Regulation therein, be discharged from such Service or Labour, but shall be delivered up on Claim of the Party to whom such Service or Labour may be due.\\n\\nSection. 3.\\n\\nNew States may be admitted by the Congress into this Union; but no new State shall be formed or erected within the Jurisdiction of any other State; nor any State be formed by the Junction of two or more States, or Parts of States, without the Consent of the Legislatures of the States concerned as well as of the Congress.\\n\\nThe Congress shall have Power to dispose of and make all needful Rules and Regulations respecting the Territory or other Property belonging to the United States; and nothing in this Constitution shall be so construed as to Prejudice any Claims of the United States, or of any particular State.\\n\\nSection. 4.\\n\\nThe United States shall guarantee to every State in this Union a Republican Form of Government, and shall protect each of them against Invasion; and on Application of the Legislature, or of the Executive (when the Legislature cannot be convened), against domestic Violence.\\n\\n## Article. V.\\n\\nThe Congress, whenever two thirds of both Houses shall deem it necessary, shall propose Amendments to this Constitution, or, on the Application of the Legislatures of two thirds of the several States, shall call a Convention for proposing Amendments, which, in either Case, shall be valid to all Intents and Purposes, as Part of this Constitution, when ratified by the Legislatures of three fourths of the several States, or by Conventions in three fourths thereof, as the one or the other Mode of Ratification may be proposed by the Congress; Provided that no Amendment which may be made prior to the Year One thousand eight hundred and eight shall in any Manner affect the first and fourth Clauses in the Ninth Section of the first Article; and that no State, without its Consent, shall be deprived of its equal Suffrage in the Senate.\\n\\n## Article. VI.\\n\\nAll Debts contracted and Engagements entered into, before the Adoption of this Constitution, shall be as valid against the United States under this Constitution, as under the Confederation.\\n\\nThis Constitution, and the Laws of the United States which shall be made in Pursuance thereof; and all Treaties made, or which shall be made, under the Authority of the United States, shall be the supreme Law of the Land; and the Judges in every State shall be bound thereby, any Thing in the Constitution or Laws of any State to the Contrary notwithstanding.\\n\\nThe Senators and Representatives before mentioned, and the Members of the several State Legislatures, and all executive and judicial Officers, both of the United States and of the several States, shall be bound by Oath or Affirmation, to support this Constitution; but no religious Test shall ever be required as a Qualification to any Office or public Trust under the United States.\\n\\n## Article. VII.\\n\\nThe Ratification of the Conventions of nine States, shall be sufficient for the Establishment of this Constitution between the States so ratifying the Same.\\n\\nThe Word, \"the,\" being interlined between the seventh and eighth Lines of the first Page, The Word \"Thirty\" being partly written on an Erazure in the fifteenth Line of the first Page, The Words \"is tried\" being interlined between the thirty second and thirty third Lines of the first Page and the Word \"the\" being interlined between the forty third and forty fourth Lines of the second Page.\\n\\nAttest William Jackson Secretary\\n\\ndone in Convention by the Unanimous Consent of the States present the Seventeenth Day of September in the Year of our Lord one thousand seven hundred and Eighty seven and of the Independance of the United States of America the Twelfth In witness whereof We have hereunto subscribed our Names.'"
      ]
     },
     "execution_count": 14,
     "metadata": {},
     "output_type": "execute_result"
    }
   ],
   "source": [
    "articleLM.get_article_text(articleLM.metadata.filename[176])"
   ]
  },
  {
   "cell_type": "code",
   "execution_count": 15,
   "metadata": {},
   "outputs": [
    {
     "data": {
      "text/plain": [
       "['## preamble',\n",
       " 'we the people of the united states, in order to form a more perfect union, establish justice, insure domestic tranquility, provide for the common defence, promote the general welfare, and secure the blessings of liberty to ourselves and our posterity, do ordain and establish this constitution for the united states of america.',\n",
       " '## article.',\n",
       " 'i.',\n",
       " 'section.']"
      ]
     },
     "execution_count": 15,
     "metadata": {},
     "output_type": "execute_result"
    }
   ],
   "source": [
    "stnce_list = split_article(articleLM.get_article_text(articleLM.metadata.filename[176]))\n",
    "stnce_list[:5]"
   ]
  },
  {
   "cell_type": "code",
   "execution_count": 16,
   "metadata": {},
   "outputs": [
    {
     "data": {
      "text/plain": [
       "['# # preamble',\n",
       " 'we the people of the united states , in order to form a more perfect union , establish justice , insure domestic tranquility , provide for the common defence , promote the general welfare , and secure the blessings of liberty to ourselves and our posterity , do ordain and establish this constitution for the united states of america .',\n",
       " '# # article .',\n",
       " 'i .',\n",
       " 'section .',\n",
       " '1 .',\n",
       " 'all legislative powers herein granted shall be vested in a congress of the united states , which shall consist of a senate and house of representatives .',\n",
       " 'section .',\n",
       " '2 .',\n",
       " 'the house of representatives shall be composed of members chosen every second year by the people of the several states , and the electors in each state shall have the qualifications requisite for electors of the most numerous branch of the state legislature .',\n",
       " 'no person shall be a representative who shall not have attained to the age of twenty five years , and been seven years a citizen of the united states , and who shall not , when elected , be an inhabitant of that state in which he shall be chosen .',\n",
       " 'representatives and direct taxes shall be apportioned among the several states which may be included within this union , according to their respective numbers , which shall be determined by adding to the whole number of free persons , including those bound to service for a term of years , and excluding indians not taxed , three fifths of all other persons .',\n",
       " 'the actual enumeration shall be made within three years after the first meeting of the congress of the united states , and within every subsequent term of ten years , in such manner as they shall by law direct .',\n",
       " 'the number of representatives shall not exceed one for every thirty thousand , but each state shall have at least one representative ; and until such enumeration shall be made , the state of new hampshire shall be entitled to chuse three , massachusetts eight , rhode-island and providence plantations one , connecticut five , new-york six , new jersey four , pennsylvania eight , delaware one , maryland six , virginia ten , north carolina five , south carolina five , and georgia three .',\n",
       " 'when vacancies happen in the representation from any state , the executive authority thereof shall issue writs of election to fill such vacancies .',\n",
       " 'the house of representatives shall chuse their speaker and other officers ; and shall have the sole power of impeachment .',\n",
       " 'section .',\n",
       " '3 .',\n",
       " 'the senate of the united states shall be composed of two senators from each state , chosen by the legislature thereof , for six years ; and each senator shall have one vote .',\n",
       " 'immediately after they shall be assembled in consequence of the first election , they shall be divided as equally as may be into three classes .',\n",
       " 'the seats of the senators of the first class shall be vacated at the expiration of the second year , of the second class at the expiration of the fourth year , and of the third class at the expiration of the sixth year , so that one third may be chosen every second year ; and if vacancies happen by resignation , or otherwise , during the recess of the legislature of any state , the executive thereof may make temporary appointments until the next meeting of the legislature , which shall then fill such vacancies .',\n",
       " 'no person shall be a senator who shall not have attained to the age of thirty years , and been nine years a citizen of the united states , and who shall not , when elected , be an inhabitant of that state for which he shall be chosen .',\n",
       " 'the vice president of the united states shall be president of the senate , but shall have no vote , unless they be equally divided .',\n",
       " 'the senate shall chuse their other officers , and also a president pro tempore , in the absence of the vice president , or when he shall exercise the office of president of the united states .',\n",
       " 'the senate shall have the sole power to try all impeachments .',\n",
       " 'when sitting for that purpose , they shall be on oath or affirmation .',\n",
       " 'when the president of the united states is tried , the chief justice shall preside : and no person shall be convicted without the concurrence of two thirds of the members present .',\n",
       " 'judgment in cases of impeachment shall not extend further than to removal from office , and disqualification to hold and enjoy any office of honor , trust or profit under the united states : but the party convicted shall nevertheless be liable and subject to indictment , trial , judgment and punishment , according to law .',\n",
       " 'section .',\n",
       " '4 .',\n",
       " 'the times , places and manner of holding elections for senators and representatives , shall be prescribed in each state by the legislature thereof ; but the congress may at any time by law make or alter such regulations , except as to the places of chusing senators .',\n",
       " 'the congress shall assemble at least once in every year , and such meeting shall be on the first monday in december , unless they shall by law appoint a different day .',\n",
       " 'section .',\n",
       " '5 .',\n",
       " 'each house shall be the judge of the elections , returns and qualifications of its own members , and a majority of each shall constitute a quorum to do business ; but a smaller number may adjourn from day to day , and may be authorized to compel the attendance of absent members , in such manner , and under such penalties as each house may provide .',\n",
       " 'each house may determine the rules of its proceedings , punish its members for disorderly behaviour , and , with the concurrence of two thirds , expel a member .',\n",
       " 'each house shall keep a journal of its proceedings , and from time to time publish the same , excepting such parts as may in their judgment require secrecy ; and the yeas and nays of the members of either house on any question shall , at the desire of one fifth of those present , be entered on the journal .',\n",
       " 'neither house , during the session of congress , shall , without the consent of the other , adjourn for more than three days , nor to any other place than that in which the two houses shall be sitting .',\n",
       " 'section .',\n",
       " '6 .',\n",
       " 'the senators and representatives shall receive a compensation for their services , to be ascertained by law , and paid out of the treasury of the united states .',\n",
       " 'they shall in all cases , except treason , felony and breach of the peace , be privileged from arrest during their attendance at the session of their respective houses , and in going to and returning from the same ; and for any speech or debate in either house , they shall not be questioned in any other place .',\n",
       " 'no senator or representative shall , during the time for which he was elected , be appointed to any civil office under the authority of the united states , which shall have been created , or the emoluments whereof shall have been encreased during such time ; and no person holding any office under the united states , shall be a member of either house during his continuance in office .',\n",
       " 'section .',\n",
       " '7 .',\n",
       " 'all bills for raising revenue shall originate in the house of representatives ; but the senate may propose or concur with amendments as on other bills .',\n",
       " 'every bill which shall have passed the house of representatives and the senate , shall , before it become a law , be presented to the president of the united states ; if he approve he shall sign it , but if not he shall return it , with his objections to that house in which it shall have originated , who shall enter the objections at large on their journal , and proceed to reconsider it .',\n",
       " 'if after such reconsideration two thirds of that house shall agree to pass the bill , it shall be sent , together with the objections , to the other house , by which it shall likewise be reconsidered , and if approved by two thirds of that house , it shall become a law .',\n",
       " 'but in all such cases the votes of both houses shall be determined by yeas and nays , and the names of the persons voting for and against the bill shall be entered on the journal of each house respectively .',\n",
       " 'if any bill shall not be returned by the president within ten days ( sundays excepted ) after it shall have been presented to him , the same shall be a law , in like manner as if he had signed it , unless the congress by their adjournment prevent its return , in which case it shall not be a law .',\n",
       " 'every order , resolution , or vote to which the concurrence of the senate and house of representatives may be necessary ( except on a question of adjournment ) shall be presented to the president of the united states ; and before the same shall take effect , shall be approved by him , or being disapproved by him , shall be repassed by two thirds of the senate and house of representatives , according to the rules and limitations prescribed in the case of a bill .',\n",
       " 'section .',\n",
       " '8 .',\n",
       " 'the congress shall have power to lay and collect taxes , duties , imposts and excises , to pay the debts and provide for the common defence and general welfare of the united states ; but all duties , imposts and excises shall be uniform throughout the united states ;',\n",
       " 'to borrow money on the credit of the united states ;',\n",
       " 'to regulate commerce with foreign nations , and among the several states , and with the indian tribes ;',\n",
       " 'to establish an uniform rule of naturalization , and uniform laws on the subject of bankruptcies throughout the united states ;',\n",
       " 'to coin money , regulate the value thereof , and of foreign coin , and fix the standard of weights and measures ;',\n",
       " 'to provide for the punishment of counterfeiting the securities and current coin of the united states ;',\n",
       " 'to establish post offices and post roads ;',\n",
       " 'to promote the progress of science and useful arts , by securing for limited times to authors and inventors the exclusive right to their respective writings and discoveries ;',\n",
       " 'to constitute tribunals inferior to the supreme court ;',\n",
       " 'to define and punish piracies and felonies committed on the high seas , and offences against the law of nations ;',\n",
       " 'to declare war , grant letters of marque and reprisal , and make rules concerning captures on land and water ;',\n",
       " 'to raise and support armies , but no appropriation of money to that use shall be for a longer term than two years ;',\n",
       " 'to provide and maintain a navy ;',\n",
       " 'to make rules for the government and regulation of the land and naval forces ;',\n",
       " 'to provide for calling forth the militia to execute the laws of the union , suppress insurrections and repel invasions ;',\n",
       " 'to provide for organizing , arming , and disciplining , the militia , and for governing such part of them as may be employed in the service of the united states , reserving to the states respectively , the appointment of the officers , and the authority of training the militia according to the discipline prescribed by congress ;',\n",
       " 'to exercise exclusive legislation in all cases whatsoever , over such district ( not exceeding ten miles square ) as may , by cession of particular states , and the acceptance of congress , become the seat of the government of the united states , and to exercise like authority over all places purchased by the consent of the legislature of the state in which the same shall be , for the erection of forts , magazines , arsenals , dock-yards , and other needful buildings ; —and',\n",
       " 'to make all laws which shall be necessary and proper for carrying into execution the foregoing powers , and all other powers vested by this constitution in the government of the united states , or in any department or officer thereof .',\n",
       " 'section .',\n",
       " '9 .',\n",
       " 'the migration or importation of such persons as any of the states now existing shall think proper to admit , shall not be prohibited by the congress prior to the year one thousand eight hundred and eight , but a tax or duty may be imposed on such importation , not exceeding ten dollars for each person .',\n",
       " 'the privilege of the writ of habeas corpus shall not be suspended , unless when in cases of rebellion or invasion the public safety may require it .',\n",
       " 'no bill of attainder or ex post facto law shall be passed .',\n",
       " 'no capitation , or other direct , tax shall be laid , unless in proportion to the census or enumeration herein before directed to be taken .',\n",
       " 'no tax or duty shall be laid on articles exported from any state .',\n",
       " 'no preference shall be given by any regulation of commerce or revenue to the ports of one state over those of another : nor shall vessels bound to , or from , one state , be obliged to enter , clear , or pay duties in another .',\n",
       " 'no money shall be drawn from the treasury , but in consequence of appropriations made by law ; and a regular statement and account of the receipts and expenditures of all public money shall be published from time to time .',\n",
       " 'no title of nobility shall be granted by the united states : and no person holding any office of profit or trust under them , shall , without the consent of the congress , accept of any present , emolument , office , or title , of any kind whatever , from any king , prince , or foreign state .',\n",
       " 'section .',\n",
       " '10 .',\n",
       " 'no state shall enter into any treaty , alliance , or confederation ; grant letters of marque and reprisal ; coin money ; emit bills of credit ; make any thing but gold and silver coin a tender in payment of debts ; pass any bill of attainder , ex post facto law , or law impairing the obligation of contracts , or grant any title of nobility .',\n",
       " \"no state shall , without the consent of the congress , lay any imposts or duties on imports or exports , except what may be absolutely necessary for executing it 's inspection laws : and the net produce of all duties and imposts , laid by any state on imports or exports , shall be for the use of the treasury of the united states ; and all such laws shall be subject to the revision and controul of the congress .\",\n",
       " 'no state shall , without the consent of congress , lay any duty of tonnage , keep troops , or ships of war in time of peace , enter into any agreement or compact with another state , or with a foreign power , or engage in war , unless actually invaded , or in such imminent danger as will not admit of delay .',\n",
       " '# # article .',\n",
       " 'ii .',\n",
       " 'section .',\n",
       " '1 .',\n",
       " 'the executive power shall be vested in a president of the united states of america .',\n",
       " 'he shall hold his office during the term of four years , and , together with the vice president , chosen for the same term , be elected , as follows',\n",
       " 'each state shall appoint , in such manner as the legislature thereof may direct , a number of electors , equal to the whole number of senators and representatives to which the state may be entitled in the congress : but no senator or representative , or person holding an office of trust or profit under the united states , shall be appointed an elector .',\n",
       " 'the electors shall meet in their respective states , and vote by ballot for two persons , of whom one at least shall not be an inhabitant of the same state with themselves .',\n",
       " 'and they shall make a list of all the persons voted for , and of the number of votes for each ; which list they shall sign and certify , and transmit sealed to the seat of the government of the united states , directed to the president of the senate .',\n",
       " 'the president of the senate shall , in the presence of the senate and house of representatives , open all the certificates , and the votes shall then be counted .',\n",
       " 'the person having the greatest number of votes shall be the president , if such number be a majority of the whole number of electors appointed ; and if there be more than one who have such majority , and have an equal number of votes , then the house of representatives shall immediately chuse by ballot one of them for president ; and if no person have a majority , then from the five highest on the list the said house shall in like manner chuse the president .',\n",
       " 'but in chusing the president , the votes shall be taken by states , the representation from each state having one vote ; a quorum for this purpose shall consist of a member or members from two thirds of the states , and a majority of all the states shall be necessary to a choice .',\n",
       " 'in every case , after the choice of the president , the person having the greatest number of votes of the electors shall be the vice president .',\n",
       " 'but if there should remain two or more who have equal votes , the senate shall chuse from them by ballot the vice president .',\n",
       " 'the congress may determine the time of chusing the electors , and the day on which they shall give their votes ; which day shall be the same throughout the united states .',\n",
       " 'no person except a natural born citizen , or a citizen of the united states , at the time of the adoption of this constitution , shall be eligible to the office of president ; neither shall any person be eligible to that office who shall not have attained to the age of thirty five years , and been fourteen years a resident within the united states .',\n",
       " 'in case of the removal of the president from office , or of his death , resignation , or inability to discharge the powers and duties of the said office , the same shall devolve on the vice president , and the congress may by law provide for the case of removal , death , resignation or inability , both of the president and vice president , declaring what officer shall then act as president , and such officer shall act accordingly , until the disability be removed , or a president shall be elected .',\n",
       " 'the president shall , at stated times , receive for his services , a compensation , which shall neither be encreased nor diminished during the period for which he shall have been elected , and he shall not receive within that period any other emolument from the united states , or any of them .',\n",
       " \"before he enter on the execution of his office , he shall take the following oath or affirmation : — '' i do solemnly swear ( or affirm ) that i will faithfully execute the office of president of the united states , and will to the best of my ability , preserve , protect and defend the constitution of the united states . ''\",\n",
       " 'section .',\n",
       " '2 .',\n",
       " 'the president shall be commander in chief of the army and navy of the united states , and of the militia of the several states , when called into the actual service of the united states ; he may require the opinion , in writing , of the principal officer in each of the executive departments , upon any subject relating to the duties of their respective offices , and he shall have power to grant reprieves and pardons for offences against the united states , except in cases of impeachment .',\n",
       " 'he shall have power , by and with the advice and consent of the senate , to make treaties , provided two thirds of the senators present concur ; and he shall nominate , and by and with the advice and consent of the senate , shall appoint ambassadors , other public ministers and consuls , judges of the supreme court , and all other officers of the united states , whose appointments are not herein otherwise provided for , and which shall be established by law : but the congress may by law vest the appointment of such inferior officers , as they think proper , in the president alone , in the courts of law , or in the heads of departments .',\n",
       " 'the president shall have power to fill up all vacancies that may happen during the recess of the senate , by granting commissions which shall expire at the end of their next session .',\n",
       " 'section .',\n",
       " '3 .',\n",
       " 'he shall from time to time give to the congress information of the state of the union , and recommend to their consideration such measures as he shall judge necessary and expedient ; he may , on extraordinary occasions , convene both houses , or either of them , and in case of disagreement between them , with respect to the time of adjournment , he may adjourn them to such time as he shall think proper ; he shall receive ambassadors and other public ministers ; he shall take care that the laws be faithfully executed , and shall commission all the officers of the united states .',\n",
       " 'section .',\n",
       " '4 .',\n",
       " 'the president , vice president and all civil officers of the united states , shall be removed from office on impeachment for , and conviction of , treason , bribery , or other high crimes and misdemeanors .',\n",
       " '# # article iii .',\n",
       " 'section .',\n",
       " '1 .',\n",
       " 'the judicial power of the united states , shall be vested in one supreme court , and in such inferior courts as the congress may from time to time ordain and establish .',\n",
       " 'the judges , both of the supreme and inferior courts , shall hold their offices during good behaviour , and shall , at stated times , receive for their services , a compensation , which shall not be diminished during their continuance in office .',\n",
       " 'section .',\n",
       " '2 .',\n",
       " 'the judicial power shall extend to all cases , in law and equity , arising under this constitution , the laws of the united states , and treaties made , or which shall be made , under their authority ; —to all cases affecting ambassadors , other public ministers and consuls ; —to all cases of admiralty and maritime jurisdiction ; —to controversies to which the united states shall be a party ; —to controversies between two or more states ; — between a state and citizens of another state , —between citizens of different states , —between citizens of the same state claiming lands under grants of different states , and between a state , or the citizens thereof , and foreign states , citizens or subjects .',\n",
       " 'in all cases affecting ambassadors , other public ministers and consuls , and those in which a state shall be party , the supreme court shall have original jurisdiction .',\n",
       " 'in all the other cases before mentioned , the supreme court shall have appellate jurisdiction , both as to law and fact , with such exceptions , and under such regulations as the congress shall make .',\n",
       " 'the trial of all crimes , except in cases of impeachment , shall be by jury ; and such trial shall be held in the state where the said crimes shall have been committed ; but when not committed within any state , the trial shall be at such place or places as the congress may by law have directed .',\n",
       " 'section .',\n",
       " '3 .',\n",
       " 'treason against the united states , shall consist only in levying war against them , or in adhering to their enemies , giving them aid and comfort .',\n",
       " 'no person shall be convicted of treason unless on the testimony of two witnesses to the same overt act , or on confession in open court .',\n",
       " 'the congress shall have power to declare the punishment of treason , but no attainder of treason shall work corruption of blood , or forfeiture except during the life of the person attainted .',\n",
       " '# # article .',\n",
       " 'iv .',\n",
       " 'section .',\n",
       " '1 .',\n",
       " 'full faith and credit shall be given in each state to the public acts , records , and judicial proceedings of every other state .',\n",
       " 'and the congress may by general laws prescribe the manner in which such acts , records and proceedings shall be proved , and the effect thereof .',\n",
       " 'section .',\n",
       " '2 .',\n",
       " 'the citizens of each state shall be entitled to all privileges and immunities of citizens in the several states .',\n",
       " 'a person charged in any state with treason , felony , or other crime , who shall flee from justice , and be found in another state , shall on demand of the executive authority of the state from which he fled , be delivered up , to be removed to the state having jurisdiction of the crime .',\n",
       " 'no person held to service or labour in one state , under the laws thereof , escaping into another , shall , in consequence of any law or regulation therein , be discharged from such service or labour , but shall be delivered up on claim of the party to whom such service or labour may be due .',\n",
       " 'section .',\n",
       " '3 .',\n",
       " 'new states may be admitted by the congress into this union ; but no new state shall be formed or erected within the jurisdiction of any other state ; nor any state be formed by the junction of two or more states , or parts of states , without the consent of the legislatures of the states concerned as well as of the congress .',\n",
       " 'the congress shall have power to dispose of and make all needful rules and regulations respecting the territory or other property belonging to the united states ; and nothing in this constitution shall be so construed as to prejudice any claims of the united states , or of any particular state .',\n",
       " 'section .',\n",
       " '4 .',\n",
       " 'the united states shall guarantee to every state in this union a republican form of government , and shall protect each of them against invasion ; and on application of the legislature , or of the executive ( when the legislature can not be convened ) , against domestic violence .',\n",
       " '# # article .',\n",
       " 'v .',\n",
       " 'the congress , whenever two thirds of both houses shall deem it necessary , shall propose amendments to this constitution , or , on the application of the legislatures of two thirds of the several states , shall call a convention for proposing amendments , which , in either case , shall be valid to all intents and purposes , as part of this constitution , when ratified by the legislatures of three fourths of the several states , or by conventions in three fourths thereof , as the one or the other mode of ratification may be proposed by the congress ; provided that no amendment which may be made prior to the year one thousand eight hundred and eight shall in any manner affect the first and fourth clauses in the ninth section of the first article ; and that no state , without its consent , shall be deprived of its equal suffrage in the senate .',\n",
       " '# # article .',\n",
       " 'vi .',\n",
       " 'all debts contracted and engagements entered into , before the adoption of this constitution , shall be as valid against the united states under this constitution , as under the confederation .',\n",
       " 'this constitution , and the laws of the united states which shall be made in pursuance thereof ; and all treaties made , or which shall be made , under the authority of the united states , shall be the supreme law of the land ; and the judges in every state shall be bound thereby , any thing in the constitution or laws of any state to the contrary notwithstanding .',\n",
       " 'the senators and representatives before mentioned , and the members of the several state legislatures , and all executive and judicial officers , both of the united states and of the several states , shall be bound by oath or affirmation , to support this constitution ; but no religious test shall ever be required as a qualification to any office or public trust under the united states .',\n",
       " '# # article .',\n",
       " 'vii .',\n",
       " 'the ratification of the conventions of nine states , shall be sufficient for the establishment of this constitution between the states so ratifying the same .',\n",
       " \"the word , `` the , '' being interlined between the seventh and eighth lines of the first page , the word `` thirty '' being partly written on an erazure in the fifteenth line of the first page , the words `` is tried '' being interlined between the thirty second and thirty third lines of the first page and the word `` the '' being interlined between the forty third and forty fourth lines of the second page .\",\n",
       " 'attest william jackson secretary',\n",
       " 'done in convention by the unanimous consent of the states present the seventeenth day of september in the year of our lord one thousand seven hundred and eighty seven and of the independance of the united states of america the twelfth in witness whereof we have hereunto subscribed our names .']"
      ]
     },
     "execution_count": 16,
     "metadata": {},
     "output_type": "execute_result"
    }
   ],
   "source": [
    "[' '.join(word_tokenize(sentence)).lower() for sentence in stnce_list]"
   ]
  },
  {
   "cell_type": "code",
   "execution_count": 79,
   "metadata": {},
   "outputs": [
    {
     "data": {
      "text/plain": [
       "['college park, md.',\n",
       " '— j.d.',\n",
       " 'rinehart has a problem in his orchard.',\n",
       " 'stink bugs are damaging his apples and peaches.',\n",
       " 'rinehart first noticed the problem five years ago.',\n",
       " 'he saw brownish spots on his apples and peaches.',\n",
       " 'rinehart thought the fruit was low in calcium.',\n",
       " \"but spraying the fruit with calcium didn't help.\",\n",
       " 'university of maryland scientists cut open his fruit and examined it.',\n",
       " 'then it became clear that the problem was stink bugs.',\n",
       " 'the bugs are more damaging to fruit than a lack of calcium.',\n",
       " 'they are also more unpredictable.',\n",
       " 'rinehart owns rinehart orchards in maryland.',\n",
       " 'he said stink bugs damage between one tenth and one fifth of his crop every year.',\n",
       " '\"they are a major, major issue in our orchards.\"',\n",
       " 'rinehart said.',\n",
       " '\"it\\'s nothing that you can take lightly.\"',\n",
       " '## \"surviving the winter\"',\n",
       " 'the stink bugs do not belong here.',\n",
       " 'they came to north america in the late 1990s.',\n",
       " 'the bugs caused bad damage in 2010 and 2011.',\n",
       " 'some maryland growers are still dealing with damage from stink bugs.',\n",
       " 'the problem can almost ruin the worth of a fruit crop, rinehart said.',\n",
       " 'but others have seen damage ease.',\n",
       " 'stink bugs pierce fruit with their mouths and suck sugar out.',\n",
       " 'the damage may have decreased since 2010 and 2011.',\n",
       " \"but there's no reason to believe the insect is going away, said gerry brust.\",\n",
       " 'he is an expert in pest management.',\n",
       " '\"that\\'s what insect populations do.',\n",
       " 'it goes up, down,\" he said.',\n",
       " \"even extreme weather won't get rid of the bugs.\",\n",
       " 'so the record low temperatures in many parts of the nation this winter are not solving the problem.',\n",
       " 'stink bugs can escape the cold by living in places like dead or rotting trees, said donald weber.',\n",
       " 'he studies bugs for the u.s. department of agriculture (usda).',\n",
       " '\"they\\'re perfectly capable of surviving the winter,\" weber said.',\n",
       " '## scientists test samples',\n",
       " 'rinehart said he has to look hard for stink bug damage.',\n",
       " 'he can spray something to keep the bugs away.',\n",
       " 'the spray is safe for the fruit.',\n",
       " 'but it also keeps away insects that help the fruit.',\n",
       " 'guy moore is vice president at larriland farm.',\n",
       " 'he said that stink bugs caused a lot of damage in 2010 and 2011.',\n",
       " 'but they did not cause significant damage after that.',\n",
       " 'usda scientists take samples of apples and peaches from his farm.',\n",
       " 'they have been able to help watch over the stink bug population.',\n",
       " 'moore hopes the stink bugs will only be a small problem in the future.',\n",
       " 'stink bugs have been in north america for a short period of time.',\n",
       " \"scientists haven't had time to find out how their population changes, weber said.\",\n",
       " '\"we\\'ve only had a few years; there\\'s a lot of other things that can happen,\" he said.',\n",
       " '\"we had a big cold snap this year; maybe that does nothing to them.',\n",
       " \"we just don't know.\",\n",
       " 'the safe bet is they\\'re not going away.\"',\n",
       " '## bringing in predators',\n",
       " 'some animals in the area are slowly starting to recognize stink bugs as food, weber said.',\n",
       " 'scientists are thinking about bringing in natural enemies to feed on the stink bugs.',\n",
       " 'but that could take a long time.',\n",
       " 'introducing a stink bug enemy could take three to five years.',\n",
       " 'scientists from the u.s., canada and mexico would have to agree to let it happen, weber said.',\n",
       " 'tiny wasps could be the chosen enemy, weber said.',\n",
       " \"the wasps lay their eggs on other insects' eggs.\",\n",
       " 'then the newly hatched wasps eat the eggs of their prey — including stink bugs.',\n",
       " \"chemists have also made a copy of the stink bug's pheromones, or scent, weber said.\",\n",
       " 'growers could use the fake scent.',\n",
       " 'it would draw the insects away from their fruit.',\n",
       " 'but for now, growers will have to continue to use short-term measures like pesticides.',\n",
       " 'doing this can limit the damage.',\n",
       " '\"in this business, you are at the mercy of nature.',\n",
       " 'stink bugs are something that have definitely added to that and added in a very strong way,\" rinehart said.',\n",
       " '\"yeah, stink bugs are a bummer, man.\"']"
      ]
     },
     "execution_count": 79,
     "metadata": {},
     "output_type": "execute_result"
    }
   ],
   "source": [
    "stnce_list"
   ]
  },
  {
   "cell_type": "markdown",
   "metadata": {},
   "source": [
    "## Builds the processed sentences that I need for KenLM"
   ]
  },
  {
   "cell_type": "code",
   "execution_count": 6,
   "metadata": {},
   "outputs": [],
   "source": [
    "articleLM.build_data()"
   ]
  },
  {
   "cell_type": "code",
   "execution_count": 7,
   "metadata": {},
   "outputs": [],
   "source": [
    "text = articleLM.get_article_text(articleLM.metadata.filename[9215])"
   ]
  },
  {
   "cell_type": "code",
   "execution_count": 8,
   "metadata": {},
   "outputs": [
    {
     "data": {
      "text/plain": [
       "'<img class=\"pull-right\" src=\"https://newsela-test-files-f331e.s3.amazonaws.com/article_media/extra/2'"
      ]
     },
     "execution_count": 8,
     "metadata": {},
     "output_type": "execute_result"
    }
   ],
   "source": [
    "text[:100]"
   ]
  },
  {
   "cell_type": "code",
   "execution_count": 10,
   "metadata": {},
   "outputs": [
    {
     "data": {
      "text/plain": [
       "dict_keys([6, 4, 9, 7, 8, 5, 3, 2])"
      ]
     },
     "execution_count": 10,
     "metadata": {},
     "output_type": "execute_result"
    }
   ],
   "source": [
    "articleLM.grade_level_sentences['val'].keys()"
   ]
  },
  {
   "cell_type": "code",
   "execution_count": 11,
   "metadata": {},
   "outputs": [
    {
     "data": {
      "text/html": [
       "<div>\n",
       "<style scoped>\n",
       "    .dataframe tbody tr th:only-of-type {\n",
       "        vertical-align: middle;\n",
       "    }\n",
       "\n",
       "    .dataframe tbody tr th {\n",
       "        vertical-align: top;\n",
       "    }\n",
       "\n",
       "    .dataframe thead th {\n",
       "        text-align: right;\n",
       "    }\n",
       "</style>\n",
       "<table border=\"1\" class=\"dataframe\">\n",
       "  <thead>\n",
       "    <tr style=\"text-align: right;\">\n",
       "      <th></th>\n",
       "      <th>Unnamed: 0</th>\n",
       "      <th>Unnamed: 0.1</th>\n",
       "      <th>slug</th>\n",
       "      <th>language</th>\n",
       "      <th>title</th>\n",
       "      <th>grade_level</th>\n",
       "      <th>version</th>\n",
       "      <th>filename</th>\n",
       "      <th>train_val_test</th>\n",
       "      <th>is_original</th>\n",
       "    </tr>\n",
       "  </thead>\n",
       "  <tbody>\n",
       "    <tr>\n",
       "      <th>8258</th>\n",
       "      <td>8258</td>\n",
       "      <td>8258</td>\n",
       "      <td>sanctuary-cities-spanish</td>\n",
       "      <td>es</td>\n",
       "      <td>Algunas 'ciudades santuario' en EEUU temen dem...</td>\n",
       "      <td>12</td>\n",
       "      <td>0</td>\n",
       "      <td>sanctuary-cities-spanish.es.0.txt</td>\n",
       "      <td>val</td>\n",
       "      <td>False</td>\n",
       "    </tr>\n",
       "  </tbody>\n",
       "</table>\n",
       "</div>"
      ],
      "text/plain": [
       "      Unnamed: 0  Unnamed: 0.1                      slug language  \\\n",
       "8258        8258          8258  sanctuary-cities-spanish       es   \n",
       "\n",
       "                                                  title  grade_level  version  \\\n",
       "8258  Algunas 'ciudades santuario' en EEUU temen dem...           12        0   \n",
       "\n",
       "                               filename train_val_test is_original  \n",
       "8258  sanctuary-cities-spanish.es.0.txt            val       False  "
      ]
     },
     "execution_count": 11,
     "metadata": {},
     "output_type": "execute_result"
    }
   ],
   "source": [
    "articleLM.metadata_split[articleLM.metadata_split.grade_level==12]"
   ]
  },
  {
   "cell_type": "markdown",
   "metadata": {},
   "source": [
    "## This will do the training, but I don't train again after I've already done it once."
   ]
  },
  {
   "cell_type": "code",
   "execution_count": 12,
   "metadata": {},
   "outputs": [
    {
     "name": "stdout",
     "output_type": "stream",
     "text": [
      "Processing 8\n",
      "Grade 8 has 38400 sentences in the train set.\n",
      "=== 1/5 Counting and sorting n-grams ===\n",
      "Reading stdin\n",
      "----5---10---15---20---25---30---35---40---45---50---55---60---65---70---75---80---85---90---95--100\n",
      "File stdin isn't normal.  Using slower read() instead of mmap().  No progress bar.\n",
      "****************************************************************************************************\n",
      "Unigram tokens 742451 types 32365\n",
      "=== 2/5 Calculating and sorting adjusted counts ===\n",
      "Chain sizes: 1:388380 2:1340829952 3:2514056192 4:4022489856 5:5866131456\n",
      "Statistics:\n",
      "1 32365 D1=0.592211 D2=1.02506 D3+=1.45563\n",
      "2 287309 D1=0.766591 D2=1.13573 D3+=1.44691\n",
      "3 552598 D1=0.891525 D2=1.25565 D3+=1.43271\n",
      "4 647062 D1=0.956586 D2=1.39164 D3+=1.56766\n",
      "5 648394 D1=0.979082 D2=1.48773 D3+=1.5433\n",
      "Memory estimate for binary LM:\n",
      "type       kB\n",
      "probing 47070 assuming -p 1.5\n",
      "probing 55909 assuming -r models -p 1.5\n",
      "trie    22188 without quantization\n",
      "trie    11843 assuming -q 8 -b 8 quantization \n",
      "trie    19872 assuming -a 22 array pointer compression\n",
      "trie     9527 assuming -a 22 -q 8 -b 8 array pointer compression and quantization\n",
      "=== 3/5 Calculating and sorting initial probabilities ===\n",
      "Chain sizes: 1:388380 2:4596944 3:11051960 4:15529488 5:18155032\n",
      "=== 4/5 Calculating and writing order-interpolated probabilities ===\n",
      "Chain sizes: 1:388380 2:4596944 3:11051960 4:15529488 5:18155032\n",
      "=== 5/5 Writing ARPA model ===\n",
      "RSSMax:2453254144 kB\tuser:2.05987\tsys:1.23285\tCPU:3.29275\treal:2.92125\n",
      "\n",
      "Processing 5\n",
      "Grade 5 has 53107 sentences in the train set.\n",
      "=== 1/5 Counting and sorting n-grams ===\n",
      "Reading stdin\n",
      "----5---10---15---20---25---30---35---40---45---50---55---60---65---70---75---80---85---90---95--100\n",
      "File stdin isn't normal.  Using slower read() instead of mmap().  No progress bar.\n",
      "****************************************************************************************************\n",
      "Unigram tokens 741526 types 25124\n",
      "=== 2/5 Calculating and sorting adjusted counts ===\n",
      "Chain sizes: 1:301488 2:1340838400 3:2514072064 4:4022514944 5:5866168320\n",
      "Statistics:\n",
      "1 25124 D1=0.573653 D2=1.05395 D3+=1.55885\n",
      "2 248167 D1=0.751484 D2=1.12915 D3+=1.39228\n",
      "3 506044 D1=0.872115 D2=1.2407 D3+=1.42403\n",
      "4 610407 D1=0.942482 D2=1.35573 D3+=1.53675\n",
      "5 611381 D1=0.970152 D2=1.42909 D3+=1.67926\n",
      "Memory estimate for binary LM:\n",
      "type       kB\n",
      "probing 43368 assuming -p 1.5\n",
      "probing 51462 assuming -r models -p 1.5\n",
      "trie    20316 without quantization\n",
      "trie    10777 assuming -q 8 -b 8 quantization \n",
      "trie    18225 assuming -a 22 array pointer compression\n",
      "trie     8686 assuming -a 22 -q 8 -b 8 array pointer compression and quantization\n",
      "=== 3/5 Calculating and sorting initial probabilities ===\n",
      "Chain sizes: 1:301488 2:3970672 3:10120880 4:14649768 5:17118668\n",
      "=== 4/5 Calculating and writing order-interpolated probabilities ===\n",
      "Chain sizes: 1:301488 2:3970672 3:10120880 4:14649768 5:17118668\n",
      "=== 5/5 Writing ARPA model ===\n",
      "RSSMax:2466668544 kB\tuser:1.68216\tsys:0.955263\tCPU:2.63747\treal:2.14904\n",
      "\n",
      "Processing 3\n",
      "Grade 3 has 16115 sentences in the train set.\n",
      "=== 1/5 Counting and sorting n-grams ===\n",
      "Reading stdin\n",
      "----5---10---15---20---25---30---35---40---45---50---55---60---65---70---75---80---85---90---95--100\n",
      "File stdin isn't normal.  Using slower read() instead of mmap().  No progress bar.\n",
      "****************************************************************************************************\n",
      "Unigram tokens 163364 types 8946\n",
      "=== 2/5 Calculating and sorting adjusted counts ===\n",
      "Chain sizes: 1:107352 2:1340857344 3:2514107648 4:4022572032 5:5866251264\n",
      "Statistics:\n",
      "1 8946 D1=0.565497 D2=1.05243 D3+=1.58285\n",
      "2 65813 D1=0.757055 D2=1.12951 D3+=1.52489\n",
      "3 116367 D1=0.874016 D2=1.26022 D3+=1.50452\n",
      "4 131611 D1=0.937992 D2=1.41012 D3+=1.38894\n",
      "5 126405 D1=0.96463 D2=1.51406 D3+=1.35505\n",
      "Memory estimate for binary LM:\n",
      "type       kB\n",
      "probing  9803 assuming -p 1.5\n",
      "probing 11677 assuming -r models -p 1.5\n",
      "trie     4518 without quantization\n",
      "trie     2370 assuming -q 8 -b 8 quantization \n",
      "trie     4128 assuming -a 22 array pointer compression\n",
      "trie     1980 assuming -a 22 -q 8 -b 8 array pointer compression and quantization\n",
      "=== 3/5 Calculating and sorting initial probabilities ===\n",
      "Chain sizes: 1:107352 2:1053008 3:2327340 4:3158664 5:3539340\n",
      "=== 4/5 Calculating and writing order-interpolated probabilities ===\n",
      "Chain sizes: 1:107352 2:1053008 3:2327340 4:3158664 5:3539340\n",
      "=== 5/5 Writing ARPA model ===\n",
      "RSSMax:2446438400 kB\tuser:0.772613\tsys:0.752305\tCPU:1.52497\treal:1.39355\n",
      "\n",
      "Processing 9\n",
      "Grade 9 has 24243 sentences in the train set.\n",
      "=== 1/5 Counting and sorting n-grams ===\n",
      "Reading stdin\n",
      "----5---10---15---20---25---30---35---40---45---50---55---60---65---70---75---80---85---90---95--100\n",
      "File stdin isn't normal.  Using slower read() instead of mmap().  No progress bar.\n",
      "****************************************************************************************************\n",
      "Unigram tokens 495734 types 25780\n",
      "=== 2/5 Calculating and sorting adjusted counts ===\n",
      "Chain sizes: 1:309360 2:1340837632 3:2514070784 4:4022512896 5:5866165248\n",
      "Statistics:\n",
      "1 25780 D1=0.582602 D2=1.08359 D3+=1.50621\n",
      "2 210655 D1=0.7728 D2=1.13423 D3+=1.47028\n",
      "3 383590 D1=0.898254 D2=1.25842 D3+=1.49095\n",
      "4 439058 D1=0.960683 D2=1.3999 D3+=1.66698\n",
      "5 437440 D1=0.981198 D2=1.48937 D3+=1.77555\n",
      "Memory estimate for binary LM:\n",
      "type       kB\n",
      "probing 32561 assuming -p 1.5\n",
      "probing 38717 assuming -r models -p 1.5\n",
      "trie    15295 without quantization\n",
      "trie     8146 assuming -q 8 -b 8 quantization \n",
      "trie    13809 assuming -a 22 array pointer compression\n",
      "trie     6660 assuming -a 22 -q 8 -b 8 array pointer compression and quantization\n",
      "=== 3/5 Calculating and sorting initial probabilities ===\n",
      "Chain sizes: 1:309360 2:3370480 3:7671800 4:10537392 5:12248320\n",
      "=== 4/5 Calculating and writing order-interpolated probabilities ===\n",
      "Chain sizes: 1:309360 2:3370480 3:7671800 4:10537392 5:12248320\n",
      "=== 5/5 Writing ARPA model ===\n",
      "RSSMax:2461077504 kB\tuser:1.43076\tsys:0.918908\tCPU:2.34971\treal:1.96204\n",
      "\n",
      "Processing 7\n",
      "Grade 7 has 45515 sentences in the train set.\n",
      "=== 1/5 Counting and sorting n-grams ===\n",
      "File stdin isn't normal.  Using slower read() instead of mmap().  No progress bar.\n",
      "Unigram tokens 784889 types 29872\n",
      "=== 2/5 Calculating and sorting adjusted counts ===\n",
      "Chain sizes: 1:358464 2:1340832896 3:2514061824 4:4022498560 5:5866144256\n",
      "Statistics:\n",
      "1 29872 D1=0.578867 D2=1.06299 D3+=1.57078\n",
      "2 286072 D1=0.760669 D2=1.13048 D3+=1.38669\n",
      "3 566351 D1=0.883083 D2=1.24417 D3+=1.43968\n",
      "4 671642 D1=0.95123 D2=1.36793 D3+=1.62034\n",
      "5 673219 D1=0.97563 D2=1.48228 D3+=1.73562\n",
      "Memory estimate for binary LM:\n",
      "type       kB\n",
      "probing 48312 assuming -p 1.5\n",
      "probing 57359 assuming -r models -p 1.5\n",
      "trie    22712 without quantization\n",
      "trie    12085 assuming -q 8 -b 8 quantization \n",
      "trie    20341 assuming -a 22 array pointer compression\n",
      "trie     9714 assuming -a 22 -q 8 -b 8 array pointer compression and quantization\n",
      "=== 3/5 Calculating and sorting initial probabilities ===\n",
      "Chain sizes: 1:358464 2:4577152 3:11327020 4:16119408 5:18850132\n",
      "=== 4/5 Calculating and writing order-interpolated probabilities ===\n",
      "Chain sizes: 1:358464 2:4577152 3:11327020 4:16119408 5:18850132\n",
      "=== 5/5 Writing ARPA model ===\n",
      "RSSMax:2468622336 kB\tuser:1.90979\tsys:1.04762\tCPU:2.95743\treal:2.34992\n",
      "\n",
      "Processing 4\n",
      "Grade 4 has 61524 sentences in the train set.\n",
      "=== 1/5 Counting and sorting n-grams ===\n",
      "File stdin isn't normal.  Using slower read() instead of mmap().  No progress bar.\n",
      "Unigram tokens 743134 types 22934\n",
      "=== 2/5 Calculating and sorting adjusted counts ===\n",
      "Chain sizes: 1:275208 2:1340840960 3:2514076928 4:4022522880 5:5866179584\n",
      "Statistics:\n",
      "1 22934 D1=0.564893 D2=1.05081 D3+=1.57425\n",
      "2 233134 D1=0.747693 D2=1.11956 D3+=1.43871\n",
      "3 483941 D1=0.865413 D2=1.2254 D3+=1.44903\n",
      "4 591215 D1=0.935121 D2=1.3362 D3+=1.52002\n",
      "5 592120 D1=0.961233 D2=1.4871 D3+=1.59069\n",
      "Memory estimate for binary LM:\n",
      "type       kB\n",
      "probing 41653 assuming -p 1.5\n",
      "probing 49409 assuming -r models -p 1.5\n",
      "trie    19484 without quantization\n",
      "trie    10323 assuming -q 8 -b 8 quantization \n",
      "trie    17480 assuming -a 22 array pointer compression\n",
      "trie     8318 assuming -a 22 -q 8 -b 8 array pointer compression and quantization\n",
      "=== 3/5 Calculating and sorting initial probabilities ===\n",
      "Chain sizes: 1:275208 2:3730144 3:9678820 4:14189160 5:16579360\n",
      "=== 4/5 Calculating and writing order-interpolated probabilities ===\n",
      "Chain sizes: 1:275208 2:3730144 3:9678820 4:14189160 5:16579360\n",
      "=== 5/5 Writing ARPA model ===\n",
      "RSSMax:2466263040 kB\tuser:1.72902\tsys:1.03436\tCPU:2.76341\treal:2.29748\n",
      "\n",
      "Processing 6\n",
      "Grade 6 has 41748 sentences in the train set.\n"
     ]
    },
    {
     "name": "stdout",
     "output_type": "stream",
     "text": [
      "=== 1/5 Counting and sorting n-grams ===\n",
      "File stdin isn't normal.  Using slower read() instead of mmap().  No progress bar.\n",
      "Unigram tokens 662616 types 26747\n",
      "=== 2/5 Calculating and sorting adjusted counts ===\n",
      "Chain sizes: 1:320964 2:1340836480 3:2514068480 4:4022509312 5:5866159616\n",
      "Statistics:\n",
      "1 26747 D1=0.577945 D2=1.03671 D3+=1.59455\n",
      "2 245242 D1=0.761151 D2=1.13701 D3+=1.4165\n",
      "3 477932 D1=0.883848 D2=1.25228 D3+=1.41682\n",
      "4 563090 D1=0.950525 D2=1.38654 D3+=1.56671\n",
      "5 561288 D1=0.974725 D2=1.49036 D3+=1.71496\n",
      "Memory estimate for binary LM:\n",
      "type       kB\n",
      "probing 40692 assuming -p 1.5\n",
      "probing 48333 assuming -r models -p 1.5\n",
      "trie    19136 without quantization\n",
      "trie    10187 assuming -q 8 -b 8 quantization \n",
      "trie    17163 assuming -a 22 array pointer compression\n",
      "trie     8214 assuming -a 22 -q 8 -b 8 array pointer compression and quantization\n",
      "=== 3/5 Calculating and sorting initial probabilities ===\n",
      "Chain sizes: 1:320964 2:3923872 3:9558640 4:13514160 5:15716064\n",
      "=== 4/5 Calculating and writing order-interpolated probabilities ===\n",
      "Chain sizes: 1:320964 2:3923872 3:9558640 4:13514160 5:15716064\n",
      "=== 5/5 Writing ARPA model ===\n",
      "RSSMax:2465042432 kB\tuser:1.7098\tsys:0.973225\tCPU:2.68305\treal:2.30549\n",
      "\n",
      "Processing 2\n",
      "Grade 2 has 6950 sentences in the train set.\n",
      "=== 1/5 Counting and sorting n-grams ===\n",
      "Reading stdin\n",
      "----5---10---15---20---25---30---35---40---45---50---55---60---65---70---75---80---85---90---95--100\n",
      "File stdin isn't normal.  Using slower read() instead of mmap().  No progress bar.\n",
      "****************************************************************************************************\n",
      "Unigram tokens 61107 types 4857\n",
      "=== 2/5 Calculating and sorting adjusted counts ===\n",
      "Chain sizes: 1:58284 2:1340862080 3:2514116608 4:4022586368 5:5866272256\n",
      "Statistics:\n",
      "1 4857 D1=0.559055 D2=1.11311 D3+=1.64073\n",
      "2 28571 D1=0.771612 D2=1.16792 D3+=1.50354\n",
      "3 45852 D1=0.879444 D2=1.28993 D3+=1.51082\n",
      "4 49601 D1=0.942909 D2=1.44681 D3+=1.58229\n",
      "5 45938 D1=0.97063 D2=1.5645 D3+=1.47744\n",
      "Memory estimate for binary LM:\n",
      "type      kB\n",
      "probing 3837 assuming -p 1.5\n",
      "probing 4583 assuming -r models -p 1.5\n",
      "trie    1753 without quantization\n",
      "trie     919 assuming -q 8 -b 8 quantization \n",
      "trie    1619 assuming -a 22 array pointer compression\n",
      "trie     785 assuming -a 22 -q 8 -b 8 array pointer compression and quantization\n",
      "=== 3/5 Calculating and sorting initial probabilities ===\n",
      "Chain sizes: 1:58284 2:457136 3:917040 4:1190424 5:1286264\n",
      "=== 4/5 Calculating and writing order-interpolated probabilities ===\n",
      "Chain sizes: 1:58284 2:457136 3:917040 4:1190424 5:1286264\n",
      "=== 5/5 Writing ARPA model ===\n",
      "RSSMax:2438205440 kB\tuser:0.616334\tsys:0.745486\tCPU:1.36185\treal:1.30476\n",
      "\n",
      "Processing 10\n",
      "Grade 10 has 208 sentences in the train set.\n",
      "=== 1/5 Counting and sorting n-grams ===\n",
      "Reading stdin\n",
      "----5---10---15---20---25---30---35---40---45---50---55---60---65---70---75---80---85---90---95--100\n",
      "File stdin isn't normal.  Using slower read() instead of mmap().  No progress bar.\n",
      "****************************************************************************************************\n",
      "Unigram tokens 4134 types 1326\n",
      "=== 2/5 Calculating and sorting adjusted counts ===\n",
      "Chain sizes: 1:15912 2:1340866176 3:2514124288 4:4022598656 5:5866290176\n",
      "/Users/stephanie/github/kenlm/lm/builder/adjust_counts.cc:52 in void lm::builder::(anonymous namespace)::StatCollector::CalculateDiscounts(const lm::builder::DiscountConfig &) threw BadDiscountException because `s.n[j] == 0'.\n",
      "Could not calculate Kneser-Ney discounts for 5-grams with adjusted count 4 because we didn't observe any 5-grams with adjusted count 3; Is this small or artificial data?\n",
      "Try deduplicating the input.  To override this error for e.g. a class-based model, rerun with --discount_fallback\n",
      "\n",
      "\n"
     ]
    }
   ],
   "source": [
    "articleLM.train_all_arpas()"
   ]
  },
  {
   "cell_type": "code",
   "execution_count": 9,
   "metadata": {},
   "outputs": [],
   "source": [
    "# Can also train just one grade level at a time\n",
    "# articleLM.train_arpa(2)"
   ]
  },
  {
   "cell_type": "markdown",
   "metadata": {},
   "source": [
    "## Printing out stats"
   ]
  },
  {
   "cell_type": "markdown",
   "metadata": {},
   "source": [
    "how many sentences there are in training set, indexed by grade level"
   ]
  },
  {
   "cell_type": "code",
   "execution_count": 13,
   "metadata": {},
   "outputs": [
    {
     "name": "stdout",
     "output_type": "stream",
     "text": [
      "8 38400\n",
      "5 53107\n",
      "3 16115\n",
      "9 24243\n",
      "7 45515\n",
      "4 61524\n",
      "6 41748\n",
      "2 6950\n",
      "10 208\n"
     ]
    }
   ],
   "source": [
    "for g in articleLM.grade_level_sentences.get('train').keys():\n",
    "    print(g, len(articleLM.grade_level_sentences.get('train').get(g)))"
   ]
  },
  {
   "cell_type": "code",
   "execution_count": 71,
   "metadata": {},
   "outputs": [],
   "source": [
    "sentence_len = 0\n",
    "for g in articleLM.grade_level_sentences.get('train').keys():\n",
    "    sentence_len+=len(articleLM.grade_level_sentences.get('train').get(g))"
   ]
  },
  {
   "cell_type": "code",
   "execution_count": 72,
   "metadata": {},
   "outputs": [
    {
     "data": {
      "text/plain": [
       "287810"
      ]
     },
     "execution_count": 72,
     "metadata": {},
     "output_type": "execute_result"
    }
   ],
   "source": [
    "sentence_len"
   ]
  },
  {
   "cell_type": "code",
   "execution_count": 73,
   "metadata": {},
   "outputs": [
    {
     "name": "stdout",
     "output_type": "stream",
     "text": [
      "61204\n"
     ]
    }
   ],
   "source": [
    "sentence_len = 0\n",
    "for g in articleLM.grade_level_sentences.get('val').keys():\n",
    "    sentence_len+=len(articleLM.grade_level_sentences.get('val').get(g))\n",
    "print(sentence_len)"
   ]
  },
  {
   "cell_type": "markdown",
   "metadata": {},
   "source": [
    "how many articles there are in each set, indexed by grade level"
   ]
  },
  {
   "cell_type": "code",
   "execution_count": 14,
   "metadata": {},
   "outputs": [
    {
     "data": {
      "text/plain": [
       "4     1196\n",
       "5     1043\n",
       "7      945\n",
       "6      827\n",
       "8      818\n",
       "9      584\n",
       "3      433\n",
       "2      198\n",
       "10       4\n",
       "Name: grade_level, dtype: int64"
      ]
     },
     "execution_count": 14,
     "metadata": {},
     "output_type": "execute_result"
    }
   ],
   "source": [
    "articleLM.metadata_split[articleLM.metadata_split.train_val_test=='train'].grade_level.value_counts()"
   ]
  },
  {
   "cell_type": "code",
   "execution_count": 75,
   "metadata": {},
   "outputs": [
    {
     "data": {
      "text/plain": [
       "6048"
      ]
     },
     "execution_count": 75,
     "metadata": {},
     "output_type": "execute_result"
    }
   ],
   "source": [
    "articleLM.metadata_split[articleLM.metadata_split.train_val_test=='train'].grade_level.value_counts().sum()"
   ]
  },
  {
   "cell_type": "code",
   "execution_count": 15,
   "metadata": {},
   "outputs": [
    {
     "data": {
      "text/plain": [
       "4     269\n",
       "7     218\n",
       "5     204\n",
       "6     181\n",
       "8     161\n",
       "9     130\n",
       "3     102\n",
       "2      36\n",
       "12      1\n",
       "10      1\n",
       "Name: grade_level, dtype: int64"
      ]
     },
     "execution_count": 15,
     "metadata": {},
     "output_type": "execute_result"
    }
   ],
   "source": [
    "articleLM.metadata_split[articleLM.metadata_split.train_val_test=='val'].grade_level.value_counts()"
   ]
  },
  {
   "cell_type": "code",
   "execution_count": 16,
   "metadata": {},
   "outputs": [
    {
     "data": {
      "text/plain": [
       "4    245\n",
       "5    239\n",
       "7    201\n",
       "8    168\n",
       "6    162\n",
       "9    134\n",
       "3     79\n",
       "2     49\n",
       "Name: grade_level, dtype: int64"
      ]
     },
     "execution_count": 16,
     "metadata": {},
     "output_type": "execute_result"
    }
   ],
   "source": [
    "articleLM.metadata_split[articleLM.metadata_split.train_val_test=='test'].grade_level.value_counts()"
   ]
  },
  {
   "cell_type": "code",
   "execution_count": 14,
   "metadata": {},
   "outputs": [
    {
     "data": {
      "text/plain": [
       "8628"
      ]
     },
     "execution_count": 14,
     "metadata": {},
     "output_type": "execute_result"
    }
   ],
   "source": [
    "len(articleLM.metadata_split)"
   ]
  },
  {
   "cell_type": "code",
   "execution_count": null,
   "metadata": {},
   "outputs": [],
   "source": [
    "articleLM.compute_perplexity_validation('val', 2)"
   ]
  },
  {
   "cell_type": "code",
   "execution_count": 17,
   "metadata": {},
   "outputs": [],
   "source": [
    "def compute_perplexity_validation(split_type, grade_level):\n",
    "    # Split type can be 'val' or 'test'\n",
    "    sample_perp = dict()\n",
    "    for ix, sentence in enumerate(articleLM.grade_level_sentences[split_type][grade_level]):\n",
    "        perplexities = articleLM.compute_sentence_perplexities(sentence)\n",
    "        sample_perp[ix] = perplexities\n",
    "    sample_perp_df = pd.DataFrame(sample_perp).T\n",
    "    sample_perp_df.columns = sorted(articleLM.models.keys())\n",
    "    return sample_perp_df"
   ]
  },
  {
   "cell_type": "code",
   "execution_count": 10,
   "metadata": {},
   "outputs": [],
   "source": [
    "import pandas as pd"
   ]
  },
  {
   "cell_type": "code",
   "execution_count": 29,
   "metadata": {},
   "outputs": [],
   "source": [
    "for ix, sentence in enumerate(articleLM.grade_level_sentences['val'][2]):\n",
    "     perplexities = articleLM.compute_sentence_perplexities(sentence)"
   ]
  },
  {
   "cell_type": "code",
   "execution_count": 30,
   "metadata": {},
   "outputs": [
    {
     "data": {
      "text/plain": [
       "[250.0085957692233,\n",
       " 326.5919789254105,\n",
       " 157.64826777289863,\n",
       " 148.76504699556824,\n",
       " 160.11189992044885,\n",
       " 18.014581783703907,\n",
       " 136.46682216940155,\n",
       " 17.06018638906965,\n",
       " 132.41926609524762,\n",
       " 17.046273216423238]"
      ]
     },
     "execution_count": 30,
     "metadata": {},
     "output_type": "execute_result"
    }
   ],
   "source": [
    "perplexities"
   ]
  },
  {
   "cell_type": "markdown",
   "metadata": {},
   "source": [
    "## Example: This all perplexities comparing each grade level (columns) with each sentence in all of 2nd grade \n",
    "Rows indexes the sentence number from articleLM.grade_level_sentences['val'][2]\n",
    "\n",
    "`articleLM.grade_level_sentences` is a dict that has `train`, `val`, and `test` keys. Each dict has a dict to each grade level, which stores a list of sentences parsed to be pushed into KenLM."
   ]
  },
  {
   "cell_type": "code",
   "execution_count": 18,
   "metadata": {},
   "outputs": [],
   "source": [
    "GL = dict()"
   ]
  },
  {
   "cell_type": "code",
   "execution_count": 19,
   "metadata": {},
   "outputs": [],
   "source": [
    "grade_levels_considered = [2, 3, 4, 5, 6, 7, 8, 9]"
   ]
  },
  {
   "cell_type": "code",
   "execution_count": 20,
   "metadata": {},
   "outputs": [
    {
     "name": "stdout",
     "output_type": "stream",
     "text": [
      "Grade Level 10 failed\n"
     ]
    }
   ],
   "source": [
    "for gl in sorted(articleLM.grade_level_sentences['val'].keys()):\n",
    "    GL[gl] = articleLM.compute_perplexity_validation('val', gl)"
   ]
  },
  {
   "cell_type": "code",
   "execution_count": 21,
   "metadata": {},
   "outputs": [],
   "source": [
    "# for gl in sorted(articleLM.grade_level_sentences['val'].keys()):\n",
    "#     print(gl)\n",
    "#     print(GL[gl].min_perplexity.describe())"
   ]
  },
  {
   "cell_type": "code",
   "execution_count": 64,
   "metadata": {},
   "outputs": [
    {
     "data": {
      "text/plain": [
       "array([ 8,  6,  5,  3,  9,  7,  4,  2, 10, 12])"
      ]
     },
     "execution_count": 64,
     "metadata": {},
     "output_type": "execute_result"
    }
   ],
   "source": [
    "articleLM.metadata_split.grade_level.unique()"
   ]
  },
  {
   "cell_type": "code",
   "execution_count": 68,
   "metadata": {},
   "outputs": [
    {
     "data": {
      "text/plain": [
       "['in a pre-calculus class at john champe high school in loudoun county , virginia , juniors and seniors are learning abstract mathematical ideas .',\n",
       " 'meanwhile , in a personal-finance course , 16- and 17-year-olds are learning about something that might seem even more abstract for the teenagers : retirement .',\n",
       " 'virginia was one of many states that moved to offer more personal-finance courses on the heels of the great recession , when the u.s. economy worsened from 2007 to 2009 and many people lost jobs .',\n",
       " 'the state wanted to instill practical money-management skills to help the next generation avoid the pitfalls that many of their parents experienced .',\n",
       " 'proponents of the requirement argued that american children were falling behind in financial literacy , or understanding of money matters .',\n",
       " 'they said that the increasingly complex world of credit cards and student loans demanded a new kind of education .',\n",
       " 'results from the 2012 program of international student assessment showed that u.s. teenagers were in the bottom half for financial literacy among the 18 countries that participated , ahead of france and spain but below russia and china .',\n",
       " 'there are now 17 states that require high school students to take personal-finance courses , according to the council on economic education .',\n",
       " 'in 2007 , there were just seven .',\n",
       " '# # required class gets top marks',\n",
       " 'an economics and personal-finance class is now a required course for those who want a high school diploma in virginia .',\n",
       " 'the class of 2015 was the first that needed the course to graduate .',\n",
       " 'northern virginia now has one of the best personal-finance education programs in the country , according to working in support of education , a new york city-based nonprofit that designs personal-finance lessons for high school students .',\n",
       " \"it ranked 38 virginia high schools in the top 100 schools for personal finance among those that use the group 's programs .\",\n",
       " \"champlain college 's center for financial literacy also gave virginia an a for its level of personal-finance instruction , one of only five states to earn the top grade .\",\n",
       " 'many in northern virginia fought the state legislature when it proposed the change .',\n",
       " 'they said that the requirement meddled unnecessarily in matters that should be decided by local school districts .',\n",
       " 'some also worried that an additional requirement would put a squeeze on the schedules of busy students .',\n",
       " \"that 's what some students at john champe high , a high-achieving school that graduated 99 percent of its students last year , thought when they learned they would be required to take the personal-finance class .\",\n",
       " 'one student hoped to add another advanced placement course to her schedule .',\n",
       " 'she thought it could make her more competitive for colleges looking for students with challenging course loads and could give her a chance to earn college credit ahead of time .',\n",
       " \"`` i was kind of angry that it was mandatory , '' said jisoo jang , a 16-year-old champe junior .\",\n",
       " 'still , she values the basic skills she has gained in the personal-finance class .',\n",
       " 'she learned how debit and credit cards worked , the importance of a good credit score , and how to avoid scams .',\n",
       " 'the skills are useful to her now .',\n",
       " \"`` this is actually something i 'm going to use in life . ''\",\n",
       " '# # from credit cards to retirement plans',\n",
       " 'in the class , taught by former lawyer mary doherty , students learn about personal-finance issues that could affect them at nearly every stage of their lives .',\n",
       " 'many already have jobs and will get help filing taxes for the first time .',\n",
       " 'they will learn about the potential pitfalls of using credit cards and how to be smart about spending and budgeting .',\n",
       " 'they also will learn about applying for college loans and the cost of higher education , something that is important to many of them .',\n",
       " 'they will get to know about various kinds of retirement savings accounts , something far away but that many experts believe is a vital topic that many people put off until too late .',\n",
       " \"doherty said the class is so thorough that other teachers — and even some of the students ' parents — ask whether they can sit in on certain topics .\",\n",
       " 'the class serves as a sort of reality check for many students .',\n",
       " 'one said she imagined she would probably take on $ 5,000 in debt for college before learning that college graduates often are entering the working world owing $ 20,000 or more ; the average federal student loan balance per borrower in 2015 was nearly $ 29,000 , according to the education department of the federal government .',\n",
       " \"`` this class is like a wake-up call , '' senior lainie gibbs , 17 , said .\",\n",
       " '# # budgeting for the real world',\n",
       " 'teacher toni fasan , a former banker , said the biggest jaw-dropping moment for her students is when they do a budgeting exercise , learning how much it costs to raise a family in wealthy loudoun county .',\n",
       " \"she recalled one student 's guess for how much it would cost a family of four to make it through a month : $ 75 .\",\n",
       " \"`` they are very disconnected to what it costs to live here , to raise a family here , '' fasan said .\",\n",
       " 'one thing many students do understand is the tangible effects of a financial crisis .',\n",
       " 'the recession is recent enough that some of her students can recall its effect on their families , fasan said .',\n",
       " 'fasan worries that students would not have learned about personal finance had it not been in the classroom .',\n",
       " 'many , she says , might have gotten their only advice from people trying to profit from them , those who might not have their best interests at heart .',\n",
       " \"her goal , fasan said , is to turn these teenagers into `` educated consumers . ''\",\n",
       " 'washington — for decades , asian-americans have lived mainly on the coasts of the united states .',\n",
       " 'in recent years , thousands have moved to the south , remaking communities in the process .',\n",
       " 'between 2000 and 2010 , asian-americans were the fastest-growing ethnic group in the south .',\n",
       " 'the asian-american population there increased 69 percent during that period , according to an analysis of u.s. census bureau data by the group asian americans advancing justice , which advocates on behalf of the community .',\n",
       " 'the growth in the asian-american population in the south has outpaced the increases in every other region .',\n",
       " 'in the midwest , the asian-american population grew 47 percent , in the northeast it grew 45 percent , and in the west it increased 36 percent .',\n",
       " 'by comparison , the latino population gained 57 percent in the south .',\n",
       " '# # latino population growth overtaken',\n",
       " 'state by state , the growth is even more striking .',\n",
       " 'some states saw their asian-american populations nearly double between 2000 and 2010 , and in georgia and north carolina the increases were more than 80 percent .',\n",
       " 'the average growth among the 16 southern states and the district of columbia was 63 percent .',\n",
       " 'twelve states and the district saw increases of 50 percent or more .',\n",
       " 'the growth in certain metropolitan areas was even more dramatic , even if the asian-american percentage of the overall population remains small .',\n",
       " 'in atlanta , asian-americans make up just 5 percent of the population , while latinos make up 10 percent .',\n",
       " \"the city 's population increased 24 percent between 2000 and 2010 , but the asian-american population soared 88 percent and the latino population more than doubled .\",\n",
       " 'the explosive growth presents several dilemmas for state and local governments .',\n",
       " \"they now have to educate students who do n't speak english as a first language and translate official documents to providing housing assistance to refugees .\",\n",
       " 'compared with other parts of the country , some states in the south have little experience in hosting large immigrant communities .',\n",
       " \"# # the south 's changing political face\",\n",
       " 'the asian-american newcomers , most of whom moved from liberal states on the coasts , also could change the political face of the conservative south .',\n",
       " 'in virginia , for example , the number of asian-americans registered to vote increased 136 percent from 2004 to 2012 .',\n",
       " 'the number actually casting ballots skyrocketed 180 percent .',\n",
       " 'in georgia , registered asian-american voters doubled , while turnout increased 168 percent .',\n",
       " 'the trend also extends to native hawaiian and pacific islanders , who saw population growth of 66 percent in the south .',\n",
       " 'arkansas saw an increase in native hawaiian and pacific islanders of 151 percent from 2000 to 2010 , due in large part to arrivals of people from the marshall islands .',\n",
       " '# # diverse ethnic groups and trends',\n",
       " 'there are many reasons for the demographic trend , because there are so many different groups making the move .',\n",
       " 'the census bureau tracks 23 different ethnic groups under the asian-american umbrella , and 19 others are counted as part of the native hawaiian and pacific islanders population , a separate group , according to the census .',\n",
       " 'that variety makes pinpointing a specific explanation for the growth difficult .',\n",
       " 'marita etcubanez of asian americans advancing justice says many of those moving to the south are chasing economic opportunity and a cheaper cost of living .',\n",
       " \"`` people are willing to settle wherever opportunity is available to them , '' etcubanez said .\",\n",
       " 'the opportunities pursued can vary widely , though , etcubanez and other experts said .',\n",
       " 'for example , refugees from parts of southeast asia are likely to have very different backgrounds and qualifications than a highly educated professional from india .',\n",
       " 'c.n .',\n",
       " 'le is director of the asian & amp ; asian american studies certificate program at the university of massachusetts , amherst .',\n",
       " \"he mentioned prominent universities in north carolina as a draw for more highly educated asian-americans that contributed to the state 's 85 percent growth , the highest in the region .\",\n",
       " '# # language and other challenges',\n",
       " 'new populations can create problems for public officials , and language barriers are perhaps the most prominent example .',\n",
       " 'one school district in georgia has 111 different languages spoken nearby .',\n",
       " 'some cities in georgia are encouraging asian-american-owned businesses to have signs in english , so law enforcement will know where to go in an emergency .',\n",
       " 'an older asian-american population is another challenge .',\n",
       " 'those tracking the trend say the number of elderly asian-americans in the region is increasing alongside the overall population .',\n",
       " 'as the cheaper cost of living draws retirees , an increasing demand for elder care and health care can pose challenges .',\n",
       " 'how well each state is positioned to deal with these challenges and others will vary as well , in part , based on cultural and political realities and history of immigration .',\n",
       " 'some , like tennessee , have long been a destination for refugees , and might be better positioned to respond to a changing population .',\n",
       " \"`` many of these states do n't have as long of history of immigration , '' said chris kromm of the institute for southern studies , a civil rights advocacy group .\",\n",
       " \"`` a lot of them are catching up , and it takes a lot more to turn the ship . ''\",\n",
       " '# # courting political allegiances',\n",
       " 'members of political parties are already trying to take advantage of the changes and meet the demands of a new and fast-growing population .',\n",
       " 'political allegiances of asian-american communities could be up for grabs .',\n",
       " 'asian-americans , like most minority voting groups , currently trend democratic .',\n",
       " \"those who study the community 's politics believe republicans may be able to chip away at the democratic advantage .\",\n",
       " 'there are already two high-profile asian-american politicians in the south .',\n",
       " 'louisiana governor bobby jindal and south carolina governor nikki haley are both republicans who have downplayed their ethnicity .',\n",
       " 'southern politicians need to pay attention to asian-americans in the future , said janelle wong , director of asian american studies at the university of maryland .',\n",
       " 'for the first time , the location of asian-american communities will help them get political attention , she said .',\n",
       " \"`` that could change a lot . ''\",\n",
       " 'washington — opening a new military front in the middle east , president barack obama authorized u.s. airstrikes inside syria for the first time wednesday night .',\n",
       " \"he called it part of `` a steady , relentless effort '' to root out islamic state ( isil ) extremists and their spreading reign of terror .\",\n",
       " \"`` we will hunt down terrorists who threaten our country , wherever they are , '' obama declared in a prime-time address to the nation from the white house .\",\n",
       " \"`` this is a core principle of my presidency : if you threaten america , you will find no safe haven . ''\",\n",
       " 'obama also announced that he was expanding air strikes in iraq and dispatching nearly 500 more u.s. troops to the country .',\n",
       " \"the u.s. forces will assist that country 's overwhelmed military .\",\n",
       " 'the new addition of troops brings the total number of american forces sent there this summer to more than 1,500 .',\n",
       " 'the militant group calls itself the islamic state of iraq and the levant ( isil ) and has also been called the islamic state of iraq and syria ( isis ) .',\n",
       " 'levant is the english term for the region stretching from southern turkey through syria to egypt .',\n",
       " 'obama also urged congress to authorize a program to train and arm syrian rebels .',\n",
       " 'the rebels are fighting both isil and syrian president bashar assad .',\n",
       " \"obama 's plans amounted to a striking shift for the president .\",\n",
       " 'he first rose to political popularity in part because of his early opposition to the iraq war .',\n",
       " 'while in office , he has steadfastly sought to wind down american military campaigns in the middle east and avoid new wars .',\n",
       " \"he 's particularly avoided involvement in syria .\",\n",
       " 'the chaos gripping that country from its continuing civil war has given isil space to thrive and move freely across the border with iraq .',\n",
       " \"speaking on the eve of the anniversary of the sept. 11 , 2001 , terror attacks on the u.s. , obama 's plans were also an admission that years of american-led war in the middle east have not silenced the terror threats in the region .\",\n",
       " '# # no troops fighting on foreign soil',\n",
       " \"obama insisted that his plan to `` degrade and ultimately destroy '' isil would not involve returning u.s. combat troops to the middle east .\",\n",
       " \"even so , he acknowledged that `` any time we take military action , there are risks involved , especially to the servicemen and women who carry out these missions . ''\",\n",
       " '`` but i want the american people to understand how this effort will be different from the wars in iraq and afghanistan .',\n",
       " \"it will not involve american combat troops fighting on foreign soil , '' he added .\",\n",
       " \"the president 's announcements follow a summer of debate at the white house over how to respond to the violent isil militants .\",\n",
       " 'administration officials have said they are not aware of a true threat of a potential attack by the militants in the u.s. all the same , they say the group poses risks to americans and interests across the middle east .',\n",
       " 'officials are also concerned that westerners , including americans , who have joined the militant group could return to their home countries to launch attacks .',\n",
       " 'in recent weeks , the militants have released videos showing the grisly murder of two american journalists in syria .',\n",
       " 'the violent images appear to have shifted public opinion , which was formerly weary of war .',\n",
       " 'in recent days multiple polls have showed that the majority of americans support airstrikes in both iraq and syria .',\n",
       " \"the u.s. began launching limited airstrikes against isil targets in iraq earlier this summer at the request of iraq 's former prime minister .\",\n",
       " 'officials said obama plans to proceed with both the broader airstrikes in iraq and the strikes in syria .',\n",
       " \"he 'll do so without seeking new authorization from congress .\",\n",
       " 'instead , he is to act under authorization congress passed after 9/11 to give president george w. bush the ability to go after those responsible for the terror attacks .',\n",
       " 'obama has previously used the authorization to strike against terror targets in yemen and somalia .',\n",
       " '# # too little too late ?',\n",
       " 'obama said his approach in syria is modeled after those long-running u.s. counterterrorism efforts .',\n",
       " 'but it is different in important ways , starting with the fact that it marks the first time since 9/11 that a u.s. president has authorized the bombing of terror targets in another nation without seeking permission or at least notifying it in advance .',\n",
       " \"house speaker john boehner , republican from ohio , praised obama for acknowledging the `` grave and growing threat '' that islamic extremists pose .\",\n",
       " 'however , he said obama was coming to that conclusion far too late .',\n",
       " \"`` he has finally begun to make the case the nation has needed him to make for quite some time : that destroying this terrorist threat requires decisive action and must be the highest priority for the united states and other nations of the free world , '' boehner said .\",\n",
       " \"as if to answer the criticism that he has been too cautious , obama declared of his plan : `` this is american leadership at its best . ''\",\n",
       " 'obama is pushing for funding to train and arm more members of the syrian opposition .',\n",
       " 'even before his remarks , congressional leaders were grappling with whether to support that request and how to get such a measure through a fiercely divided congress .',\n",
       " 'while the cia currently runs a small program to arm the rebels , the new version would be more robust .',\n",
       " '# # more countries getting involved',\n",
       " \"some of obama 's own advisers pressed him to arm the rebels early in their fight against assad .\",\n",
       " 'but obama resisted , arguing that there was too much uncertainty about the composition of the rebel forces .',\n",
       " 'he also expressed concern about adding more firepower to an already bloody civil war .',\n",
       " 'the white house announced wednesday that it was also providing $ 25 million in military assistance to the iraqi government to combat isil .',\n",
       " \"the treasury department will also step up efforts to undermine the extremist group 's finances .\",\n",
       " \"it will seek to cut off the group 's outside funding and its access to the global financial system .\",\n",
       " 'the u.s. has been pressing allies in europe , the middle east and elsewhere to help with efforts to weaken the terror group .',\n",
       " \"france 's foreign minister said wednesday that his country was ready to take part in airstrikes against extremist fighters in iraq if needed .\",\n",
       " 'and the german government announced that it was sending weapons and armored vehicles to kurdish forces in iraq .',\n",
       " 'seattle - suicide looms over indian country , claiming more lives of native youth than those in any other population .',\n",
       " 'and not only in washington state , but nationally .',\n",
       " 'state department of health statistics released this month show that in washington , the rate of suicide among native youth from 10 to 24 years old was more than double the rate of any other ethnic group .',\n",
       " 'tribes are fighting back .',\n",
       " 'at the lummi nation , tribal leaders last year improved a long-standing social services program to prevent young suicides .',\n",
       " 'the colville , spokane and yakama tribes also are using prevention grants and training through the native aspirations program .',\n",
       " 'the spokane-based program for the past five years has helped 65 tribes across the country combat suicide , the second-biggest killer of native youth , after accidents .',\n",
       " 'that might even be an undercount , experts say .',\n",
       " \"`` the car accident , the gun death , the overdose , there are a lot of suicides that are not reported as such , '' said victoria wagner , executive director of the youth suicide prevention program .\",\n",
       " 'the seattle-based program has outreach workers across the state working with schools and parent groups to teach the warning signs of suicide and prevention strategies .',\n",
       " 'in indian country , there are many problems that increase the risks of youth suicide , wagner said .',\n",
       " 'poverty , isolation , lack of adequate resources to treat mental health problems , substance abuse and family turmoil are some of the reasons she listed .',\n",
       " \"`` there is this feeling of being trapped , and having nowhere to go . ''\",\n",
       " '# # positives over negatives',\n",
       " 'at a recent prevention training session at the lummi youth academy outside bellingham , the emphasis was on the positive .',\n",
       " \"`` how do we make life less to do with pain , and more to do with beauty ? ''\",\n",
       " 'asked executive director shasta cano-martin .',\n",
       " 'two youth coaches led the kids in writing lists of things that built their self-esteem - and root causes that could lead to risky behavior .',\n",
       " \"`` no support , '' offered one teenager .\",\n",
       " \"`` feeling like you do n't belong , '' said another .\",\n",
       " \"`` abuse , '' said another .\",\n",
       " \"`` failure , '' came a tiny voice from a child who seemed too young to know the feeling , but clearly did .\",\n",
       " 'but the kids were quick , too , with long lists of things that lead to feelings of self-worth and confidence : succeeding on tests .',\n",
       " 'nailing a basket on the court .',\n",
       " 'hugs .',\n",
       " 'doing something nice for someone else .',\n",
       " 'sobriety .',\n",
       " 'having the urge to try , and succeeding beyond expectations .',\n",
       " '# # familiar struggles',\n",
       " 'kyla frajman , 21 , said suicide was no stranger to her .',\n",
       " \"`` i thought about it a lot , but always fought my way through it , '' said frajman , a member of the cowichan first nation in british columbia .\",\n",
       " \"`` i do n't do it myself , '' she said of suicide , `` because i do n't want the younger kids to think it 's allowed . ''\",\n",
       " 'but she has a friend she knows is going through a rough patch .',\n",
       " \"`` when i do n't hear from him , i worry about it . ''\",\n",
       " 'experts who track the problem of native youth suicide fear it will get worse .',\n",
       " 'a budget fight in washington has triggered automatic spending cuts called sequestration .',\n",
       " 'the cuts have reduced funding for mental health services for [ indian which were already scarce to begin with .',\n",
       " '# # a national emergency',\n",
       " 'indian health services is the major federal program that provides funding for health care services for tribes .',\n",
       " 'today it covers only about 52 percent of the needed care , and mental-health needs account for more than a third of the underfunding , said erin bailey , director of the center for native american youth .',\n",
       " 'as in washington , the suicide rate among native youth nationally is 2-1/2 times that of any other youth population , bailey said .',\n",
       " \"`` it is definitely a national problem , a national emergency , '' bailey said .\",\n",
       " \"`` this is weighing especially hard on our hearts at this time , with native communities facing cuts for native health care . ''\",\n",
       " 'patricia whitefoot , director of indian education for the toppenish school district , said suicide prevention is a top priority identified by parents of students at toppenish high school in yakima county .',\n",
       " 'native students embarked on a wellness walk last friday to emphasize the positive role that culture can play in this , she said .',\n",
       " \"it 's just one step in what will have to be a longer journey , she said .\",\n",
       " '`` teachers are so busy paying attention to test scores , how much time is there for addressing these major health issues in our community ?',\n",
       " \"and , as teachers , that has not been their training . ''\",\n",
       " '# # no longer taboo',\n",
       " \"at the yakama nation , vanessa smartlowit , administrative assistant in the tribe 's behavioral-health department , said the tribe is seeking to bolster its youth with everything from motivational speakers to dealing with bullying in schools .\",\n",
       " \"even simple things - talking circles , bead-working classes and cultural activities - `` just something for them to learn and keep busy , '' can help , she said .\",\n",
       " 'taboo no longer , suicide is a danger that has to be talked about , wagner said .',\n",
       " \"`` you are not planting the idea , '' wagner said .\",\n",
       " \"`` it is already there . ''\",\n",
       " 'the legal case fisher v. university of texas at austin has made its way back to the supreme court .',\n",
       " 'the court sent it back down to a lower court in 2013 .',\n",
       " 'now the supreme court has chosen to hear the case once again , and will try to decide if it is constitutional for colleges to consider race when selecting students to admit .',\n",
       " 'the case began when white student abigail fisher sued the university of texas , saying it had denied her admission because of her race .',\n",
       " 'fisher claimed she had been passed over in favor of a less qualified black student .',\n",
       " 'she blamed affirmative action policies that require the admission of a certain percent of nonwhite students , and said such policies should be struck down .',\n",
       " '# # questioning the mismatch theory',\n",
       " \"one striking development as the court began considering the case was justice antonin scalia 's reference to the mismatch theory : that affirmative action places black students in schools that are `` too fast '' for them , leading to a mismatch between their true qualifications and the schools they attend .\",\n",
       " 'justice scalia , along with other conservatives , continues to present this theory as fact even though it has been called into serious question .',\n",
       " 'at the core of this argument is the idea that affirmative-action admissions policies give preference to students of color even though they are less qualified , as evidenced by lower pre-college test scores and grades .',\n",
       " 'the fact that achievement gaps persist in college is often cited as proof that this idea is correct .',\n",
       " 'in other words , if black students with lower sat scores than their white peers also receive worse grades in college and more often switch out of harder majors , then surely they were less college-ready to begin with .',\n",
       " 'however , the assumption that lower grades indicate lower ability ignores a large piece of the puzzle : the psychological stress faced by many minority students .',\n",
       " '# # stress and stereotypes',\n",
       " \"it can be challenging to separate these two explanations — psychological environment versus lower ability — because they both can be linked to the same results : lower scores and a greater tendency to switch out of `` harder '' majors .\",\n",
       " 'however , science may provide an answer .',\n",
       " \"in the experiments that we ( and many others ) conduct , we can measure the impact certain kinds of stress have on students ' academic achievement by observing what happens when those factors are removed .\",\n",
       " 'one psychological strain faced by students of color is stereotype threat .',\n",
       " 'a stereotype is a widely held but oversimplified or false image of a particular group of people .',\n",
       " 'decades of research have shown that widespread stereotypes of certain groups as less intelligent often lead students from these groups to worry that they will be seen as less qualified .',\n",
       " 'this threat is stressful .',\n",
       " \"it can undermine these students ' learning , performance , and engagement .\",\n",
       " '# # reducing bias',\n",
       " 'when we give students exercises designed to reduce stereotype threat , we see their school performance and engagement increase .',\n",
       " 'they earn better test scores and grades .',\n",
       " 'some large-scale studies indicate that reducing stereotype threat can lead to the equivalent of about a 62 point increase on the sat .',\n",
       " 'moreover , recent research of ours shows that students who have been given such exercises are also more likely to continue taking classes in difficult majors .',\n",
       " 'another factor to consider is the expectation of many black and latino students that they will be treated differently than white students .',\n",
       " 'this expectation is not without cause : bias still exists today in the education system .',\n",
       " 'for example , black grade school students face harsher disciplinary action and receive less warmth from teachers than their white peers .',\n",
       " 'when students observe such differences , they may come to expect rejection from their professors .',\n",
       " 'such expectations can undermine their trust , feelings of belonging , and motivation in school , and — in turn — their performance .',\n",
       " '# # promoting trust',\n",
       " 'to combat these effects , we and other researchers have given black students exercises that promote trust in educators or foster feelings of belonging at school .',\n",
       " \"for example , students may read testimonies from older students explaining that instructors ' critical feedback is not of of racial bias , but is intended to help them meet high expectations .\",\n",
       " 'such exercises reduce the academic achievement gap between these black students and their white peers 40 to 50 percent .',\n",
       " 'moreover , these effects tend to strengthen over time : three years after the belonging exercise , the grade gap between treated black and white students had closed by 79 percent .',\n",
       " 'if these modest exercises can have such a powerful effect on the performance of students of color , it can not be simply a lack of ability or preparation holding such students back .',\n",
       " 'instead , it is likely that test scores and grades underestimate the ability of students of color .',\n",
       " 'they may instead reflect the psychological stress such students experience .',\n",
       " '# # easing the load',\n",
       " \"to put it another way : let 's imagine that we strap a 15-pound weight to a runner 's back during her qualifying race .\",\n",
       " 'she will run slower than she otherwise would have .',\n",
       " \"the lazy solution — the `` mismatch '' solution — would be to keep the weight on her back and assign the runner to a slower heat where she might be able to win , despite the extra weight .\",\n",
       " 'most would probably agree , however , that the real solution is to remove the weight and assign the runner to the faster heat that matches her true ability level .',\n",
       " 'affirmative action takes one very important step : it increases the chances that students of color will be accepted to schools that match their true ability level , despite their lower test scores .',\n",
       " 'however , this is only part of the solution .',\n",
       " 'we also need to remove the weight , so that racial academic achievement gaps do not persist once minority students are admitted to top colleges and universities .',\n",
       " 'to make progress in racial equality in higher education , the supreme court must uphold affirmative action .',\n",
       " 'teachers and scientists must also continue to find ways to make colleges more supportive .',\n",
       " 'only then will students of color be able to reach their full potential .',\n",
       " \"houston — a bad case of `` affluenza '' may be keeping a wealthy texas teen out of prison for a fatal drunk driving crash .\",\n",
       " 'last week , a fort worth judge sentenced 16-year-old ethan couch to 10 years of probation after he pleaded guilty to killing four people while driving drunk .',\n",
       " 'under probation , ethan must get treatment for alcoholism and stay out of trouble for 10 years .',\n",
       " 'prosecutors sought the maximum 20 years in prison .',\n",
       " \"at ethan 's trial , a psychologist said that he was so spoiled and concerned with possessions that he could n't understand the consequences or control his behavior .\",\n",
       " \"in other words , he suffered from `` affluenza , '' and so he was n't responsible and should n't go to prison , the psychologist said .\",\n",
       " \"this has enraged the families of victims and many experts who say that `` affluenza '' is junk science .\",\n",
       " \"the judge 's decision gives the impression that ethan got a light sentence because his family is rich , they say .\",\n",
       " '# # not a recognized illness',\n",
       " \"the term `` affluenza '' was popularized in the late 1990s by jessie o'neill , the granddaughter of a former president of general motors , in her book `` the golden ghetto : the psychology of affluence . ''\",\n",
       " 'it has been used to describe a condition in which children — generally from richer families — have a sense of entitlement , are irresponsible , make excuses for poor behavior , and sometimes dabble in drugs and alcohol , explained dr. gary buffone .',\n",
       " 'he is a jacksonville , fla. , psychologist who advises wealthy families .',\n",
       " \"but `` affluenza '' is not a recognized illness , and buffone said it was n't meant to be used as a defense in a criminal trial or to justify driving drunk and killing someone .\",\n",
       " \"`` the simple term would be spoiled brat , '' he said .\",\n",
       " \"`` essentially what ( the judge ) has done is slapped this child on the wrist for what is obviously a very serious offense which he would be responsible for in any other situation , '' buffone said .\",\n",
       " \"`` the defense is laughable , '' he added , calling the outcome of the trial `` horrifying . ''\",\n",
       " \"`` not only have n't the parents set any consequences , '' buffone said .\",\n",
       " \"`` but it 's being reinforced by the judge 's actions . ''\",\n",
       " 'couch pleaded guilty last week in the june accident .',\n",
       " \"the psychologist hired by couch 's family said at the trial that the boy grew up in a house where the parents argued a lot .\",\n",
       " 'his parents eventually divorced , the fort worth star-telegram reported .',\n",
       " \"but prosecutor richard alpert argued in court that if the boy continues to be cushioned by his family 's wealth , another tragedy is inevitable .\",\n",
       " 'district judge jean boyd has not publicly explained the reason behind the decision to give couch probation .',\n",
       " 'a message left for boyd by the associated press was not returned .',\n",
       " 'but according to the star-telegram , the judge said the programs available in the texas juvenile justice system may not provide the intensive therapy couch could receive at a rehabilitation center to which his parents want to send him .',\n",
       " 'his parents would pay for the $ 450,000-per-year cost of sending him to the treatment center near newport beach , calif .',\n",
       " \"# # `` double standard for rich and poor ''\",\n",
       " \"one legal expert said he had never even heard of `` affluenza . ''\",\n",
       " \"`` the concept that i did something because i 'm rich and spoiled does n't look like a good '' excuse , richard segura said .\",\n",
       " \"he is an attorney at the university of texas at austin 's criminal defense clinic .\",\n",
       " \"`` it does n't sound like something that would ( reduce ) the punishment . ''\",\n",
       " \"on the other hand , he said , the defense attorney would have likely looked at all the facts in the case and presented them in a way that he thought would best influence the judge 's decision .\",\n",
       " 'also , the judge likely factored in rehabilitation and other factors when sentencing couch , segura said .',\n",
       " 'psychologist dr. suniya luthar said her research at columbia university in new york has shown that 20 percent of upper middle-class teens believe their parents would help them get out of a sticky situation at school .',\n",
       " \"couch 's sentence reinforces that belief , she said .\",\n",
       " 'luthar said there is one type of justice for the rich and another for the poor .',\n",
       " \"`` what is the likelihood if this was an african-american , inner-city kid that grew up in a violent neighborhood to a single mother who is addicted to crack and he was caught two or three times , '' luther asked .\",\n",
       " \"`` what is the likelihood that the judge would excuse his behavior and let him off because of how he was raised ? ''\",\n",
       " \"luther 's research looks at the costs of affluence in suburban communities .\",\n",
       " \"`` we are setting a double standard for the rich and poor , '' she added .\",\n",
       " 'the case sends the message that `` families that have money , you can drink and drive .',\n",
       " \"this is a very , very dangerous thing we 're telling our children . ''\",\n",
       " 'authorities said the teen and friends were seen on video stealing two cases of beer from a store .',\n",
       " 'at the time of the crash , he was speeding and had a blood-alcohol level three times the legal limit , according to trial testimony .',\n",
       " 'his truck slammed into the four pedestrians .',\n",
       " 'they were brian jennings , 43 , breanna mitchell , 24 , shelby boyles , 21 , and her mother , hollie boyles , 52 .',\n",
       " \"scott brown , couch 's lead defense attorney , said the teenager could have been freed after two years if he had been sentenced to 20 years in prison .\",\n",
       " \"instead , the judge `` fashioned a sentence that could have him under the thumb of the justice system for the next 10 years , '' he said .\",\n",
       " \"bonn , germany — the united states has succeeded in its bid to `` remember the alamo . ''\",\n",
       " 'the united nations has declared the famed building a world heritage site — a place of international historical importance that is worth permanently preserving and protecting .',\n",
       " 'the alamo was one of a group of five spanish roman catholic sites , known as the san antonio missions , to receive the coveted label .',\n",
       " 'the designation is considered desirable because it is likely to boost tourism .',\n",
       " 'susan snow is an archaeologist for san antonio missions national historical park , where four of the missions are located .',\n",
       " \"the texas site , she said , is a perfect example of `` the great melting pot '' of the mixing of cultures that has shaped life in the united states .\",\n",
       " \"`` these missions are a living example of the interchange of cultures , '' snow said in a statement following the u.n. decision .\",\n",
       " \"they bring together the native american , spanish , mexican and other influences `` that form south texas today , '' she said .\",\n",
       " \"# # `` remember the alamo ! ''\",\n",
       " 'the missions were built in the 18th century in and around what is now the city of san antonio .',\n",
       " 'they were established to convert native americans to catholicism and make them spanish subjects .',\n",
       " 'the best known of the missions , the alamo , was the site of a famous 1836 battle .',\n",
       " 'an outnumbered band of texas settlers staged a courageous stand before general antonio lopez de santa anna and his mexican forces seized the mission .',\n",
       " \"during the battle of san jacinto weeks later , then-victorious texas soldiers shouted , `` remember the alamo ! ''\",\n",
       " 'the missions were the only sites in the united states proposed for world heritage status this year .',\n",
       " 'other american icons already on the list include the statue of liberty and the grand canyon .',\n",
       " \"# # japan 's industrial revolution\",\n",
       " 'in another decision , japan received world heritage status for a collection of almost two dozen sites .',\n",
       " \"together those sites illustrate the country 's industrial revolution during the 19th century .\",\n",
       " \"the unanimous vote in favor of japan 's bid was approved only after japan and south korea resolved a spat over whether to acknowledge the sites ' history of wartime forced labor .\",\n",
       " 'particularly at issue was the selection of gunkanjima , or battleship island .',\n",
       " \"the fortress island near nagasaki was key to japan 's rapid development during the 1868-1912 era of the meiji emperor .\",\n",
       " 'the emperor wanted japan to catch up with western colonial powers as quickly as possible .',\n",
       " 'until recently , south korea had objected to the idea of listing gunkanjima as a world heritage site .',\n",
       " 'it had said it would only accept that proposal if the role of korean prisoners forced to work on the island during world war ii was formally recognized .',\n",
       " 'japan is now willing to recognize that such forced labor did occur .',\n",
       " \"`` there were a large number of koreans and others who were brought against their will and forced to work under harsh conditions in the 1940s , '' the japanese delegation said in a statement after the decision .\",\n",
       " '# # middle eastern , european sites chosen',\n",
       " 'in recent days the u.n. has also granted world heritage status to more than a dozen other sites around the globe .',\n",
       " \"in the middle east , the u.n. selected iran 's ardeshir 's palace , together with nearby archeological mounds .\",\n",
       " 'known as susa , the iranian site was continuously settled from the 5th century b.c .',\n",
       " 'until the 13th century .',\n",
       " \"other middle eastern sites chosen include a spot in jordan where jesus is said to have been baptized ; saudi arabia 's hail region , in which prehistoric rock art is found ; and israel 's necropolis of beth she'arim , a jewish burial place .\",\n",
       " 'a series of catacombs built from the 2nd century b.c .',\n",
       " \"onward , beth she'arim is located southeast of haifa and features inscriptions in greek , aramaic and hebrew .\",\n",
       " 'european sites include 900-year-old burgundy wine vineyards south of dijon , france , and an 18th-century lutheran church settlement known as christiansfeld , located in the south jutland region of denmark .',\n",
       " \"in italy , sicilian churches and palaces dating back to the island 's 12th-century norman rule were selected .\",\n",
       " 'their design reflects both arab and byzantine culture .',\n",
       " \"hamburg , germany 's speicherstadt warehouse district , built between 1883 and 1927 , and the rjukan-notodden industrial site in norway , built in the early 20th century , were also selected .\",\n",
       " \"# # jamaica 's first world heritage site\",\n",
       " 'in asia , the u.n. selected tusi sites in southwest china , named after the tribal chiefs who ruled there from the 13th to the early 20th century .',\n",
       " \"also picked were singapore 's botanical gardens , which were created in 1859 .\",\n",
       " \"the baekje region of south korea , containing archaeological sites dating from the late 5th to late 7th century , and mongolia 's sacred great burkhan khaldun mountain were selected as well .\",\n",
       " \"tradition holds that the mongolian mountain is the site of genghis khan 's birth and burial .\",\n",
       " 'sites from many other parts of the world were also selected .',\n",
       " \"among them were ancient greek and roman settlements at ephesus in turkey , and mexico 's aqueduct of padre tembleque hydraulic system .\",\n",
       " 'dating back to the 16th century , the mexican canal system was conceived by a franciscan friar .',\n",
       " 'it combines roman water engineering and traditional mesoamerican construction techniques .',\n",
       " \"also picked were uruguay 's fray bentos industrial site , set up in the 19th century to process and export meat to europe , and the blue and john crow mountains , which is jamaica 's first world heritage site .\",\n",
       " 'located on the southeast of the island of jamaica , the mountains became a refuge for native people and escaped african slaves during colonial times .',\n",
       " 'today , the mountains are considered a biodiversity hotspot and home to many rare plant and animal species .',\n",
       " 'fort chipewyan , canada — a hundred miles up the athabasca river , the forest has been leveled by enormous strip mines .',\n",
       " 'massive shovels pick up 100 tons of earth at a time and dump it into yellow trucks as big as houses .',\n",
       " 'the dirt contains a fortune in oil .',\n",
       " 'oil sands production , as the process is called , is booming in alberta , canada .',\n",
       " 'it has enriched local indigenous indian villages and provides jobs for thousands of people in places where work is scarce .',\n",
       " \"but there are fears that the oil sands production is polluting the environment and damaging people 's health .\",\n",
       " \"# # `` either we starve to death or are poisoned ''\",\n",
       " 'the indigenous native indians face a terrible dilemma .',\n",
       " \"`` from everything i hear from the indigenous peoples , their thinking seems to be 'it 's a choice between whether we starve to death or are poisoned to death , ' '' said john o'connor , a local doctor who has worked here since 1993 .\",\n",
       " \"in the cree language , `` athabasca '' means `` a place where grass is everywhere . ''\",\n",
       " 'in alberta , the athabasca river slices through forests of spruce and birch before spilling into lake athabasca .',\n",
       " 'the oil-filled sands mined on the banks of the athabasca river are shipped to refineries to be processed into gasoline and other fuels , but the polluted leftovers remain in miles-long landfills .',\n",
       " 'air cannons fire to keep migratory birds from landing on the toxic ponds .',\n",
       " 'oil sands production is expected to grow far larger if the u.s. government issues a permit for the keystone xl pipeline from the province .',\n",
       " 'debate in the u.s. over the pipeline has mainly focused on whether the oil sands contribute to [ climate or spills along the route .',\n",
       " 'but in northeastern alberta , the effect of the oil sands is more complicated .',\n",
       " 'in fort chipewyan , cancer and diseases such as lupus have taken a heavy toll on its mostly indigenous cree , dene and metis indian population .',\n",
       " 'in 2009 , the government found that cancer rates over a 12-year period were 30 percent higher than normal .',\n",
       " 'three weeks ago , government scientists told villagers they had found toxic levels of mercury in the eggs of migratory birds downstream from oil sands production .',\n",
       " 'fishermen say fish in the lake show bulging eyes and other deformities .',\n",
       " 'three independent studies show rising concentrations of pollutants , including those that cause cancer , in nearby waterways .',\n",
       " \"# # officials say they 're playing it safe\",\n",
       " 'industry officials and the alberta government insist the chemicals occur naturally .',\n",
       " 'they also say they are taking safety precautions to protect communities .',\n",
       " 'some of the indigenous people , known as the first nations , have hunted and fished here for thousands of years .',\n",
       " 'the oil industry is funding a government-run system to monitor possible pollution .',\n",
       " 'efforts to restore the land , meanwhile , can take years , if not decades .',\n",
       " 'of the thousands of acres mined over 40 years , only 247 acres have been restored .',\n",
       " \"`` we will be here another 50 to 60 years , '' said greg stringham , vice president for oil sands for the canadian association of petroleum producers .\",\n",
       " 'canada already is the largest exporter of crude oil to the united states , mostly from oil sands .',\n",
       " 'officials hope to increase production by 2030 to about 5 million barrels a day .',\n",
       " 'currently , production is 1.9 million barrels .',\n",
       " \"many of the world 's biggest oil companies lease land along the athabasca river and other parts of eastern alberta .\",\n",
       " 'the keystone xl pipeline , the most efficient way to ship oil , is crucial to the effort .',\n",
       " 'some local residents fear the pipeline would hasten development of the oil sands and create additional pollution .',\n",
       " '# # environmental damage',\n",
       " \"beginning in the 1990s , commercial fisherman `` big ray '' ladouceur began catching fish with deformities from lake athabasca , he said .\",\n",
       " 'the cause is unknown , but since 2009 , studies have warned about water pollution linked to oil sands development .',\n",
       " \"a january 2013 study on lakes near oil sand mines showed increased contamination and ecological change , said joshua kurek of queen 's university in ontario and lead author of the study .\",\n",
       " 'the government has exempted the oil industry from policies to protect wetlands .',\n",
       " \"cal dallas , alberta 's minister of international and intergovernmental relations , insisted that oil companies are held accountable .\",\n",
       " 'out of 4,000 possible violations of environmental regulations from 1996 to 2012 , alberta authorities took actions in 37 cases , according to a july report .',\n",
       " '# # a two-sided issue',\n",
       " 'yet with jobs scarce , some indigenous groups have made their peace with industry and the government .',\n",
       " 'for years , the village at fort mackay fought each oil sands project , and lost .',\n",
       " 'but by the 1990s , the village began to work with the industry to have a say in its expansion .',\n",
       " \"`` it 's like sleeping next to a huge elephant , '' said jim boucher , chief of the fort mckay first nation .\",\n",
       " \"`` at the end of the day , we have to make the best of it . ''\",\n",
       " 'when the wind blows from the south , fort mackay reeks of tar .',\n",
       " 'but the village has reaped millions of dollars and is building a new youth center , church and theater .',\n",
       " 'homes are being built in the hills above the village ; residents drive cadillacs and own teepees .',\n",
       " 'in fort chipewyan , a youth center downtown is named for an oil company .',\n",
       " 'residents there fear the effect of oil sands development , but are resigned that it is inevitable .',\n",
       " 'alice rigney , 62 , a lifelong resident , wonders whether her breast cancer was related to mining pollutants .',\n",
       " \"she would like to see the waste ponds cleaned up , but she says she 's also realistic : the wages the oil company is offering are too good for canadians to turn down .\",\n",
       " \"`` i do n't think we can win .\",\n",
       " \"i do n't even know what winning looks like , '' said rigney , who teaches the dene language .\",\n",
       " \"`` this oil is just too important for the rest of canada . ''\",\n",
       " 'austin , texas — eight years ago , texas started a trend by making high school students tackle algebra ii .',\n",
       " 'the state is now abandoning it , a move that is making some policy experts nervous .',\n",
       " 'school districts are praising the move because it gives them more flexibility .',\n",
       " \"but some policy experts are concerned because nearly 20 states have followed texas ' lead in requiring the rigorous course .\",\n",
       " 'they are worried that these states might now drop it .',\n",
       " \"supporters say that requiring fewer courses gives students more time to focus on vocational training for high-paying jobs that do n't require a college degree .\",\n",
       " \"these include jobs at toyota 's factory in san antonio or oil and chemical giant basf 's facilities on the gulf coast .\",\n",
       " 'but critics say texas — often watched for education policy — is watering down its standards .',\n",
       " 'test scores and graduation rates have improved since the tougher curriculum was adopted in 2006 , they point out .',\n",
       " '# # texas termed a trendsetter',\n",
       " \"`` algebra ii is a really , really powerful predictive value on whether kids go to college , but it goes on and on after that , '' said patte barth , director of the center for public education .\",\n",
       " 'students who take algebra ii are more likely to have a full-time job with benefits after graduation and be healthier , barth said .',\n",
       " \"`` it 's not just for the college bound , '' she said .\",\n",
       " 'sixteen other states and the district of columbia now require algebra ii for most students , while minnesota and connecticut will do so soon .',\n",
       " 'but texas will join florida in dropping the requirement when its board of education gives final approval next week .',\n",
       " \"texas and florida are two of the country 's largest states .\",\n",
       " \"that is prompting some education groups to keep a close watch on other states because texas ' classroom policy can have national implications .\",\n",
       " \"the state 's heavy reliance on tougher standardized testing became the model for the federal no child left behind law .\",\n",
       " \"the law required public schools across the country to track students ' progress and require schools to show improvement .\",\n",
       " 'so many textbooks are bought in texas that changes made for its classrooms can affect books sold nationwide .',\n",
       " \"`` it 's funny that the banner-turning state would be backing off not so many years later , '' said jennifer dounay zinth .\",\n",
       " 'she is a policy analyst at education commission of the states .',\n",
       " \"she said her group is watching but has n't seen similar moves in other states that require algebra ii .\",\n",
       " \"# # a coalition 's strong pressure\",\n",
       " 'legislators overwhelmingly approved the change in may .',\n",
       " \"this came over the protests of texas ' higher education commissioner , raymond paredes .\",\n",
       " 'he warned that taking away requirements for advanced math and science would leave students badly prepared for college and technical careers .',\n",
       " 'florida got rid of a similar policy in april .',\n",
       " \"but unlike texas , florida 's students are still expected to master some skills taught in algebra ii .\",\n",
       " \"texas ' about-face came after strong pressure from jobs for texas , a coalition of 22 industry trade groups .\",\n",
       " \"they argued the state 's curriculum was too rigid and no longer met the needs of the modern workforce .\",\n",
       " 'mike meroney , a coalition spokesman , said that with fewer state-mandated courses , districts can better work with local employers to prepare high school graduates for high-paying jobs .',\n",
       " \"`` a lot of experts believe that problem solving is not exclusively learned in algebra ii , '' meroney said .\",\n",
       " 'the new changes still require algebra ii for honors diplomas , or for diploma plans focusing on science , technology , engineering and math courses .',\n",
       " 'honor diplomas can ensure automatic admission to texas public universities .',\n",
       " 'critics of the move include the powerful lobbying group texas association of business , which accused texas of dumbing-down its required courses .',\n",
       " 'the texas latino education coalition said the change could allow low-income students with college potential to skate through high school .',\n",
       " 'but parent and teacher groups supported the change .',\n",
       " 'they said it gave flexibility to school districts , which can still require algebra ii .',\n",
       " 'stephen waddell , superintendent in the dallas suburb of lewisville , said mandating algebra ii was unnecessary because most high schoolers take it anyway .',\n",
       " \"isabel hutt credits algebra ii for dramatically raising her sat scores , but she admits she would n't be in the class if it were n't required .\",\n",
       " \"`` that would have been a dream come true , if i had stopped after geometry , '' said hutt , an 11th- grader at alamo heights high school in san antonio .\",\n",
       " '# # do high standards cause dropouts ?',\n",
       " \"chris witte oversees chemical giant basf 's facility in freeport , texas .\",\n",
       " 'he said his company offers well-paying jobs for people with two-year degrees or high school career training .',\n",
       " '`` is algebra ii required for every job out at our site ?',\n",
       " \"the answer is no , '' witte said .\",\n",
       " 'witte said the course is helpful , but he and texas lawmakers argued the rigorous math course was pushing some students to drop out .',\n",
       " 'but the texas education agency reported last summer that an all-time high — nearly 88 percent of students from the class of 2012 — graduated on time .',\n",
       " 'it was the fifth consecutive year of improvement .',\n",
       " \"students ' scores on college entrance exams also improved .\",\n",
       " \"according to data released in march , texas students ' act scores matched the national average of 20.9 .\",\n",
       " 'and 48 percent , compared to 44 percent nationally , met math benchmarks that included being ready for college-level algebra .',\n",
       " 'officials in washington state recently compared school districts with and without tougher requirements .',\n",
       " 'they found no correlation between graduation rates and higher standards , said dounay zinth , the education policy analyst .',\n",
       " \"graduation rates in indiana also did n't decrease with increased standards , she said .\",\n",
       " 'both states require algebra ii .',\n",
       " 'other states that require the tougher math class include alabama , arizona , arkansas , delaware , georgia , kentucky , louisiana , michigan , new mexico , north carolina , ohio , south dakota , tennessee and utah .',\n",
       " \"`` there 's a fear that if we set higher standards for all students , more students will drop out , '' zinth said .\",\n",
       " \"`` and the data do not bear that out at all . ''\",\n",
       " 'jerusalem — the nazi soldiers made their orders very clear : jewish american prisoners of war ( pows ) were to be separated from other soldiers and sent to an uncertain fate .',\n",
       " 'but master sergeant roddie edmonds would have none of that .',\n",
       " \"as a noncommissioned officer held in the german pow camp , he ordered more than 1,000 americans captives to step forward with him and brazenly pronounced , `` we are all jews here . ''\",\n",
       " 'he would not waver , even with a pistol to his head , and his captors eventually backed down .',\n",
       " \"seventy years later , the knoxville , tennessee , native is being posthumously recognized with israel 's highest honor for non-jews who risked their lives to save jews during world war ii .\",\n",
       " \"he 's the first american serviceman to earn the honor .\",\n",
       " '# # a sense of responsibility and dedication',\n",
       " \"`` master sergeant roddie edmonds seemed like an ordinary american soldier , but he had an extraordinary sense of responsibility and dedication to his fellow human beings , '' said avner shalev .\",\n",
       " 'he is the chairman of the yad vashem holocaust museum and memorial in jerusalem , israel , which is honoring edmonds .',\n",
       " \"`` the choices and actions of master sergeant edmonds set an example for his fellow american soldiers as they stood united against the barbaric evil of the nazis . ''\",\n",
       " \"it 's a story that remained untold for decades and one that his son , the reverend chris edmonds , only discovered long after his father 's death in 1985 .\",\n",
       " 'edmonds was captured with thousands of others in the battle of the bulge in late 1944 and spent 100 days in captivity .',\n",
       " \"his son vaguely knew about his father 's past from a pair of diaries edmonds kept that included the names and addresses of his men and some of his daily thoughts .\",\n",
       " 'but it was only while scouring the internet a few years ago that he began to unravel what really happened .',\n",
       " \"oddly enough , he learned about his father 's heroism when he read a newspaper article about former president 's richard nixon 's search for a home in new york .\",\n",
       " 'as it happened , nixon purchased his home from lester tanner , a prominent new york lawyer who mentioned how edmonds had saved him and dozens of other jews during the war .',\n",
       " 'that sparked a search for tanner , who along with another jewish pow , paul stern , told the younger edmonds what they witnessed on jan. 27 , 1945 , at the stalag ixa pow camp near ziegenhain , germany .',\n",
       " '# # jewish american pows went to slave labor camps',\n",
       " 'the german army had a strict anti-jew policy and segregated jewish pows from non-jews .',\n",
       " 'on the eastern front , captured jewish soldiers in the russian army had been sent to extermination camps .',\n",
       " \"at the time of edmonds ' capture , the worst of the nazi death camps were no longer fully operational .\",\n",
       " 'instead , jewish american pows were sent to slave labor camps where their chances of survival were low .',\n",
       " 'u.s. soldiers had been warned that jewish fighters among them would be in danger if captured and were told to destroy dog tags or any other evidence identifying them as jewish .',\n",
       " 'so when the german camp commander , speaking in english , ordered the jews to identify themselves , edmonds knew what was at stake .',\n",
       " \"turning to the rest of the pows , he said , `` we are not doing that , we are all falling out , '' recalled chris edmonds .\",\n",
       " \"he is currently in israel participating in a seminar for christian leaders at yad vashem 's international school for holocaust studies .\",\n",
       " \"with all the camp 's inmates defiantly standing in front of their barracks , the german commander turned to edmonds and said , `` they can not all be jews . ''\",\n",
       " \"to which edmonds replied : `` we are all jews here . ''\",\n",
       " \"# # you will `` have to shoot all of us ''\",\n",
       " \"then the nazi officer pressed his pistol to edmonds ' head and offered him one last chance .\",\n",
       " 'edmonds merely gave him his name , rank and serial number .',\n",
       " \"and then edmonds said , `` if you are going to shoot , you are going to have to shoot all of us because we know who you are and you 'll be tried for war crimes when we win this war , '' recalled chris edmonds .\",\n",
       " \"he estimates his father 's actions saved the lives of more than 200 jewish-american soldiers .\",\n",
       " 'witnesses said the german officer then withdrew .',\n",
       " \"stern , who currently lives in reston , virginia , told yad vashem that even 70 years later he can `` still hear the words . ''\",\n",
       " '# # edmonds joins more than 26,000 others',\n",
       " 'about 6 million european jews were killed by german nazis and their collaborators during world war ii .',\n",
       " 'the names of those honored for risking their lives to protect jews are engraved along an avenue of trees at the jerusalem memorial .',\n",
       " \"more than 26,000 have been designated `` righteous among the nations . ''\",\n",
       " \"the most famous of them were oskar schindler , whose efforts to save more than 1,000 jews were documented in steven spielberg 's 1993 film `` schindler 's list , '' and raoul wallenberg , a swedish diplomat who is credited with having saved at least 20,000 jews before mysteriously disappearing .\",\n",
       " 'but prior to edmonds , only four of the righteous were americans , and they belonged to the clergy or volunteered for rescue groups .',\n",
       " 'edmonds is the first serviceman and the first whose actions saved the lives of fellow americans .',\n",
       " \"a ceremony for edmonds is planned for next year , and , thanks to his son 's efforts , edmonds is now also being considered for a congressional medal of honor .\",\n",
       " '# # his actions were very heroic',\n",
       " \"irena steinfeldt , the director of yad vashem 's righteous among the nations department , said all rescue stories were unique .\",\n",
       " 'she said edmonds actions reflected the experiences of a military man , who was prepared to take a quick , clear , moral decision .',\n",
       " \"`` it 's a matter of five minutes and that is it .\",\n",
       " \"when he tells the german , 'no , ' that is something that can kill him , '' she explained .\",\n",
       " '`` it is something very dangerous that is happening in one moment .',\n",
       " '...',\n",
       " \"but it is very heroic . ''\",\n",
       " \"chris edmonds , who leads a baptist congregation , said he believed his father 's actions were inspired by a `` deep moral conviction '' instilled by his faith .\",\n",
       " \"`` all he had to fight with was his will power and his wits , '' he said .\",\n",
       " \"`` i 'm just glad he did the right thing . ''\",\n",
       " \"the shoebox-size chunk of bronze did n't gather much attention when divers brought it up from an ancient shipwreck off the greek island of antikythera in 1901 .\",\n",
       " 'archaeologists on the expedition had their hands full with far more impressive finds .',\n",
       " 'there were life-size statues of warriors and horses , delicate glass bowls and scores of ceramic vessels called amphorae .',\n",
       " 'decades would pass before scientists realized that the unimpressive bronze — now called the antikythera mechanism — was the biggest treasure of all .',\n",
       " 'the device consisted of a series of intricate , interlocking gears .',\n",
       " 'they were designed to predict eclipses and calculate the positions of the sun , moon and planets as they swept across the sky .',\n",
       " \"# # world 's first computer ?\",\n",
       " 'the machine exhibited a level of technological sophistication no one dreamed was possible when it was built , at least 2,000 years ago .',\n",
       " 'europe produced nothing to equal it until the geared clocks of the medieval period , more than a thousand years later .',\n",
       " \"some scholars describe the antikythera mechanism as the world 's first analog computer .\",\n",
       " \"`` the amazing thing is the mechanical engineering aspect , '' says james evans , a physicist and science historian at the university of puget sound in tacoma , washington .\",\n",
       " \"he is a member of an international group working to crack the puzzle of the device 's origins and purpose .\",\n",
       " 'evans recently added a new twist with an analysis that suggests it dates to 205 b.c .',\n",
       " '— as much as a century earlier than previously believed .',\n",
       " \"if he 's right , it is more likely that the antikythera mechanism was inspired by the work of the legendary greek mathematician archimedes .\",\n",
       " 'it would also mean the device was built at a time when scientific traditions from multiple cultures were coming together to create a new view of the cosmos .',\n",
       " \"`` pushing the date back is exciting , '' evans said .\",\n",
       " \"`` we think it would be highly significant because it could change the picture of the development of greek astronomy . ''\",\n",
       " \"the mechanism 's discovery and the mystery that surrounds it are so steeped in drama that it inspired a popular science book and an episode of `` nova . ''\",\n",
       " \"# # mechanism 's dials and gears\",\n",
       " 'greek sponge divers stumbled across the wreck of the roman galley in 1900 , after being blown off course and taking shelter near a tiny island north of crete .',\n",
       " 'during underwater excavations the next year , they hauled up one of the richest bounties of greek artifacts ever uncovered .',\n",
       " 'one diver died and two others were crippled from working at depths of up to 200 feet .',\n",
       " 'french explorer jacques cousteau visited the site in the 1950s and 1970s .',\n",
       " 'he used an underwater vacuum to reveal buried objects .',\n",
       " 'scientists think the ship was a merchant vessel that foundered around 60 b.c .',\n",
       " 'archaeologists eventually identified more than 80 pieces believed to be part of the antikythera mechanism .',\n",
       " 'they included a shoebox-size piece with dials and gears clearly visible on the surface .',\n",
       " 'the real breakthrough in understanding came in 2005 , when a team of scientists used x-rays to peer through the encrusted metal and reveal the layers of gears inside .',\n",
       " 'digital techniques yielded the first sharp images of the inscriptions on the dials and casings .',\n",
       " 'the studies revealed at least 30 interlocking gears , and researchers believe the device held at least two dozen more .',\n",
       " '# # from olympics to eclipses',\n",
       " 'the assembly was housed in a wooden box and operated by a hand crank .',\n",
       " 'elaborate dials traced the movement of heavenly bodies , while ingenious gearing mimicked the fluctuating speeds at which the moon crosses the night sky , even though the ancient greeks had no understanding of the curving orbit responsible for the effect .',\n",
       " 'one dial plotted the four-year cycle of olympic games .',\n",
       " 'another predicted the timing of solar and lunar eclipses , apparently down to the hour .',\n",
       " 'that was the dial that evans and christian carman , of the university of quilmes in argentina , focused on for their new analysis .',\n",
       " 'their work was published in the archive for history of exact science .',\n",
       " 'based on the style of greek lettering on the antikythera mechanism , previous estimates of its construction date ranged between 150 and 100 b.c .',\n",
       " 'but evans and carman took an astronomical approach , comparing eclipse dates on the mechanism to babylonian eclipse records and a nasa eclipse catalog .',\n",
       " \"they concluded that the `` start date '' for the eclipse predictor was 205 b.c .\",\n",
       " \"that does n't prove the device was built then , but evans thinks it was .\",\n",
       " \"`` for us , it seems most likely that it was built close to the period for which it would have worked best , '' he said .\",\n",
       " '# # the sphere of archimedes',\n",
       " 'the 205 b.c .',\n",
       " 'date is tantalizing because it would bring the device closer to the lifetime of archimedes .',\n",
       " 'the greek genius who revolutionized geometry and invented compound pulleys was killed in 212 b.c .',\n",
       " 'during the roman conquest of the greek city state of syracuse , on the island of sicily .',\n",
       " 'a story later told by the roman orator cicero claimed that the general who sacked syracuse brought back to rome a mechanical brass sphere created by archimedes .',\n",
       " 'the sphere modeled the movements of heavenly bodies .',\n",
       " \"but the famous inventor died seven years before 205 b.c. , and there 's no way to link him to the antikythera mechanism .\",\n",
       " \"`` people should be leery of trying to associate it with any one particular person , '' evans said .\",\n",
       " \"`` but you would have to think that whoever built this must at least have made use of what archimedes had done , or came out of a tradition that started with archimedes . ''\",\n",
       " \"new york , n.y. — new york 's sanitation department has its very own anthropologist-in-residence .\",\n",
       " \"she studies garbage along the curbs of the nation 's biggest city as a mirror into the lives of its 8.5 million residents .\",\n",
       " \"`` what does trash tell you about us ? ''\",\n",
       " 'asks new york university professor robin nagle , who frequently goes out on trucks with garbage-collection crews in search of an answer .',\n",
       " 'as an anthropologist , nagle studies how people live .',\n",
       " \"# # inside the `` throwaway '' mentality\",\n",
       " \"so what 's her take on the nearly 3.5 million tons of trash a year collected by new york 's department of sanitation ?\",\n",
       " \"`` we 're a throwaway culture that 's going too fast , '' she says .\",\n",
       " 'modern new york , she says , tends to treat just about everything — from furniture to electronics to clothing — like so many paper coffee cups .',\n",
       " \"people in new york assume that they do not need to `` waste time '' taking care of everyday objects when they can just get rid of them , she said .\",\n",
       " '# # treasures in the trash',\n",
       " \"the city 's apartments are also mostly small , so residents are constantly tossing out stuff to make more space , leaving what nagle considers a gold mine for garbage pickers .\",\n",
       " \"many residents furnish their homes with other people 's trash .\",\n",
       " \"some dig for edible food that 's never been cooked , such as bagels , rice and pasta .\",\n",
       " 'meanwhile , a closet could be filled with rejected clothing , shoes and jewelry , while people also find sofas , beds , domestic appliances , even paintings .',\n",
       " \"`` the quantities of trash that new yorkers throw out are dazzling , '' nagle says .\",\n",
       " \"`` and the quality of goods they put on the street because they 're done with it , '' she adds , and the stuff is `` discardable is also very impressive . ''\",\n",
       " \"# # life 's rhythms in the rubbish\",\n",
       " \"nagle says sanitation workers get to know the rhythms of the people on their route from the rubbish she calls `` the physical record of our daily lives . ''\",\n",
       " \"if there 's a divorce , they might find photos of the former spouse thrown out .\",\n",
       " \"if someone has had a drinking problem , it 's reflected in the bottles , while disposable diapers appear when babies arrive .\",\n",
       " 'nagle , 54 , kept after sanitation officials for two years before being named to the unpaid position of anthropologist-in-residence in 2006 .',\n",
       " \"her research has led to several books , an online lecture , a new york university course she teaches called `` garbage in gotham '' and a personal campaign to get manufacturers to use more recyclable materials .\",\n",
       " '# # building the morale of unsung heroes',\n",
       " 'but nagle has not been merely a university scholar .',\n",
       " 'she got her hands dirty , literally , by going through the training , learning to drive the trucks and working for almost a year as a regular paid sanitation worker .',\n",
       " \"`` she 's part of the family , '' says assistant chief keith mellis of the sanitation department .\",\n",
       " \"her biggest contribution , as far as the city 's 6,400 rank-and-file sanitation workers are concerned , is in raising morale for a job that is often overlooked .\",\n",
       " \"in talks to new recruits , she spreads a message of pride that the 134-year-old department nicknamed `` new york 's strongest '' is `` the city 's most important uniformed force . ''\",\n",
       " 'the department clears streets of the garbage that would otherwise breed rats and disease , she says .',\n",
       " \"`` i love sanitation , '' nagle says at a department of sanitation garage as she exchanges bear hugs with men reporting to work .\",\n",
       " \"`` i get to work with people who make a difference every single day . ''\",\n",
       " \"elliot belnavis , a 27-year-old newcomer , notes that while members of the police and fire departments are treated as heroes , `` we 're invisible . ''\",\n",
       " \"nagle 's introduction to his new job left him with a greater appreciation of his role , he says .\",\n",
       " \"`` i now definitely feel like sanitation workers are the most important workers that we have in this city , '' belnavis says .\",\n",
       " \"`` if we do n't pick up the garbage off the streets , if we do n't take care of the snow , nobody can move .\",\n",
       " \"it starts with us , and when we do our job , everybody else can do their job . ''\",\n",
       " 'new york — apple is turning its retail stores into art galleries .',\n",
       " 'around the country , apple stores will now feature the output of professional photographers and other artists who use ipads , iphones and mac computers to create their work .',\n",
       " 'travel photographer austin mann used an iphone 6 to take otherworldly photos of an icelandic glacier .',\n",
       " 'mann says that when it comes to professional work he now uses an iphone about as often as he does a high-end camera .',\n",
       " \"`` in the photography industry especially , when you are getting started you are always seeking gear , 'if i could only get this $ 1,000 lens , ' '' he says .\",\n",
       " \"using just an iphone to take great photos encourages people to `` shift away from focusing on gear and equipment . ''\",\n",
       " '# # his canvas ?',\n",
       " 'an iphone',\n",
       " 'apple asked 12 artists to create works on apple devices , to showcase what the devices can do and to inspire others to get creative as well .',\n",
       " \"the resulting artwork is now displayed both on apple 's website and in all its retail stores .\",\n",
       " 'just as technology has transformed the way we work and interact with one another , it has also changed the way we create .',\n",
       " 'for painter roz hall , that change has meant shifting away from the canvases and paint he started out using in art school to an iphone app called brushes .',\n",
       " 'after not painting for many years , hall in 2010 read about a group of artists who had started using their iphones and ipads to create artwork .',\n",
       " 'their example inspired him to try it himself .',\n",
       " 'the switch from canvas to iphone was also challenging for hall , because of the change in scale .',\n",
       " 'before , he had been creating life-size works .',\n",
       " 'now , he was painting on a 3.5-inch screen , an entirely different thing .',\n",
       " \"`` what i liked about it was that there was no setup , '' hall says , meaning no time has to be spent on gathering materials , stretching canvas , mixing paints , and so on .\",\n",
       " 'with traditional painting , he says , so many hours are spent on preparation that by the time you are ready to start , the inspiration may have passed .',\n",
       " \"# # `` connected to the artwork ''\",\n",
       " 'hall , who lives in britain and who has shown his work in cities from new york to shanghai , says he has not painted traditionally for many years .',\n",
       " 'he added that he prefers painting on the ipad to using a laptop or desktop computer .',\n",
       " 'hall now uses the app procreate , which allows him to paint with his fingers on his ipad .',\n",
       " \"`` you do n't feel like you are fighting a computer to create your art — you feel connected to the artwork , '' he says .\",\n",
       " \"`` when i first used an ipad , it made me think of cave paintings , or when a child first paints using their finger . ''\",\n",
       " \"some artists look at digital painting as `` cheating . ''\",\n",
       " 'after all , you can delete mistaken brush strokes .',\n",
       " 'yet hall thinks it actually makes artists more daring , because they do not have to worry about the expense of throwing something out and starting all over again .',\n",
       " \"`` if you spent 50 pounds ( $ 75 ) on canvas and another 50 pounds on paint , '' he says , `` at some point you are going to get careful '' about scrapping what you have already done .\",\n",
       " \"`` you do n't want to waste what you spent . ''\",\n",
       " 'for the apple project , hall used procreate to paint portraits of people he encountered at the university where he teaches .',\n",
       " 'they include a bearded , mustached young man with bright yellow glasses and an intense stare , and a woman in a floppy black hat lost in thought .',\n",
       " \"# # iphones `` have opened up the world ''\",\n",
       " \"alistair taylor-young is another of apple 's featured artists .\",\n",
       " 'his photography career spans two decades , during which he has shot for fashion brands such as armani and fendi and magazines ranging from conde nast traveler to vogue .',\n",
       " \"for apple 's project , taylor-young took photos of rainy cityscapes with the iphone 6 .\",\n",
       " 'taylor-young bought an iphone in 2007 , when they first came out .',\n",
       " \"`` the moment i picked up the phone and started taking pictures , it reminded me of photography in its infancy , '' he says of the early iphones .\",\n",
       " \"`` you could n't focus , change exposure — you just saw something and took a photo . ''\",\n",
       " 'the quality of phone cameras has certainly improved in the last several years , but it is their ease of use and the fact that they are always on hand that has proven most important .',\n",
       " 'because smartphone cameras are so easy to use , they encourage picture-taking .',\n",
       " 'in the past , most people took photos only rarely , in order to record special events or trips .',\n",
       " 'today , many of us use our cameras constantly to capture daily moments .',\n",
       " 'the spread of digital photography has not made pictures look any better than they did before , taylor-young says .',\n",
       " \"however , digital cameras and now iphones `` have opened up the world to people who would have not necessarily thought of taking pictures , or sharing them . ''\",\n",
       " \"fort benning , ga. — the first female soldiers to complete the army 's rigorous ranger school pinned on their black-and-gold ranger tab at a graduation ceremony friday .\",\n",
       " 'the celebration capped off their history-making week and put a spotlight on the debate over the role women should play in combat .',\n",
       " \"at a ceremony on the shore of `` victory pond '' at fort benning , first lieutenant shaye haver of copperas cove , texas , and captain kristen griest of orange , connecticut , graduated alongside 94 male soldiers .\",\n",
       " \"the women captivated the nation after finishing a grueling nine-week training program that is designed to test the limits of young soldiers ' leadership and physical strength .\",\n",
       " 'the pentagon is currently deciding whether or not to permit women who meet military standards to hold combat roles in the military .',\n",
       " \"haver and griest 's success shines some light on the obstacles that women in the military face , especially those who aspire to join all-male combat units , including the 75th ranger regiment .\",\n",
       " 'although they are both now ranger-qualified , no women are currently allowed to join this elite regiment .',\n",
       " 'however , officials say it is among special operations units likely to be opened to women eventually .',\n",
       " '# # graduating women are pioneers',\n",
       " 'griest , 26 , is a military police officer and has served one tour in afghanistan .',\n",
       " 'haver , 25 , is a pilot of apache helicopters .',\n",
       " 'both are graduates of the u.s. military academy at west point .',\n",
       " 'of 19 women who began the ranger course , haver and griest are the only two to finish so far ; one is repeating a prior phase of training in hopes of graduating soon .',\n",
       " 'addressing the graduates , the commencement speaker , major general scott miller , congratulated all 96 graduates .',\n",
       " 'he said he believed that all of the solders , regardless of their gender , met the ranger standards .',\n",
       " \"`` you 'll leave victory pond today with a small piece of cloth on your shoulder , but more importantly you carry the title of ranger from here on out , '' he said .\",\n",
       " 'miller is commander of all army infantry and armor training and education , including the ranger school .',\n",
       " 'the army opened ranger school to women for the first time this year as military leaders weighed the decision of opening more combat jobs to women .',\n",
       " \"general mark milley , the army 's new chief of staff , told reporters at the graduation that he is proud of all the rangers who completed the course and appreciates the importance of the pioneering performance of haver and griest .\",\n",
       " \"`` it 's a really big deal '' for them and for the army , he said .\",\n",
       " \"and while he praised haver 's and griest 's accomplishments , milley said he has not yet decided whether to recommend that all army positions be open to women .\",\n",
       " 'still , he said , `` the army can adapt .',\n",
       " \"it has and will continue to adapt . ''\",\n",
       " '# # do women have an easier time of it ?',\n",
       " \"griest told reporters thursday she hopes her success shows that women `` can deal with the same stresses and training that men can . ''\",\n",
       " 'still , some current and former military members feel strongly that the pentagon is unfairly accommodating women .',\n",
       " 'james lechner , a retired army lieutenant colonel and former ranger , said he questions whether the ranger course tests men and women in the same way .',\n",
       " 'he wondered whether the course adequately tested the female candidates under combat-simulated conditions .',\n",
       " 'with that in mind , he is not sure whether it makes sense to open all combat units to women .',\n",
       " \"`` american women certainly serve with honor and distinction , provide some capabilities that males may not be able to provide , '' lechner said .\",\n",
       " \"`` but when you talk about your fighting units , your combat arms units , especially the infantry ... you do n't need to just have the minimum standards .\",\n",
       " \"you need to have as good as you possibly can get . ''\",\n",
       " \"janine davidson , a defense policy analyst at the council on foreign relations and a former air force cargo plane pilot , said griest and haver 's success in the ranger program is a significant military milestone .\",\n",
       " \"she said their success and the prospect of the army fully integrating women into its ground combat force is `` policy catching up with reality . ''\",\n",
       " 'considering that many women have had extensive combat experience in iraq and afghanistan , the reality is that women are already on the front lines .',\n",
       " \"the debate also reflects a generational change , davidson said , as she has even heard high school students have conversations about women 's role in the military .\",\n",
       " \"`` they actually are shocked when they learn that women are n't already doing this kind of stuff — the idea that they themselves would not be allowed to do it , '' davidson said this week .\",\n",
       " '# # almost 60 percent of candidates drop out',\n",
       " \"rangers call themselves `` masters of special light infantry operations , '' including seizing key terrain and infiltrating hostile territory by land , sea or air .\",\n",
       " 'they are a branch of army special operations command and u.s. special operations command .',\n",
       " 'the ranger school , which began during the korean war as the ranger training command , is challenging for all .',\n",
       " 'most who enter the course fail .',\n",
       " 'between 2010-2014 , 58 percent of candidates dropped out — most of those within the first four days , a phase that includes tests of physical stamina , a land navigation course and a 12-mile foot march , according to the ranger training website .',\n",
       " 'rangers have been been part of the military force since the revolutionary war .',\n",
       " 'these highly qualified soldiers had prominent roles in the war of 1812 and the civil war .',\n",
       " 'in the june 6 , 1944 , d-day landings on the beaches of normandy , rangers famously scaled the sheer cliffs of pointe du hoc overlooking omaha beach .',\n",
       " 'jerusalem — professor mohammed dajani expected criticism when he took palestinian students to poland last month to visit the site of the auschwitz concentration camp .',\n",
       " \"but he was n't prepared for the uproar that followed .\",\n",
       " 'in online posts and comments , palestinian critics denounced the visit as treason .',\n",
       " 'acquaintances advised the professor to keep a low profile , stay away from his university in east jerusalem and consider taking a vacation abroad , he recalled .',\n",
       " \"`` people said we were giving support to zionism and promoting its propaganda , as if we were giving up on our rights , '' said dajani , the director of the american studies program at al quds university .\",\n",
       " 'since before the jewish state of israel was declared in 1948 , jews and arabs have each laid claim to the same land .',\n",
       " 'zionism calls for a jewish homeland in the biblical land of israel .',\n",
       " \"the palestinians are seeking their own state in the west bank and gaza strip , which border israel , with east jerusalem -- the city 's arab side -- as its capital .\",\n",
       " 'no stranger to controversy , dajani heads an organization called wasatia .',\n",
       " 'it aims to promote a culture of moderation and reconciliation among palestinians -- values that often seem in short supply in their long-standing conflict with israel .',\n",
       " '# # molding an idea into reality',\n",
       " 'dajani said the idea of taking students to auschwitz in poland took shape after he made a journey there three years ago .',\n",
       " 'auschwitz was a nazi concentration camp in world war ii where about 1 million jews were killed .',\n",
       " '`` in my community you see a lot of ignorance of the holocaust , denial of the holocaust .',\n",
       " \"people do n't want to recognize the suffering of the other , '' dajani said .\",\n",
       " \"`` i felt that i did not want to be a bystander , and wanted to bring more awareness and consciousness among palestinians of this issue . ''\",\n",
       " 'because of its important role in the creation of israel , the holocaust carries political overtones in palestinian society , where many think that their people have paid the price for the persecution of the jews in europe .',\n",
       " \"palestinians consider their mass displacement and expulsion from the land after the establishment of israel a `` catastrophe '' similar to the jewish holocaust .\",\n",
       " 'they remember it in annual commemorations just as jews mark holocaust remembrance day , which took place this past sunday .',\n",
       " \"`` the holocaust is not taught in palestinian schools and universities , '' dajani said .\",\n",
       " \"`` it is a history ignored , mentioned as part of a plot to establish a jewish state in palestine . ''\",\n",
       " 'dajani has publicly supported holocaust education among palestinians and has devoted part of his own classes to the subject .',\n",
       " 'the trip to auschwitz was arranged as part of a reconciliation research project sponsored by friedrich schiller university in jena , germany .',\n",
       " 'the trip also included a visit by israeli students to deheishe , a palestinian refugee camp in the west bank .',\n",
       " 'the israeli students and faculty are studying conflict resolution at ben gurion university in beersheba .',\n",
       " '# # under-the-radar planning',\n",
       " 'organizing the palestinian visit to auschwitz was a sensitive undertaking .',\n",
       " 'thirty people were selected from some 70 applicants , though three students from birzeit university in the west bank withdrew under peer pressure , dajani said .',\n",
       " 'planning the visit was kept quiet , because he might have been forced to cancel it if too many people knew .',\n",
       " \"he noted that applications were sought `` by word of mouth , '' and there was no prior announcement of the trip .\",\n",
       " 'it is thought to be the first of its kind by palestinian students .',\n",
       " 'the schedule included a trip to krakow , where participants learned about jewish life before the holocaust and visited former jewish neighborhoods and synagogues .',\n",
       " 'in auschwitz , the group heard from two holocaust survivors brought by the israelis , and a polish guide .',\n",
       " \"`` i visited the holocaust museum in jerusalem three years ago , but here it was different , '' said salim sweidan , who went on the trip .\",\n",
       " \"`` when you step on the soil where millions were killed , it leaves a big impression . ''\",\n",
       " \"`` people accused us of showing sympathy with the occupier , but i say no , this was sympathy with the human beings who were killed there , '' sweidan added .\",\n",
       " 'israel occupies the west bank .',\n",
       " \"nasser al-qadi , who is getting a master 's degree in american studies at al quds , said he joined the trip because it was `` our humanitarian duty , regardless of our rift with the israeli side . ''\",\n",
       " \"he added , `` we went there for education , and we believe that there are no restrictions over education . ''\",\n",
       " 'israelis should also recognize palestinian suffering , al-qadi said .',\n",
       " 'many palestinians fled or were forced out of their homes by israeli forces during the war that accompanied the creation of israel .',\n",
       " \"al quds university issued a statement saying it was not involved in dajani 's trip and warned him that he should make clear that the visit was not a university activity .\",\n",
       " '# # vocal condemnation vs. quiet support',\n",
       " \"abdullah dweikat , a columnist , wrote on the palestinian news website watan : `` we reject the extermination of any human being because of his religion , nationality or political views , but our humanity also rejects disregarding the wounds and pain of our people , who are being slaughtered every day at the hands of the occupiers . ''\",\n",
       " 'sweidan said many people privately expressed support to participants .',\n",
       " 'they called the visit a brave step and acknowledged that the public atmosphere had kept them from speaking out .',\n",
       " 'until 1993 , dajani saw israelis as oppressors and occupiers .',\n",
       " 'that year , he came back to jerusalem to care for his father , who was ill with cancer .',\n",
       " 'he said the treatment of his father and other arab patients at an israeli hospital was a turning point in his attitude toward israelis .',\n",
       " \"`` the conflict with israel has poisoned the whole attitude toward '' the holocaust , dajani said .\",\n",
       " 'his response to the critics was straightforward .',\n",
       " \"`` i 'm doing it because it 's the right thing to do , '' he said .\",\n",
       " \"`` i would do it again . ''\",\n",
       " 'kansas city , mo .',\n",
       " '— in the year and a half or so since a group of kansas city-area students in a school district engineering program helped make it reality , the sensory lounger has enjoyed quite a run .',\n",
       " 'the high-tech chair has warranted significant attention across the kansas city area recently .',\n",
       " 'and last month , the project received a prestigious edison award for developments in health and wellness .',\n",
       " 'now the man behind the chair — which provides the kind of full-body , deep-touch pressure many children with autism crave — has even bigger plans .',\n",
       " '# # creating a company',\n",
       " 'stuart jackson is a local businessman and the driving force behind the project .',\n",
       " 'he has worked with the students in the center for advanced professional studies ( caps ) program to form a business , the sensory chair company , to make the chairs available for the public .',\n",
       " 'this summer , he will offer a number of paid internships to members of the caps program in an effort to produce enough chairs to begin testing them for safety and effectiveness .',\n",
       " 'there are also plans to hire several people with autism to aid in the process .',\n",
       " \"jackson opted to announce the company 's launch at the american occupational therapy association conference in nashville , tennessee .\",\n",
       " 'he wanted to hear the thoughts of the people in attendance .',\n",
       " 'when it became clear that their feedback was highly positive , jackson says , it helped solidify his belief that the chair could benefit children on a widespread scale .',\n",
       " \"`` if they did n't like it , then it would n't be worthwhile proceeding with taking the sensory lounger to market , '' jackson says .\",\n",
       " \"`` but … there were lots of ( occupational therapists ) who knew of patients or students who would deeply benefit from the sensory lounger . ''\",\n",
       " '# # giving full-body hugs',\n",
       " 'the chair is different from anything else available .',\n",
       " 'it is meant to help calm children with autism , many of whom are prone to problematic behaviors such as injuring themselves or having meltdowns .',\n",
       " 'it features two inflatable air cylinders and a sophisticated pump and pressure-sensor system that produce persistent deep-touch pressure , approximating a tight and continuous full-body hug .',\n",
       " 'for jackson , whose son , joshua , is severely autistic , the project has also taken on a personal significance .',\n",
       " \"the idea came from the `` squeeze machine '' devised by temple grandin , a colorado professor who is an expert in animal science .\",\n",
       " 'she also has a mild type of autism .',\n",
       " 'the professor created the machine to soothe her own anxiety after she noticed the calming effect that applied pressure had on cattle .',\n",
       " 'curious as to whether a cheaper , more practical machine might be possible , jackson approached the caps program .',\n",
       " \"they then set about trying to create jackson 's vision .\",\n",
       " 'from its earliest stages , there were signs that the group was onto something .',\n",
       " 'last spring , the group took a crude model to a local elementary school to be tested .',\n",
       " 'it became immediately apparent that the chair accomplished what it set out to do .',\n",
       " \"`` within 30 seconds of testing , i knew that it was probably going to be a big deal , '' said keith manbeck , an instructor with the caps program .\",\n",
       " 'each step since has only served to reinforce that belief .',\n",
       " '# # getting the chair ready to sell',\n",
       " 'in conversations with various occupational therapists , as well as teachers and parents of those with autism , the feedback has been almost unanimously positive .',\n",
       " \"`` it 's one thing to build something and just kind of get it out there , '' says austin edmondson , a high school senior who worked on the project and plans to study mechanical engineering next year at the colorado school of mines .\",\n",
       " \"`` it 's another thing to build something and see the results . ''\",\n",
       " \"now it 's simply a matter of doing the legwork necessary to take the next step .\",\n",
       " 'this summer , the graduating caps students will be hired to build enough chairs to enable a multicenter research trial .',\n",
       " 'caps students who are not set to graduate , meanwhile , will continue working on a new model of the chair .',\n",
       " 'jackson is in discussions with a local university to set up a major study .',\n",
       " \"he has spoken with potential investors and advisers about how best to introduce the product , and is also in the process of determining how the business 's ownership structure might look .\",\n",
       " '# # hiring people with autism',\n",
       " 'at its heart , though , jackson envisions the project as a social venture , and in that regard , he plans this summer to hire some people with autism to contribute .',\n",
       " \"`` we 've made it part of our social mission to be an autism-friendly employer , '' he says .\",\n",
       " 'to this end , he said the company is looking to hire people with autism for three to four part-time jobs that will start over the summer .',\n",
       " 'assuming the study yields favorable results , meanwhile , jackson would be one step closer to his long-term goal .',\n",
       " 'he hopes to get the sensory lounger inside as many therapy centers , classrooms and homes as possible .',\n",
       " 'ideally , jackson says , he would like to get the chair to market by the end of the year .',\n",
       " '# # snuggling into the chair',\n",
       " 'on a saturday morning last month , during the first-annual just be you walk for autism in kansas city , a steady stream of children — many of them with some degree of autism — wandered toward a model of the sensory lounger for a test-run .',\n",
       " 'one by one , the children nestled into the chair , and as their parents looked on , sat calmly and quietly as the sensory lounger worked its magic .',\n",
       " \"`` he 's so chill , '' marveled alison anderson , as her 6-year-old son , max , sat nestled in one of the chairs .\",\n",
       " \"for jackson , who looked on , the response served as yet another example of the product 's potential .\",\n",
       " 'and with a plan in place — as well as a team of students devoted to a project that has already garnered national attention — the future , at least at the moment , appears promising .',\n",
       " \"`` without ( the caps program ) , it would have just remained an idea , a frustration that exists within my family and in that of many others around the world , '' jackson says .\",\n",
       " \"`` and now , it 's on the verge of being a potential solution to families across the world . ''\",\n",
       " 'nature is full of thieves .',\n",
       " 'instead of collecting pollen and nectar from flowers , robber bees raid the hives of other pollinators and steal their honey .',\n",
       " 'some ant species routinely kidnap and enslave members of neighboring colonies .',\n",
       " 'massive-winged frigate birds — also called pirate birds — swoop down on smaller seabirds and snatch the fish right out of their beaks .',\n",
       " 'the sea slugs known as sacoglossans are some of the most remarkable biological burglars on the planet .',\n",
       " 'the animals are about the length of a postage stamp or two .',\n",
       " 'they feed on simple underwater plants known as algae , which have no stems , roots or leaves , but do contain chlorophyll , a green pigment or coloring matter .',\n",
       " \"chlorophyll is used in photosynthesis , a process by which plants capture the sun 's energy and combine it with carbon dioxide and water to make food .\",\n",
       " 'oxygen is produced as a byproduct of photosynthesis .',\n",
       " 'the part of the algae that contains chlorophyll is a jelly bean–shaped structure known as a chloroplast .',\n",
       " 'most sea slugs digest the chloroplasts right away , but some species store them for weeks to months in large transparent digestive glands , turning the animals brilliant shades of green .',\n",
       " '# # shedding new light on hoarding',\n",
       " 'for the past several decades , scientists thought that the slugs hoarded chloroplasts in order to become solar-powered animal-plant combinations .',\n",
       " 'the theory made a lot of sense .',\n",
       " 'experiments confirmed that , when placed in the light , the slugs actively absorbed carbon dioxide , just like leaves .',\n",
       " 'furthermore , some of the slugs could stay alive in a well-lit laboratory for months with no food .',\n",
       " 'besides , why else would the animals go to the trouble of preserving the chloroplasts , if not as a long-term energy source ?',\n",
       " 'a recently published study is forcing scientists to completely rethink solar-powered sea slugs , however .',\n",
       " 'sven gould of the university of dusseldorf and his team deprived six sacoglossans of food for 55 days : two enjoyed 12 hours of light followed by 12 hours of darkness each day ; two lived with the same cycle , but received a drug that disrupted photosynthesis ; and the remaining two slugs lived in continuous darkness .',\n",
       " 'at the end of the starvation period , all the slugs were alive , equally pale and all had lost about the same amount of weight .',\n",
       " 'it was clear that their health and survival did not depend on whether or not they could photosynthesize .',\n",
       " \"`` it 's very appealing to think that here you have an animal slowly turning into plant , '' gould says .\",\n",
       " \"`` but now we 're back at square one . ''\",\n",
       " 'gould has proposed that , rather than becoming part vegetable , the slugs are doing something lots of critters do : saving some of the food they collect for times of hardship .',\n",
       " '# # sexy sea slugs ?',\n",
       " 'some sacoglossans hibernate in the winter , burrowing into debris at the bottom of the ocean floor .',\n",
       " 'sunlight would not help them endure this subterranean slumber , but a digestive sac full of chloroplasts would do the trick .',\n",
       " 'that would also explain how the slugs in his experiment made it through nearly two months of perpetual night without any food and why all the slugs were pale and shrunken after the ordeal .',\n",
       " 'even if these slugs are not relying primarily on photosynthesis for nutrition , they might be using some of the oxygen produced by the process .',\n",
       " \"if so , they would resemble the spotted salamander , which has evolved a symbiotic relationship with algae that live in its eggs : inside the eggs , developing salamanders breathe in the oxygen the algae release while the plants enjoy the animal 's exhaled carbon dioxide .\",\n",
       " \"there are several other possible explanations for the slugs ' green coloration .\",\n",
       " 'perhaps some of the slugs are camouflaging themselves — after all , they spend an awful lot of time hanging out on green plants .',\n",
       " 'or maybe green is to these slugs as pink is to flamingos : sex appeal .',\n",
       " 'flamingos get their red and pink colors from the carotenoid proteins in the plankton they eat .',\n",
       " 'healthier , well-nourished flamingos are pinker and more attractive to mates .',\n",
       " 'perhaps sea slugs display chloroplasts in a similar flirtatious way .',\n",
       " '# # a tangled relationship',\n",
       " 'in addition , the relationship between sacoglossans and chloroplasts may not be as straightforward a case of theft as it once seemed .',\n",
       " 'perhaps once swallowed , the chloroplasts continue to take care of themselves the way they would inside an alga — or reflexively trigger certain defenses that help them survive in a hostile environment .',\n",
       " 'the slugs could be taking advantage of this self-sufficiency to enjoy a few weeks or months of free oxygen .',\n",
       " \"alternatively , the chloroplasts might consent to keep busy because they are getting carbon dioxide or something else out of the deal , like the algae living in the salamanders ' eggs — until the slugs double-cross them and digest the chloroplasts properly .\",\n",
       " 'ongoing research by mary rumpho of the university of connecticut raises further questions about just what is going on .',\n",
       " 'e. chlorotica , the emerald-green slug species rumpho studies , seems to be so dependent on algae that if baby slugs are not exposed to it for at least seven days , they stop growing and die .',\n",
       " 'it is almost as if these sea slugs have evolved to self-destruct if there is no algae around in their youth , because without the plants and their chloroplasts they simply would not make it .',\n",
       " 'the chloroplasts e. chlorotica captures from its algae primarily make lipids , which provide a source of energy as well as building materials for cells .',\n",
       " \"a young slug needs lipids to grow rapidly , and in most species the slug 's own body has to produce these lipids .\",\n",
       " 'what if e. chlorotica has given over its lipid production to chloroplasts ?',\n",
       " 'if so , captive chloroplasts would be so much more than a postponed meal for the slugs — they would be more like a continually renewed vital organ .',\n",
       " \"havana , cuba — cuba has produced some of the world 's great baseball players .\",\n",
       " 'many cuban-born players do not play in their own country , however .',\n",
       " 'instead , they choose to play abroad where they have the potential to earn more money .',\n",
       " 'recently , officials have put new policies into effect aimed at keeping cuban players from leaving .',\n",
       " \"the island 's national league began its 54th season on sunday .\",\n",
       " 'for years , talented players have been leaving cuba to play overseas , chasing dreams of riches in countries like the u.s .',\n",
       " 'the result on the national league has been noticeable .',\n",
       " 'with so many gifted players leaving , the overall talent level of the league has gone down .',\n",
       " \"`` there 's no way that economically cuba is going to keep enough top players in the country to have the quality of league they had five or 10 years ago , '' said peter c. bjarkman , author of `` a history of cuban baseball , 1864-2006 . ''\",\n",
       " 'he added that although the league has not been destroyed , it seems to be on a steady decline .',\n",
       " \"while departing stars get the most attention , bjarkman said that the loss of dozens of younger , barely known players each year has been more devastating to the league 's long-term health .\",\n",
       " \"# # cuba 's rules change\",\n",
       " 'up until recently , the rules have prohibited players from signing contracts in other countries .',\n",
       " 'for five decades , cuban players were banned from playing professionally outside of cuba .',\n",
       " 'the result was that players who wanted international careers left the island illegally .',\n",
       " \"doing so meant not only abandoning cuba 's national league but also abandoning cuba itself .\",\n",
       " 'in september 2013 , however , cuba established a new policy .',\n",
       " 'it was a compromise of sorts , giving players more freedom in the hope that fewer of them would emigrate .',\n",
       " 'it allows ballplayers to sign offseason contracts in countries like japan and mexico .',\n",
       " \"the only requirements are that a large chunk of a player 's salary will go to the state , and players must return to play in cuba throughout the year .\",\n",
       " 'in addition , the cuban league also gave raises to on-island athletes .',\n",
       " 'several baseball officials and players on the island said that they are confident that these reforms will help .',\n",
       " 'they argue that the new rules will allow players to continue to play in cuba while also expanding their careers abroad .',\n",
       " 'as a result , fewer players may decide to leave cuba for good .',\n",
       " 'some players have taken the league up on its offer .',\n",
       " 'star third baseman yulieski gourriel , outfielders alfredo despaigne and frederich cepeda and pitcher hector mendoza played this season in japan , all with the agreement of cuban officials .',\n",
       " 'overall , however , the reforms do not seem to be working .',\n",
       " 'despite the new policies , cuban players still have to choose between playing in the united states and remaining cuban citizens - they can not do both .',\n",
       " 'a 52-year-old u.s. embargo bars athletes from paying cuban taxes on money earned in the majors .',\n",
       " 'therefore , cuban players still can not compete in the united states without permanently leaving the island .',\n",
       " '# # big leagues , big money',\n",
       " 'the appeal of the majors is strong for cuban players , even as the reforms offer alternatives .',\n",
       " 'for one thing , the salaries offered in the united states are hard to pass up .',\n",
       " 'this summer , outfielder rusney castillo left cuba and signed a $ 72.5 million , seven-year deal with the boston red sox .',\n",
       " \"this topped outfielder jose abreu 's $ 68 million , six-year contract with the chicago white sox last october .\",\n",
       " 'compare these salaries to the salaries of players who are legally playing outside of cuba , but not in the united states .',\n",
       " \"third baseman yulieski gourriel 's japanese contract is for $ 1 , far less than what stars make in the united states .\",\n",
       " \"as american paychecks continue to attract cuban players , it seems that the talent drain in cuba 's national league may only get worse .\",\n",
       " 'this year alone , 13 cuban players signed new major or minor league contracts , up from 10 the previous year .',\n",
       " \"of the players on cuba 's star-studded 2013 world baseball classic , a quarter have left cuba in search of major-league deals .\",\n",
       " 'the contracts for six of the top-earning cuban-born major leaguers — jose abreu , yasiel puig , castillo , yoenis cespedes , aroldis chapman and jorge soler — total close to $ 280 million .',\n",
       " \"and there 's more to come .\",\n",
       " 'outfielders yasmani tomas , gelkis jimenez , adriel labrada and alejandro ortiz and pitchers diosdany castillo , yasmani hernandez and carlos portuondo all recently left cuba for the major leagues .',\n",
       " \"# # `` playing with the best ''\",\n",
       " 'money is not the only attraction .',\n",
       " 'industriales pitcher odrisamer despaigne , 27 , left cuba in february and three months later agreed to a minor league contract with the san diego padres .',\n",
       " \"`` i needed new challenges , that 's why i left my country , to achieve my dream of playing with the best in the major leagues , '' he explained .\",\n",
       " 'while playing in the united states can offer many rewards , it is not an easy thing for cuban players to do .',\n",
       " 'typically , baseball players quietly stop playing in cuba , then establish residency in another country .',\n",
       " 'from there , they look to get hired by american and canadian teams .',\n",
       " 'illegally leaving cuba can be dangerous and expensive .',\n",
       " 'a series of lawsuits and a federal investigation launched in miami this year have revealed that many ballplayers are smuggled out of cuba by human-trafficking groups in exchange for hundreds of thousands of dollars .',\n",
       " 'such dangerous journeys have not stopped young cubans from dreaming of playing far from home , however .',\n",
       " \"`` i 'd love to be great one day , '' 15-year-old ernesto medina said as he recently played in havana .\",\n",
       " \"`` to start , i 'm dreaming of playing for industriales , the greatest cuban baseball team in my opinion , and afterward of course i 'd like to play in the major leagues . ''\",\n",
       " \"as long as players like medina continue to dream of making it in the united states , cuba 's national league may be in trouble .\",\n",
       " \"boston — hundreds of grumpy commuters cram into south station — boston 's main transport hub — waiting to see whether their trains will be canceled or delayed .\",\n",
       " \"they vent to each other about the snowy winter that has paralyzed the city 's transportation systems .\",\n",
       " 'just weeks ago , boston beat out other cities — los angeles , san francisco , washington — to make the u.s. bid for the 2024 olympic games .',\n",
       " '# # can boston handle the olympics ?',\n",
       " \"now residents are wondering , if boston 's infrastructure ca n't handle a snowy winter , can it handle hosting the 2024 summer olympic games in just nine years ?\",\n",
       " \"nor'easters — strong storms that can bring blizzards and flooding — have frustrated bostonians and exhausted patience for mass disruptions .\",\n",
       " \"it 's another argument against holding the olympics in boston , adding to concerns over the financial costs and the difficulties of planning a large-scale event in of one the nation 's smallest major cities .\",\n",
       " \"`` we 're already crazy , '' said debbie jones , an executive assistant whose 45-minute commute to work had been taking 2 1/2 hours .\",\n",
       " \"`` i ca n't imagine the olympics , with 10 times more people . ''\",\n",
       " 'winter will end , eventually .',\n",
       " \"the snow will melt , but olympic supporters wonder if distrust of the city 's planning abilities will melt with it .\",\n",
       " '# # does boston need the olympics ?',\n",
       " \"boston 's icy reception to the games may reveal something deeper about the city that likes to call itself the hub of the universe .\",\n",
       " 'boston is already a leader , they say , in medicine , higher education — with schools like harvard and mit — and biotechnology .',\n",
       " 'in sports , too , boston is home to the super bowl champion new england patriots football team and the successful red sox baseball team .',\n",
       " 'though the city is home to tons of sports fanatics , many reject the idea that boston needs validation on the international stage , the way atlanta , or sochi , russia , might .',\n",
       " \"`` we do n't need the olympics to do that , '' said pat shaughnessy , a paralegal also awaiting a train .\",\n",
       " \"`` people already know where boston is . ''\",\n",
       " 'many in boston are also asking why the city should take on a multibillion-dollar project just a few years after another one had gone far over budget .',\n",
       " 'the big dig was a major transportation project that tore up central boston for more than a decade to build highways , bridges and tunnels and ran billions of dollars over what its cost was budgeted to be .',\n",
       " '# # does boston even want the olympics ?',\n",
       " \"organizers pushing for the olympics in boston promise that the olympics ' $ 4.7 billion budget would be covered by private money — not taxpayers in boston .\",\n",
       " 'the federal government would pay $ 1 billion to $ 2 billion in security costs .',\n",
       " 'state officials are already planning to spend $ 5.2 billion on transportation projects , organizers say .',\n",
       " 'in a february survey , 44 percent of boston-area voters supported bringing the olympics to the city , and 46 percent opposed it .',\n",
       " 'other cities that have hosted the games have had much stronger local support , as much as 70 or 80 percent of residents .',\n",
       " 'still , boston is two years away from the final bidding process .',\n",
       " '# # does boston have a shot ?',\n",
       " \"a group of business leaders led by the city 's wealthiest construction builder are leading the bid to bring the olympics to boston .\",\n",
       " 'they know the challenge ahead of them .',\n",
       " 'voters in denver , colorado , as well as those in european cities munich , germany , and krakow , poland , have rejected hosting the olympics in the past .',\n",
       " \"if supporters of boston hosting the games can overcome people 's doubts , the city could have a shot at hosting the first u.s. summer games since atlanta in 1996 .\",\n",
       " 'the international olympic committee will chose the 2024 host in 2017 .',\n",
       " \"`` there 's a real appetite , a real hunger from the ioc members i 've talked to for the united states to get its act together and have the games again , '' said ed hula , editor of around the rings , a website that covers the olympics .\",\n",
       " \"hula said boston 's main competition to host the games would come from europe .\",\n",
       " '# # stadium site smells fishy',\n",
       " \"richard davey , chief executive of boston 2024 — the private group behind boston 's bid to host the olympics — says the city can save money by using college and university sites to host events .\",\n",
       " \"the games could be `` the most walkable in history , '' davey said .\",\n",
       " 'that definition of walkable is fairly loose .',\n",
       " 'early rounds of baseball , soccer and basketball could be held as far away as washington , chicago and new york .',\n",
       " 'the bid also includes construction of a $ 400 million temporary main stadium in an area that is arguably the least walkable section in boston : a collection of meat and fish processing plants and warehouses between a rail yard and highway overpasses leading into downtown .',\n",
       " \"it 's hard to imagine 80,000 spectators flocking to a spot that is now covered in mounds of gray snow and reeking of seafood .\",\n",
       " '# # mayor says boston can do it',\n",
       " 'olympic boosters see an opportunity to develop an underused piece of the city and knit together the thriving neighborhoods around it .',\n",
       " \"mayor martin walsh said the olympics would allow the city to accelerate planning for a host of improvements to coincide with boston 's 400th anniversary in 2030 .\",\n",
       " \"`` it allows an incredible legacy factor , '' walsh said .\",\n",
       " \"he said that boston won the right to be the u.s. olympic committee 's choice in the global competition to host the olympics `` because of the city we are .\",\n",
       " \"we 're going around the world now marketing that . ''\",\n",
       " 'walsh said opposition to the olympics was inflamed by accounts of other countries that spent far more than they planned .',\n",
       " 'still , doubts persist .',\n",
       " 'experts say that olympic supporters in boston are underestimating the cost of the games .',\n",
       " \"`` it will bring a lot to the economy , '' said suzanne scanlon , a 53-year-old office worker headed home on a recent evening .\",\n",
       " \"`` my concern is whether it will make enough money to repay what we put into it . ''\",\n",
       " 'mount ida , ark .',\n",
       " '— the plant world could become a mystery in the coming decades as fewer college students take botany , or the study of plants , and u.s. universities close their plant collections .',\n",
       " 'since 1988 , the number of research universities offering botany degrees has dropped by half , according to national science foundation data .',\n",
       " 'and the national center for education statistics reports that fewer than 400 botany degrees were awarded in 2012 .',\n",
       " \"educators say that 's because students are being pushed into more modern , technology-related majors .\",\n",
       " 'current botanists fear that will lead to having fewer people able to teach about , identify and use plants .',\n",
       " 'this lack of botanists could harm conservation efforts and make it harder to develop alternate fuels and important medicines .',\n",
       " 'at the same time , universities and states with less money due to budget cuts are getting rid of the expensive task of maintaining herbaria — collections of plant species that botanists can reference or use for genetic material .',\n",
       " \"`` we are n't going to understand what we have in the world .\",\n",
       " \"by some estimates only 20 percent of the ( plant and animal ) species in the world have been identified , '' said joe miller of the national science foundation 's division of environmental biology .\",\n",
       " \"# # botanists ' skills `` are irreplaceable ''\",\n",
       " 'in a clearing on the side of a rural arkansas highway , about a dozen researchers scoured the rocky area .',\n",
       " 'they were looking for a threatened plant called the missouri bladderpod , which blooms with clusters of small yellow flowers .',\n",
       " 'only 75 groups of the threatened species exist in the world , and all are close enough to cities to be in danger , arkansas natural heritage commission botanist theo witsell said .',\n",
       " 'the 39-year-old , carrying a small shovel and a handful of large plastic bags , plucked a few purple flowering plants from the ground by the root .',\n",
       " \"`` i think one of the things that 's happening in this field of study is there are n't a lot of open jobs , '' witsell said .\",\n",
       " \"`` but as people get older and they retire , you then have fewer people who are qualified for those jobs . ''\",\n",
       " 'witsell hopes to conserve some of the open spaces , or glades .',\n",
       " 'he said scientists are still finding new species of plants in the glades .',\n",
       " \"that 's where botanists ' skills are irreplaceable , miller said .\",\n",
       " '# # plant collections are on the wane',\n",
       " 'if scientists can name a plant , he said , then they understand how it behaves and what it is made of , or its biology .',\n",
       " \"if they understand its biology , then they can `` understand and predict how it could be used , '' he said .\",\n",
       " 'for example , quinine is a treatment for the tropical disease malaria .',\n",
       " ...]"
      ]
     },
     "execution_count": 68,
     "metadata": {},
     "output_type": "execute_result"
    }
   ],
   "source": [
    "articleLM.grade_level_sentences['val'][9]"
   ]
  },
  {
   "cell_type": "code",
   "execution_count": 23,
   "metadata": {},
   "outputs": [],
   "source": [
    "perplex_best_guess = []\n",
    "perplex_gl = []\n",
    "\n",
    "for gl in sorted(articleLM.grade_level_sentences['val'].keys()):\n",
    "\n",
    "    perplex_best_guess.extend(GL[gl].min_perplexity)\n",
    "    perplex_gl.extend(np.ones_like(GL[gl].min_perplexity) * gl)\n",
    "    \n",
    "perplex_guesses = pd.DataFrame({'grade_level':perplex_gl, 'best_guess': perplex_best_guess})"
   ]
  },
  {
   "cell_type": "code",
   "execution_count": 24,
   "metadata": {},
   "outputs": [
    {
     "data": {
      "text/plain": [
       "count    1258.000000\n",
       "mean        4.381558\n",
       "std         1.609650\n",
       "min         2.000000\n",
       "25%         4.000000\n",
       "50%         4.000000\n",
       "75%         5.000000\n",
       "max         9.000000\n",
       "Name: best_guess, dtype: float64"
      ]
     },
     "execution_count": 24,
     "metadata": {},
     "output_type": "execute_result"
    }
   ],
   "source": [
    "perplex_guesses[perplex_guesses.grade_level == 2].best_guess.describe()"
   ]
  },
  {
   "cell_type": "code",
   "execution_count": 63,
   "metadata": {},
   "outputs": [
    {
     "data": {
      "text/plain": [
       "Text(0, 0.5, 'Predicted Grade Level')"
      ]
     },
     "execution_count": 63,
     "metadata": {},
     "output_type": "execute_result"
    },
    {
     "data": {
      "image/png": "[encoded data removed]",
      "text/plain": [
       "<Figure size 720x576 with 1 Axes>"
      ]
     },
     "metadata": {
      "needs_background": "light"
     },
     "output_type": "display_data"
    }
   ],
   "source": [
    "fig = plt.figure(figsize=(10,8))\n",
    "ax = fig.gca()\n",
    "ax.set_title(\"Grade Level Distributions\")\n",
    "# ax.set_xlabel(\"True Grade Level\")\n",
    "# ax.set_ylabel(\"Predicted Grade Level\")\n",
    "sns.boxplot(ax=ax, x=\"grade_level\", y=\"best_guess\", data=perplex_guesses)\n",
    "ax.set_xlabel(\"True Grade Level\")\n",
    "ax.set_ylabel(\"Predicted Grade Level\")"
   ]
  },
  {
   "cell_type": "code",
   "execution_count": 28,
   "metadata": {},
   "outputs": [],
   "source": [
    "from sklearn.metrics import confusion_matrix\n",
    "\n",
    "cm = confusion_matrix(perplex_guesses.grade_level, perplex_guesses.best_guess)"
   ]
  },
  {
   "cell_type": "code",
   "execution_count": 31,
   "metadata": {},
   "outputs": [
    {
     "data": {
      "text/plain": [
       "549.5843884245621"
      ]
     },
     "execution_count": 31,
     "metadata": {},
     "output_type": "execute_result"
    }
   ],
   "source": [
    "np.linalg.norm(perplex_guesses.grade_level - perplex_guesses.best_guess, ord=2)"
   ]
  },
  {
   "cell_type": "code",
   "execution_count": 40,
   "metadata": {},
   "outputs": [],
   "source": [
    "from sklearn.linear_model import LinearRegression\n",
    "\n",
    "lm = LinearRegression().fit(np.array(perplex_guesses.grade_level).reshape(-1, 1), \n",
    "                            np.array(perplex_guesses.best_guess))"
   ]
  },
  {
   "cell_type": "code",
   "execution_count": 42,
   "metadata": {},
   "outputs": [
    {
     "data": {
      "text/plain": [
       "array([0.24146857])"
      ]
     },
     "execution_count": 42,
     "metadata": {},
     "output_type": "execute_result"
    }
   ],
   "source": [
    "lm.coef_"
   ]
  },
  {
   "cell_type": "code",
   "execution_count": 43,
   "metadata": {},
   "outputs": [
    {
     "data": {
      "text/plain": [
       "4.492743003025859"
      ]
     },
     "execution_count": 43,
     "metadata": {},
     "output_type": "execute_result"
    }
   ],
   "source": [
    "lm.intercept_"
   ]
  },
  {
   "cell_type": "code",
   "execution_count": 44,
   "metadata": {},
   "outputs": [
    {
     "data": {
      "text/plain": [
       "0.059888864646219"
      ]
     },
     "execution_count": 44,
     "metadata": {},
     "output_type": "execute_result"
    }
   ],
   "source": [
    "lm.score(np.array(perplex_guesses.grade_level).reshape(-1, 1), \n",
    "                            np.array(perplex_guesses.best_guess))"
   ]
  },
  {
   "cell_type": "code",
   "execution_count": 47,
   "metadata": {},
   "outputs": [
    {
     "data": {
      "text/plain": [
       "5.0339847068819035"
      ]
     },
     "execution_count": 47,
     "metadata": {},
     "output_type": "execute_result"
    }
   ],
   "source": [
    "len(perplex_guesses[perplex_guesses.grade_level == perplex_guesses.best_guess] ) * 100/ len(perplex_guesses)"
   ]
  },
  {
   "cell_type": "code",
   "execution_count": null,
   "metadata": {},
   "outputs": [],
   "source": [
    "perplex_guesses.loc[:,'school_type_actual'] = list(1 if x >= 5 else 0 for x in perplex_guesses.grade_level)\n",
    "perplex_guesses.loc[:,'school_type_est'] = list(1 if x >= 5 else 0 for x in perplex_guesses.best_guess)"
   ]
  },
  {
   "cell_type": "code",
   "execution_count": 50,
   "metadata": {},
   "outputs": [],
   "source": [
    "perplex_guesses.loc[:,'high_actual'] = list(1 if x >= 5 else 0 for x in perplex_guesses.grade_level)\n",
    "perplex_guesses.loc[:,'high_est'] = list(1 if x >= 5 else 0 for x in perplex_guesses.best_guess)"
   ]
  },
  {
   "cell_type": "code",
   "execution_count": 56,
   "metadata": {},
   "outputs": [
    {
     "name": "stdout",
     "output_type": "stream",
     "text": [
      "gl 2\n",
      "length 1258\n",
      "13.751987281399046\n",
      "gl 3\n",
      "length 3502\n",
      "8.509423186750428\n",
      "gl 4\n",
      "length 14120\n",
      "7.606232294617564\n",
      "gl 5\n",
      "length 10372\n",
      "3.5190898573081375\n",
      "gl 6\n",
      "length 8993\n",
      "2.813299232736573\n",
      "gl 7\n",
      "length 10617\n",
      "3.6545163417161155\n",
      "gl 8\n",
      "length 7014\n",
      "4.590818363273453\n",
      "gl 9\n",
      "length 5328\n",
      "3.903903903903904\n"
     ]
    }
   ],
   "source": [
    "for i in [2,3,4,5,6,7,8,9]:\n",
    "    print(\"gl\",i)\n",
    "    gl_df = perplex_guesses[perplex_guesses.grade_level == i]\n",
    "    print(\"length\", len(gl_df))\n",
    "    print(len(gl_df[gl_df.grade_level == gl_df.best_guess]) * 100/ len(gl_df))"
   ]
  },
  {
   "cell_type": "code",
   "execution_count": 51,
   "metadata": {},
   "outputs": [
    {
     "data": {
      "text/plain": [
       "array([[ 5161, 13719],\n",
       "       [ 9942, 32382]])"
      ]
     },
     "execution_count": 51,
     "metadata": {},
     "output_type": "execute_result"
    }
   ],
   "source": [
    "confusion_matrix(perplex_guesses.high_actual, perplex_guesses.high_est)"
   ]
  },
  {
   "cell_type": "code",
   "execution_count": 52,
   "metadata": {},
   "outputs": [
    {
     "data": {
      "text/plain": [
       "61.34076204169662"
      ]
     },
     "execution_count": 52,
     "metadata": {},
     "output_type": "execute_result"
    }
   ],
   "source": [
    "len(perplex_guesses[perplex_guesses.high_actual == perplex_guesses.high_est] ) * 100/ len(perplex_guesses)"
   ]
  },
  {
   "cell_type": "code",
   "execution_count": 35,
   "metadata": {},
   "outputs": [
    {
     "data": {
      "text/plain": [
       "<matplotlib.collections.PathCollection at 0x1a249e1e10>"
      ]
     },
     "execution_count": 35,
     "metadata": {},
     "output_type": "execute_result"
    },
    {
     "data": {
      "image/png": "[encoded data removed]",
      "text/plain": [
       "<Figure size 720x576 with 1 Axes>"
      ]
     },
     "metadata": {
      "needs_background": "light"
     },
     "output_type": "display_data"
    }
   ],
   "source": [
    "fig = plt.figure(figsize=(10,8))\n",
    "ax = fig.gca()\n",
    "ax.scatter(perplex_guesses.grade_level, perplex_guesses.best_guess)"
   ]
  },
  {
   "cell_type": "code",
   "execution_count": null,
   "metadata": {},
   "outputs": [],
   "source": [
    "# Remove is_original articles"
   ]
  },
  {
   "cell_type": "code",
   "execution_count": null,
   "metadata": {},
   "outputs": [],
   "source": [
    "print(GL[12].min_perplexity.mode())\n",
    "print(GL[12].max_perplexity.mode())"
   ]
  },
  {
   "cell_type": "code",
   "execution_count": 15,
   "metadata": {},
   "outputs": [
    {
     "name": "stdout",
     "output_type": "stream",
     "text": [
      "0    8\n",
      "dtype: int64\n",
      "0    3\n",
      "dtype: int64\n"
     ]
    }
   ],
   "source": [
    "print(GL[12].min_perplexity.mode())\n",
    "print(GL[12].max_perplexity.mode())"
   ]
  },
  {
   "cell_type": "code",
   "execution_count": 9,
   "metadata": {},
   "outputs": [
    {
     "data": {
      "text/plain": [
       "'an abolitionist who helped to end slavery .'"
      ]
     },
     "execution_count": 9,
     "metadata": {},
     "output_type": "execute_result"
    }
   ],
   "source": [
    "articleLM.grade_level_sentences['val'].get(6)[5]"
   ]
  },
  {
   "cell_type": "code",
   "execution_count": 10,
   "metadata": {},
   "outputs": [
    {
     "data": {
      "text/plain": [
       "'his name is fazle hasan abed .'"
      ]
     },
     "execution_count": 10,
     "metadata": {},
     "output_type": "execute_result"
    }
   ],
   "source": [
    "articleLM.grade_level_sentences['val'].get(2)[5]"
   ]
  },
  {
   "cell_type": "code",
   "execution_count": 29,
   "metadata": {},
   "outputs": [
    {
     "data": {
      "text/plain": [
       "[2, 3, 4, 5, 6, 7, 8, 9, 10, 12]"
      ]
     },
     "execution_count": 29,
     "metadata": {},
     "output_type": "execute_result"
    }
   ],
   "source": [
    "sorted(model.keys())"
   ]
  },
  {
   "cell_type": "code",
   "execution_count": 12,
   "metadata": {},
   "outputs": [],
   "source": [
    "# articleLM.text_sentences_for_grade(2, True)"
   ]
  },
  {
   "cell_type": "markdown",
   "metadata": {},
   "source": [
    "## ARCHIVED"
   ]
  },
  {
   "cell_type": "code",
   "execution_count": 17,
   "metadata": {},
   "outputs": [
    {
     "name": "stdout",
     "output_type": "stream",
     "text": [
      "Grade 2 has 8140 sentences in the training set.\n",
      "=== 1/5 Counting and sorting n-grams ===\n",
      "Reading stdin\n",
      "----5---10---15---20---25---30---35---40---45---50---55---60---65---70---75---80---85---90---95--100\n",
      "File stdin isn't normal.  Using slower read() instead of mmap().  No progress bar.\n",
      "****************************************************************************************************\n",
      "Unigram tokens 77147 types 7247\n",
      "=== 2/5 Calculating and sorting adjusted counts ===\n",
      "Chain sizes: 1:86964 2:1340859264 3:2514111488 4:4022577920 5:5866259968\n",
      "Statistics:\n",
      "1 7247 D1=0.587801 D2=1.08954 D3+=1.56537\n",
      "2 37930 D1=0.778791 D2=1.19549 D3+=1.51871\n",
      "3 59374 D1=0.882787 D2=1.31476 D3+=1.5341\n",
      "4 63672 D1=0.946344 D2=1.48411 D3+=1.50262\n",
      "5 59302 D1=0.972426 D2=1.58325 D3+=1.31886\n",
      "Memory estimate for binary LM:\n",
      "type      kB\n",
      "probing 4999 assuming -p 1.5\n",
      "probing 5970 assuming -r models -p 1.5\n",
      "trie    2296 without quantization\n",
      "trie    1213 assuming -q 8 -b 8 quantization \n",
      "trie    2121 assuming -a 22 array pointer compression\n",
      "trie    1038 assuming -a 22 -q 8 -b 8 array pointer compression and quantization\n",
      "=== 3/5 Calculating and sorting initial probabilities ===\n",
      "Chain sizes: 1:86964 2:606880 3:1187480 4:1528128 5:1660456\n",
      "=== 4/5 Calculating and writing order-interpolated probabilities ===\n",
      "Chain sizes: 1:86964 2:606880 3:1187480 4:1528128 5:1660456\n",
      "=== 5/5 Writing ARPA model ===\n",
      "RSSMax:2442461184 kB\tuser:0.642021\tsys:0.656234\tCPU:1.29828\treal:1.21777\n",
      "\n"
     ]
    }
   ],
   "source": [
    "articleLM.train_arpa(2)"
   ]
  },
  {
   "cell_type": "code",
   "execution_count": 23,
   "metadata": {},
   "outputs": [
    {
     "name": "stdout",
     "output_type": "stream",
     "text": [
      "Processing 12\n",
      "Grade 12 has 70339 sentences in the training set.\n",
      "=== 1/5 Counting and sorting n-grams ===\n",
      "File stdin isn't normal.  Using slower read() instead of mmap().  No progress bar.\n",
      "Unigram tokens 1701343 types 67748\n",
      "=== 2/5 Calculating and sorting adjusted counts ===\n",
      "Chain sizes: 1:812976 2:1340788480 3:2513978624 4:4022365440 5:5865950208\n",
      "Statistics:\n",
      "1 67748 D1=0.596335 D2=1.0247 D3+=1.51618\n",
      "2 603184 D1=0.766528 D2=1.13251 D3+=1.44168\n",
      "3 1226628 D1=0.885567 D2=1.2354 D3+=1.45629\n",
      "4 1481759 D1=0.953303 D2=1.37475 D3+=1.53093\n",
      "5 1513009 D1=0.977679 D2=1.43837 D3+=1.48664\n",
      "Memory estimate for binary LM:\n",
      "type     MB\n",
      "probing 103 assuming -p 1.5\n",
      "probing 122 assuming -r models -p 1.5\n",
      "trie     50 without quantization\n",
      "trie     27 assuming -q 8 -b 8 quantization \n",
      "trie     44 assuming -a 22 array pointer compression\n",
      "trie     21 assuming -a 22 -q 8 -b 8 array pointer compression and quantization\n",
      "=== 3/5 Calculating and sorting initial probabilities ===\n",
      "Chain sizes: 1:812976 2:9650944 3:24532560 4:35562216 5:42364252\n",
      "=== 4/5 Calculating and writing order-interpolated probabilities ===\n",
      "Chain sizes: 1:812976 2:9650944 3:24532560 4:35562216 5:42364252\n",
      "=== 5/5 Writing ARPA model ===\n",
      "RSSMax:2493128704 kB\tuser:3.63292\tsys:1.33281\tCPU:4.96576\treal:3.67315\n",
      "\n",
      "Processing 4\n",
      "Grade 4 has 64626 sentences in the training set.\n",
      "=== 1/5 Counting and sorting n-grams ===\n",
      "File stdin isn't normal.  Using slower read() instead of mmap().  No progress bar.\n",
      "Unigram tokens 829750 types 30239\n",
      "=== 2/5 Calculating and sorting adjusted counts ===\n",
      "Chain sizes: 1:362868 2:1340832384 3:2514060800 4:4022497024 5:5866141696\n",
      "Statistics:\n",
      "1 30239 D1=0.577754 D2=1.05543 D3+=1.57045\n",
      "2 272851 D1=0.753521 D2=1.13059 D3+=1.43538\n",
      "3 551377 D1=0.868346 D2=1.22878 D3+=1.46472\n",
      "4 668122 D1=0.937145 D2=1.34622 D3+=1.55266\n",
      "5 669781 D1=0.962685 D2=1.49355 D3+=1.5909\n",
      "Memory estimate for binary LM:\n",
      "type       kB\n",
      "probing 47518 assuming -p 1.5\n",
      "probing 56380 assuming -r models -p 1.5\n",
      "trie    22322 without quantization\n",
      "trie    11887 assuming -q 8 -b 8 quantization \n",
      "trie    20002 assuming -a 22 array pointer compression\n",
      "trie     9566 assuming -a 22 -q 8 -b 8 array pointer compression and quantization\n",
      "=== 3/5 Calculating and sorting initial probabilities ===\n",
      "Chain sizes: 1:362868 2:4365616 3:11027540 4:16034928 5:18753868\n",
      "=== 4/5 Calculating and writing order-interpolated probabilities ===\n",
      "Chain sizes: 1:362868 2:4365616 3:11027540 4:16034928 5:18753868\n",
      "=== 5/5 Writing ARPA model ===\n",
      "RSSMax:2468904960 kB\tuser:1.93702\tsys:0.963556\tCPU:2.9006\treal:2.30353\n",
      "\n",
      "Processing 8\n",
      "Grade 8 has 39285 sentences in the training set.\n",
      "=== 1/5 Counting and sorting n-grams ===\n",
      "File stdin isn't normal.  Using slower read() instead of mmap().  No progress bar.\n",
      "Unigram tokens 831418 types 41552\n",
      "=== 2/5 Calculating and sorting adjusted counts ===\n",
      "Chain sizes: 1:498624 2:1340819200 3:2514035968 4:4022457344 5:5866084352\n",
      "Statistics:\n",
      "1 41552 D1=0.59951 D2=1.05162 D3+=1.45627\n",
      "2 330946 D1=0.770558 D2=1.14571 D3+=1.45273\n",
      "3 625081 D1=0.892324 D2=1.27058 D3+=1.44325\n",
      "4 729400 D1=0.957231 D2=1.41043 D3+=1.54114\n",
      "5 732810 D1=0.977327 D2=1.54063 D3+=1.53997\n",
      "Memory estimate for binary LM:\n",
      "type    MB\n",
      "probing 52 assuming -p 1.5\n",
      "probing 61 assuming -r models -p 1.5\n",
      "trie    24 without quantization\n",
      "trie    13 assuming -q 8 -b 8 quantization \n",
      "trie    22 assuming -a 22 array pointer compression\n",
      "trie    10 assuming -a 22 -q 8 -b 8 array pointer compression and quantization\n",
      "=== 3/5 Calculating and sorting initial probabilities ===\n",
      "Chain sizes: 1:498624 2:5295136 3:12501620 4:17505600 5:20518680\n",
      "=== 4/5 Calculating and writing order-interpolated probabilities ===\n",
      "Chain sizes: 1:498624 2:5295136 3:12501620 4:17505600 5:20518680\n",
      "=== 5/5 Writing ARPA model ===\n",
      "RSSMax:2470109184 kB\tuser:2.00888\tsys:0.976936\tCPU:2.98588\treal:2.32985\n",
      "\n",
      "Processing 7\n",
      "Grade 7 has 47378 sentences in the training set.\n",
      "=== 1/5 Counting and sorting n-grams ===\n",
      "File stdin isn't normal.  Using slower read() instead of mmap().  No progress bar.\n",
      "Unigram tokens 893174 types 40615\n",
      "=== 2/5 Calculating and sorting adjusted counts ===\n",
      "Chain sizes: 1:487380 2:1340820224 3:2514038016 4:4022460672 5:5866088960\n",
      "Statistics:\n",
      "1 40615 D1=0.583532 D2=1.09183 D3+=1.58595\n",
      "2 339700 D1=0.766086 D2=1.15023 D3+=1.37507\n",
      "3 655627 D1=0.88555 D2=1.25347 D3+=1.44367\n",
      "4 772304 D1=0.952711 D2=1.38324 D3+=1.61242\n",
      "5 775609 D1=0.976302 D2=1.49483 D3+=1.73655\n",
      "Memory estimate for binary LM:\n",
      "type    MB\n",
      "probing 54 assuming -p 1.5\n",
      "probing 65 assuming -r models -p 1.5\n",
      "trie    26 without quantization\n",
      "trie    14 assuming -q 8 -b 8 quantization \n",
      "trie    23 assuming -a 22 array pointer compression\n",
      "trie    11 assuming -a 22 -q 8 -b 8 array pointer compression and quantization\n",
      "=== 3/5 Calculating and sorting initial probabilities ===\n",
      "Chain sizes: 1:487380 2:5435200 3:13112540 4:18535296 5:21717052\n",
      "=== 4/5 Calculating and writing order-interpolated probabilities ===\n",
      "Chain sizes: 1:487380 2:5435200 3:13112540 4:18535296 5:21717052\n",
      "=== 5/5 Writing ARPA model ===\n",
      "RSSMax:2471690240 kB\tuser:2.23761\tsys:1.08919\tCPU:3.32686\treal:2.79535\n",
      "\n",
      "Processing 5\n",
      "Grade 5 has 54786 sentences in the training set.\n",
      "=== 1/5 Counting and sorting n-grams ===\n",
      "File stdin isn't normal.  Using slower read() instead of mmap().  No progress bar.\n",
      "Unigram tokens 819274 types 32541\n",
      "=== 2/5 Calculating and sorting adjusted counts ===\n",
      "Chain sizes: 1:390492 2:1340829696 3:2514055680 4:4022488832 5:5866129920\n",
      "Statistics:\n",
      "1 32541 D1=0.583686 D2=1.08003 D3+=1.54791\n",
      "2 286102 D1=0.756318 D2=1.14027 D3+=1.4059\n",
      "3 569252 D1=0.874681 D2=1.24897 D3+=1.42455\n",
      "4 681624 D1=0.94416 D2=1.37002 D3+=1.52325\n",
      "5 683619 D1=0.9708 D2=1.44879 D3+=1.6418\n",
      "Memory estimate for binary LM:\n",
      "type       kB\n",
      "probing 48865 assuming -p 1.5\n",
      "probing 57998 assuming -r models -p 1.5\n",
      "trie    22988 without quantization\n",
      "trie    12257 assuming -q 8 -b 8 quantization \n",
      "trie    20597 assuming -a 22 array pointer compression\n",
      "trie     9867 assuming -a 22 -q 8 -b 8 array pointer compression and quantization\n",
      "=== 3/5 Calculating and sorting initial probabilities ===\n",
      "Chain sizes: 1:390492 2:4577632 3:11385040 4:16358976 5:19141332\n",
      "=== 4/5 Calculating and writing order-interpolated probabilities ===\n",
      "Chain sizes: 1:390492 2:4577632 3:11385040 4:16358976 5:19141332\n",
      "=== 5/5 Writing ARPA model ===\n",
      "RSSMax:2468999168 kB\tuser:2.35561\tsys:1.24093\tCPU:3.59656\treal:2.84032\n",
      "\n",
      "Processing 2\n",
      "Grade 2 has 8140 sentences in the training set.\n",
      "=== 1/5 Counting and sorting n-grams ===\n",
      "Reading stdin\n",
      "----5---10---15---20---25---30---35---40---45---50---55---60---65---70---75---80---85---90---95--100\n",
      "File stdin isn't normal.  Using slower read() instead of mmap().  No progress bar.\n",
      "****************************************************************************************************\n",
      "Unigram tokens 77147 types 7247\n",
      "=== 2/5 Calculating and sorting adjusted counts ===\n",
      "Chain sizes: 1:86964 2:1340859264 3:2514111488 4:4022577920 5:5866259968\n",
      "Statistics:\n",
      "1 7247 D1=0.587801 D2=1.08954 D3+=1.56537\n",
      "2 37930 D1=0.778791 D2=1.19549 D3+=1.51871\n",
      "3 59374 D1=0.882787 D2=1.31476 D3+=1.5341\n",
      "4 63672 D1=0.946344 D2=1.48411 D3+=1.50262\n",
      "5 59302 D1=0.972426 D2=1.58325 D3+=1.31886\n",
      "Memory estimate for binary LM:\n",
      "type      kB\n",
      "probing 4999 assuming -p 1.5\n",
      "probing 5970 assuming -r models -p 1.5\n",
      "trie    2296 without quantization\n",
      "trie    1213 assuming -q 8 -b 8 quantization \n",
      "trie    2121 assuming -a 22 array pointer compression\n",
      "trie    1038 assuming -a 22 -q 8 -b 8 array pointer compression and quantization\n",
      "=== 3/5 Calculating and sorting initial probabilities ===\n",
      "Chain sizes: 1:86964 2:606880 3:1187480 4:1528128 5:1660456\n",
      "=== 4/5 Calculating and writing order-interpolated probabilities ===\n",
      "Chain sizes: 1:86964 2:606880 3:1187480 4:1528128 5:1660456\n",
      "=== 5/5 Writing ARPA model ===\n",
      "RSSMax:2442432512 kB\tuser:0.6677\tsys:0.691382\tCPU:1.35911\treal:1.27664\n",
      "\n",
      "Processing 6\n",
      "Grade 6 has 42719 sentences in the training set.\n",
      "=== 1/5 Counting and sorting n-grams ===\n",
      "File stdin isn't normal.  Using slower read() instead of mmap().  No progress bar.\n",
      "Unigram tokens 733243 types 34508\n",
      "=== 2/5 Calculating and sorting adjusted counts ===\n",
      "Chain sizes: 1:414096 2:1340827392 3:2514051328 4:4022481920 5:5866120192\n",
      "Statistics:\n",
      "1 34508 D1=0.587213 D2=1.05437 D3+=1.5943\n",
      "2 281994 D1=0.766817 D2=1.14875 D3+=1.41288\n",
      "3 537093 D1=0.886067 D2=1.26456 D3+=1.41785\n",
      "4 629162 D1=0.951949 D2=1.40175 D3+=1.53355\n",
      "5 628413 D1=0.975197 D2=1.51358 D3+=1.71963\n",
      "Memory estimate for binary LM:\n",
      "type       kB\n",
      "probing 45865 assuming -p 1.5\n",
      "probing 54486 assuming -r models -p 1.5\n",
      "trie    21916 without quantization\n",
      "trie    11849 assuming -q 8 -b 8 quantization \n",
      "trie    19660 assuming -a 22 array pointer compression\n",
      "trie     9593 assuming -a 22 -q 8 -b 8 array pointer compression and quantization\n",
      "=== 3/5 Calculating and sorting initial probabilities ===\n",
      "Chain sizes: 1:414096 2:4511904 3:10741860 4:15099888 5:17595564\n",
      "=== 4/5 Calculating and writing order-interpolated probabilities ===\n",
      "Chain sizes: 1:414096 2:4511904 3:10741860 4:15099888 5:17595564\n",
      "=== 5/5 Writing ARPA model ===\n",
      "RSSMax:2467233792 kB\tuser:2.03294\tsys:1.0425\tCPU:3.07548\treal:2.45505\n",
      "\n",
      "Processing 3\n",
      "Grade 3 has 18222 sentences in the training set.\n"
     ]
    },
    {
     "name": "stdout",
     "output_type": "stream",
     "text": [
      "=== 1/5 Counting and sorting n-grams ===\n",
      "Reading stdin\n",
      "----5---10---15---20---25---30---35---40---45---50---55---60---65---70---75---80---85---90---95--100\n",
      "File stdin isn't normal.  Using slower read() instead of mmap().  No progress bar.\n",
      "****************************************************************************************************\n",
      "Unigram tokens 198792 types 12972\n",
      "=== 2/5 Calculating and sorting adjusted counts ===\n",
      "Chain sizes: 1:155664 2:1340852608 3:2514098944 4:4022557952 5:5866230784\n",
      "Statistics:\n",
      "1 12972 D1=0.583245 D2=1.04729 D3+=1.59745\n",
      "2 84402 D1=0.76402 D2=1.16715 D3+=1.46525\n",
      "3 145230 D1=0.877772 D2=1.25399 D3+=1.51978\n",
      "4 162868 D1=0.941427 D2=1.40244 D3+=1.45998\n",
      "5 156883 D1=0.967368 D2=1.51688 D3+=1.41989\n",
      "Memory estimate for binary LM:\n",
      "type       kB\n",
      "probing 12286 assuming -p 1.5\n",
      "probing 14636 assuming -r models -p 1.5\n",
      "trie     5717 without quantization\n",
      "trie     3032 assuming -q 8 -b 8 quantization \n",
      "trie     5198 assuming -a 22 array pointer compression\n",
      "trie     2513 assuming -a 22 -q 8 -b 8 array pointer compression and quantization\n",
      "=== 3/5 Calculating and sorting initial probabilities ===\n",
      "Chain sizes: 1:155664 2:1350432 3:2904600 4:3908832 5:4392724\n",
      "=== 4/5 Calculating and writing order-interpolated probabilities ===\n",
      "Chain sizes: 1:155664 2:1350432 3:2904600 4:3908832 5:4392724\n",
      "=== 5/5 Writing ARPA model ===\n",
      "RSSMax:2450292736 kB\tuser:0.937074\tsys:0.771791\tCPU:1.70893\treal:1.54642\n",
      "\n",
      "Processing 9\n",
      "Grade 9 has 25641 sentences in the training set.\n",
      "=== 1/5 Counting and sorting n-grams ===\n",
      "File stdin isn't normal.  Using slower read() instead of mmap().  No progress bar.\n",
      "Unigram tokens 586228 types 35647\n",
      "=== 2/5 Calculating and sorting adjusted counts ===\n",
      "Chain sizes: 1:427764 2:1340826112 3:2514049024 4:4022478080 5:5866114560\n",
      "Statistics:\n",
      "1 35647 D1=0.594607 D2=1.07896 D3+=1.55584\n",
      "2 256435 D1=0.778361 D2=1.14546 D3+=1.45445\n",
      "3 458772 D1=0.899636 D2=1.27321 D3+=1.46873\n",
      "4 523616 D1=0.961398 D2=1.41978 D3+=1.66768\n",
      "5 523551 D1=0.981419 D2=1.51711 D3+=1.76803\n",
      "Memory estimate for binary LM:\n",
      "type       kB\n",
      "probing 39143 assuming -p 1.5\n",
      "probing 46541 assuming -r models -p 1.5\n",
      "trie    18659 without quantization\n",
      "trie    10088 assuming -q 8 -b 8 quantization \n",
      "trie    16877 assuming -a 22 array pointer compression\n",
      "trie     8306 assuming -a 22 -q 8 -b 8 array pointer compression and quantization\n",
      "=== 3/5 Calculating and sorting initial probabilities ===\n",
      "Chain sizes: 1:427764 2:4102960 3:9175440 4:12566784 5:14659428\n",
      "=== 4/5 Calculating and writing order-interpolated probabilities ===\n",
      "Chain sizes: 1:427764 2:4102960 3:9175440 4:12566784 5:14659428\n",
      "=== 5/5 Writing ARPA model ===\n",
      "RSSMax:2463969280 kB\tuser:1.78655\tsys:0.965194\tCPU:2.75177\treal:2.19771\n",
      "\n",
      "Processing 10\n",
      "Grade 10 has 791 sentences in the training set.\n",
      "=== 1/5 Counting and sorting n-grams ===\n",
      "Reading stdin\n",
      "----5---10---15---20---25---30---35---40---45---50---55---60---65---70---75---80---85---90---95--100\n",
      "File stdin isn't normal.  Using slower read() instead of mmap().  No progress bar.\n",
      "****************************************************************************************************\n",
      "Unigram tokens 18307 types 4095\n",
      "=== 2/5 Calculating and sorting adjusted counts ===\n",
      "Chain sizes: 1:49140 2:1340862976 3:2514118400 4:4022588928 5:5866275840\n",
      "Statistics:\n",
      "1 4095 D1=0.651003 D2=1.19549 D3+=1.58298\n",
      "2 13221 D1=0.854719 D2=1.28701 D3+=1.60758\n",
      "3 16938 D1=0.947841 D2=1.55767 D3+=1.42929\n",
      "4 17147 D1=0.98538 D2=1.46039 D3+=1.97178\n",
      "5 16597 D1=0.991234 D2=1.63338 D3+=3\n",
      "Memory estimate for binary LM:\n",
      "type      kB\n",
      "probing 1504 assuming -p 1.5\n",
      "probing 1797 assuming -r models -p 1.5\n",
      "trie     702 without quantization\n",
      "trie     391 assuming -q 8 -b 8 quantization \n",
      "trie     657 assuming -a 22 array pointer compression\n",
      "trie     346 assuming -a 22 -q 8 -b 8 array pointer compression and quantization\n",
      "=== 3/5 Calculating and sorting initial probabilities ===\n",
      "Chain sizes: 1:49140 2:211536 3:338760 4:411528 5:464716\n",
      "=== 4/5 Calculating and writing order-interpolated probabilities ===\n",
      "Chain sizes: 1:49140 2:211536 3:338760 4:411528 5:464716\n",
      "=== 5/5 Writing ARPA model ===\n",
      "RSSMax:2435641344 kB\tuser:0.614155\tsys:0.763822\tCPU:1.37801\treal:1.3517\n",
      "\n",
      "Processing 11\n",
      "Grade 11 has 53 sentences in the training set.\n",
      "=== 1/5 Counting and sorting n-grams ===\n",
      "Reading stdin\n",
      "----5---10---15---20---25---30---35---40---45---50---55---60---65---70---75---80---85---90---95--100\n",
      "File stdin isn't normal.  Using slower read() instead of mmap().  No progress bar.\n",
      "****************************************************************************************************\n",
      "Unigram tokens 1295 types 557\n",
      "=== 2/5 Calculating and sorting adjusted counts ===\n",
      "Chain sizes: 1:6684 2:1340867072 3:2514126080 4:4022601216 5:5866293760\n",
      "/Users/stephanie/github/kenlm/lm/builder/adjust_counts.cc:60 in void lm::builder::(anonymous namespace)::StatCollector::CalculateDiscounts(const lm::builder::DiscountConfig &) threw BadDiscountException because `discounts_[i].amount[j] < 0.0 || discounts_[i].amount[j] > j'.\n",
      "ERROR: 3-gram discount out of range for adjusted count 3: -0.8869703\n",
      "\n"
     ]
    }
   ],
   "source": [
    "for grade_level in articleLM.grade_level_train_sentences.keys():\n",
    "    print('Processing {}'.format(grade_level))\n",
    "    articleLM.train_arpa(grade_level)"
   ]
  },
  {
   "cell_type": "code",
   "execution_count": null,
   "metadata": {},
   "outputs": [],
   "source": [
    "articleLM.train_all_arpas()"
   ]
  },
  {
   "cell_type": "code",
   "execution_count": 17,
   "metadata": {},
   "outputs": [],
   "source": [
    "import subprocess"
   ]
  },
  {
   "cell_type": "code",
   "execution_count": null,
   "metadata": {},
   "outputs": [],
   "source": [
    "from subprocess import Popen, PIPE, STDOUT\n",
    "\n",
    "p = Popen(['grep', 'f'], stdout=PIPE, stdin=PIPE, stderr=STDOUT)    \n",
    "grep_stdout = p.communicate(input=b'one\\ntwo\\nthree\\nfour\\nfive\\nsix\\n')[0]\n",
    "print(grep_stdout.decode())"
   ]
  },
  {
   "cell_type": "code",
   "execution_count": 1,
   "metadata": {},
   "outputs": [
    {
     "ename": "NameError",
     "evalue": "name 'path_to_arpa' is not defined",
     "output_type": "error",
     "traceback": [
      "\u001b[0;31m---------------------------------------------------------------------------\u001b[0m",
      "\u001b[0;31mNameError\u001b[0m                                 Traceback (most recent call last)",
      "\u001b[0;32m<ipython-input-1-241e44e0c346>\u001b[0m in \u001b[0;36m<module>\u001b[0;34m\u001b[0m\n\u001b[0;32m----> 1\u001b[0;31m \u001b[0mpath_to_arpa\u001b[0m\u001b[0;34m\u001b[0m\u001b[0;34m\u001b[0m\u001b[0m\n\u001b[0m",
      "\u001b[0;31mNameError\u001b[0m: name 'path_to_arpa' is not defined"
     ]
    }
   ],
   "source": []
  },
  {
   "cell_type": "code",
   "execution_count": 1,
   "metadata": {},
   "outputs": [
    {
     "data": {
      "text/html": [
       "<div>\n",
       "<style scoped>\n",
       "    .dataframe tbody tr th:only-of-type {\n",
       "        vertical-align: middle;\n",
       "    }\n",
       "\n",
       "    .dataframe tbody tr th {\n",
       "        vertical-align: top;\n",
       "    }\n",
       "\n",
       "    .dataframe thead th {\n",
       "        text-align: right;\n",
       "    }\n",
       "</style>\n",
       "<table border=\"1\" class=\"dataframe\">\n",
       "  <thead>\n",
       "    <tr style=\"text-align: right;\">\n",
       "      <th></th>\n",
       "      <th>slug</th>\n",
       "      <th>language</th>\n",
       "      <th>title</th>\n",
       "      <th>version</th>\n",
       "      <th>filename</th>\n",
       "    </tr>\n",
       "    <tr>\n",
       "      <th>grade_level</th>\n",
       "      <th></th>\n",
       "      <th></th>\n",
       "      <th></th>\n",
       "      <th></th>\n",
       "      <th></th>\n",
       "    </tr>\n",
       "  </thead>\n",
       "  <tbody>\n",
       "    <tr>\n",
       "      <th>2</th>\n",
       "      <td>283</td>\n",
       "      <td>283</td>\n",
       "      <td>283</td>\n",
       "      <td>283</td>\n",
       "      <td>283</td>\n",
       "    </tr>\n",
       "    <tr>\n",
       "      <th>3</th>\n",
       "      <td>616</td>\n",
       "      <td>616</td>\n",
       "      <td>616</td>\n",
       "      <td>616</td>\n",
       "      <td>616</td>\n",
       "    </tr>\n",
       "    <tr>\n",
       "      <th>4</th>\n",
       "      <td>1730</td>\n",
       "      <td>1730</td>\n",
       "      <td>1730</td>\n",
       "      <td>1730</td>\n",
       "      <td>1730</td>\n",
       "    </tr>\n",
       "    <tr>\n",
       "      <th>5</th>\n",
       "      <td>1488</td>\n",
       "      <td>1488</td>\n",
       "      <td>1488</td>\n",
       "      <td>1488</td>\n",
       "      <td>1488</td>\n",
       "    </tr>\n",
       "    <tr>\n",
       "      <th>6</th>\n",
       "      <td>1171</td>\n",
       "      <td>1171</td>\n",
       "      <td>1171</td>\n",
       "      <td>1171</td>\n",
       "      <td>1171</td>\n",
       "    </tr>\n",
       "    <tr>\n",
       "      <th>7</th>\n",
       "      <td>1365</td>\n",
       "      <td>1365</td>\n",
       "      <td>1365</td>\n",
       "      <td>1365</td>\n",
       "      <td>1365</td>\n",
       "    </tr>\n",
       "    <tr>\n",
       "      <th>8</th>\n",
       "      <td>1152</td>\n",
       "      <td>1152</td>\n",
       "      <td>1152</td>\n",
       "      <td>1152</td>\n",
       "      <td>1152</td>\n",
       "    </tr>\n",
       "    <tr>\n",
       "      <th>9</th>\n",
       "      <td>862</td>\n",
       "      <td>862</td>\n",
       "      <td>862</td>\n",
       "      <td>862</td>\n",
       "      <td>862</td>\n",
       "    </tr>\n",
       "    <tr>\n",
       "      <th>10</th>\n",
       "      <td>21</td>\n",
       "      <td>21</td>\n",
       "      <td>21</td>\n",
       "      <td>21</td>\n",
       "      <td>21</td>\n",
       "    </tr>\n",
       "    <tr>\n",
       "      <th>11</th>\n",
       "      <td>2</td>\n",
       "      <td>2</td>\n",
       "      <td>2</td>\n",
       "      <td>2</td>\n",
       "      <td>2</td>\n",
       "    </tr>\n",
       "    <tr>\n",
       "      <th>12</th>\n",
       "      <td>2096</td>\n",
       "      <td>2096</td>\n",
       "      <td>2096</td>\n",
       "      <td>2096</td>\n",
       "      <td>2096</td>\n",
       "    </tr>\n",
       "  </tbody>\n",
       "</table>\n",
       "</div>"
      ],
      "text/plain": [
       "             slug  language  title  version  filename\n",
       "grade_level                                          \n",
       "2             283       283    283      283       283\n",
       "3             616       616    616      616       616\n",
       "4            1730      1730   1730     1730      1730\n",
       "5            1488      1488   1488     1488      1488\n",
       "6            1171      1171   1171     1171      1171\n",
       "7            1365      1365   1365     1365      1365\n",
       "8            1152      1152   1152     1152      1152\n",
       "9             862       862    862      862       862\n",
       "10             21        21     21       21        21\n",
       "11              2         2      2        2         2\n",
       "12           2096      2096   2096     2096      2096"
      ]
     },
     "execution_count": 1,
     "metadata": {},
     "output_type": "execute_result"
    }
   ],
   "source": [
    "import nltk\n",
    "from article import Library\n",
    "# path = '/Users/stzeng/code/github/autograder/data/newsela_article_corpus_2016-01-29/'\n",
    "path = '/Users/stephanie/data/newsela_article_corpus_2016-01-29/'\n",
    "library = Library(path)\n",
    "library.create_grade_level_library()\n",
    "# print(library.library['zuckerberg-internet'].article_text(4.0))\n",
    "\n",
    "library.metadata.groupby('grade_level').count()"
   ]
  },
  {
   "cell_type": "code",
   "execution_count": null,
   "metadata": {},
   "outputs": [],
   "source": [
    "# nltk.download('punkt')"
   ]
  },
  {
   "cell_type": "code",
   "execution_count": 2,
   "metadata": {},
   "outputs": [],
   "source": [
    "from process import *"
   ]
  },
  {
   "cell_type": "code",
   "execution_count": 4,
   "metadata": {},
   "outputs": [
    {
     "name": "stdout",
     "output_type": "stream",
     "text": [
      "2\n",
      "Train shape (198, 7)\n",
      "Test shape (85, 7)\n",
      "3\n",
      "Train shape (434, 7)\n",
      "Test shape (182, 7)\n",
      "4\n",
      "Train shape (1208, 7)\n",
      "Test shape (522, 7)\n",
      "5\n",
      "Train shape (1044, 7)\n",
      "Test shape (444, 7)\n",
      "6\n",
      "Train shape (828, 7)\n",
      "Test shape (343, 7)\n",
      "7\n",
      "Train shape (945, 7)\n",
      "Test shape (420, 7)\n",
      "8\n",
      "Train shape (822, 7)\n",
      "Test shape (330, 7)\n",
      "9\n",
      "Train shape (594, 7)\n",
      "Test shape (268, 7)\n",
      "12\n",
      "Train shape (1459, 7)\n",
      "Test shape (637, 7)\n"
     ]
    }
   ],
   "source": [
    "path = '/Users/stephanie/data/newsela_article_corpus_2016-01-29/'\n",
    "metadata = pd.read_csv(path + 'articles_metadata.csv')\n",
    "metadata.loc[:, 'grade_level'] = metadata.grade_level.astype('int')\n",
    "metadata_train = pd.read_csv(path + 'articles_metadata_train.csv')\n",
    "metadata_test = pd.read_csv(path + 'articles_metadata_test.csv')\n",
    "\n",
    "for gl in [2, 3, 4, 5, 6, 7, 8, 9, 12]:\n",
    "    print(gl)\n",
    "    print_grade_level_shapes(metadata_train, metadata_test, gl)"
   ]
  },
  {
   "cell_type": "code",
   "execution_count": 5,
   "metadata": {},
   "outputs": [
    {
     "name": "stdout",
     "output_type": "stream",
     "text": [
      "=== 1/5 Counting and sorting n-grams ===\n",
      "File stdin isn't normal.  Using slower read() instead of mmap().  No progress bar.\n",
      "Unigram tokens 77147 types 7247\n",
      "=== 2/5 Calculating and sorting adjusted counts ===\n",
      "Chain sizes: 1:86964 2:4780455424 3:8963353600\n",
      "Statistics:\n",
      "1 7247 D1=0.587801 D2=1.08954 D3+=1.56537\n",
      "2 37930 D1=0.778791 D2=1.19549 D3+=1.51871\n",
      "3 59374 D1=0.860848 D2=1.28242 D3+=1.40264\n",
      "Memory estimate for binary LM:\n",
      "type      kB\n",
      "probing 2116 assuming -p 1.5\n",
      "probing 2367 assuming -r models -p 1.5\n",
      "trie     914 without quantization\n",
      "trie     533 assuming -q 8 -b 8 quantization \n",
      "trie     875 assuming -a 22 array pointer compression\n",
      "trie     494 assuming -a 22 -q 8 -b 8 array pointer compression and quantization\n",
      "=== 3/5 Calculating and sorting initial probabilities ===\n",
      "Chain sizes: 1:86964 2:606880 3:1187480\n",
      "----5---10---15---20---25---30---35---40---45---50---55---60---65---70---75---80---85---90---95--100\n",
      "####################################################################################################\n",
      "=== 4/5 Calculating and writing order-interpolated probabilities ===\n",
      "Chain sizes: 1:86964 2:606880 3:1187480\n",
      "----5---10---15---20---25---30---35---40---45---50---55---60---65---70---75---80---85---90---95--100\n",
      "####################################################################################################\n",
      "=== 5/5 Writing ARPA model ===\n",
      "----5---10---15---20---25---30---35---40---45---50---55---60---65---70---75---80---85---90---95--100\n",
      "****************************************************************************************************\n",
      "RSSMax:3092013056 kB\tuser:0.864491\tsys:1.17089\tCPU:2.03541\treal:4.97469\n"
     ]
    }
   ],
   "source": [
    "! python process.py 2 | ~/github/kenlm/build/bin/lmplz -o 3 > GL2.arpa"
   ]
  },
  {
   "cell_type": "code",
   "execution_count": 6,
   "metadata": {},
   "outputs": [
    {
     "name": "stdout",
     "output_type": "stream",
     "text": [
      "=== 1/5 Counting and sorting n-grams ===\n",
      "File stdin isn't normal.  Using slower read() instead of mmap().  No progress bar.\n",
      "Unigram tokens 198792 types 12972\n",
      "=== 2/5 Calculating and sorting adjusted counts ===\n",
      "Chain sizes: 1:155664 2:4780431360 3:8963308544\n",
      "Statistics:\n",
      "1 12972 D1=0.583245 D2=1.04729 D3+=1.59745\n",
      "2 84402 D1=0.76402 D2=1.16715 D3+=1.46525\n",
      "3 145230 D1=0.855721 D2=1.20474 D3+=1.45815\n",
      "Memory estimate for binary LM:\n",
      "type      kB\n",
      "probing 4860 assuming -p 1.5\n",
      "probing 5405 assuming -r models -p 1.5\n",
      "trie    2080 without quantization\n",
      "trie    1191 assuming -q 8 -b 8 quantization \n",
      "trie    1974 assuming -a 22 array pointer compression\n",
      "trie    1085 assuming -a 22 -q 8 -b 8 array pointer compression and quantization\n",
      "=== 3/5 Calculating and sorting initial probabilities ===\n",
      "Chain sizes: 1:155664 2:1350432 3:2904600\n",
      "----5---10---15---20---25---30---35---40---45---50---55---60---65---70---75---80---85---90---95--100\n",
      "####################################################################################################\n",
      "=== 4/5 Calculating and writing order-interpolated probabilities ===\n",
      "Chain sizes: 1:155664 2:1350432 3:2904600\n",
      "----5---10---15---20---25---30---35---40---45---50---55---60---65---70---75---80---85---90---95--100\n",
      "####################################################################################################\n",
      "=== 5/5 Writing ARPA model ===\n",
      "----5---10---15---20---25---30---35---40---45---50---55---60---65---70---75---80---85---90---95--100\n",
      "****************************************************************************************************\n",
      "RSSMax:3193393152 kB\tuser:0.95036\tsys:1.05981\tCPU:2.01021\treal:5.66726\n"
     ]
    }
   ],
   "source": [
    "! python process.py 3 | ~/github/kenlm/build/bin/lmplz -o 3 > GL3.arpa"
   ]
  },
  {
   "cell_type": "code",
   "execution_count": 7,
   "metadata": {},
   "outputs": [
    {
     "name": "stdout",
     "output_type": "stream",
     "text": [
      "=== 1/5 Counting and sorting n-grams ===\n",
      "File stdin isn't normal.  Using slower read() instead of mmap().  No progress bar.\n",
      "Unigram tokens 829750 types 30239\n",
      "=== 2/5 Calculating and sorting adjusted counts ===\n",
      "Chain sizes: 1:362868 2:4780359168 3:8963173376\n",
      "Statistics:\n",
      "1 30239 D1=0.577754 D2=1.05543 D3+=1.57045\n",
      "2 272851 D1=0.753521 D2=1.13059 D3+=1.43538\n",
      "3 551377 D1=0.846526 D2=1.21969 D3+=1.42214\n",
      "Memory estimate for binary LM:\n",
      "type       kB\n",
      "probing 16854 assuming -p 1.5\n",
      "probing 18571 assuming -r models -p 1.5\n",
      "trie     7068 without quantization\n",
      "trie     3958 assuming -q 8 -b 8 quantization \n",
      "trie     6669 assuming -a 22 array pointer compression\n",
      "trie     3559 assuming -a 22 -q 8 -b 8 array pointer compression and quantization\n",
      "=== 3/5 Calculating and sorting initial probabilities ===\n",
      "Chain sizes: 1:362868 2:4365616 3:11027540\n",
      "----5---10---15---20---25---30---35---40---45---50---55---60---65---70---75---80---85---90---95--100\n",
      "####################################################################################################\n",
      "=== 4/5 Calculating and writing order-interpolated probabilities ===\n",
      "Chain sizes: 1:362868 2:4365616 3:11027540\n",
      "----5---10---15---20---25---30---35---40---45---50---55---60---65---70---75---80---85---90---95--100\n",
      "####################################################################################################\n",
      "=== 5/5 Writing ARPA model ===\n",
      "----5---10---15---20---25---30---35---40---45---50---55---60---65---70---75---80---85---90---95--100\n",
      "****************************************************************************************************\n",
      "RSSMax:3204857856 kB\tuser:1.50221\tsys:1.11505\tCPU:2.6173\treal:12.2638\n"
     ]
    }
   ],
   "source": [
    "! python process.py 4 | ~/github/kenlm/build/bin/lmplz -o 3 > GL4.arpa"
   ]
  },
  {
   "cell_type": "code",
   "execution_count": 8,
   "metadata": {},
   "outputs": [
    {
     "name": "stdout",
     "output_type": "stream",
     "text": [
      "=== 1/5 Counting and sorting n-grams ===\n",
      "File stdin isn't normal.  Using slower read() instead of mmap().  No progress bar.\n",
      "Unigram tokens 819274 types 32541\n",
      "=== 2/5 Calculating and sorting adjusted counts ===\n",
      "Chain sizes: 1:390492 2:4780349440 3:8963154944\n",
      "Statistics:\n",
      "1 32541 D1=0.583686 D2=1.08003 D3+=1.54791\n",
      "2 286102 D1=0.756318 D2=1.14027 D3+=1.4059\n",
      "3 569252 D1=0.856522 D2=1.21962 D3+=1.40494\n",
      "Memory estimate for binary LM:\n",
      "type       kB\n",
      "probing 17538 assuming -p 1.5\n",
      "probing 19341 assuming -r models -p 1.5\n",
      "trie     7381 without quantization\n",
      "trie     4145 assuming -q 8 -b 8 quantization \n",
      "trie     6962 assuming -a 22 array pointer compression\n",
      "trie     3725 assuming -a 22 -q 8 -b 8 array pointer compression and quantization\n",
      "=== 3/5 Calculating and sorting initial probabilities ===\n",
      "Chain sizes: 1:390492 2:4577632 3:11385040\n",
      "----5---10---15---20---25---30---35---40---45---50---55---60---65---70---75---80---85---90---95--100\n",
      "####################################################################################################\n",
      "=== 4/5 Calculating and writing order-interpolated probabilities ===\n",
      "Chain sizes: 1:390492 2:4577632 3:11385040\n",
      "----5---10---15---20---25---30---35---40---45---50---55---60---65---70---75---80---85---90---95--100\n",
      "####################################################################################################\n",
      "=== 5/5 Writing ARPA model ===\n",
      "----5---10---15---20---25---30---35---40---45---50---55---60---65---70---75---80---85---90---95--100\n",
      "****************************************************************************************************\n",
      "RSSMax:3205226496 kB\tuser:1.57529\tsys:1.17121\tCPU:2.74659\treal:11.4735\n"
     ]
    }
   ],
   "source": [
    "! python process.py 5 | ~/github/kenlm/build/bin/lmplz -o 3 > GL5.arpa"
   ]
  },
  {
   "cell_type": "code",
   "execution_count": 9,
   "metadata": {},
   "outputs": [
    {
     "name": "stdout",
     "output_type": "stream",
     "text": [
      "=== 1/5 Counting and sorting n-grams ===\n",
      "File stdin isn't normal.  Using slower read() instead of mmap().  No progress bar.\n",
      "Unigram tokens 733243 types 34508\n",
      "=== 2/5 Calculating and sorting adjusted counts ===\n",
      "Chain sizes: 1:414096 2:4780341248 3:8963139584\n",
      "Statistics:\n",
      "1 34508 D1=0.587213 D2=1.05437 D3+=1.5943\n",
      "2 281994 D1=0.766817 D2=1.14875 D3+=1.41288\n",
      "3 537093 D1=0.868 D2=1.2397 D3+=1.4185\n",
      "Memory estimate for binary LM:\n",
      "type       kB\n",
      "probing 16926 assuming -p 1.5\n",
      "probing 18713 assuming -r models -p 1.5\n",
      "trie     7298 without quantization\n",
      "trie     4175 assuming -q 8 -b 8 quantization \n",
      "trie     6881 assuming -a 22 array pointer compression\n",
      "trie     3759 assuming -a 22 -q 8 -b 8 array pointer compression and quantization\n",
      "=== 3/5 Calculating and sorting initial probabilities ===\n",
      "Chain sizes: 1:414096 2:4511904 3:10741860\n",
      "----5---10---15---20---25---30---35---40---45---50---55---60---65---70---75---80---85---90---95--100\n",
      "####################################################################################################\n",
      "=== 4/5 Calculating and writing order-interpolated probabilities ===\n",
      "Chain sizes: 1:414096 2:4511904 3:10741860\n",
      "----5---10---15---20---25---30---35---40---45---50---55---60---65---70---75---80---85---90---95--100\n",
      "####################################################################################################\n",
      "=== 5/5 Writing ARPA model ===\n",
      "----5---10---15---20---25---30---35---40---45---50---55---60---65---70---75---80---85---90---95--100\n",
      "****************************************************************************************************\n",
      "RSSMax:3204595712 kB\tuser:1.50219\tsys:1.17256\tCPU:2.67478\treal:10.3422\n"
     ]
    }
   ],
   "source": [
    "! python process.py 6 | ~/github/kenlm/build/bin/lmplz -o 3 > GL6.arpa"
   ]
  },
  {
   "cell_type": "code",
   "execution_count": 10,
   "metadata": {},
   "outputs": [
    {
     "name": "stdout",
     "output_type": "stream",
     "text": [
      "=== 1/5 Counting and sorting n-grams ===\n",
      "File stdin isn't normal.  Using slower read() instead of mmap().  No progress bar.\n",
      "Unigram tokens 893174 types 40615\n",
      "=== 2/5 Calculating and sorting adjusted counts ===\n",
      "Chain sizes: 1:487380 2:4780316160 3:8963092480\n",
      "Statistics:\n",
      "1 40615 D1=0.583532 D2=1.09183 D3+=1.58595\n",
      "2 339700 D1=0.766086 D2=1.15023 D3+=1.37507\n",
      "3 655627 D1=0.868356 D2=1.23355 D3+=1.41805\n",
      "Memory estimate for binary LM:\n",
      "type       kB\n",
      "probing 20517 assuming -p 1.5\n",
      "probing 22666 assuming -r models -p 1.5\n",
      "trie     8818 without quantization\n",
      "trie     5032 assuming -q 8 -b 8 quantization \n",
      "trie     8318 assuming -a 22 array pointer compression\n",
      "trie     4531 assuming -a 22 -q 8 -b 8 array pointer compression and quantization\n",
      "=== 3/5 Calculating and sorting initial probabilities ===\n",
      "Chain sizes: 1:487380 2:5435200 3:13112540\n",
      "----5---10---15---20---25---30---35---40---45---50---55---60---65---70---75---80---85---90---95--100\n",
      "####################################################################################################\n",
      "=== 4/5 Calculating and writing order-interpolated probabilities ===\n",
      "Chain sizes: 1:487380 2:5435200 3:13112540\n",
      "----5---10---15---20---25---30---35---40---45---50---55---60---65---70---75---80---85---90---95--100\n",
      "####################################################################################################\n",
      "=== 5/5 Writing ARPA model ===\n",
      "----5---10---15---20---25---30---35---40---45---50---55---60---65---70---75---80---85---90---95--100\n",
      "****************************************************************************************************\n",
      "RSSMax:3206434816 kB\tuser:1.74397\tsys:1.23635\tCPU:2.98036\treal:12.4612\n"
     ]
    }
   ],
   "source": [
    "! python process.py 7 | ~/github/kenlm/build/bin/lmplz -o 3 > GL7.arpa"
   ]
  },
  {
   "cell_type": "code",
   "execution_count": 11,
   "metadata": {},
   "outputs": [
    {
     "name": "stdout",
     "output_type": "stream",
     "text": [
      "=== 1/5 Counting and sorting n-grams ===\n",
      "File stdin isn't normal.  Using slower read() instead of mmap().  No progress bar.\n",
      "Unigram tokens 831418 types 41552\n",
      "=== 2/5 Calculating and sorting adjusted counts ===\n",
      "Chain sizes: 1:498624 2:4780312064 3:8963085312\n",
      "Statistics:\n",
      "1 41552 D1=0.59951 D2=1.05162 D3+=1.45627\n",
      "2 330946 D1=0.770558 D2=1.14571 D3+=1.45273\n",
      "3 625081 D1=0.874872 D2=1.25378 D3+=1.41979\n",
      "Memory estimate for binary LM:\n",
      "type       kB\n",
      "probing 19799 assuming -p 1.5\n",
      "probing 21900 assuming -r models -p 1.5\n",
      "trie     8559 without quantization\n",
      "trie     4908 assuming -q 8 -b 8 quantization \n",
      "trie     8070 assuming -a 22 array pointer compression\n",
      "trie     4419 assuming -a 22 -q 8 -b 8 array pointer compression and quantization\n",
      "=== 3/5 Calculating and sorting initial probabilities ===\n",
      "Chain sizes: 1:498624 2:5295136 3:12501620\n",
      "----5---10---15---20---25---30---35---40---45---50---55---60---65---70---75---80---85---90---95--100\n",
      "####################################################################################################\n",
      "=== 4/5 Calculating and writing order-interpolated probabilities ===\n",
      "Chain sizes: 1:498624 2:5295136 3:12501620\n",
      "----5---10---15---20---25---30---35---40---45---50---55---60---65---70---75---80---85---90---95--100\n",
      "####################################################################################################\n",
      "=== 5/5 Writing ARPA model ===\n",
      "----5---10---15---20---25---30---35---40---45---50---55---60---65---70---75---80---85---90---95--100\n",
      "****************************************************************************************************\n",
      "RSSMax:3198910464 kB\tuser:1.789\tsys:1.46398\tCPU:3.25302\treal:12.9004\n"
     ]
    }
   ],
   "source": [
    "! python process.py 8 | ~/github/kenlm/build/bin/lmplz -o 3 > GL8.arpa"
   ]
  },
  {
   "cell_type": "code",
   "execution_count": 12,
   "metadata": {},
   "outputs": [
    {
     "name": "stdout",
     "output_type": "stream",
     "text": [
      "=== 1/5 Counting and sorting n-grams ===\n",
      "File stdin isn't normal.  Using slower read() instead of mmap().  No progress bar.\n",
      "Unigram tokens 586228 types 35647\n",
      "=== 2/5 Calculating and sorting adjusted counts ===\n",
      "Chain sizes: 1:427764 2:4780336640 3:8963131392\n",
      "Statistics:\n",
      "1 35647 D1=0.594607 D2=1.07896 D3+=1.55584\n",
      "2 256435 D1=0.778361 D2=1.14546 D3+=1.45445\n",
      "3 458772 D1=0.882882 D2=1.24915 D3+=1.44144\n",
      "Memory estimate for binary LM:\n",
      "type       kB\n",
      "probing 14979 assuming -p 1.5\n",
      "probing 16621 assuming -r models -p 1.5\n",
      "trie     6535 without quantization\n",
      "trie     3779 assuming -q 8 -b 8 quantization \n",
      "trie     6184 assuming -a 22 array pointer compression\n",
      "trie     3428 assuming -a 22 -q 8 -b 8 array pointer compression and quantization\n",
      "=== 3/5 Calculating and sorting initial probabilities ===\n",
      "Chain sizes: 1:427764 2:4102960 3:9175440\n",
      "----5---10---15---20---25---30---35---40---45---50---55---60---65---70---75---80---85---90---95--100\n",
      "####################################################################################################\n",
      "=== 4/5 Calculating and writing order-interpolated probabilities ===\n",
      "Chain sizes: 1:427764 2:4102960 3:9175440\n",
      "----5---10---15---20---25---30---35---40---45---50---55---60---65---70---75---80---85---90---95--100\n",
      "####################################################################################################\n",
      "=== 5/5 Writing ARPA model ===\n",
      "----5---10---15---20---25---30---35---40---45---50---55---60---65---70---75---80---85---90---95--100\n",
      "****************************************************************************************************\n",
      "RSSMax:3203063808 kB\tuser:1.43696\tsys:1.15245\tCPU:2.58945\treal:9.04183\n"
     ]
    }
   ],
   "source": [
    "! python process.py 9 | ~/github/kenlm/build/bin/lmplz -o 3 > GL9.arpa"
   ]
  },
  {
   "cell_type": "code",
   "execution_count": 13,
   "metadata": {},
   "outputs": [
    {
     "name": "stdout",
     "output_type": "stream",
     "text": [
      "=== 1/5 Counting and sorting n-grams ===\n",
      "File stdin isn't normal.  Using slower read() instead of mmap().  No progress bar.\n",
      "Unigram tokens 1701343 types 67748\n",
      "=== 2/5 Calculating and sorting adjusted counts ===\n",
      "Chain sizes: 1:812976 2:4780202496 3:8962880512\n",
      "Statistics:\n",
      "1 67748 D1=0.596335 D2=1.0247 D3+=1.51618\n",
      "2 603184 D1=0.766528 D2=1.13251 D3+=1.44168\n",
      "3 1226628 D1=0.870462 D2=1.21493 D3+=1.40635\n",
      "Memory estimate for binary LM:\n",
      "type       kB\n",
      "probing 37419 assuming -p 1.5\n",
      "probing 41218 assuming -r models -p 1.5\n",
      "trie    16211 without quantization\n",
      "trie     9310 assuming -q 8 -b 8 quantization \n",
      "trie    15255 assuming -a 22 array pointer compression\n",
      "trie     8354 assuming -a 22 -q 8 -b 8 array pointer compression and quantization\n",
      "=== 3/5 Calculating and sorting initial probabilities ===\n",
      "Chain sizes: 1:812976 2:9650944 3:24532560\n",
      "----5---10---15---20---25---30---35---40---45---50---55---60---65---70---75---80---85---90---95--100\n",
      "####################################################################################################\n",
      "=== 4/5 Calculating and writing order-interpolated probabilities ===\n",
      "Chain sizes: 1:812976 2:9650944 3:24532560\n",
      "----5---10---15---20---25---30---35---40---45---50---55---60---65---70---75---80---85---90---95--100\n",
      "####################################################################################################\n",
      "=== 5/5 Writing ARPA model ===\n",
      "----5---10---15---20---25---30---35---40---45---50---55---60---65---70---75---80---85---90---95--100\n",
      "****************************************************************************************************\n",
      "RSSMax:3218530304 kB\tuser:2.47096\tsys:1.30058\tCPU:3.77158\treal:17.6577\n"
     ]
    }
   ],
   "source": [
    "! python process.py 12 | ~/github/kenlm/build/bin/lmplz -o 3 > GL12.arpa"
   ]
  },
  {
   "cell_type": "code",
   "execution_count": 8,
   "metadata": {},
   "outputs": [],
   "source": [
    "import subprocess"
   ]
  },
  {
   "cell_type": "code",
   "execution_count": 25,
   "metadata": {},
   "outputs": [],
   "source": [
    "bashCommand = \"python process.py {gl} | ~/github/kenlm/build/bin/lmplz -o 3 > GL_{gl}.arpa\""
   ]
  },
  {
   "cell_type": "code",
   "execution_count": 39,
   "metadata": {},
   "outputs": [],
   "source": [
    "for gl in [2, 3, 4, 5, 6, 7, 8, 9, 12]:\n",
    "    cmd = bashCommand.format(gl=gl)\n",
    "#     print(cmd.split())\n",
    "    process = subprocess.Popen([\"python\",\n",
    "                                \"process.py\", str(gl),\n",
    "                                \"|\",\"~/github/kenlm/build/bin/lmplz\",\n",
    "                                \"-o\", str(gl),\n",
    "                                \">\",\n",
    "                                \"GL_{gl}.arpa\".format(gl=gl)\n",
    "                               ], stdout=subprocess.PIPE, stderr=subprocess.PIPE)\n",
    "    output, error = process.communicate()"
   ]
  },
  {
   "cell_type": "code",
   "execution_count": 40,
   "metadata": {},
   "outputs": [
    {
     "data": {
      "text/plain": [
       "b'usage: process.py [-h] grade_level\\nprocess.py: error: unrecognized arguments: | ~/github/kenlm/build/bin/lmplz -o 3 > GL_12.arpa\\n'"
      ]
     },
     "execution_count": 40,
     "metadata": {},
     "output_type": "execute_result"
    }
   ],
   "source": [
    "error"
   ]
  },
  {
   "cell_type": "code",
   "execution_count": null,
   "metadata": {},
   "outputs": [],
   "source": []
  }
 ],
 "metadata": {
  "kernelspec": {
   "display_name": "Python 3",
   "language": "python",
   "name": "python3"
  },
  "language_info": {
   "codemirror_mode": {
    "name": "ipython",
    "version": 3
   },
   "file_extension": ".py",
   "mimetype": "text/x-python",
   "name": "python",
   "nbconvert_exporter": "python",
   "pygments_lexer": "ipython3",
   "version": "3.7.3"
  }
 },
 "nbformat": 4,
 "nbformat_minor": 2
}
