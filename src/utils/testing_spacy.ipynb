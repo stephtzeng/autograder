{
 "cells": [
  {
   "cell_type": "code",
   "execution_count": 1,
   "metadata": {},
   "outputs": [],
   "source": [
    "# https://spacy.io/usage/models\n",
    "# python -m spacy download en_core_web_sm\n",
    "# import spacy\n",
    "# nlp = spacy.load(\"en_core_web_sm\")"
   ]
  },
  {
   "cell_type": "code",
   "execution_count": 3,
   "metadata": {},
   "outputs": [],
   "source": [
    "from article import Library\n",
    "import re\n",
    "from nltk.util import ngrams"
   ]
  },
  {
   "cell_type": "code",
   "execution_count": 2,
   "metadata": {},
   "outputs": [],
   "source": [
    "import spacy\n",
    "nlp = spacy.load(\"en_core_web_sm\")"
   ]
  },
  {
   "cell_type": "code",
   "execution_count": 4,
   "metadata": {},
   "outputs": [],
   "source": [
    "import spacy\n",
    "nlp = spacy.load(\"en_core_web_sm\")           # load model package \"en_core_web_sm\"\n",
    "# nlp = spacy.load(\"/path/to/en_core_web_sm\")  # load package from a directory\n",
    "# nlp = spacy.load(\"en\")                       # load model with shortcut link \"en\"\n",
    "\n",
    "doc = nlp(u\"This is a sentence.\")"
   ]
  },
  {
   "cell_type": "code",
   "execution_count": 2,
   "metadata": {},
   "outputs": [
    {
     "name": "stdout",
     "output_type": "stream",
     "text": [
      "The Internet helped Mark Zuckerberg start Facebook while still a college student. He soon became a billionaire. Earlier this week in California's Silicon Valley, he announced a big plan. Zuckerberg wants to try to bring the Internet to billions of poor people. It was his latest move to show he is a tech boss who can also tackle public issues.\n",
      "\n",
      "He's not the only rich CEO who thinks technology can change the world. But his group's plan to get everybody in the world online is an ambitious goal. It helps make Zuckerberg one of the most well-known voices for mixing business and doing good in the technology business. And he is only 29 years old.\n",
      "\n",
      "Still, some people scoffed. They said Zuckerberg was promoting Facebook's own interests. He just wrapped it up in noble-sounding words, they said. It's not the first time that people have questioned his efforts.\n",
      "\n",
      "Facebook wants more people to be online, said longtime Silicon Valley observer Paul Saffo. Something else is going on, too, he said. Rich business people used to wait until they retired to support causes. Now they're expected to do it while running their businesses, he said.\n",
      "\n",
      "## Using Fame, And Some Catchy Names\n",
      "\n",
      "Tesla Motors CEO Elon Musk recently pushed his idea for the Hyperloop. It's a futuristic transportation system. Google CEO Larry Page spoke about using software and information to solve problems like world hunger. Google is also pursuing its own ideas for delivering cheap Internet service to remote areas. Those include using a fleet of radio-equipped high-altitude balloons under its Project Loon.\n",
      "\n",
      "Page often avoids the spotlight. But Musk and Zuckerberg have both learned to use their fame. Zuckerberg announced his new coalition on his personal Facebook page Tuesday night. That drew worldwide attention to the group. He also talked to reporters.\n",
      "\n",
      "Zuckerberg launched the group FWD.us earlier this year. The same sort of thing happened. The group is pushing for changes in how people are allowed to come to and stay in the United States. Some of the changes would help the tech industry. He announced it in an essay in the Washington Post. A number of famous tech bosses and bankers signed on to FWD.us. But it's widely viewed as Zuckerberg's.\n",
      "\n",
      "Internet.org currently includes Facebook and six companies that make cellphone equipment and programs. They plan to work together to build lower-cost phones and otherwise reduce costs. They also plan to come up with ways for companies to make money by providing telecommunication service in poor areas.\n",
      "\n",
      "## Billions Of People Aren't Connected\n",
      "\n",
      "The group doesn't include any service companies. Facebook is the only Internet company involved. Still, one expert said the effort could help cut some of the costs. Those expenses keep two-thirds of the world's population offline.\n",
      "\n",
      "Others had questions about Zuckerberg's plan.\n",
      "\n",
      "They said Facebook could have more members if more people are online. Then it could make more money selling ads. \"Don't pretend to be saints. We are not stupid,\" commentator Alexis Madrigal wrote in the Atlantic. He was expressing the thoughts of one Internet post.\n",
      "\n",
      "Madrigal also raised another issue. Getting more people on the Internet expands the reach of American spying efforts, he said.\n",
      "\n",
      "## \"Still Finding His Way\"\n",
      "\n",
      "People also complained about some of  the television ads FWD.us ran. They supported lawmakers who backed changes in immigration law. In some cases, the ads also praised their unpopular political positions.\n",
      "\n",
      "\"That was an extraordinarily bad idea,\" Saffo said. But, \"I think there's a lot less risk\" in the new effort. \"You don't see anybody demonstrating against\" people getting on the Internet.\n",
      "\n",
      "Wealth and position bring responsibility, Saffo said. Zuckerberg is \"clearly still finding his way.\"\n",
      "dict_keys([12.0, 9.0, 7.0, 5.0, 4.0])\n"
     ]
    }
   ],
   "source": [
    "path = '/Users/stzeng/code/github/autograder/data/newsela_article_corpus_2016-01-29/'\n",
    "library = Library(path)\n",
    "library.create_library()\n",
    "print(library.library['zuckerberg-internet'].article_text(4.0))\n",
    "print(library.library['zuckerberg-internet'].grade_levels)"
   ]
  },
  {
   "cell_type": "code",
   "execution_count": 7,
   "metadata": {},
   "outputs": [],
   "source": [
    "tokens = [token for token in library.library['zuckerberg-internet'].article_text(4.0).split(\" \") if token != \"\"]\n",
    "output = list(ngrams(tokens, 3))"
   ]
  },
  {
   "cell_type": "code",
   "execution_count": 9,
   "metadata": {},
   "outputs": [
    {
     "data": {
      "text/plain": [
       "<generator object ngrams at 0x1a1eaf22b0>"
      ]
     },
     "execution_count": 9,
     "metadata": {},
     "output_type": "execute_result"
    }
   ],
   "source": [
    "ngrams(tokens, 2)"
   ]
  },
  {
   "cell_type": "code",
   "execution_count": null,
   "metadata": {},
   "outputs": [],
   "source": []
  }
 ],
 "metadata": {
  "kernelspec": {
   "display_name": "Python 3",
   "language": "python",
   "name": "python3"
  },
  "language_info": {
   "codemirror_mode": {
    "name": "ipython",
    "version": 3
   },
   "file_extension": ".py",
   "mimetype": "text/x-python",
   "name": "python",
   "nbconvert_exporter": "python",
   "pygments_lexer": "ipython3",
   "version": "3.6.8"
  }
 },
 "nbformat": 4,
 "nbformat_minor": 2
}
